{
 "cells": [
  {
   "cell_type": "code",
   "execution_count": 1,
   "metadata": {
    "collapsed": true
   },
   "outputs": [],
   "source": [
    "import pandas as pd\n",
    "import seaborn as sns\n",
    "\n",
    "xls = pd.ExcelFile('Vorkurs_22.xlsx')\n",
    "df_experience = pd.read_excel(xls, 'Programmiererfahrung')\n",
    "df_pretest = pd.read_excel(xls, \"Pretest\")\n",
    "df_tasks = pd.read_excel(xls, 'Übungsaufgaben')\n",
    "df_broca = pd.read_excel(xls, \"BROCAtreat\")\n",
    "df_posttest = pd.read_excel(xls, \"Posttest-Ahadi\")\n",
    "df_posttest_programming = pd.read_excel(xls, \"Posttest-Programmieraufgabe\")"
   ]
  },
  {
   "cell_type": "markdown",
   "source": [
    "Create Lists of different UIDs"
   ],
   "metadata": {
    "collapsed": false
   }
  },
  {
   "cell_type": "code",
   "execution_count": 2,
   "outputs": [
    {
     "name": "stdout",
     "output_type": "stream",
     "text": [
      "['1RBR047', '4DRO233', '4MNT105', '5JS4143', '5NSA280', '6CSA143', '7KSM240', '7VKT025', '8AB4138']\n",
      "['0LZR203', '0REG243', '1AGT138', '1HJA213', '3LDI060', '3LST145', '4ANT042', '7BGT235', '7RAI228', '7SOA133', '8CHT208']\n"
     ]
    }
   ],
   "source": [
    "broca_uid = df_broca['UID'].to_list()\n",
    "all_uid = df_pretest['UID'].to_list()\n",
    "control_uid = list(set(all_uid) - set(broca_uid))\n",
    "control_uid.sort()\n",
    "broca_uid.sort()\n",
    "print(control_uid)\n",
    "print(broca_uid)"
   ],
   "metadata": {
    "collapsed": false
   }
  },
  {
   "cell_type": "markdown",
   "source": [
    "Calculate Points for Pretest and Posttest"
   ],
   "metadata": {
    "collapsed": false
   }
  },
  {
   "cell_type": "code",
   "execution_count": 3,
   "outputs": [],
   "source": [
    "pretest_all = df_pretest[\"Insgesamt\"].dropna().to_list()\n",
    "posttest_all = df_posttest[\"Insgesamt\"].dropna().to_list()"
   ],
   "metadata": {
    "collapsed": false
   }
  },
  {
   "cell_type": "code",
   "execution_count": 4,
   "outputs": [],
   "source": [
    "broca_pretest = df_pretest[df_pretest.UID.isin(broca_uid)]\n",
    "control_pretest = df_pretest[df_pretest.UID.isin(control_uid)]\n",
    "\n",
    "broca_pretest = broca_pretest[\"Insgesamt\"].dropna().to_list()\n",
    "control_pretest = control_pretest[\"Insgesamt\"].dropna().to_list()"
   ],
   "metadata": {
    "collapsed": false
   }
  },
  {
   "cell_type": "code",
   "execution_count": 5,
   "outputs": [
    {
     "data": {
      "text/plain": "        UID  Aufgabe 1a  Aufgabe 1b  Aufgabe 1c  Aufgabe 1d  Aufgabe 1e  \\\n4   1RBR047         NaN         NaN         NaN         NaN         NaN   \n8   4DRO233         1.0         1.0         1.0         1.0         1.0   \n9   4MNT105         NaN         NaN         NaN         NaN         NaN   \n10  5JS4143         NaN         NaN         NaN         NaN         NaN   \n11  5NSA280         1.0         1.0         1.0         1.0         1.0   \n12  6CSA143         0.0         1.0         1.0         1.0         1.0   \n14  7KSM240         1.0         1.0         1.0         1.0         1.0   \n17  7VKT025         NaN         NaN         NaN         NaN         NaN   \n18  8AB4138         NaN         NaN         NaN         NaN         NaN   \n\n    Aufgabe 1f  Aufgabe 2  Aufgabe 3  Insgesamt  Unnamed: 10  Pretest  \\\n4          NaN        NaN        NaN        NaN          NaN      8.0   \n8          1.0        1.0        1.0        8.0          NaN      7.0   \n9          NaN        NaN        NaN        NaN          NaN      NaN   \n10         NaN        NaN        NaN        NaN          NaN      8.0   \n11         1.0        1.0        1.0        8.0          NaN      5.0   \n12         1.0        0.5        0.0        5.5          NaN      0.0   \n14         1.0        1.0        0.0        7.0          NaN      5.0   \n17         NaN        NaN        NaN        NaN          NaN      8.0   \n18         NaN        NaN        NaN        NaN          NaN      NaN   \n\n    Posttest  \n4        NaN  \n8        8.0  \n9        NaN  \n10       NaN  \n11       8.0  \n12       5.5  \n14       7.0  \n17       8.0  \n18       NaN  ",
      "text/html": "<div>\n<style scoped>\n    .dataframe tbody tr th:only-of-type {\n        vertical-align: middle;\n    }\n\n    .dataframe tbody tr th {\n        vertical-align: top;\n    }\n\n    .dataframe thead th {\n        text-align: right;\n    }\n</style>\n<table border=\"1\" class=\"dataframe\">\n  <thead>\n    <tr style=\"text-align: right;\">\n      <th></th>\n      <th>UID</th>\n      <th>Aufgabe 1a</th>\n      <th>Aufgabe 1b</th>\n      <th>Aufgabe 1c</th>\n      <th>Aufgabe 1d</th>\n      <th>Aufgabe 1e</th>\n      <th>Aufgabe 1f</th>\n      <th>Aufgabe 2</th>\n      <th>Aufgabe 3</th>\n      <th>Insgesamt</th>\n      <th>Unnamed: 10</th>\n      <th>Pretest</th>\n      <th>Posttest</th>\n    </tr>\n  </thead>\n  <tbody>\n    <tr>\n      <th>4</th>\n      <td>1RBR047</td>\n      <td>NaN</td>\n      <td>NaN</td>\n      <td>NaN</td>\n      <td>NaN</td>\n      <td>NaN</td>\n      <td>NaN</td>\n      <td>NaN</td>\n      <td>NaN</td>\n      <td>NaN</td>\n      <td>NaN</td>\n      <td>8.0</td>\n      <td>NaN</td>\n    </tr>\n    <tr>\n      <th>8</th>\n      <td>4DRO233</td>\n      <td>1.0</td>\n      <td>1.0</td>\n      <td>1.0</td>\n      <td>1.0</td>\n      <td>1.0</td>\n      <td>1.0</td>\n      <td>1.0</td>\n      <td>1.0</td>\n      <td>8.0</td>\n      <td>NaN</td>\n      <td>7.0</td>\n      <td>8.0</td>\n    </tr>\n    <tr>\n      <th>9</th>\n      <td>4MNT105</td>\n      <td>NaN</td>\n      <td>NaN</td>\n      <td>NaN</td>\n      <td>NaN</td>\n      <td>NaN</td>\n      <td>NaN</td>\n      <td>NaN</td>\n      <td>NaN</td>\n      <td>NaN</td>\n      <td>NaN</td>\n      <td>NaN</td>\n      <td>NaN</td>\n    </tr>\n    <tr>\n      <th>10</th>\n      <td>5JS4143</td>\n      <td>NaN</td>\n      <td>NaN</td>\n      <td>NaN</td>\n      <td>NaN</td>\n      <td>NaN</td>\n      <td>NaN</td>\n      <td>NaN</td>\n      <td>NaN</td>\n      <td>NaN</td>\n      <td>NaN</td>\n      <td>8.0</td>\n      <td>NaN</td>\n    </tr>\n    <tr>\n      <th>11</th>\n      <td>5NSA280</td>\n      <td>1.0</td>\n      <td>1.0</td>\n      <td>1.0</td>\n      <td>1.0</td>\n      <td>1.0</td>\n      <td>1.0</td>\n      <td>1.0</td>\n      <td>1.0</td>\n      <td>8.0</td>\n      <td>NaN</td>\n      <td>5.0</td>\n      <td>8.0</td>\n    </tr>\n    <tr>\n      <th>12</th>\n      <td>6CSA143</td>\n      <td>0.0</td>\n      <td>1.0</td>\n      <td>1.0</td>\n      <td>1.0</td>\n      <td>1.0</td>\n      <td>1.0</td>\n      <td>0.5</td>\n      <td>0.0</td>\n      <td>5.5</td>\n      <td>NaN</td>\n      <td>0.0</td>\n      <td>5.5</td>\n    </tr>\n    <tr>\n      <th>14</th>\n      <td>7KSM240</td>\n      <td>1.0</td>\n      <td>1.0</td>\n      <td>1.0</td>\n      <td>1.0</td>\n      <td>1.0</td>\n      <td>1.0</td>\n      <td>1.0</td>\n      <td>0.0</td>\n      <td>7.0</td>\n      <td>NaN</td>\n      <td>5.0</td>\n      <td>7.0</td>\n    </tr>\n    <tr>\n      <th>17</th>\n      <td>7VKT025</td>\n      <td>NaN</td>\n      <td>NaN</td>\n      <td>NaN</td>\n      <td>NaN</td>\n      <td>NaN</td>\n      <td>NaN</td>\n      <td>NaN</td>\n      <td>NaN</td>\n      <td>NaN</td>\n      <td>NaN</td>\n      <td>8.0</td>\n      <td>8.0</td>\n    </tr>\n    <tr>\n      <th>18</th>\n      <td>8AB4138</td>\n      <td>NaN</td>\n      <td>NaN</td>\n      <td>NaN</td>\n      <td>NaN</td>\n      <td>NaN</td>\n      <td>NaN</td>\n      <td>NaN</td>\n      <td>NaN</td>\n      <td>NaN</td>\n      <td>NaN</td>\n      <td>NaN</td>\n      <td>NaN</td>\n    </tr>\n  </tbody>\n</table>\n</div>"
     },
     "metadata": {},
     "output_type": "display_data"
    }
   ],
   "source": [
    "broca_posttest = df_posttest[df_posttest.UID.isin(broca_uid)]\n",
    "control_posttest = df_posttest[df_posttest.UID.isin(control_uid)]\n",
    "\n",
    "display(control_posttest)\n",
    "broca_posttest = broca_posttest[\"Posttest\"].dropna().to_list()\n",
    "control_posttest = control_posttest[\"Posttest\"].dropna().to_list()"
   ],
   "metadata": {
    "collapsed": false
   }
  },
  {
   "cell_type": "code",
   "execution_count": 6,
   "outputs": [
    {
     "name": "stdout",
     "output_type": "stream",
     "text": [
      "        UID  Aufgabe 1a  Aufgabe 1b  Aufgabe 1c  Aufgabe 1d  Aufgabe 1e  \\\n",
      "0   0LZR203         1.0         1.0         1.0         1.0         1.0   \n",
      "1   0REG243         NaN         NaN         NaN         NaN         NaN   \n",
      "2   1AGT138         1.0         1.0         1.0         1.0         1.0   \n",
      "3   1HJA213         NaN         NaN         NaN         NaN         NaN   \n",
      "5   3LDI060         1.0         1.0         1.0         1.0         1.0   \n",
      "6   3LST145         1.0         1.0         1.0         1.0         1.0   \n",
      "7   4ANT042         1.0         1.0         1.0         1.0         1.0   \n",
      "13  7BGT235         1.0         1.0         1.0         1.0         1.0   \n",
      "15  7RAI228         0.0         0.0         1.0         1.0         1.0   \n",
      "16  7SOA133         1.0         1.0         1.0         1.0         1.0   \n",
      "19  8CHT208         NaN         NaN         NaN         NaN         NaN   \n",
      "\n",
      "    Aufgabe 1f  Aufgabe 2  Aufgabe 3  Insgesamt  \n",
      "0          1.0        1.0        0.0        7.0  \n",
      "1          NaN        NaN        NaN        NaN  \n",
      "2          1.0        1.0        1.0        8.0  \n",
      "3          NaN        NaN        NaN        NaN  \n",
      "5          1.0        1.0        1.0        8.0  \n",
      "6          1.0        1.0        1.0        8.0  \n",
      "7          1.0        1.0        1.0        8.0  \n",
      "13         1.0        1.0        1.0        8.0  \n",
      "15         1.0        0.0        1.0        5.0  \n",
      "16         1.0        1.0        1.0        8.0  \n",
      "19         NaN        NaN        NaN        NaN  \n",
      "        UID  Aufgabe 1a  Aufgabe 1b  Aufgabe 1c  Aufgabe 1d  Aufgabe 1e  \\\n",
      "4   1RBR047         NaN         NaN         NaN         NaN         NaN   \n",
      "8   4DRO233         1.0         1.0         1.0         1.0         1.0   \n",
      "9   4MNT105         NaN         NaN         NaN         NaN         NaN   \n",
      "10  5JS4143         NaN         NaN         NaN         NaN         NaN   \n",
      "11  5NSA280         1.0         1.0         1.0         1.0         1.0   \n",
      "12  6CSA143         0.0         1.0         1.0         1.0         1.0   \n",
      "14  7KSM240         1.0         1.0         1.0         1.0         1.0   \n",
      "17  7VKT025         1.0         1.0         1.0         1.0         1.0   \n",
      "18  8AB4138         NaN         NaN         NaN         NaN         NaN   \n",
      "\n",
      "    Aufgabe 1f  Aufgabe 2  Aufgabe 3  Insgesamt  \n",
      "4          NaN        NaN        NaN        NaN  \n",
      "8          1.0        1.0        1.0        8.0  \n",
      "9          NaN        NaN        NaN        NaN  \n",
      "10         NaN        NaN        NaN        NaN  \n",
      "11         1.0        1.0        1.0        8.0  \n",
      "12         0.0        0.5        0.0        4.5  \n",
      "14         1.0        1.0        1.0        8.0  \n",
      "17         1.0        1.0        1.0        8.0  \n",
      "18         NaN        NaN        NaN        NaN  \n",
      "[8.0, 8.0, 4.5, 8.0, 8.0]\n"
     ]
    }
   ],
   "source": [
    "broca_programming_test = df_posttest_programming[df_posttest_programming.UID.isin(broca_uid)]\n",
    "control_programming_test = df_posttest_programming[df_posttest_programming.UID.isin(control_uid)]\n",
    "\n",
    "print(broca_programming_test)\n",
    "print(control_programming_test)\n",
    "\n",
    "broca_programming_test = broca_programming_test[\"Insgesamt\"].dropna().to_list()\n",
    "control_programming_test = control_programming_test[\"Insgesamt\"].dropna().to_list()\n",
    "\n",
    "print(control_programming_test)"
   ],
   "metadata": {
    "collapsed": false
   }
  },
  {
   "cell_type": "code",
   "execution_count": 7,
   "outputs": [],
   "source": [
    "df_broca_pretest = pd.DataFrame(broca_pretest)\n",
    "df_broca_posttest = pd.DataFrame(broca_posttest)\n",
    "df_control_pretest = pd.DataFrame(control_pretest)\n",
    "df_control_posttest = pd.DataFrame(control_posttest)\n",
    "\n",
    "df_broca_programming = pd.DataFrame(broca_programming_test)\n",
    "df_control_programming = pd.DataFrame(control_programming_test)"
   ],
   "metadata": {
    "collapsed": false
   }
  },
  {
   "cell_type": "markdown",
   "source": [
    "Descriptive Statistics of Points per Group"
   ],
   "metadata": {
    "collapsed": false
   }
  },
  {
   "cell_type": "code",
   "execution_count": 8,
   "outputs": [
    {
     "data": {
      "text/plain": "               0\ncount  11.000000\nmean    4.818182\nstd     2.600699\nmin     0.000000\n25%     2.750000\n50%     5.500000\n75%     6.750000\nmax     8.000000",
      "text/html": "<div>\n<style scoped>\n    .dataframe tbody tr th:only-of-type {\n        vertical-align: middle;\n    }\n\n    .dataframe tbody tr th {\n        vertical-align: top;\n    }\n\n    .dataframe thead th {\n        text-align: right;\n    }\n</style>\n<table border=\"1\" class=\"dataframe\">\n  <thead>\n    <tr style=\"text-align: right;\">\n      <th></th>\n      <th>0</th>\n    </tr>\n  </thead>\n  <tbody>\n    <tr>\n      <th>count</th>\n      <td>11.000000</td>\n    </tr>\n    <tr>\n      <th>mean</th>\n      <td>4.818182</td>\n    </tr>\n    <tr>\n      <th>std</th>\n      <td>2.600699</td>\n    </tr>\n    <tr>\n      <th>min</th>\n      <td>0.000000</td>\n    </tr>\n    <tr>\n      <th>25%</th>\n      <td>2.750000</td>\n    </tr>\n    <tr>\n      <th>50%</th>\n      <td>5.500000</td>\n    </tr>\n    <tr>\n      <th>75%</th>\n      <td>6.750000</td>\n    </tr>\n    <tr>\n      <th>max</th>\n      <td>8.000000</td>\n    </tr>\n  </tbody>\n</table>\n</div>"
     },
     "execution_count": 8,
     "metadata": {},
     "output_type": "execute_result"
    }
   ],
   "source": [
    "df_broca_pretest.describe()"
   ],
   "metadata": {
    "collapsed": false
   }
  },
  {
   "cell_type": "code",
   "execution_count": 9,
   "outputs": [
    {
     "data": {
      "text/plain": "              0\ncount  8.000000\nmean   7.187500\nstd    0.923406\nmin    6.000000\n25%    6.375000\n50%    7.500000\n75%    8.000000\nmax    8.000000",
      "text/html": "<div>\n<style scoped>\n    .dataframe tbody tr th:only-of-type {\n        vertical-align: middle;\n    }\n\n    .dataframe tbody tr th {\n        vertical-align: top;\n    }\n\n    .dataframe thead th {\n        text-align: right;\n    }\n</style>\n<table border=\"1\" class=\"dataframe\">\n  <thead>\n    <tr style=\"text-align: right;\">\n      <th></th>\n      <th>0</th>\n    </tr>\n  </thead>\n  <tbody>\n    <tr>\n      <th>count</th>\n      <td>8.000000</td>\n    </tr>\n    <tr>\n      <th>mean</th>\n      <td>7.187500</td>\n    </tr>\n    <tr>\n      <th>std</th>\n      <td>0.923406</td>\n    </tr>\n    <tr>\n      <th>min</th>\n      <td>6.000000</td>\n    </tr>\n    <tr>\n      <th>25%</th>\n      <td>6.375000</td>\n    </tr>\n    <tr>\n      <th>50%</th>\n      <td>7.500000</td>\n    </tr>\n    <tr>\n      <th>75%</th>\n      <td>8.000000</td>\n    </tr>\n    <tr>\n      <th>max</th>\n      <td>8.000000</td>\n    </tr>\n  </tbody>\n</table>\n</div>"
     },
     "execution_count": 9,
     "metadata": {},
     "output_type": "execute_result"
    }
   ],
   "source": [
    "df_broca_posttest.describe()"
   ],
   "metadata": {
    "collapsed": false
   }
  },
  {
   "cell_type": "code",
   "execution_count": 10,
   "outputs": [
    {
     "data": {
      "text/plain": "              0\ncount  9.000000\nmean   5.222222\nstd    3.192874\nmin    0.000000\n25%    5.000000\n50%    6.000000\n75%    8.000000\nmax    8.000000",
      "text/html": "<div>\n<style scoped>\n    .dataframe tbody tr th:only-of-type {\n        vertical-align: middle;\n    }\n\n    .dataframe tbody tr th {\n        vertical-align: top;\n    }\n\n    .dataframe thead th {\n        text-align: right;\n    }\n</style>\n<table border=\"1\" class=\"dataframe\">\n  <thead>\n    <tr style=\"text-align: right;\">\n      <th></th>\n      <th>0</th>\n    </tr>\n  </thead>\n  <tbody>\n    <tr>\n      <th>count</th>\n      <td>9.000000</td>\n    </tr>\n    <tr>\n      <th>mean</th>\n      <td>5.222222</td>\n    </tr>\n    <tr>\n      <th>std</th>\n      <td>3.192874</td>\n    </tr>\n    <tr>\n      <th>min</th>\n      <td>0.000000</td>\n    </tr>\n    <tr>\n      <th>25%</th>\n      <td>5.000000</td>\n    </tr>\n    <tr>\n      <th>50%</th>\n      <td>6.000000</td>\n    </tr>\n    <tr>\n      <th>75%</th>\n      <td>8.000000</td>\n    </tr>\n    <tr>\n      <th>max</th>\n      <td>8.000000</td>\n    </tr>\n  </tbody>\n</table>\n</div>"
     },
     "execution_count": 10,
     "metadata": {},
     "output_type": "execute_result"
    }
   ],
   "source": [
    "df_control_pretest.describe()"
   ],
   "metadata": {
    "collapsed": false
   }
  },
  {
   "cell_type": "code",
   "execution_count": 11,
   "outputs": [
    {
     "data": {
      "text/plain": "              0\ncount  5.000000\nmean   7.300000\nstd    1.095445\nmin    5.500000\n25%    7.000000\n50%    8.000000\n75%    8.000000\nmax    8.000000",
      "text/html": "<div>\n<style scoped>\n    .dataframe tbody tr th:only-of-type {\n        vertical-align: middle;\n    }\n\n    .dataframe tbody tr th {\n        vertical-align: top;\n    }\n\n    .dataframe thead th {\n        text-align: right;\n    }\n</style>\n<table border=\"1\" class=\"dataframe\">\n  <thead>\n    <tr style=\"text-align: right;\">\n      <th></th>\n      <th>0</th>\n    </tr>\n  </thead>\n  <tbody>\n    <tr>\n      <th>count</th>\n      <td>5.000000</td>\n    </tr>\n    <tr>\n      <th>mean</th>\n      <td>7.300000</td>\n    </tr>\n    <tr>\n      <th>std</th>\n      <td>1.095445</td>\n    </tr>\n    <tr>\n      <th>min</th>\n      <td>5.500000</td>\n    </tr>\n    <tr>\n      <th>25%</th>\n      <td>7.000000</td>\n    </tr>\n    <tr>\n      <th>50%</th>\n      <td>8.000000</td>\n    </tr>\n    <tr>\n      <th>75%</th>\n      <td>8.000000</td>\n    </tr>\n    <tr>\n      <th>max</th>\n      <td>8.000000</td>\n    </tr>\n  </tbody>\n</table>\n</div>"
     },
     "execution_count": 11,
     "metadata": {},
     "output_type": "execute_result"
    }
   ],
   "source": [
    "df_control_posttest.describe()"
   ],
   "metadata": {
    "collapsed": false
   }
  },
  {
   "cell_type": "code",
   "execution_count": 12,
   "outputs": [
    {
     "data": {
      "text/plain": "              0\ncount  8.000000\nmean   7.500000\nstd    1.069045\nmin    5.000000\n25%    7.750000\n50%    8.000000\n75%    8.000000\nmax    8.000000",
      "text/html": "<div>\n<style scoped>\n    .dataframe tbody tr th:only-of-type {\n        vertical-align: middle;\n    }\n\n    .dataframe tbody tr th {\n        vertical-align: top;\n    }\n\n    .dataframe thead th {\n        text-align: right;\n    }\n</style>\n<table border=\"1\" class=\"dataframe\">\n  <thead>\n    <tr style=\"text-align: right;\">\n      <th></th>\n      <th>0</th>\n    </tr>\n  </thead>\n  <tbody>\n    <tr>\n      <th>count</th>\n      <td>8.000000</td>\n    </tr>\n    <tr>\n      <th>mean</th>\n      <td>7.500000</td>\n    </tr>\n    <tr>\n      <th>std</th>\n      <td>1.069045</td>\n    </tr>\n    <tr>\n      <th>min</th>\n      <td>5.000000</td>\n    </tr>\n    <tr>\n      <th>25%</th>\n      <td>7.750000</td>\n    </tr>\n    <tr>\n      <th>50%</th>\n      <td>8.000000</td>\n    </tr>\n    <tr>\n      <th>75%</th>\n      <td>8.000000</td>\n    </tr>\n    <tr>\n      <th>max</th>\n      <td>8.000000</td>\n    </tr>\n  </tbody>\n</table>\n</div>"
     },
     "execution_count": 12,
     "metadata": {},
     "output_type": "execute_result"
    }
   ],
   "source": [
    "df_broca_programming.describe()"
   ],
   "metadata": {
    "collapsed": false
   }
  },
  {
   "cell_type": "code",
   "execution_count": 13,
   "outputs": [
    {
     "data": {
      "text/plain": "              0\ncount  5.000000\nmean   7.300000\nstd    1.565248\nmin    4.500000\n25%    8.000000\n50%    8.000000\n75%    8.000000\nmax    8.000000",
      "text/html": "<div>\n<style scoped>\n    .dataframe tbody tr th:only-of-type {\n        vertical-align: middle;\n    }\n\n    .dataframe tbody tr th {\n        vertical-align: top;\n    }\n\n    .dataframe thead th {\n        text-align: right;\n    }\n</style>\n<table border=\"1\" class=\"dataframe\">\n  <thead>\n    <tr style=\"text-align: right;\">\n      <th></th>\n      <th>0</th>\n    </tr>\n  </thead>\n  <tbody>\n    <tr>\n      <th>count</th>\n      <td>5.000000</td>\n    </tr>\n    <tr>\n      <th>mean</th>\n      <td>7.300000</td>\n    </tr>\n    <tr>\n      <th>std</th>\n      <td>1.565248</td>\n    </tr>\n    <tr>\n      <th>min</th>\n      <td>4.500000</td>\n    </tr>\n    <tr>\n      <th>25%</th>\n      <td>8.000000</td>\n    </tr>\n    <tr>\n      <th>50%</th>\n      <td>8.000000</td>\n    </tr>\n    <tr>\n      <th>75%</th>\n      <td>8.000000</td>\n    </tr>\n    <tr>\n      <th>max</th>\n      <td>8.000000</td>\n    </tr>\n  </tbody>\n</table>\n</div>"
     },
     "execution_count": 13,
     "metadata": {},
     "output_type": "execute_result"
    }
   ],
   "source": [
    "df_control_programming.describe()"
   ],
   "metadata": {
    "collapsed": false
   }
  },
  {
   "cell_type": "markdown",
   "source": [
    "Boxplot for Pre- and Posttest"
   ],
   "metadata": {
    "collapsed": false
   }
  },
  {
   "cell_type": "code",
   "execution_count": 14,
   "outputs": [
    {
     "name": "stdout",
     "output_type": "stream",
     "text": [
      "[[8.0, 7.0, 0.0, 8.0, 5.0, 0.0, 5.0, 8.0, 6.0], [8.0, 8.0, 5.5, 7.0, 8.0]]\n",
      "-1.0\n",
      "0.0\n",
      "1.0\n"
     ]
    },
    {
     "ename": "TypeError",
     "evalue": "list indices must be integers or slices, not str",
     "output_type": "error",
     "traceback": [
      "\u001B[1;31m---------------------------------------------------------------------------\u001B[0m",
      "\u001B[1;31mTypeError\u001B[0m                                 Traceback (most recent call last)",
      "\u001B[1;32m~\\AppData\\Local\\Temp\\ipykernel_11512\\2751644274.py\u001B[0m in \u001B[0;36m<module>\u001B[1;34m\u001B[0m\n\u001B[0;32m     68\u001B[0m \u001B[1;33m\u001B[0m\u001B[0m\n\u001B[0;32m     69\u001B[0m \u001B[1;33m\u001B[0m\u001B[0m\n\u001B[1;32m---> 70\u001B[1;33m \u001B[0msns\u001B[0m\u001B[1;33m.\u001B[0m\u001B[0mboxplot\u001B[0m\u001B[1;33m(\u001B[0m \u001B[0my\u001B[0m\u001B[1;33m=\u001B[0m\u001B[0mdg\u001B[0m\u001B[1;33m[\u001B[0m\u001B[1;34m\"sepal_length\"\u001B[0m\u001B[1;33m]\u001B[0m \u001B[1;33m)\u001B[0m\u001B[1;33m;\u001B[0m\u001B[1;33m\u001B[0m\u001B[1;33m\u001B[0m\u001B[0m\n\u001B[0m\u001B[0;32m     71\u001B[0m \u001B[1;33m\u001B[0m\u001B[0m\n\u001B[0;32m     72\u001B[0m \u001B[0mpl\u001B[0m\u001B[1;33m.\u001B[0m\u001B[0mshow\u001B[0m\u001B[1;33m(\u001B[0m\u001B[1;33m)\u001B[0m\u001B[1;33m\u001B[0m\u001B[1;33m\u001B[0m\u001B[0m\n",
      "\u001B[1;31mTypeError\u001B[0m: list indices must be integers or slices, not str"
     ]
    },
    {
     "data": {
      "text/plain": "<Figure size 640x480 with 1 Axes>",
      "image/png": "[encoded data removed]"
     },
     "metadata": {},
     "output_type": "display_data"
    }
   ],
   "source": [
    "import matplotlib.pyplot as pl\n",
    "import statistics\n",
    "\n",
    "# --- Combining your data:\n",
    "data_group1 = [broca_pretest, broca_posttest]\n",
    "data_group2 = [control_pretest, control_posttest]\n",
    "data_group3 = [pretest_all, posttest_all]\n",
    "\n",
    "print(data_group2)\n",
    "\n",
    "colors = ['pink', 'lightblue', 'lightgreen']\n",
    "\n",
    "data_groups = [data_group1, data_group2, data_group3]\n",
    "\n",
    "# --- Labels for your data:\n",
    "labels_list = ['Pretest','Posttest']\n",
    "width       = 1/len(labels_list)\n",
    "xlocations  = [ x*((1+ len(data_groups))*width) for x in range(len(data_group1)) ]\n",
    "\n",
    "symbol      = 'r+'\n",
    "ymin        = -0.5\n",
    "ymax        = 8\n",
    "\n",
    "ax = pl.gca()\n",
    "ax.set_ylim(ymin,ymax)\n",
    "\n",
    "ax.grid(True, linestyle='dotted')\n",
    "ax.set_axisbelow(True)\n",
    "\n",
    "pl.xlabel('Test')\n",
    "pl.ylabel('Points')\n",
    "#pl.title('title')\n",
    "\n",
    "space = len(data_groups)/2\n",
    "offset = len(data_groups)/2\n",
    "\n",
    "\n",
    "# --- Offset the positions per group:\n",
    "\n",
    "group_positions = []\n",
    "for num, dg in enumerate(data_groups):\n",
    "        _off = (0 - space + (0.5+num))\n",
    "        print(_off)\n",
    "        group_positions.append([x+_off*(width+0.01) for x in xlocations])\n",
    "\n",
    "for dg, pos, c in zip(data_groups, group_positions, colors):\n",
    "        boxes = ax.boxplot(dg,\n",
    "                           sym=symbol,\n",
    "                           labels=['']*len(labels_list),\n",
    "                           #            labels=labels_list,\n",
    "                           positions=pos,\n",
    "                           widths=width,\n",
    "                           boxprops=dict(facecolor=c),\n",
    "                           #             capprops=dict(color=c),\n",
    "                           #            whiskerprops=dict(color=c),\n",
    "                           #            flierprops=dict(color=c, markeredgecolor=c),\n",
    "                           medianprops=dict(color='grey'),\n",
    "                           #           notch=False,\n",
    "                           #           vert=True,\n",
    "                           #           whis=1.5,\n",
    "                           #           bootstrap=None,\n",
    "                           #           usermedians=None,\n",
    "                           #           conf_intervals=None,\n",
    "                           patch_artist=True,\n",
    "                           )\n",
    "ax.set_xticks(xlocations    )\n",
    "ax.set_xticklabels( labels_list, rotation=0 )\n",
    "\n",
    "\n",
    "sns.boxplot( y=dg[\"sepal_length\"] );\n",
    "\n",
    "pl.show()\n",
    "pl.savefig('test.pdf')"
   ],
   "metadata": {
    "collapsed": false
   }
  },
  {
   "cell_type": "markdown",
   "source": [
    "Questionnaire\n"
   ],
   "metadata": {
    "collapsed": false
   }
  },
  {
   "cell_type": "code",
   "execution_count": null,
   "outputs": [],
   "source": [
    "broca_questionnaire = df_experience[df_experience.UID.isin(broca_uid)]\n",
    "control_questionnaire = df_experience[df_experience.UID.isin(control_uid)]\n",
    "\n",
    "gender_all = df_experience[\"bio_geschlecht\"].value_counts()\n",
    "gender_brocanto = broca_questionnaire[\"bio_geschlecht\"].value_counts()\n",
    "gender_control = control_questionnaire[\"bio_geschlecht\"].value_counts()\n",
    "\n",
    "gender_control.name = \"control\"\n",
    "gender_all.name = \"all\"\n",
    "gender_brocanto.name = \"test\"\n",
    "display(gender_control)\n",
    "df_gender = pd.DataFrame([gender_brocanto, gender_control, gender_all])\n",
    "\n",
    "df_gender"
   ],
   "metadata": {
    "collapsed": false
   }
  },
  {
   "cell_type": "code",
   "execution_count": null,
   "outputs": [],
   "source": [
    "age_all = df_experience[\"alter\"]\n",
    "age_brocanto = broca_questionnaire[\"alter\"]\n",
    "age_control = control_questionnaire[\"alter\"]\n",
    "\n",
    "age_all.describe()"
   ],
   "metadata": {
    "collapsed": false
   }
  },
  {
   "cell_type": "code",
   "execution_count": null,
   "outputs": [],
   "source": [
    "df = sns.load_dataset(\"titanic\")\n",
    "display(df)\n",
    "sns.boxplot(data=df, x=\"class\", y=\"age\", hue=\"who\", orient='v')"
   ],
   "metadata": {
    "collapsed": false
   }
  },
  {
   "cell_type": "code",
   "execution_count": null,
   "outputs": [],
   "source": [
    "display(df_posttest)\n",
    "df_posttest = df_posttest.drop('Insgesamt', axis= 1)\n"
   ],
   "metadata": {
    "collapsed": false
   }
  },
  {
   "cell_type": "code",
   "execution_count": null,
   "outputs": [],
   "source": [
    "#df_merged = pd.merge(df_pretest, df_posttest, on=\"UID\")\n",
    "\n",
    "df_merged = df_pretest.append(df_posttest, ignore_index=True)\n",
    "\n",
    "df_merged = df_merged.drop(df_merged.columns[1:9], axis= 1)\n",
    "df_merged = df_merged.drop(df_merged.columns[2:4], axis= 1)\n",
    "\n",
    "df_merged[\"Group\"] = \"\"\n",
    "df_merged[\"Test\"] = \"\"\n",
    "\n",
    "\n",
    "for i in range(40):\n",
    "    if i < 20:\n",
    "        df_merged.at[i, 'Test'] = \"Pretest\"\n",
    "\n",
    "    else:\n",
    "        df_merged.at[i, 'Test'] = \"Posttest\"\n",
    "\n",
    "for index, row in df_merged.iterrows():\n",
    "    if row[\"UID\"] in control_uid:\n",
    "        df_merged.loc[index, 'Group'] = 'control'\n",
    "    elif row[\"UID\"] in broca_uid:\n",
    "        df_merged.loc[index, 'Group'] = 'broca'\n",
    "display(df_merged)\n",
    "\n",
    "#df_merged['Points'] = df_merged.Insgesamt.fillna(0) + df_merged.Posttest.fillna(0)\n",
    "df_merged[\"Points\"] = df_merged[[\"Insgesamt\", \"Posttest\"]].sum(axis=1)\n",
    "#df_merged= df_merged[df_merged['Points'] != 0]\n",
    "\n",
    "df_merged = df_merged.loc[~((df_merged['Points'] == 0) & (df_merged['Test'] == \"Posttest\"))]\n",
    "\n",
    "for index, row in df_merged.iterrows():\n",
    "    if row['Test'] == \"Posttest\":\n",
    "        if row['Points'] == 0.0:\n",
    "            del row\n",
    "display(df_merged)\n",
    "\n",
    "sns.boxplot(data=df_merged, x=\"Test\", y=\"Points\", hue=\"Group\", orient='v')"
   ],
   "metadata": {
    "collapsed": false
   }
  },
  {
   "cell_type": "markdown",
   "source": [
    "Mann-Whitney U Test\n",
    "Pretest und Posttest\n",
    "\n",
    "Messzeitpunkt 3 Posttest-Programmieraufgabe\n",
    "\n",
    "Prozentuale Berechnung der Punkte\n",
    "\n",
    "Deviation - 1 Person hat die Aufgabe bei mir im Büro bearbeitet\n",
    "\n",
    "Individueller Verlauf über die Woche\n",
    "\n",
    "Tabelle Aufgaben und Rohpunkte und Prozente. Getrennt nach Gruppe. Gibt es nach Konzept Unterschiede.\n",
    "\n",
    "Beschreiben wieso gewisse Aufgaben nicht bewertet wurden"
   ],
   "metadata": {
    "collapsed": false
   },
   "outputs": [
    {
     "ename": "SyntaxError",
     "evalue": "invalid syntax (2191366381.py, line 1)",
     "output_type": "error",
     "traceback": [
      "\u001B[1;36m  File \u001B[1;32m\"C:\\Users\\Dominik\\AppData\\Local\\Temp\\ipykernel_14960\\2191366381.py\"\u001B[1;36m, line \u001B[1;32m1\u001B[0m\n\u001B[1;33m    Mann-Whitney U Test\u001B[0m\n\u001B[1;37m                 ^\u001B[0m\n\u001B[1;31mSyntaxError\u001B[0m\u001B[1;31m:\u001B[0m invalid syntax\n"
     ]
    }
   ],
   "execution_count": 1
  },
  {
   "cell_type": "markdown",
   "source": [
    "Violinplot aus df_merged"
   ],
   "metadata": {
    "collapsed": false
   }
  },
  {
   "cell_type": "code",
   "execution_count": null,
   "outputs": [],
   "source": [],
   "metadata": {
    "collapsed": false
   }
  },
  {
   "cell_type": "code",
   "execution_count": null,
   "outputs": [],
   "source": [
    "sns.violinplot(data=df_merged, x=\"Test\", y=\"Points\", hue=\"Group\", orient='v')"
   ],
   "metadata": {
    "collapsed": false
   }
  },
  {
   "cell_type": "code",
   "execution_count": null,
   "outputs": [],
   "source": [
    "from scipy import stats\n",
    "stats.kruskal(broca_pretest, control_pretest, broca_posttest, control_posttest)\n",
    "\n",
    "#nicht signifikant\n"
   ],
   "metadata": {
    "collapsed": false
   }
  },
  {
   "cell_type": "code",
   "execution_count": null,
   "outputs": [],
   "source": [
    "df_tasks = pd.read_excel(xls, \"Übungsaufgaben\")\n",
    "df_tasks"
   ],
   "metadata": {
    "collapsed": false
   }
  },
  {
   "cell_type": "code",
   "execution_count": null,
   "outputs": [],
   "source": [
    "#add two iterrows\n",
    "# print row\n",
    "# print 10 times hello world\n",
    "\n",
    "# print 10 times\n"
   ],
   "metadata": {
    "collapsed": false
   }
  },
  {
   "cell_type": "code",
   "execution_count": null,
   "outputs": [],
   "source": [],
   "metadata": {
    "collapsed": false
   }
  }
 ],
 "metadata": {
  "kernelspec": {
   "display_name": "Python 3",
   "language": "python",
   "name": "python3"
  },
  "language_info": {
   "codemirror_mode": {
    "name": "ipython",
    "version": 2
   },
   "file_extension": ".py",
   "mimetype": "text/x-python",
   "name": "python",
   "nbconvert_exporter": "python",
   "pygments_lexer": "ipython2",
   "version": "2.7.6"
  }
 },
 "nbformat": 4,
 "nbformat_minor": 0
}
