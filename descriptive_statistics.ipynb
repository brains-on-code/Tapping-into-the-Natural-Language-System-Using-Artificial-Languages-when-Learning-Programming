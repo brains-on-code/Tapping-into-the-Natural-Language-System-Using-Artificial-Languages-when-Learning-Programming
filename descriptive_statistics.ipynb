{
 "cells": [
  {
   "cell_type": "code",
   "execution_count": 22,
   "outputs": [],
   "source": [
    "import pandas as pd\n",
    "import seaborn as sns\n",
    "import matplotlib.pyplot as plt\n",
    "\n",
    "xls = pd.ExcelFile('Vorkurs_22.xlsx')\n",
    "df_experience = pd.read_excel(xls, 'Programmiererfahrung')\n",
    "df_pretest = pd.read_excel(xls, \"Pretest\")\n",
    "df_tasks = pd.read_excel(xls, 'Übungsaufgaben')\n",
    "df_broca = pd.read_excel(xls, \"BROCAtreat\")\n",
    "df_posttest = pd.read_excel(xls, \"Posttest-Ahadi\")\n",
    "df_posttest_programming = pd.read_excel(xls, \"Posttest-Programmieraufgabe\")"
   ],
   "metadata": {
    "collapsed": false,
    "pycharm": {
     "name": "#%%\n"
    }
   }
  },
  {
   "cell_type": "markdown",
   "source": [
    "Create Lists of different UIDs"
   ],
   "metadata": {
    "collapsed": false,
    "pycharm": {
     "name": "#%% md\n"
    }
   }
  },
  {
   "cell_type": "code",
   "execution_count": 23,
   "outputs": [
    {
     "name": "stdout",
     "output_type": "stream",
     "text": [
      "['1RBR047', '4DRO233', '4MNT105', '5JS4143', '5NSA280', '6CSA143', '7KSM240', '7VKT025', '8AB4138']\n",
      "['0LZR203', '0REG243', '1AGT138', '1HJA213', '3LDI060', '3LST145', '4ANT042', '7BGT235', '7RAI228', '7SOA133', '8CHT208']\n"
     ]
    }
   ],
   "source": [
    "broca_uid = df_broca['UID'].to_list()\n",
    "all_uid = df_pretest['UID'].to_list()\n",
    "control_uid = list(set(all_uid) - set(broca_uid))\n",
    "control_uid.sort()\n",
    "broca_uid.sort()\n",
    "print(control_uid)\n",
    "print(broca_uid)"
   ],
   "metadata": {
    "collapsed": false,
    "pycharm": {
     "name": "#%%\n"
    }
   }
  },
  {
   "cell_type": "markdown",
   "source": [
    "Calculate Points for Pretest and Posttest"
   ],
   "metadata": {
    "collapsed": false,
    "pycharm": {
     "name": "#%% md\n"
    }
   }
  },
  {
   "cell_type": "code",
   "execution_count": 24,
   "outputs": [],
   "source": [
    "pretest_all = df_pretest[\"Insgesamt\"].dropna().to_list()\n",
    "posttest_all = df_posttest[\"Insgesamt\"].dropna().to_list()"
   ],
   "metadata": {
    "collapsed": false,
    "pycharm": {
     "name": "#%%\n"
    }
   }
  },
  {
   "cell_type": "code",
   "execution_count": 25,
   "outputs": [],
   "source": [
    "broca_pretest = df_pretest[df_pretest.UID.isin(broca_uid)]\n",
    "control_pretest = df_pretest[df_pretest.UID.isin(control_uid)]\n",
    "\n",
    "broca_pretest = broca_pretest[\"Insgesamt\"].dropna().to_list()\n",
    "control_pretest = control_pretest[\"Insgesamt\"].dropna().to_list()"
   ],
   "metadata": {
    "collapsed": false,
    "pycharm": {
     "name": "#%%\n"
    }
   }
  },
  {
   "cell_type": "code",
   "execution_count": 26,
   "outputs": [
    {
     "data": {
      "text/plain": "        UID  Aufgabe 1a  Aufgabe 1b  Aufgabe 1c  Aufgabe 1d  Aufgabe 1e  \\\n4   1RBR047         NaN         NaN         NaN         NaN         NaN   \n8   4DRO233         1.0         1.0         1.0         1.0         1.0   \n9   4MNT105         NaN         NaN         NaN         NaN         NaN   \n10  5JS4143         NaN         NaN         NaN         NaN         NaN   \n11  5NSA280         1.0         1.0         1.0         1.0         1.0   \n12  6CSA143         0.0         1.0         1.0         1.0         1.0   \n14  7KSM240         1.0         1.0         1.0         1.0         1.0   \n17  7VKT025         NaN         NaN         NaN         NaN         NaN   \n18  8AB4138         NaN         NaN         NaN         NaN         NaN   \n\n    Aufgabe 1f  Aufgabe 2  Aufgabe 3  Insgesamt  Unnamed: 10  Pretest  \\\n4          NaN        NaN        NaN        NaN          NaN      8.0   \n8          1.0        1.0        1.0        8.0          NaN      7.0   \n9          NaN        NaN        NaN        NaN          NaN      NaN   \n10         NaN        NaN        NaN        NaN          NaN      8.0   \n11         1.0        1.0        1.0        8.0          NaN      5.0   \n12         1.0        0.5        0.0        5.5          NaN      0.0   \n14         1.0        1.0        0.0        7.0          NaN      5.0   \n17         NaN        NaN        NaN        NaN          NaN      8.0   \n18         NaN        NaN        NaN        NaN          NaN      NaN   \n\n    Posttest  \n4        NaN  \n8        8.0  \n9        NaN  \n10       NaN  \n11       8.0  \n12       5.5  \n14       7.0  \n17       8.0  \n18       NaN  ",
      "text/html": "<div>\n<style scoped>\n    .dataframe tbody tr th:only-of-type {\n        vertical-align: middle;\n    }\n\n    .dataframe tbody tr th {\n        vertical-align: top;\n    }\n\n    .dataframe thead th {\n        text-align: right;\n    }\n</style>\n<table border=\"1\" class=\"dataframe\">\n  <thead>\n    <tr style=\"text-align: right;\">\n      <th></th>\n      <th>UID</th>\n      <th>Aufgabe 1a</th>\n      <th>Aufgabe 1b</th>\n      <th>Aufgabe 1c</th>\n      <th>Aufgabe 1d</th>\n      <th>Aufgabe 1e</th>\n      <th>Aufgabe 1f</th>\n      <th>Aufgabe 2</th>\n      <th>Aufgabe 3</th>\n      <th>Insgesamt</th>\n      <th>Unnamed: 10</th>\n      <th>Pretest</th>\n      <th>Posttest</th>\n    </tr>\n  </thead>\n  <tbody>\n    <tr>\n      <th>4</th>\n      <td>1RBR047</td>\n      <td>NaN</td>\n      <td>NaN</td>\n      <td>NaN</td>\n      <td>NaN</td>\n      <td>NaN</td>\n      <td>NaN</td>\n      <td>NaN</td>\n      <td>NaN</td>\n      <td>NaN</td>\n      <td>NaN</td>\n      <td>8.0</td>\n      <td>NaN</td>\n    </tr>\n    <tr>\n      <th>8</th>\n      <td>4DRO233</td>\n      <td>1.0</td>\n      <td>1.0</td>\n      <td>1.0</td>\n      <td>1.0</td>\n      <td>1.0</td>\n      <td>1.0</td>\n      <td>1.0</td>\n      <td>1.0</td>\n      <td>8.0</td>\n      <td>NaN</td>\n      <td>7.0</td>\n      <td>8.0</td>\n    </tr>\n    <tr>\n      <th>9</th>\n      <td>4MNT105</td>\n      <td>NaN</td>\n      <td>NaN</td>\n      <td>NaN</td>\n      <td>NaN</td>\n      <td>NaN</td>\n      <td>NaN</td>\n      <td>NaN</td>\n      <td>NaN</td>\n      <td>NaN</td>\n      <td>NaN</td>\n      <td>NaN</td>\n      <td>NaN</td>\n    </tr>\n    <tr>\n      <th>10</th>\n      <td>5JS4143</td>\n      <td>NaN</td>\n      <td>NaN</td>\n      <td>NaN</td>\n      <td>NaN</td>\n      <td>NaN</td>\n      <td>NaN</td>\n      <td>NaN</td>\n      <td>NaN</td>\n      <td>NaN</td>\n      <td>NaN</td>\n      <td>8.0</td>\n      <td>NaN</td>\n    </tr>\n    <tr>\n      <th>11</th>\n      <td>5NSA280</td>\n      <td>1.0</td>\n      <td>1.0</td>\n      <td>1.0</td>\n      <td>1.0</td>\n      <td>1.0</td>\n      <td>1.0</td>\n      <td>1.0</td>\n      <td>1.0</td>\n      <td>8.0</td>\n      <td>NaN</td>\n      <td>5.0</td>\n      <td>8.0</td>\n    </tr>\n    <tr>\n      <th>12</th>\n      <td>6CSA143</td>\n      <td>0.0</td>\n      <td>1.0</td>\n      <td>1.0</td>\n      <td>1.0</td>\n      <td>1.0</td>\n      <td>1.0</td>\n      <td>0.5</td>\n      <td>0.0</td>\n      <td>5.5</td>\n      <td>NaN</td>\n      <td>0.0</td>\n      <td>5.5</td>\n    </tr>\n    <tr>\n      <th>14</th>\n      <td>7KSM240</td>\n      <td>1.0</td>\n      <td>1.0</td>\n      <td>1.0</td>\n      <td>1.0</td>\n      <td>1.0</td>\n      <td>1.0</td>\n      <td>1.0</td>\n      <td>0.0</td>\n      <td>7.0</td>\n      <td>NaN</td>\n      <td>5.0</td>\n      <td>7.0</td>\n    </tr>\n    <tr>\n      <th>17</th>\n      <td>7VKT025</td>\n      <td>NaN</td>\n      <td>NaN</td>\n      <td>NaN</td>\n      <td>NaN</td>\n      <td>NaN</td>\n      <td>NaN</td>\n      <td>NaN</td>\n      <td>NaN</td>\n      <td>NaN</td>\n      <td>NaN</td>\n      <td>8.0</td>\n      <td>8.0</td>\n    </tr>\n    <tr>\n      <th>18</th>\n      <td>8AB4138</td>\n      <td>NaN</td>\n      <td>NaN</td>\n      <td>NaN</td>\n      <td>NaN</td>\n      <td>NaN</td>\n      <td>NaN</td>\n      <td>NaN</td>\n      <td>NaN</td>\n      <td>NaN</td>\n      <td>NaN</td>\n      <td>NaN</td>\n      <td>NaN</td>\n    </tr>\n  </tbody>\n</table>\n</div>"
     },
     "metadata": {},
     "output_type": "display_data"
    }
   ],
   "source": [
    "broca_posttest = df_posttest[df_posttest.UID.isin(broca_uid)]\n",
    "control_posttest = df_posttest[df_posttest.UID.isin(control_uid)]\n",
    "\n",
    "display(control_posttest)\n",
    "broca_posttest = broca_posttest[\"Posttest\"].dropna().to_list()\n",
    "control_posttest = control_posttest[\"Posttest\"].dropna().to_list()"
   ],
   "metadata": {
    "collapsed": false,
    "pycharm": {
     "name": "#%%\n"
    }
   }
  },
  {
   "cell_type": "code",
   "execution_count": 27,
   "outputs": [
    {
     "name": "stdout",
     "output_type": "stream",
     "text": [
      "        UID  Aufgabe 1a  Aufgabe 1b  Aufgabe 1c  Aufgabe 1d  Aufgabe 1e  \\\n",
      "0   0LZR203         1.0         1.0         1.0         1.0         1.0   \n",
      "1   0REG243         NaN         NaN         NaN         NaN         NaN   \n",
      "2   1AGT138         1.0         1.0         1.0         1.0         1.0   \n",
      "3   1HJA213         NaN         NaN         NaN         NaN         NaN   \n",
      "5   3LDI060         1.0         1.0         1.0         1.0         1.0   \n",
      "6   3LST145         1.0         1.0         1.0         1.0         1.0   \n",
      "7   4ANT042         1.0         1.0         1.0         1.0         1.0   \n",
      "13  7BGT235         1.0         1.0         1.0         1.0         1.0   \n",
      "15  7RAI228         0.0         0.0         1.0         1.0         1.0   \n",
      "16  7SOA133         1.0         1.0         1.0         1.0         1.0   \n",
      "19  8CHT208         NaN         NaN         NaN         NaN         NaN   \n",
      "\n",
      "    Aufgabe 1f  Aufgabe 2  Aufgabe 3  Insgesamt  \n",
      "0          1.0        1.0        0.0        7.0  \n",
      "1          NaN        NaN        NaN        NaN  \n",
      "2          1.0        1.0        1.0        8.0  \n",
      "3          NaN        NaN        NaN        NaN  \n",
      "5          1.0        1.0        1.0        8.0  \n",
      "6          1.0        1.0        1.0        8.0  \n",
      "7          1.0        1.0        1.0        8.0  \n",
      "13         1.0        1.0        1.0        8.0  \n",
      "15         1.0        0.0        1.0        5.0  \n",
      "16         1.0        1.0        1.0        8.0  \n",
      "19         NaN        NaN        NaN        NaN  \n",
      "        UID  Aufgabe 1a  Aufgabe 1b  Aufgabe 1c  Aufgabe 1d  Aufgabe 1e  \\\n",
      "4   1RBR047         NaN         NaN         NaN         NaN         NaN   \n",
      "8   4DRO233         1.0         1.0         1.0         1.0         1.0   \n",
      "9   4MNT105         NaN         NaN         NaN         NaN         NaN   \n",
      "10  5JS4143         NaN         NaN         NaN         NaN         NaN   \n",
      "11  5NSA280         1.0         1.0         1.0         1.0         1.0   \n",
      "12  6CSA143         0.0         1.0         1.0         1.0         1.0   \n",
      "14  7KSM240         1.0         1.0         1.0         1.0         1.0   \n",
      "17  7VKT025         1.0         1.0         1.0         1.0         1.0   \n",
      "18  8AB4138         NaN         NaN         NaN         NaN         NaN   \n",
      "\n",
      "    Aufgabe 1f  Aufgabe 2  Aufgabe 3  Insgesamt  \n",
      "4          NaN        NaN        NaN        NaN  \n",
      "8          1.0        1.0        1.0        8.0  \n",
      "9          NaN        NaN        NaN        NaN  \n",
      "10         NaN        NaN        NaN        NaN  \n",
      "11         1.0        1.0        1.0        8.0  \n",
      "12         0.0        0.5        0.0        4.5  \n",
      "14         1.0        1.0        1.0        8.0  \n",
      "17         1.0        1.0        1.0        8.0  \n",
      "18         NaN        NaN        NaN        NaN  \n",
      "[8.0, 8.0, 4.5, 8.0, 8.0]\n"
     ]
    }
   ],
   "source": [
    "broca_programming_test = df_posttest_programming[df_posttest_programming.UID.isin(broca_uid)]\n",
    "control_programming_test = df_posttest_programming[df_posttest_programming.UID.isin(control_uid)]\n",
    "\n",
    "print(broca_programming_test)\n",
    "print(control_programming_test)\n",
    "\n",
    "broca_programming_test = broca_programming_test[\"Insgesamt\"].dropna().to_list()\n",
    "control_programming_test = control_programming_test[\"Insgesamt\"].dropna().to_list()\n",
    "\n",
    "print(control_programming_test)"
   ],
   "metadata": {
    "collapsed": false,
    "pycharm": {
     "name": "#%%\n"
    }
   }
  },
  {
   "cell_type": "code",
   "execution_count": 28,
   "outputs": [],
   "source": [
    "df_broca_pretest = pd.DataFrame(broca_pretest)\n",
    "df_broca_posttest = pd.DataFrame(broca_posttest)\n",
    "df_control_pretest = pd.DataFrame(control_pretest)\n",
    "df_control_posttest = pd.DataFrame(control_posttest)\n",
    "\n",
    "df_broca_programming = pd.DataFrame(broca_programming_test)\n",
    "df_control_programming = pd.DataFrame(control_programming_test)"
   ],
   "metadata": {
    "collapsed": false,
    "pycharm": {
     "name": "#%%\n"
    }
   }
  },
  {
   "cell_type": "markdown",
   "source": [
    "Descriptive Statistics of Points per Group"
   ],
   "metadata": {
    "collapsed": false,
    "pycharm": {
     "name": "#%% md\n"
    }
   }
  },
  {
   "cell_type": "code",
   "execution_count": 29,
   "outputs": [
    {
     "data": {
      "text/plain": "               0\ncount  11.000000\nmean    4.818182\nstd     2.600699\nmin     0.000000\n25%     2.750000\n50%     5.500000\n75%     6.750000\nmax     8.000000",
      "text/html": "<div>\n<style scoped>\n    .dataframe tbody tr th:only-of-type {\n        vertical-align: middle;\n    }\n\n    .dataframe tbody tr th {\n        vertical-align: top;\n    }\n\n    .dataframe thead th {\n        text-align: right;\n    }\n</style>\n<table border=\"1\" class=\"dataframe\">\n  <thead>\n    <tr style=\"text-align: right;\">\n      <th></th>\n      <th>0</th>\n    </tr>\n  </thead>\n  <tbody>\n    <tr>\n      <th>count</th>\n      <td>11.000000</td>\n    </tr>\n    <tr>\n      <th>mean</th>\n      <td>4.818182</td>\n    </tr>\n    <tr>\n      <th>std</th>\n      <td>2.600699</td>\n    </tr>\n    <tr>\n      <th>min</th>\n      <td>0.000000</td>\n    </tr>\n    <tr>\n      <th>25%</th>\n      <td>2.750000</td>\n    </tr>\n    <tr>\n      <th>50%</th>\n      <td>5.500000</td>\n    </tr>\n    <tr>\n      <th>75%</th>\n      <td>6.750000</td>\n    </tr>\n    <tr>\n      <th>max</th>\n      <td>8.000000</td>\n    </tr>\n  </tbody>\n</table>\n</div>"
     },
     "execution_count": 29,
     "metadata": {},
     "output_type": "execute_result"
    }
   ],
   "source": [
    "df_broca_pretest.describe()"
   ],
   "metadata": {
    "collapsed": false,
    "pycharm": {
     "name": "#%%\n"
    }
   }
  },
  {
   "cell_type": "code",
   "execution_count": 30,
   "outputs": [
    {
     "data": {
      "text/plain": "              0\ncount  8.000000\nmean   7.187500\nstd    0.923406\nmin    6.000000\n25%    6.375000\n50%    7.500000\n75%    8.000000\nmax    8.000000",
      "text/html": "<div>\n<style scoped>\n    .dataframe tbody tr th:only-of-type {\n        vertical-align: middle;\n    }\n\n    .dataframe tbody tr th {\n        vertical-align: top;\n    }\n\n    .dataframe thead th {\n        text-align: right;\n    }\n</style>\n<table border=\"1\" class=\"dataframe\">\n  <thead>\n    <tr style=\"text-align: right;\">\n      <th></th>\n      <th>0</th>\n    </tr>\n  </thead>\n  <tbody>\n    <tr>\n      <th>count</th>\n      <td>8.000000</td>\n    </tr>\n    <tr>\n      <th>mean</th>\n      <td>7.187500</td>\n    </tr>\n    <tr>\n      <th>std</th>\n      <td>0.923406</td>\n    </tr>\n    <tr>\n      <th>min</th>\n      <td>6.000000</td>\n    </tr>\n    <tr>\n      <th>25%</th>\n      <td>6.375000</td>\n    </tr>\n    <tr>\n      <th>50%</th>\n      <td>7.500000</td>\n    </tr>\n    <tr>\n      <th>75%</th>\n      <td>8.000000</td>\n    </tr>\n    <tr>\n      <th>max</th>\n      <td>8.000000</td>\n    </tr>\n  </tbody>\n</table>\n</div>"
     },
     "execution_count": 30,
     "metadata": {},
     "output_type": "execute_result"
    }
   ],
   "source": [
    "df_broca_posttest.describe()"
   ],
   "metadata": {
    "collapsed": false,
    "pycharm": {
     "name": "#%%\n"
    }
   }
  },
  {
   "cell_type": "code",
   "execution_count": 31,
   "outputs": [
    {
     "data": {
      "text/plain": "              0\ncount  9.000000\nmean   5.222222\nstd    3.192874\nmin    0.000000\n25%    5.000000\n50%    6.000000\n75%    8.000000\nmax    8.000000",
      "text/html": "<div>\n<style scoped>\n    .dataframe tbody tr th:only-of-type {\n        vertical-align: middle;\n    }\n\n    .dataframe tbody tr th {\n        vertical-align: top;\n    }\n\n    .dataframe thead th {\n        text-align: right;\n    }\n</style>\n<table border=\"1\" class=\"dataframe\">\n  <thead>\n    <tr style=\"text-align: right;\">\n      <th></th>\n      <th>0</th>\n    </tr>\n  </thead>\n  <tbody>\n    <tr>\n      <th>count</th>\n      <td>9.000000</td>\n    </tr>\n    <tr>\n      <th>mean</th>\n      <td>5.222222</td>\n    </tr>\n    <tr>\n      <th>std</th>\n      <td>3.192874</td>\n    </tr>\n    <tr>\n      <th>min</th>\n      <td>0.000000</td>\n    </tr>\n    <tr>\n      <th>25%</th>\n      <td>5.000000</td>\n    </tr>\n    <tr>\n      <th>50%</th>\n      <td>6.000000</td>\n    </tr>\n    <tr>\n      <th>75%</th>\n      <td>8.000000</td>\n    </tr>\n    <tr>\n      <th>max</th>\n      <td>8.000000</td>\n    </tr>\n  </tbody>\n</table>\n</div>"
     },
     "execution_count": 31,
     "metadata": {},
     "output_type": "execute_result"
    }
   ],
   "source": [
    "df_control_pretest.describe()"
   ],
   "metadata": {
    "collapsed": false,
    "pycharm": {
     "name": "#%%\n"
    }
   }
  },
  {
   "cell_type": "code",
   "execution_count": 32,
   "outputs": [
    {
     "data": {
      "text/plain": "              0\ncount  5.000000\nmean   7.300000\nstd    1.095445\nmin    5.500000\n25%    7.000000\n50%    8.000000\n75%    8.000000\nmax    8.000000",
      "text/html": "<div>\n<style scoped>\n    .dataframe tbody tr th:only-of-type {\n        vertical-align: middle;\n    }\n\n    .dataframe tbody tr th {\n        vertical-align: top;\n    }\n\n    .dataframe thead th {\n        text-align: right;\n    }\n</style>\n<table border=\"1\" class=\"dataframe\">\n  <thead>\n    <tr style=\"text-align: right;\">\n      <th></th>\n      <th>0</th>\n    </tr>\n  </thead>\n  <tbody>\n    <tr>\n      <th>count</th>\n      <td>5.000000</td>\n    </tr>\n    <tr>\n      <th>mean</th>\n      <td>7.300000</td>\n    </tr>\n    <tr>\n      <th>std</th>\n      <td>1.095445</td>\n    </tr>\n    <tr>\n      <th>min</th>\n      <td>5.500000</td>\n    </tr>\n    <tr>\n      <th>25%</th>\n      <td>7.000000</td>\n    </tr>\n    <tr>\n      <th>50%</th>\n      <td>8.000000</td>\n    </tr>\n    <tr>\n      <th>75%</th>\n      <td>8.000000</td>\n    </tr>\n    <tr>\n      <th>max</th>\n      <td>8.000000</td>\n    </tr>\n  </tbody>\n</table>\n</div>"
     },
     "execution_count": 32,
     "metadata": {},
     "output_type": "execute_result"
    }
   ],
   "source": [
    "df_control_posttest.describe()"
   ],
   "metadata": {
    "collapsed": false,
    "pycharm": {
     "name": "#%%\n"
    }
   }
  },
  {
   "cell_type": "code",
   "execution_count": 33,
   "outputs": [
    {
     "data": {
      "text/plain": "              0\ncount  8.000000\nmean   7.500000\nstd    1.069045\nmin    5.000000\n25%    7.750000\n50%    8.000000\n75%    8.000000\nmax    8.000000",
      "text/html": "<div>\n<style scoped>\n    .dataframe tbody tr th:only-of-type {\n        vertical-align: middle;\n    }\n\n    .dataframe tbody tr th {\n        vertical-align: top;\n    }\n\n    .dataframe thead th {\n        text-align: right;\n    }\n</style>\n<table border=\"1\" class=\"dataframe\">\n  <thead>\n    <tr style=\"text-align: right;\">\n      <th></th>\n      <th>0</th>\n    </tr>\n  </thead>\n  <tbody>\n    <tr>\n      <th>count</th>\n      <td>8.000000</td>\n    </tr>\n    <tr>\n      <th>mean</th>\n      <td>7.500000</td>\n    </tr>\n    <tr>\n      <th>std</th>\n      <td>1.069045</td>\n    </tr>\n    <tr>\n      <th>min</th>\n      <td>5.000000</td>\n    </tr>\n    <tr>\n      <th>25%</th>\n      <td>7.750000</td>\n    </tr>\n    <tr>\n      <th>50%</th>\n      <td>8.000000</td>\n    </tr>\n    <tr>\n      <th>75%</th>\n      <td>8.000000</td>\n    </tr>\n    <tr>\n      <th>max</th>\n      <td>8.000000</td>\n    </tr>\n  </tbody>\n</table>\n</div>"
     },
     "execution_count": 33,
     "metadata": {},
     "output_type": "execute_result"
    }
   ],
   "source": [
    "df_broca_programming.describe()"
   ],
   "metadata": {
    "collapsed": false,
    "pycharm": {
     "name": "#%%\n"
    }
   }
  },
  {
   "cell_type": "code",
   "execution_count": 34,
   "outputs": [
    {
     "data": {
      "text/plain": "              0\ncount  5.000000\nmean   7.300000\nstd    1.565248\nmin    4.500000\n25%    8.000000\n50%    8.000000\n75%    8.000000\nmax    8.000000",
      "text/html": "<div>\n<style scoped>\n    .dataframe tbody tr th:only-of-type {\n        vertical-align: middle;\n    }\n\n    .dataframe tbody tr th {\n        vertical-align: top;\n    }\n\n    .dataframe thead th {\n        text-align: right;\n    }\n</style>\n<table border=\"1\" class=\"dataframe\">\n  <thead>\n    <tr style=\"text-align: right;\">\n      <th></th>\n      <th>0</th>\n    </tr>\n  </thead>\n  <tbody>\n    <tr>\n      <th>count</th>\n      <td>5.000000</td>\n    </tr>\n    <tr>\n      <th>mean</th>\n      <td>7.300000</td>\n    </tr>\n    <tr>\n      <th>std</th>\n      <td>1.565248</td>\n    </tr>\n    <tr>\n      <th>min</th>\n      <td>4.500000</td>\n    </tr>\n    <tr>\n      <th>25%</th>\n      <td>8.000000</td>\n    </tr>\n    <tr>\n      <th>50%</th>\n      <td>8.000000</td>\n    </tr>\n    <tr>\n      <th>75%</th>\n      <td>8.000000</td>\n    </tr>\n    <tr>\n      <th>max</th>\n      <td>8.000000</td>\n    </tr>\n  </tbody>\n</table>\n</div>"
     },
     "execution_count": 34,
     "metadata": {},
     "output_type": "execute_result"
    }
   ],
   "source": [
    "df_control_programming.describe()"
   ],
   "metadata": {
    "collapsed": false,
    "pycharm": {
     "name": "#%%\n"
    }
   }
  },
  {
   "cell_type": "code",
   "execution_count": 35,
   "outputs": [
    {
     "name": "stdout",
     "output_type": "stream",
     "text": [
      "5.222222222222222\n"
     ]
    }
   ],
   "source": [
    "mean_control_pretest = df_control_pretest.describe(include='all').loc['mean']\n",
    "\n",
    "print(mean_control_pretest[0])"
   ],
   "metadata": {
    "collapsed": false,
    "pycharm": {
     "name": "#%%\n"
    }
   }
  },
  {
   "cell_type": "code",
   "execution_count": 35,
   "outputs": [],
   "source": [],
   "metadata": {
    "collapsed": false,
    "pycharm": {
     "name": "#%%\n"
    }
   }
  },
  {
   "cell_type": "markdown",
   "source": [],
   "metadata": {
    "collapsed": false,
    "pycharm": {
     "name": "#%% md\n"
    }
   }
  },
  {
   "cell_type": "code",
   "execution_count": 35,
   "outputs": [],
   "source": [],
   "metadata": {
    "collapsed": false,
    "pycharm": {
     "name": "#%%\n"
    }
   }
  },
  {
   "cell_type": "markdown",
   "source": [
    "Boxplot for Pre- and Posttest"
   ],
   "metadata": {
    "collapsed": false,
    "pycharm": {
     "name": "#%% md\n"
    }
   }
  },
  {
   "cell_type": "markdown",
   "source": [
    "Questionnaire\n"
   ],
   "metadata": {
    "collapsed": false,
    "pycharm": {
     "name": "#%% md\n"
    }
   }
  },
  {
   "cell_type": "code",
   "execution_count": 36,
   "outputs": [
    {
     "data": {
      "text/plain": "männlich    6\nweiblich    1\nName: control, dtype: int64"
     },
     "metadata": {},
     "output_type": "display_data"
    },
    {
     "data": {
      "text/plain": "         männlich  weiblich\ntest            8         3\ncontrol         6         1\nall            16         5",
      "text/html": "<div>\n<style scoped>\n    .dataframe tbody tr th:only-of-type {\n        vertical-align: middle;\n    }\n\n    .dataframe tbody tr th {\n        vertical-align: top;\n    }\n\n    .dataframe thead th {\n        text-align: right;\n    }\n</style>\n<table border=\"1\" class=\"dataframe\">\n  <thead>\n    <tr style=\"text-align: right;\">\n      <th></th>\n      <th>männlich</th>\n      <th>weiblich</th>\n    </tr>\n  </thead>\n  <tbody>\n    <tr>\n      <th>test</th>\n      <td>8</td>\n      <td>3</td>\n    </tr>\n    <tr>\n      <th>control</th>\n      <td>6</td>\n      <td>1</td>\n    </tr>\n    <tr>\n      <th>all</th>\n      <td>16</td>\n      <td>5</td>\n    </tr>\n  </tbody>\n</table>\n</div>"
     },
     "execution_count": 36,
     "metadata": {},
     "output_type": "execute_result"
    }
   ],
   "source": [
    "broca_questionnaire = df_experience[df_experience.UID.isin(broca_uid)]\n",
    "control_questionnaire = df_experience[df_experience.UID.isin(control_uid)]\n",
    "\n",
    "gender_all = df_experience[\"bio_geschlecht\"].value_counts()\n",
    "gender_brocanto = broca_questionnaire[\"bio_geschlecht\"].value_counts()\n",
    "gender_control = control_questionnaire[\"bio_geschlecht\"].value_counts()\n",
    "\n",
    "gender_control.name = \"control\"\n",
    "gender_all.name = \"all\"\n",
    "gender_brocanto.name = \"test\"\n",
    "display(gender_control)\n",
    "df_gender = pd.DataFrame([gender_brocanto, gender_control, gender_all])\n",
    "\n",
    "df_gender"
   ],
   "metadata": {
    "collapsed": false,
    "pycharm": {
     "name": "#%%\n"
    }
   }
  },
  {
   "cell_type": "code",
   "execution_count": 37,
   "outputs": [
    {
     "data": {
      "text/plain": "count    21.000000\nmean     21.238095\nstd       4.158182\nmin      18.000000\n25%      18.000000\n50%      19.000000\n75%      22.000000\nmax      32.000000\nName: alter, dtype: float64"
     },
     "execution_count": 37,
     "metadata": {},
     "output_type": "execute_result"
    }
   ],
   "source": [
    "age_all = df_experience[\"alter\"]\n",
    "age_brocanto = broca_questionnaire[\"alter\"]\n",
    "age_control = control_questionnaire[\"alter\"]\n",
    "\n",
    "age_all.describe()"
   ],
   "metadata": {
    "collapsed": false,
    "pycharm": {
     "name": "#%%\n"
    }
   }
  },
  {
   "cell_type": "code",
   "execution_count": 38,
   "outputs": [
    {
     "data": {
      "text/plain": "     survived  pclass     sex   age  sibsp  parch     fare embarked   class  \\\n0           0       3    male  22.0      1      0   7.2500        S   Third   \n1           1       1  female  38.0      1      0  71.2833        C   First   \n2           1       3  female  26.0      0      0   7.9250        S   Third   \n3           1       1  female  35.0      1      0  53.1000        S   First   \n4           0       3    male  35.0      0      0   8.0500        S   Third   \n..        ...     ...     ...   ...    ...    ...      ...      ...     ...   \n886         0       2    male  27.0      0      0  13.0000        S  Second   \n887         1       1  female  19.0      0      0  30.0000        S   First   \n888         0       3  female   NaN      1      2  23.4500        S   Third   \n889         1       1    male  26.0      0      0  30.0000        C   First   \n890         0       3    male  32.0      0      0   7.7500        Q   Third   \n\n       who  adult_male deck  embark_town alive  alone  \n0      man        True  NaN  Southampton    no  False  \n1    woman       False    C    Cherbourg   yes  False  \n2    woman       False  NaN  Southampton   yes   True  \n3    woman       False    C  Southampton   yes  False  \n4      man        True  NaN  Southampton    no   True  \n..     ...         ...  ...          ...   ...    ...  \n886    man        True  NaN  Southampton    no   True  \n887  woman       False    B  Southampton   yes   True  \n888  woman       False  NaN  Southampton    no  False  \n889    man        True    C    Cherbourg   yes   True  \n890    man        True  NaN   Queenstown    no   True  \n\n[891 rows x 15 columns]",
      "text/html": "<div>\n<style scoped>\n    .dataframe tbody tr th:only-of-type {\n        vertical-align: middle;\n    }\n\n    .dataframe tbody tr th {\n        vertical-align: top;\n    }\n\n    .dataframe thead th {\n        text-align: right;\n    }\n</style>\n<table border=\"1\" class=\"dataframe\">\n  <thead>\n    <tr style=\"text-align: right;\">\n      <th></th>\n      <th>survived</th>\n      <th>pclass</th>\n      <th>sex</th>\n      <th>age</th>\n      <th>sibsp</th>\n      <th>parch</th>\n      <th>fare</th>\n      <th>embarked</th>\n      <th>class</th>\n      <th>who</th>\n      <th>adult_male</th>\n      <th>deck</th>\n      <th>embark_town</th>\n      <th>alive</th>\n      <th>alone</th>\n    </tr>\n  </thead>\n  <tbody>\n    <tr>\n      <th>0</th>\n      <td>0</td>\n      <td>3</td>\n      <td>male</td>\n      <td>22.0</td>\n      <td>1</td>\n      <td>0</td>\n      <td>7.2500</td>\n      <td>S</td>\n      <td>Third</td>\n      <td>man</td>\n      <td>True</td>\n      <td>NaN</td>\n      <td>Southampton</td>\n      <td>no</td>\n      <td>False</td>\n    </tr>\n    <tr>\n      <th>1</th>\n      <td>1</td>\n      <td>1</td>\n      <td>female</td>\n      <td>38.0</td>\n      <td>1</td>\n      <td>0</td>\n      <td>71.2833</td>\n      <td>C</td>\n      <td>First</td>\n      <td>woman</td>\n      <td>False</td>\n      <td>C</td>\n      <td>Cherbourg</td>\n      <td>yes</td>\n      <td>False</td>\n    </tr>\n    <tr>\n      <th>2</th>\n      <td>1</td>\n      <td>3</td>\n      <td>female</td>\n      <td>26.0</td>\n      <td>0</td>\n      <td>0</td>\n      <td>7.9250</td>\n      <td>S</td>\n      <td>Third</td>\n      <td>woman</td>\n      <td>False</td>\n      <td>NaN</td>\n      <td>Southampton</td>\n      <td>yes</td>\n      <td>True</td>\n    </tr>\n    <tr>\n      <th>3</th>\n      <td>1</td>\n      <td>1</td>\n      <td>female</td>\n      <td>35.0</td>\n      <td>1</td>\n      <td>0</td>\n      <td>53.1000</td>\n      <td>S</td>\n      <td>First</td>\n      <td>woman</td>\n      <td>False</td>\n      <td>C</td>\n      <td>Southampton</td>\n      <td>yes</td>\n      <td>False</td>\n    </tr>\n    <tr>\n      <th>4</th>\n      <td>0</td>\n      <td>3</td>\n      <td>male</td>\n      <td>35.0</td>\n      <td>0</td>\n      <td>0</td>\n      <td>8.0500</td>\n      <td>S</td>\n      <td>Third</td>\n      <td>man</td>\n      <td>True</td>\n      <td>NaN</td>\n      <td>Southampton</td>\n      <td>no</td>\n      <td>True</td>\n    </tr>\n    <tr>\n      <th>...</th>\n      <td>...</td>\n      <td>...</td>\n      <td>...</td>\n      <td>...</td>\n      <td>...</td>\n      <td>...</td>\n      <td>...</td>\n      <td>...</td>\n      <td>...</td>\n      <td>...</td>\n      <td>...</td>\n      <td>...</td>\n      <td>...</td>\n      <td>...</td>\n      <td>...</td>\n    </tr>\n    <tr>\n      <th>886</th>\n      <td>0</td>\n      <td>2</td>\n      <td>male</td>\n      <td>27.0</td>\n      <td>0</td>\n      <td>0</td>\n      <td>13.0000</td>\n      <td>S</td>\n      <td>Second</td>\n      <td>man</td>\n      <td>True</td>\n      <td>NaN</td>\n      <td>Southampton</td>\n      <td>no</td>\n      <td>True</td>\n    </tr>\n    <tr>\n      <th>887</th>\n      <td>1</td>\n      <td>1</td>\n      <td>female</td>\n      <td>19.0</td>\n      <td>0</td>\n      <td>0</td>\n      <td>30.0000</td>\n      <td>S</td>\n      <td>First</td>\n      <td>woman</td>\n      <td>False</td>\n      <td>B</td>\n      <td>Southampton</td>\n      <td>yes</td>\n      <td>True</td>\n    </tr>\n    <tr>\n      <th>888</th>\n      <td>0</td>\n      <td>3</td>\n      <td>female</td>\n      <td>NaN</td>\n      <td>1</td>\n      <td>2</td>\n      <td>23.4500</td>\n      <td>S</td>\n      <td>Third</td>\n      <td>woman</td>\n      <td>False</td>\n      <td>NaN</td>\n      <td>Southampton</td>\n      <td>no</td>\n      <td>False</td>\n    </tr>\n    <tr>\n      <th>889</th>\n      <td>1</td>\n      <td>1</td>\n      <td>male</td>\n      <td>26.0</td>\n      <td>0</td>\n      <td>0</td>\n      <td>30.0000</td>\n      <td>C</td>\n      <td>First</td>\n      <td>man</td>\n      <td>True</td>\n      <td>C</td>\n      <td>Cherbourg</td>\n      <td>yes</td>\n      <td>True</td>\n    </tr>\n    <tr>\n      <th>890</th>\n      <td>0</td>\n      <td>3</td>\n      <td>male</td>\n      <td>32.0</td>\n      <td>0</td>\n      <td>0</td>\n      <td>7.7500</td>\n      <td>Q</td>\n      <td>Third</td>\n      <td>man</td>\n      <td>True</td>\n      <td>NaN</td>\n      <td>Queenstown</td>\n      <td>no</td>\n      <td>True</td>\n    </tr>\n  </tbody>\n</table>\n<p>891 rows × 15 columns</p>\n</div>"
     },
     "metadata": {},
     "output_type": "display_data"
    },
    {
     "data": {
      "text/plain": "<AxesSubplot:xlabel='class', ylabel='age'>"
     },
     "execution_count": 38,
     "metadata": {},
     "output_type": "execute_result"
    },
    {
     "data": {
      "text/plain": "<Figure size 432x288 with 1 Axes>",
      "image/png": "[encoded data removed]"
     },
     "metadata": {},
     "output_type": "display_data"
    }
   ],
   "source": [
    "df = sns.load_dataset(\"titanic\")\n",
    "display(df)\n",
    "sns.boxplot(data=df, x=\"class\", y=\"age\", hue=\"who\", orient='v')"
   ],
   "metadata": {
    "collapsed": false,
    "pycharm": {
     "name": "#%%\n"
    }
   }
  },
  {
   "cell_type": "code",
   "execution_count": 39,
   "outputs": [
    {
     "data": {
      "text/plain": "        UID  Aufgabe 1a  Aufgabe 1b  Aufgabe 1c  Aufgabe 1d  Aufgabe 1e  \\\n0   0LZR203         1.0         1.0         1.0         1.0         1.0   \n1   0REG243         NaN         NaN         NaN         NaN         NaN   \n2   1AGT138         1.0         1.0         1.0         1.0         1.0   \n3   1HJA213         NaN         NaN         NaN         NaN         NaN   \n4   1RBR047         NaN         NaN         NaN         NaN         NaN   \n5   3LDI060         1.0         1.0         1.0         1.0         1.0   \n6   3LST145         1.0         1.0         1.0         1.0         1.0   \n7   4ANT042         1.0         1.0         1.0         0.0         1.0   \n8   4DRO233         1.0         1.0         1.0         1.0         1.0   \n9   4MNT105         NaN         NaN         NaN         NaN         NaN   \n10  5JS4143         NaN         NaN         NaN         NaN         NaN   \n11  5NSA280         1.0         1.0         1.0         1.0         1.0   \n12  6CSA143         0.0         1.0         1.0         1.0         1.0   \n13  7BGT235         1.0         1.0         1.0         1.0         1.0   \n14  7KSM240         1.0         1.0         1.0         1.0         1.0   \n15  7RAI228         1.0         1.0         1.0         1.0         1.0   \n16  7SOA133         1.0         1.0         1.0         1.0         1.0   \n17  7VKT025         NaN         NaN         NaN         NaN         NaN   \n18  8AB4138         NaN         NaN         NaN         NaN         NaN   \n19  8CHT208         NaN         NaN         NaN         NaN         NaN   \n\n    Aufgabe 1f  Aufgabe 2  Aufgabe 3  Insgesamt  Unnamed: 10  Pretest  \\\n0          1.0        1.0        1.0        8.0          NaN      2.5   \n1          NaN        NaN        NaN        NaN          NaN      5.0   \n2          1.0        0.0        1.0        7.0          NaN      3.0   \n3          NaN        NaN        NaN        NaN          NaN      6.0   \n4          NaN        NaN        NaN        NaN          NaN      8.0   \n5          1.0        1.0        1.0        8.0          NaN      0.0   \n6          1.0        0.0        0.0        6.0          NaN      6.0   \n7          0.5        1.0        1.0        6.5          NaN      7.5   \n8          1.0        1.0        1.0        8.0          NaN      7.0   \n9          NaN        NaN        NaN        NaN          NaN      NaN   \n10         NaN        NaN        NaN        NaN          NaN      8.0   \n11         1.0        1.0        1.0        8.0          NaN      5.0   \n12         1.0        0.5        0.0        5.5          NaN      0.0   \n13         1.0        1.0        1.0        8.0          NaN      7.5   \n14         1.0        1.0        0.0        7.0          NaN      5.0   \n15         0.0        0.0        1.0        6.0          NaN      2.0   \n16         1.0        1.0        1.0        8.0          NaN      8.0   \n17         NaN        NaN        NaN        NaN          NaN      8.0   \n18         NaN        NaN        NaN        NaN          NaN      NaN   \n19         NaN        NaN        NaN        NaN          NaN      NaN   \n\n    Posttest  \n0        8.0  \n1        NaN  \n2        7.0  \n3        NaN  \n4        NaN  \n5        8.0  \n6        6.0  \n7        6.5  \n8        8.0  \n9        NaN  \n10       NaN  \n11       8.0  \n12       5.5  \n13       8.0  \n14       7.0  \n15       6.0  \n16       8.0  \n17       8.0  \n18       NaN  \n19       NaN  ",
      "text/html": "<div>\n<style scoped>\n    .dataframe tbody tr th:only-of-type {\n        vertical-align: middle;\n    }\n\n    .dataframe tbody tr th {\n        vertical-align: top;\n    }\n\n    .dataframe thead th {\n        text-align: right;\n    }\n</style>\n<table border=\"1\" class=\"dataframe\">\n  <thead>\n    <tr style=\"text-align: right;\">\n      <th></th>\n      <th>UID</th>\n      <th>Aufgabe 1a</th>\n      <th>Aufgabe 1b</th>\n      <th>Aufgabe 1c</th>\n      <th>Aufgabe 1d</th>\n      <th>Aufgabe 1e</th>\n      <th>Aufgabe 1f</th>\n      <th>Aufgabe 2</th>\n      <th>Aufgabe 3</th>\n      <th>Insgesamt</th>\n      <th>Unnamed: 10</th>\n      <th>Pretest</th>\n      <th>Posttest</th>\n    </tr>\n  </thead>\n  <tbody>\n    <tr>\n      <th>0</th>\n      <td>0LZR203</td>\n      <td>1.0</td>\n      <td>1.0</td>\n      <td>1.0</td>\n      <td>1.0</td>\n      <td>1.0</td>\n      <td>1.0</td>\n      <td>1.0</td>\n      <td>1.0</td>\n      <td>8.0</td>\n      <td>NaN</td>\n      <td>2.5</td>\n      <td>8.0</td>\n    </tr>\n    <tr>\n      <th>1</th>\n      <td>0REG243</td>\n      <td>NaN</td>\n      <td>NaN</td>\n      <td>NaN</td>\n      <td>NaN</td>\n      <td>NaN</td>\n      <td>NaN</td>\n      <td>NaN</td>\n      <td>NaN</td>\n      <td>NaN</td>\n      <td>NaN</td>\n      <td>5.0</td>\n      <td>NaN</td>\n    </tr>\n    <tr>\n      <th>2</th>\n      <td>1AGT138</td>\n      <td>1.0</td>\n      <td>1.0</td>\n      <td>1.0</td>\n      <td>1.0</td>\n      <td>1.0</td>\n      <td>1.0</td>\n      <td>0.0</td>\n      <td>1.0</td>\n      <td>7.0</td>\n      <td>NaN</td>\n      <td>3.0</td>\n      <td>7.0</td>\n    </tr>\n    <tr>\n      <th>3</th>\n      <td>1HJA213</td>\n      <td>NaN</td>\n      <td>NaN</td>\n      <td>NaN</td>\n      <td>NaN</td>\n      <td>NaN</td>\n      <td>NaN</td>\n      <td>NaN</td>\n      <td>NaN</td>\n      <td>NaN</td>\n      <td>NaN</td>\n      <td>6.0</td>\n      <td>NaN</td>\n    </tr>\n    <tr>\n      <th>4</th>\n      <td>1RBR047</td>\n      <td>NaN</td>\n      <td>NaN</td>\n      <td>NaN</td>\n      <td>NaN</td>\n      <td>NaN</td>\n      <td>NaN</td>\n      <td>NaN</td>\n      <td>NaN</td>\n      <td>NaN</td>\n      <td>NaN</td>\n      <td>8.0</td>\n      <td>NaN</td>\n    </tr>\n    <tr>\n      <th>5</th>\n      <td>3LDI060</td>\n      <td>1.0</td>\n      <td>1.0</td>\n      <td>1.0</td>\n      <td>1.0</td>\n      <td>1.0</td>\n      <td>1.0</td>\n      <td>1.0</td>\n      <td>1.0</td>\n      <td>8.0</td>\n      <td>NaN</td>\n      <td>0.0</td>\n      <td>8.0</td>\n    </tr>\n    <tr>\n      <th>6</th>\n      <td>3LST145</td>\n      <td>1.0</td>\n      <td>1.0</td>\n      <td>1.0</td>\n      <td>1.0</td>\n      <td>1.0</td>\n      <td>1.0</td>\n      <td>0.0</td>\n      <td>0.0</td>\n      <td>6.0</td>\n      <td>NaN</td>\n      <td>6.0</td>\n      <td>6.0</td>\n    </tr>\n    <tr>\n      <th>7</th>\n      <td>4ANT042</td>\n      <td>1.0</td>\n      <td>1.0</td>\n      <td>1.0</td>\n      <td>0.0</td>\n      <td>1.0</td>\n      <td>0.5</td>\n      <td>1.0</td>\n      <td>1.0</td>\n      <td>6.5</td>\n      <td>NaN</td>\n      <td>7.5</td>\n      <td>6.5</td>\n    </tr>\n    <tr>\n      <th>8</th>\n      <td>4DRO233</td>\n      <td>1.0</td>\n      <td>1.0</td>\n      <td>1.0</td>\n      <td>1.0</td>\n      <td>1.0</td>\n      <td>1.0</td>\n      <td>1.0</td>\n      <td>1.0</td>\n      <td>8.0</td>\n      <td>NaN</td>\n      <td>7.0</td>\n      <td>8.0</td>\n    </tr>\n    <tr>\n      <th>9</th>\n      <td>4MNT105</td>\n      <td>NaN</td>\n      <td>NaN</td>\n      <td>NaN</td>\n      <td>NaN</td>\n      <td>NaN</td>\n      <td>NaN</td>\n      <td>NaN</td>\n      <td>NaN</td>\n      <td>NaN</td>\n      <td>NaN</td>\n      <td>NaN</td>\n      <td>NaN</td>\n    </tr>\n    <tr>\n      <th>10</th>\n      <td>5JS4143</td>\n      <td>NaN</td>\n      <td>NaN</td>\n      <td>NaN</td>\n      <td>NaN</td>\n      <td>NaN</td>\n      <td>NaN</td>\n      <td>NaN</td>\n      <td>NaN</td>\n      <td>NaN</td>\n      <td>NaN</td>\n      <td>8.0</td>\n      <td>NaN</td>\n    </tr>\n    <tr>\n      <th>11</th>\n      <td>5NSA280</td>\n      <td>1.0</td>\n      <td>1.0</td>\n      <td>1.0</td>\n      <td>1.0</td>\n      <td>1.0</td>\n      <td>1.0</td>\n      <td>1.0</td>\n      <td>1.0</td>\n      <td>8.0</td>\n      <td>NaN</td>\n      <td>5.0</td>\n      <td>8.0</td>\n    </tr>\n    <tr>\n      <th>12</th>\n      <td>6CSA143</td>\n      <td>0.0</td>\n      <td>1.0</td>\n      <td>1.0</td>\n      <td>1.0</td>\n      <td>1.0</td>\n      <td>1.0</td>\n      <td>0.5</td>\n      <td>0.0</td>\n      <td>5.5</td>\n      <td>NaN</td>\n      <td>0.0</td>\n      <td>5.5</td>\n    </tr>\n    <tr>\n      <th>13</th>\n      <td>7BGT235</td>\n      <td>1.0</td>\n      <td>1.0</td>\n      <td>1.0</td>\n      <td>1.0</td>\n      <td>1.0</td>\n      <td>1.0</td>\n      <td>1.0</td>\n      <td>1.0</td>\n      <td>8.0</td>\n      <td>NaN</td>\n      <td>7.5</td>\n      <td>8.0</td>\n    </tr>\n    <tr>\n      <th>14</th>\n      <td>7KSM240</td>\n      <td>1.0</td>\n      <td>1.0</td>\n      <td>1.0</td>\n      <td>1.0</td>\n      <td>1.0</td>\n      <td>1.0</td>\n      <td>1.0</td>\n      <td>0.0</td>\n      <td>7.0</td>\n      <td>NaN</td>\n      <td>5.0</td>\n      <td>7.0</td>\n    </tr>\n    <tr>\n      <th>15</th>\n      <td>7RAI228</td>\n      <td>1.0</td>\n      <td>1.0</td>\n      <td>1.0</td>\n      <td>1.0</td>\n      <td>1.0</td>\n      <td>0.0</td>\n      <td>0.0</td>\n      <td>1.0</td>\n      <td>6.0</td>\n      <td>NaN</td>\n      <td>2.0</td>\n      <td>6.0</td>\n    </tr>\n    <tr>\n      <th>16</th>\n      <td>7SOA133</td>\n      <td>1.0</td>\n      <td>1.0</td>\n      <td>1.0</td>\n      <td>1.0</td>\n      <td>1.0</td>\n      <td>1.0</td>\n      <td>1.0</td>\n      <td>1.0</td>\n      <td>8.0</td>\n      <td>NaN</td>\n      <td>8.0</td>\n      <td>8.0</td>\n    </tr>\n    <tr>\n      <th>17</th>\n      <td>7VKT025</td>\n      <td>NaN</td>\n      <td>NaN</td>\n      <td>NaN</td>\n      <td>NaN</td>\n      <td>NaN</td>\n      <td>NaN</td>\n      <td>NaN</td>\n      <td>NaN</td>\n      <td>NaN</td>\n      <td>NaN</td>\n      <td>8.0</td>\n      <td>8.0</td>\n    </tr>\n    <tr>\n      <th>18</th>\n      <td>8AB4138</td>\n      <td>NaN</td>\n      <td>NaN</td>\n      <td>NaN</td>\n      <td>NaN</td>\n      <td>NaN</td>\n      <td>NaN</td>\n      <td>NaN</td>\n      <td>NaN</td>\n      <td>NaN</td>\n      <td>NaN</td>\n      <td>NaN</td>\n      <td>NaN</td>\n    </tr>\n    <tr>\n      <th>19</th>\n      <td>8CHT208</td>\n      <td>NaN</td>\n      <td>NaN</td>\n      <td>NaN</td>\n      <td>NaN</td>\n      <td>NaN</td>\n      <td>NaN</td>\n      <td>NaN</td>\n      <td>NaN</td>\n      <td>NaN</td>\n      <td>NaN</td>\n      <td>NaN</td>\n      <td>NaN</td>\n    </tr>\n  </tbody>\n</table>\n</div>"
     },
     "metadata": {},
     "output_type": "display_data"
    }
   ],
   "source": [
    "display(df_posttest)\n",
    "df_posttest = df_posttest.drop('Insgesamt', axis= 1)\n"
   ],
   "metadata": {
    "collapsed": false,
    "pycharm": {
     "name": "#%%\n"
    }
   }
  },
  {
   "cell_type": "code",
   "execution_count": 40,
   "outputs": [
    {
     "name": "stderr",
     "output_type": "stream",
     "text": [
      "C:\\Users\\gorgo\\AppData\\Local\\Temp/ipykernel_8352/2018031493.py:3: FutureWarning: The frame.append method is deprecated and will be removed from pandas in a future version. Use pandas.concat instead.\n",
      "  df_merged = df_pretest.append(df_posttest, ignore_index=True)\n"
     ]
    },
    {
     "data": {
      "text/plain": "        UID  Insgesamt  Posttest    Group      Test\n0   0LZR203        2.5       NaN    broca   Pretest\n1   0REG243        5.0       NaN    broca   Pretest\n2   1AGT138        3.0       NaN    broca   Pretest\n3   1HJA213        6.0       NaN    broca   Pretest\n4   1RBR047        8.0       NaN  control   Pretest\n5   3LDI060        0.0       NaN    broca   Pretest\n6   3LST145        6.0       NaN    broca   Pretest\n7   4ANT042        7.5       NaN    broca   Pretest\n8   4DRO233        7.0       NaN  control   Pretest\n9   4MNT105        0.0       NaN  control   Pretest\n10  5JS4143        8.0       NaN  control   Pretest\n11  5NSA280        5.0       NaN  control   Pretest\n12  6CSA143        0.0       NaN  control   Pretest\n13  7BGT235        7.5       NaN    broca   Pretest\n14  7KSM240        5.0       NaN  control   Pretest\n15  7RAI228        2.0       NaN    broca   Pretest\n16  7SOA133        8.0       NaN    broca   Pretest\n17  7VKT025        8.0       NaN  control   Pretest\n18  8AB4138        6.0       NaN  control   Pretest\n19  8CHT208        5.5       NaN    broca   Pretest\n20  0LZR203        NaN       8.0    broca  Posttest\n21  0REG243        NaN       NaN    broca  Posttest\n22  1AGT138        NaN       7.0    broca  Posttest\n23  1HJA213        NaN       NaN    broca  Posttest\n24  1RBR047        NaN       NaN  control  Posttest\n25  3LDI060        NaN       8.0    broca  Posttest\n26  3LST145        NaN       6.0    broca  Posttest\n27  4ANT042        NaN       6.5    broca  Posttest\n28  4DRO233        NaN       8.0  control  Posttest\n29  4MNT105        NaN       NaN  control  Posttest\n30  5JS4143        NaN       NaN  control  Posttest\n31  5NSA280        NaN       8.0  control  Posttest\n32  6CSA143        NaN       5.5  control  Posttest\n33  7BGT235        NaN       8.0    broca  Posttest\n34  7KSM240        NaN       7.0  control  Posttest\n35  7RAI228        NaN       6.0    broca  Posttest\n36  7SOA133        NaN       8.0    broca  Posttest\n37  7VKT025        NaN       8.0  control  Posttest\n38  8AB4138        NaN       NaN  control  Posttest\n39  8CHT208        NaN       NaN    broca  Posttest",
      "text/html": "<div>\n<style scoped>\n    .dataframe tbody tr th:only-of-type {\n        vertical-align: middle;\n    }\n\n    .dataframe tbody tr th {\n        vertical-align: top;\n    }\n\n    .dataframe thead th {\n        text-align: right;\n    }\n</style>\n<table border=\"1\" class=\"dataframe\">\n  <thead>\n    <tr style=\"text-align: right;\">\n      <th></th>\n      <th>UID</th>\n      <th>Insgesamt</th>\n      <th>Posttest</th>\n      <th>Group</th>\n      <th>Test</th>\n    </tr>\n  </thead>\n  <tbody>\n    <tr>\n      <th>0</th>\n      <td>0LZR203</td>\n      <td>2.5</td>\n      <td>NaN</td>\n      <td>broca</td>\n      <td>Pretest</td>\n    </tr>\n    <tr>\n      <th>1</th>\n      <td>0REG243</td>\n      <td>5.0</td>\n      <td>NaN</td>\n      <td>broca</td>\n      <td>Pretest</td>\n    </tr>\n    <tr>\n      <th>2</th>\n      <td>1AGT138</td>\n      <td>3.0</td>\n      <td>NaN</td>\n      <td>broca</td>\n      <td>Pretest</td>\n    </tr>\n    <tr>\n      <th>3</th>\n      <td>1HJA213</td>\n      <td>6.0</td>\n      <td>NaN</td>\n      <td>broca</td>\n      <td>Pretest</td>\n    </tr>\n    <tr>\n      <th>4</th>\n      <td>1RBR047</td>\n      <td>8.0</td>\n      <td>NaN</td>\n      <td>control</td>\n      <td>Pretest</td>\n    </tr>\n    <tr>\n      <th>5</th>\n      <td>3LDI060</td>\n      <td>0.0</td>\n      <td>NaN</td>\n      <td>broca</td>\n      <td>Pretest</td>\n    </tr>\n    <tr>\n      <th>6</th>\n      <td>3LST145</td>\n      <td>6.0</td>\n      <td>NaN</td>\n      <td>broca</td>\n      <td>Pretest</td>\n    </tr>\n    <tr>\n      <th>7</th>\n      <td>4ANT042</td>\n      <td>7.5</td>\n      <td>NaN</td>\n      <td>broca</td>\n      <td>Pretest</td>\n    </tr>\n    <tr>\n      <th>8</th>\n      <td>4DRO233</td>\n      <td>7.0</td>\n      <td>NaN</td>\n      <td>control</td>\n      <td>Pretest</td>\n    </tr>\n    <tr>\n      <th>9</th>\n      <td>4MNT105</td>\n      <td>0.0</td>\n      <td>NaN</td>\n      <td>control</td>\n      <td>Pretest</td>\n    </tr>\n    <tr>\n      <th>10</th>\n      <td>5JS4143</td>\n      <td>8.0</td>\n      <td>NaN</td>\n      <td>control</td>\n      <td>Pretest</td>\n    </tr>\n    <tr>\n      <th>11</th>\n      <td>5NSA280</td>\n      <td>5.0</td>\n      <td>NaN</td>\n      <td>control</td>\n      <td>Pretest</td>\n    </tr>\n    <tr>\n      <th>12</th>\n      <td>6CSA143</td>\n      <td>0.0</td>\n      <td>NaN</td>\n      <td>control</td>\n      <td>Pretest</td>\n    </tr>\n    <tr>\n      <th>13</th>\n      <td>7BGT235</td>\n      <td>7.5</td>\n      <td>NaN</td>\n      <td>broca</td>\n      <td>Pretest</td>\n    </tr>\n    <tr>\n      <th>14</th>\n      <td>7KSM240</td>\n      <td>5.0</td>\n      <td>NaN</td>\n      <td>control</td>\n      <td>Pretest</td>\n    </tr>\n    <tr>\n      <th>15</th>\n      <td>7RAI228</td>\n      <td>2.0</td>\n      <td>NaN</td>\n      <td>broca</td>\n      <td>Pretest</td>\n    </tr>\n    <tr>\n      <th>16</th>\n      <td>7SOA133</td>\n      <td>8.0</td>\n      <td>NaN</td>\n      <td>broca</td>\n      <td>Pretest</td>\n    </tr>\n    <tr>\n      <th>17</th>\n      <td>7VKT025</td>\n      <td>8.0</td>\n      <td>NaN</td>\n      <td>control</td>\n      <td>Pretest</td>\n    </tr>\n    <tr>\n      <th>18</th>\n      <td>8AB4138</td>\n      <td>6.0</td>\n      <td>NaN</td>\n      <td>control</td>\n      <td>Pretest</td>\n    </tr>\n    <tr>\n      <th>19</th>\n      <td>8CHT208</td>\n      <td>5.5</td>\n      <td>NaN</td>\n      <td>broca</td>\n      <td>Pretest</td>\n    </tr>\n    <tr>\n      <th>20</th>\n      <td>0LZR203</td>\n      <td>NaN</td>\n      <td>8.0</td>\n      <td>broca</td>\n      <td>Posttest</td>\n    </tr>\n    <tr>\n      <th>21</th>\n      <td>0REG243</td>\n      <td>NaN</td>\n      <td>NaN</td>\n      <td>broca</td>\n      <td>Posttest</td>\n    </tr>\n    <tr>\n      <th>22</th>\n      <td>1AGT138</td>\n      <td>NaN</td>\n      <td>7.0</td>\n      <td>broca</td>\n      <td>Posttest</td>\n    </tr>\n    <tr>\n      <th>23</th>\n      <td>1HJA213</td>\n      <td>NaN</td>\n      <td>NaN</td>\n      <td>broca</td>\n      <td>Posttest</td>\n    </tr>\n    <tr>\n      <th>24</th>\n      <td>1RBR047</td>\n      <td>NaN</td>\n      <td>NaN</td>\n      <td>control</td>\n      <td>Posttest</td>\n    </tr>\n    <tr>\n      <th>25</th>\n      <td>3LDI060</td>\n      <td>NaN</td>\n      <td>8.0</td>\n      <td>broca</td>\n      <td>Posttest</td>\n    </tr>\n    <tr>\n      <th>26</th>\n      <td>3LST145</td>\n      <td>NaN</td>\n      <td>6.0</td>\n      <td>broca</td>\n      <td>Posttest</td>\n    </tr>\n    <tr>\n      <th>27</th>\n      <td>4ANT042</td>\n      <td>NaN</td>\n      <td>6.5</td>\n      <td>broca</td>\n      <td>Posttest</td>\n    </tr>\n    <tr>\n      <th>28</th>\n      <td>4DRO233</td>\n      <td>NaN</td>\n      <td>8.0</td>\n      <td>control</td>\n      <td>Posttest</td>\n    </tr>\n    <tr>\n      <th>29</th>\n      <td>4MNT105</td>\n      <td>NaN</td>\n      <td>NaN</td>\n      <td>control</td>\n      <td>Posttest</td>\n    </tr>\n    <tr>\n      <th>30</th>\n      <td>5JS4143</td>\n      <td>NaN</td>\n      <td>NaN</td>\n      <td>control</td>\n      <td>Posttest</td>\n    </tr>\n    <tr>\n      <th>31</th>\n      <td>5NSA280</td>\n      <td>NaN</td>\n      <td>8.0</td>\n      <td>control</td>\n      <td>Posttest</td>\n    </tr>\n    <tr>\n      <th>32</th>\n      <td>6CSA143</td>\n      <td>NaN</td>\n      <td>5.5</td>\n      <td>control</td>\n      <td>Posttest</td>\n    </tr>\n    <tr>\n      <th>33</th>\n      <td>7BGT235</td>\n      <td>NaN</td>\n      <td>8.0</td>\n      <td>broca</td>\n      <td>Posttest</td>\n    </tr>\n    <tr>\n      <th>34</th>\n      <td>7KSM240</td>\n      <td>NaN</td>\n      <td>7.0</td>\n      <td>control</td>\n      <td>Posttest</td>\n    </tr>\n    <tr>\n      <th>35</th>\n      <td>7RAI228</td>\n      <td>NaN</td>\n      <td>6.0</td>\n      <td>broca</td>\n      <td>Posttest</td>\n    </tr>\n    <tr>\n      <th>36</th>\n      <td>7SOA133</td>\n      <td>NaN</td>\n      <td>8.0</td>\n      <td>broca</td>\n      <td>Posttest</td>\n    </tr>\n    <tr>\n      <th>37</th>\n      <td>7VKT025</td>\n      <td>NaN</td>\n      <td>8.0</td>\n      <td>control</td>\n      <td>Posttest</td>\n    </tr>\n    <tr>\n      <th>38</th>\n      <td>8AB4138</td>\n      <td>NaN</td>\n      <td>NaN</td>\n      <td>control</td>\n      <td>Posttest</td>\n    </tr>\n    <tr>\n      <th>39</th>\n      <td>8CHT208</td>\n      <td>NaN</td>\n      <td>NaN</td>\n      <td>broca</td>\n      <td>Posttest</td>\n    </tr>\n  </tbody>\n</table>\n</div>"
     },
     "metadata": {},
     "output_type": "display_data"
    },
    {
     "data": {
      "text/plain": "        UID  Insgesamt  Posttest    Group      Test  Points\n0   0LZR203        2.5       NaN    broca   Pretest     2.5\n1   0REG243        5.0       NaN    broca   Pretest     5.0\n2   1AGT138        3.0       NaN    broca   Pretest     3.0\n3   1HJA213        6.0       NaN    broca   Pretest     6.0\n4   1RBR047        8.0       NaN  control   Pretest     8.0\n5   3LDI060        0.0       NaN    broca   Pretest     0.0\n6   3LST145        6.0       NaN    broca   Pretest     6.0\n7   4ANT042        7.5       NaN    broca   Pretest     7.5\n8   4DRO233        7.0       NaN  control   Pretest     7.0\n9   4MNT105        0.0       NaN  control   Pretest     0.0\n10  5JS4143        8.0       NaN  control   Pretest     8.0\n11  5NSA280        5.0       NaN  control   Pretest     5.0\n12  6CSA143        0.0       NaN  control   Pretest     0.0\n13  7BGT235        7.5       NaN    broca   Pretest     7.5\n14  7KSM240        5.0       NaN  control   Pretest     5.0\n15  7RAI228        2.0       NaN    broca   Pretest     2.0\n16  7SOA133        8.0       NaN    broca   Pretest     8.0\n17  7VKT025        8.0       NaN  control   Pretest     8.0\n18  8AB4138        6.0       NaN  control   Pretest     6.0\n19  8CHT208        5.5       NaN    broca   Pretest     5.5\n20  0LZR203        NaN       8.0    broca  Posttest     8.0\n22  1AGT138        NaN       7.0    broca  Posttest     7.0\n25  3LDI060        NaN       8.0    broca  Posttest     8.0\n26  3LST145        NaN       6.0    broca  Posttest     6.0\n27  4ANT042        NaN       6.5    broca  Posttest     6.5\n28  4DRO233        NaN       8.0  control  Posttest     8.0\n31  5NSA280        NaN       8.0  control  Posttest     8.0\n32  6CSA143        NaN       5.5  control  Posttest     5.5\n33  7BGT235        NaN       8.0    broca  Posttest     8.0\n34  7KSM240        NaN       7.0  control  Posttest     7.0\n35  7RAI228        NaN       6.0    broca  Posttest     6.0\n36  7SOA133        NaN       8.0    broca  Posttest     8.0\n37  7VKT025        NaN       8.0  control  Posttest     8.0",
      "text/html": "<div>\n<style scoped>\n    .dataframe tbody tr th:only-of-type {\n        vertical-align: middle;\n    }\n\n    .dataframe tbody tr th {\n        vertical-align: top;\n    }\n\n    .dataframe thead th {\n        text-align: right;\n    }\n</style>\n<table border=\"1\" class=\"dataframe\">\n  <thead>\n    <tr style=\"text-align: right;\">\n      <th></th>\n      <th>UID</th>\n      <th>Insgesamt</th>\n      <th>Posttest</th>\n      <th>Group</th>\n      <th>Test</th>\n      <th>Points</th>\n    </tr>\n  </thead>\n  <tbody>\n    <tr>\n      <th>0</th>\n      <td>0LZR203</td>\n      <td>2.5</td>\n      <td>NaN</td>\n      <td>broca</td>\n      <td>Pretest</td>\n      <td>2.5</td>\n    </tr>\n    <tr>\n      <th>1</th>\n      <td>0REG243</td>\n      <td>5.0</td>\n      <td>NaN</td>\n      <td>broca</td>\n      <td>Pretest</td>\n      <td>5.0</td>\n    </tr>\n    <tr>\n      <th>2</th>\n      <td>1AGT138</td>\n      <td>3.0</td>\n      <td>NaN</td>\n      <td>broca</td>\n      <td>Pretest</td>\n      <td>3.0</td>\n    </tr>\n    <tr>\n      <th>3</th>\n      <td>1HJA213</td>\n      <td>6.0</td>\n      <td>NaN</td>\n      <td>broca</td>\n      <td>Pretest</td>\n      <td>6.0</td>\n    </tr>\n    <tr>\n      <th>4</th>\n      <td>1RBR047</td>\n      <td>8.0</td>\n      <td>NaN</td>\n      <td>control</td>\n      <td>Pretest</td>\n      <td>8.0</td>\n    </tr>\n    <tr>\n      <th>5</th>\n      <td>3LDI060</td>\n      <td>0.0</td>\n      <td>NaN</td>\n      <td>broca</td>\n      <td>Pretest</td>\n      <td>0.0</td>\n    </tr>\n    <tr>\n      <th>6</th>\n      <td>3LST145</td>\n      <td>6.0</td>\n      <td>NaN</td>\n      <td>broca</td>\n      <td>Pretest</td>\n      <td>6.0</td>\n    </tr>\n    <tr>\n      <th>7</th>\n      <td>4ANT042</td>\n      <td>7.5</td>\n      <td>NaN</td>\n      <td>broca</td>\n      <td>Pretest</td>\n      <td>7.5</td>\n    </tr>\n    <tr>\n      <th>8</th>\n      <td>4DRO233</td>\n      <td>7.0</td>\n      <td>NaN</td>\n      <td>control</td>\n      <td>Pretest</td>\n      <td>7.0</td>\n    </tr>\n    <tr>\n      <th>9</th>\n      <td>4MNT105</td>\n      <td>0.0</td>\n      <td>NaN</td>\n      <td>control</td>\n      <td>Pretest</td>\n      <td>0.0</td>\n    </tr>\n    <tr>\n      <th>10</th>\n      <td>5JS4143</td>\n      <td>8.0</td>\n      <td>NaN</td>\n      <td>control</td>\n      <td>Pretest</td>\n      <td>8.0</td>\n    </tr>\n    <tr>\n      <th>11</th>\n      <td>5NSA280</td>\n      <td>5.0</td>\n      <td>NaN</td>\n      <td>control</td>\n      <td>Pretest</td>\n      <td>5.0</td>\n    </tr>\n    <tr>\n      <th>12</th>\n      <td>6CSA143</td>\n      <td>0.0</td>\n      <td>NaN</td>\n      <td>control</td>\n      <td>Pretest</td>\n      <td>0.0</td>\n    </tr>\n    <tr>\n      <th>13</th>\n      <td>7BGT235</td>\n      <td>7.5</td>\n      <td>NaN</td>\n      <td>broca</td>\n      <td>Pretest</td>\n      <td>7.5</td>\n    </tr>\n    <tr>\n      <th>14</th>\n      <td>7KSM240</td>\n      <td>5.0</td>\n      <td>NaN</td>\n      <td>control</td>\n      <td>Pretest</td>\n      <td>5.0</td>\n    </tr>\n    <tr>\n      <th>15</th>\n      <td>7RAI228</td>\n      <td>2.0</td>\n      <td>NaN</td>\n      <td>broca</td>\n      <td>Pretest</td>\n      <td>2.0</td>\n    </tr>\n    <tr>\n      <th>16</th>\n      <td>7SOA133</td>\n      <td>8.0</td>\n      <td>NaN</td>\n      <td>broca</td>\n      <td>Pretest</td>\n      <td>8.0</td>\n    </tr>\n    <tr>\n      <th>17</th>\n      <td>7VKT025</td>\n      <td>8.0</td>\n      <td>NaN</td>\n      <td>control</td>\n      <td>Pretest</td>\n      <td>8.0</td>\n    </tr>\n    <tr>\n      <th>18</th>\n      <td>8AB4138</td>\n      <td>6.0</td>\n      <td>NaN</td>\n      <td>control</td>\n      <td>Pretest</td>\n      <td>6.0</td>\n    </tr>\n    <tr>\n      <th>19</th>\n      <td>8CHT208</td>\n      <td>5.5</td>\n      <td>NaN</td>\n      <td>broca</td>\n      <td>Pretest</td>\n      <td>5.5</td>\n    </tr>\n    <tr>\n      <th>20</th>\n      <td>0LZR203</td>\n      <td>NaN</td>\n      <td>8.0</td>\n      <td>broca</td>\n      <td>Posttest</td>\n      <td>8.0</td>\n    </tr>\n    <tr>\n      <th>22</th>\n      <td>1AGT138</td>\n      <td>NaN</td>\n      <td>7.0</td>\n      <td>broca</td>\n      <td>Posttest</td>\n      <td>7.0</td>\n    </tr>\n    <tr>\n      <th>25</th>\n      <td>3LDI060</td>\n      <td>NaN</td>\n      <td>8.0</td>\n      <td>broca</td>\n      <td>Posttest</td>\n      <td>8.0</td>\n    </tr>\n    <tr>\n      <th>26</th>\n      <td>3LST145</td>\n      <td>NaN</td>\n      <td>6.0</td>\n      <td>broca</td>\n      <td>Posttest</td>\n      <td>6.0</td>\n    </tr>\n    <tr>\n      <th>27</th>\n      <td>4ANT042</td>\n      <td>NaN</td>\n      <td>6.5</td>\n      <td>broca</td>\n      <td>Posttest</td>\n      <td>6.5</td>\n    </tr>\n    <tr>\n      <th>28</th>\n      <td>4DRO233</td>\n      <td>NaN</td>\n      <td>8.0</td>\n      <td>control</td>\n      <td>Posttest</td>\n      <td>8.0</td>\n    </tr>\n    <tr>\n      <th>31</th>\n      <td>5NSA280</td>\n      <td>NaN</td>\n      <td>8.0</td>\n      <td>control</td>\n      <td>Posttest</td>\n      <td>8.0</td>\n    </tr>\n    <tr>\n      <th>32</th>\n      <td>6CSA143</td>\n      <td>NaN</td>\n      <td>5.5</td>\n      <td>control</td>\n      <td>Posttest</td>\n      <td>5.5</td>\n    </tr>\n    <tr>\n      <th>33</th>\n      <td>7BGT235</td>\n      <td>NaN</td>\n      <td>8.0</td>\n      <td>broca</td>\n      <td>Posttest</td>\n      <td>8.0</td>\n    </tr>\n    <tr>\n      <th>34</th>\n      <td>7KSM240</td>\n      <td>NaN</td>\n      <td>7.0</td>\n      <td>control</td>\n      <td>Posttest</td>\n      <td>7.0</td>\n    </tr>\n    <tr>\n      <th>35</th>\n      <td>7RAI228</td>\n      <td>NaN</td>\n      <td>6.0</td>\n      <td>broca</td>\n      <td>Posttest</td>\n      <td>6.0</td>\n    </tr>\n    <tr>\n      <th>36</th>\n      <td>7SOA133</td>\n      <td>NaN</td>\n      <td>8.0</td>\n      <td>broca</td>\n      <td>Posttest</td>\n      <td>8.0</td>\n    </tr>\n    <tr>\n      <th>37</th>\n      <td>7VKT025</td>\n      <td>NaN</td>\n      <td>8.0</td>\n      <td>control</td>\n      <td>Posttest</td>\n      <td>8.0</td>\n    </tr>\n  </tbody>\n</table>\n</div>"
     },
     "metadata": {},
     "output_type": "display_data"
    },
    {
     "data": {
      "text/plain": "<AxesSubplot:xlabel='Test', ylabel='Points'>"
     },
     "execution_count": 40,
     "metadata": {},
     "output_type": "execute_result"
    },
    {
     "data": {
      "text/plain": "<Figure size 432x288 with 1 Axes>",
      "image/png": "[encoded data removed]"
     },
     "metadata": {},
     "output_type": "display_data"
    }
   ],
   "source": [
    "#df_merged = pd.merge(df_pretest, df_posttest, on=\"UID\")\n",
    "\n",
    "df_merged = df_pretest.append(df_posttest, ignore_index=True)\n",
    "\n",
    "df_merged = df_merged.drop(df_merged.columns[1:9], axis= 1)\n",
    "df_merged = df_merged.drop(df_merged.columns[2:4], axis= 1)\n",
    "\n",
    "df_merged[\"Group\"] = \"\"\n",
    "df_merged[\"Test\"] = \"\"\n",
    "\n",
    "\n",
    "for i in range(40):\n",
    "    if i < 20:\n",
    "        df_merged.at[i, 'Test'] = \"Pretest\"\n",
    "\n",
    "    else:\n",
    "        df_merged.at[i, 'Test'] = \"Posttest\"\n",
    "\n",
    "for index, row in df_merged.iterrows():\n",
    "    if row[\"UID\"] in control_uid:\n",
    "        df_merged.loc[index, 'Group'] = 'control'\n",
    "    elif row[\"UID\"] in broca_uid:\n",
    "        df_merged.loc[index, 'Group'] = 'broca'\n",
    "display(df_merged)\n",
    "\n",
    "#df_merged['Points'] = df_merged.Insgesamt.fillna(0) + df_merged.Posttest.fillna(0)\n",
    "df_merged[\"Points\"] = df_merged[[\"Insgesamt\", \"Posttest\"]].sum(axis=1)\n",
    "#df_merged= df_merged[df_merged['Points'] != 0]\n",
    "\n",
    "df_merged = df_merged.loc[~((df_merged['Points'] == 0) & (df_merged['Test'] == \"Posttest\"))]\n",
    "\n",
    "for index, row in df_merged.iterrows():\n",
    "    if row['Test'] == \"Posttest\":\n",
    "        if row['Points'] == 0.0:\n",
    "            del row\n",
    "display(df_merged)\n",
    "\n",
    "sns.boxplot(data=df_merged, x=\"Test\", y=\"Points\", hue=\"Group\", orient='v')"
   ],
   "metadata": {
    "collapsed": false,
    "pycharm": {
     "name": "#%%\n"
    }
   }
  },
  {
   "cell_type": "markdown",
   "source": [
    "Mann-Whitney U Test\n",
    "Pretest und Posttest\n",
    "\n",
    "Messzeitpunkt 3 Posttest-Programmieraufgabe\n",
    "\n",
    "Prozentuale Berechnung der Punkte\n",
    "\n",
    "Deviation - 1 Person hat die Aufgabe bei mir im Büro bearbeitet\n",
    "\n",
    "Individueller Verlauf über die Woche\n",
    "\n",
    "Tabelle Aufgaben und Rohpunkte und Prozente. Getrennt nach Gruppe. Gibt es nach Konzept Unterschiede.\n",
    "\n",
    "Beschreiben wieso gewisse Aufgaben nicht bewertet wurden"
   ],
   "metadata": {
    "collapsed": false,
    "pycharm": {
     "name": "#%% md\n"
    }
   },
   "outputs": [
    {
     "ename": "SyntaxError",
     "evalue": "invalid syntax (2191366381.py, line 1)",
     "output_type": "error",
     "traceback": [
      "\u001B[1;36m  File \u001B[1;32m\"C:\\Users\\Dominik\\AppData\\Local\\Temp\\ipykernel_14960\\2191366381.py\"\u001B[1;36m, line \u001B[1;32m1\u001B[0m\n\u001B[1;33m    Mann-Whitney U Test\u001B[0m\n\u001B[1;37m                 ^\u001B[0m\n\u001B[1;31mSyntaxError\u001B[0m\u001B[1;31m:\u001B[0m invalid syntax\n"
     ]
    }
   ],
   "execution_count": 1
  },
  {
   "cell_type": "markdown",
   "source": [
    "Violinplot aus df_merged"
   ],
   "metadata": {
    "collapsed": false,
    "pycharm": {
     "name": "#%% md\n"
    }
   }
  },
  {
   "cell_type": "code",
   "execution_count": 40,
   "outputs": [],
   "source": [],
   "metadata": {
    "collapsed": false,
    "pycharm": {
     "name": "#%%\n"
    }
   }
  },
  {
   "cell_type": "code",
   "execution_count": 41,
   "outputs": [
    {
     "data": {
      "text/plain": "        UID  Insgesamt  Posttest    Group      Test  Points\n0   0LZR203        2.5       NaN    broca   Pretest     2.5\n1   0REG243        5.0       NaN    broca   Pretest     5.0\n2   1AGT138        3.0       NaN    broca   Pretest     3.0\n3   1HJA213        6.0       NaN    broca   Pretest     6.0\n4   1RBR047        8.0       NaN  control   Pretest     8.0\n5   3LDI060        0.0       NaN    broca   Pretest     0.0\n6   3LST145        6.0       NaN    broca   Pretest     6.0\n7   4ANT042        7.5       NaN    broca   Pretest     7.5\n8   4DRO233        7.0       NaN  control   Pretest     7.0\n9   4MNT105        0.0       NaN  control   Pretest     0.0\n10  5JS4143        8.0       NaN  control   Pretest     8.0\n11  5NSA280        5.0       NaN  control   Pretest     5.0\n12  6CSA143        0.0       NaN  control   Pretest     0.0\n13  7BGT235        7.5       NaN    broca   Pretest     7.5\n14  7KSM240        5.0       NaN  control   Pretest     5.0\n15  7RAI228        2.0       NaN    broca   Pretest     2.0\n16  7SOA133        8.0       NaN    broca   Pretest     8.0\n17  7VKT025        8.0       NaN  control   Pretest     8.0\n18  8AB4138        6.0       NaN  control   Pretest     6.0\n19  8CHT208        5.5       NaN    broca   Pretest     5.5\n20  0LZR203        NaN       8.0    broca  Posttest     8.0\n22  1AGT138        NaN       7.0    broca  Posttest     7.0\n25  3LDI060        NaN       8.0    broca  Posttest     8.0\n26  3LST145        NaN       6.0    broca  Posttest     6.0\n27  4ANT042        NaN       6.5    broca  Posttest     6.5\n28  4DRO233        NaN       8.0  control  Posttest     8.0\n31  5NSA280        NaN       8.0  control  Posttest     8.0\n32  6CSA143        NaN       5.5  control  Posttest     5.5\n33  7BGT235        NaN       8.0    broca  Posttest     8.0\n34  7KSM240        NaN       7.0  control  Posttest     7.0\n35  7RAI228        NaN       6.0    broca  Posttest     6.0\n36  7SOA133        NaN       8.0    broca  Posttest     8.0\n37  7VKT025        NaN       8.0  control  Posttest     8.0",
      "text/html": "<div>\n<style scoped>\n    .dataframe tbody tr th:only-of-type {\n        vertical-align: middle;\n    }\n\n    .dataframe tbody tr th {\n        vertical-align: top;\n    }\n\n    .dataframe thead th {\n        text-align: right;\n    }\n</style>\n<table border=\"1\" class=\"dataframe\">\n  <thead>\n    <tr style=\"text-align: right;\">\n      <th></th>\n      <th>UID</th>\n      <th>Insgesamt</th>\n      <th>Posttest</th>\n      <th>Group</th>\n      <th>Test</th>\n      <th>Points</th>\n    </tr>\n  </thead>\n  <tbody>\n    <tr>\n      <th>0</th>\n      <td>0LZR203</td>\n      <td>2.5</td>\n      <td>NaN</td>\n      <td>broca</td>\n      <td>Pretest</td>\n      <td>2.5</td>\n    </tr>\n    <tr>\n      <th>1</th>\n      <td>0REG243</td>\n      <td>5.0</td>\n      <td>NaN</td>\n      <td>broca</td>\n      <td>Pretest</td>\n      <td>5.0</td>\n    </tr>\n    <tr>\n      <th>2</th>\n      <td>1AGT138</td>\n      <td>3.0</td>\n      <td>NaN</td>\n      <td>broca</td>\n      <td>Pretest</td>\n      <td>3.0</td>\n    </tr>\n    <tr>\n      <th>3</th>\n      <td>1HJA213</td>\n      <td>6.0</td>\n      <td>NaN</td>\n      <td>broca</td>\n      <td>Pretest</td>\n      <td>6.0</td>\n    </tr>\n    <tr>\n      <th>4</th>\n      <td>1RBR047</td>\n      <td>8.0</td>\n      <td>NaN</td>\n      <td>control</td>\n      <td>Pretest</td>\n      <td>8.0</td>\n    </tr>\n    <tr>\n      <th>5</th>\n      <td>3LDI060</td>\n      <td>0.0</td>\n      <td>NaN</td>\n      <td>broca</td>\n      <td>Pretest</td>\n      <td>0.0</td>\n    </tr>\n    <tr>\n      <th>6</th>\n      <td>3LST145</td>\n      <td>6.0</td>\n      <td>NaN</td>\n      <td>broca</td>\n      <td>Pretest</td>\n      <td>6.0</td>\n    </tr>\n    <tr>\n      <th>7</th>\n      <td>4ANT042</td>\n      <td>7.5</td>\n      <td>NaN</td>\n      <td>broca</td>\n      <td>Pretest</td>\n      <td>7.5</td>\n    </tr>\n    <tr>\n      <th>8</th>\n      <td>4DRO233</td>\n      <td>7.0</td>\n      <td>NaN</td>\n      <td>control</td>\n      <td>Pretest</td>\n      <td>7.0</td>\n    </tr>\n    <tr>\n      <th>9</th>\n      <td>4MNT105</td>\n      <td>0.0</td>\n      <td>NaN</td>\n      <td>control</td>\n      <td>Pretest</td>\n      <td>0.0</td>\n    </tr>\n    <tr>\n      <th>10</th>\n      <td>5JS4143</td>\n      <td>8.0</td>\n      <td>NaN</td>\n      <td>control</td>\n      <td>Pretest</td>\n      <td>8.0</td>\n    </tr>\n    <tr>\n      <th>11</th>\n      <td>5NSA280</td>\n      <td>5.0</td>\n      <td>NaN</td>\n      <td>control</td>\n      <td>Pretest</td>\n      <td>5.0</td>\n    </tr>\n    <tr>\n      <th>12</th>\n      <td>6CSA143</td>\n      <td>0.0</td>\n      <td>NaN</td>\n      <td>control</td>\n      <td>Pretest</td>\n      <td>0.0</td>\n    </tr>\n    <tr>\n      <th>13</th>\n      <td>7BGT235</td>\n      <td>7.5</td>\n      <td>NaN</td>\n      <td>broca</td>\n      <td>Pretest</td>\n      <td>7.5</td>\n    </tr>\n    <tr>\n      <th>14</th>\n      <td>7KSM240</td>\n      <td>5.0</td>\n      <td>NaN</td>\n      <td>control</td>\n      <td>Pretest</td>\n      <td>5.0</td>\n    </tr>\n    <tr>\n      <th>15</th>\n      <td>7RAI228</td>\n      <td>2.0</td>\n      <td>NaN</td>\n      <td>broca</td>\n      <td>Pretest</td>\n      <td>2.0</td>\n    </tr>\n    <tr>\n      <th>16</th>\n      <td>7SOA133</td>\n      <td>8.0</td>\n      <td>NaN</td>\n      <td>broca</td>\n      <td>Pretest</td>\n      <td>8.0</td>\n    </tr>\n    <tr>\n      <th>17</th>\n      <td>7VKT025</td>\n      <td>8.0</td>\n      <td>NaN</td>\n      <td>control</td>\n      <td>Pretest</td>\n      <td>8.0</td>\n    </tr>\n    <tr>\n      <th>18</th>\n      <td>8AB4138</td>\n      <td>6.0</td>\n      <td>NaN</td>\n      <td>control</td>\n      <td>Pretest</td>\n      <td>6.0</td>\n    </tr>\n    <tr>\n      <th>19</th>\n      <td>8CHT208</td>\n      <td>5.5</td>\n      <td>NaN</td>\n      <td>broca</td>\n      <td>Pretest</td>\n      <td>5.5</td>\n    </tr>\n    <tr>\n      <th>20</th>\n      <td>0LZR203</td>\n      <td>NaN</td>\n      <td>8.0</td>\n      <td>broca</td>\n      <td>Posttest</td>\n      <td>8.0</td>\n    </tr>\n    <tr>\n      <th>22</th>\n      <td>1AGT138</td>\n      <td>NaN</td>\n      <td>7.0</td>\n      <td>broca</td>\n      <td>Posttest</td>\n      <td>7.0</td>\n    </tr>\n    <tr>\n      <th>25</th>\n      <td>3LDI060</td>\n      <td>NaN</td>\n      <td>8.0</td>\n      <td>broca</td>\n      <td>Posttest</td>\n      <td>8.0</td>\n    </tr>\n    <tr>\n      <th>26</th>\n      <td>3LST145</td>\n      <td>NaN</td>\n      <td>6.0</td>\n      <td>broca</td>\n      <td>Posttest</td>\n      <td>6.0</td>\n    </tr>\n    <tr>\n      <th>27</th>\n      <td>4ANT042</td>\n      <td>NaN</td>\n      <td>6.5</td>\n      <td>broca</td>\n      <td>Posttest</td>\n      <td>6.5</td>\n    </tr>\n    <tr>\n      <th>28</th>\n      <td>4DRO233</td>\n      <td>NaN</td>\n      <td>8.0</td>\n      <td>control</td>\n      <td>Posttest</td>\n      <td>8.0</td>\n    </tr>\n    <tr>\n      <th>31</th>\n      <td>5NSA280</td>\n      <td>NaN</td>\n      <td>8.0</td>\n      <td>control</td>\n      <td>Posttest</td>\n      <td>8.0</td>\n    </tr>\n    <tr>\n      <th>32</th>\n      <td>6CSA143</td>\n      <td>NaN</td>\n      <td>5.5</td>\n      <td>control</td>\n      <td>Posttest</td>\n      <td>5.5</td>\n    </tr>\n    <tr>\n      <th>33</th>\n      <td>7BGT235</td>\n      <td>NaN</td>\n      <td>8.0</td>\n      <td>broca</td>\n      <td>Posttest</td>\n      <td>8.0</td>\n    </tr>\n    <tr>\n      <th>34</th>\n      <td>7KSM240</td>\n      <td>NaN</td>\n      <td>7.0</td>\n      <td>control</td>\n      <td>Posttest</td>\n      <td>7.0</td>\n    </tr>\n    <tr>\n      <th>35</th>\n      <td>7RAI228</td>\n      <td>NaN</td>\n      <td>6.0</td>\n      <td>broca</td>\n      <td>Posttest</td>\n      <td>6.0</td>\n    </tr>\n    <tr>\n      <th>36</th>\n      <td>7SOA133</td>\n      <td>NaN</td>\n      <td>8.0</td>\n      <td>broca</td>\n      <td>Posttest</td>\n      <td>8.0</td>\n    </tr>\n    <tr>\n      <th>37</th>\n      <td>7VKT025</td>\n      <td>NaN</td>\n      <td>8.0</td>\n      <td>control</td>\n      <td>Posttest</td>\n      <td>8.0</td>\n    </tr>\n  </tbody>\n</table>\n</div>"
     },
     "metadata": {},
     "output_type": "display_data"
    },
    {
     "data": {
      "text/plain": "<Figure size 432x288 with 1 Axes>",
      "image/png": "[encoded data removed]"
     },
     "metadata": {},
     "output_type": "display_data"
    }
   ],
   "source": [
    "#sns.violinplot(data=df_merged, x=\"Test\", y=\"Points\", hue=\"Group\", orient='v')\n",
    "\n",
    "display(df_merged)\n",
    "\n",
    "violin = sns.violinplot(data=df_merged, x=\"Test\", y=\"Points\", hue=\"Group\",\n",
    "                        split=True, inner=\"quart\", linewidth=1)\n",
    "violin.legend(title='Group', loc='center left', bbox_to_anchor=(1, 0.8))\n",
    "\n",
    "plt.savefig('violinplot_pretest_posttest.pdf', bbox_inches='tight')\n"
   ],
   "metadata": {
    "collapsed": false,
    "pycharm": {
     "name": "#%%\n"
    }
   }
  },
  {
   "cell_type": "code",
   "execution_count": 42,
   "outputs": [
    {
     "data": {
      "text/plain": "KruskalResult(statistic=7.164678548134038, pvalue=0.06683007580932834)"
     },
     "execution_count": 42,
     "metadata": {},
     "output_type": "execute_result"
    }
   ],
   "source": [
    "from scipy import stats\n",
    "stats.kruskal(broca_pretest, control_pretest, broca_posttest, control_posttest)\n",
    "\n",
    "#nicht signifikant"
   ],
   "metadata": {
    "collapsed": false,
    "pycharm": {
     "name": "#%%\n"
    }
   }
  },
  {
   "cell_type": "code",
   "execution_count": 43,
   "outputs": [
    {
     "data": {
      "text/plain": "        UID  Pretest  Posttest    Group\n0   0LZR203      2.5       8.0    broca\n2   1AGT138      3.0       7.0    broca\n5   3LDI060      0.0       8.0    broca\n6   3LST145      6.0       6.0    broca\n7   4ANT042      7.5       6.5    broca\n8   4DRO233      7.0       8.0  control\n11  5NSA280      5.0       8.0  control\n12  6CSA143      0.0       5.5  control\n13  7BGT235      7.5       8.0    broca\n14  7KSM240      5.0       7.0  control\n15  7RAI228      2.0       6.0    broca\n16  7SOA133      8.0       8.0    broca\n17  7VKT025      8.0       8.0  control",
      "text/html": "<div>\n<style scoped>\n    .dataframe tbody tr th:only-of-type {\n        vertical-align: middle;\n    }\n\n    .dataframe tbody tr th {\n        vertical-align: top;\n    }\n\n    .dataframe thead th {\n        text-align: right;\n    }\n</style>\n<table border=\"1\" class=\"dataframe\">\n  <thead>\n    <tr style=\"text-align: right;\">\n      <th></th>\n      <th>UID</th>\n      <th>Pretest</th>\n      <th>Posttest</th>\n      <th>Group</th>\n    </tr>\n  </thead>\n  <tbody>\n    <tr>\n      <th>0</th>\n      <td>0LZR203</td>\n      <td>2.5</td>\n      <td>8.0</td>\n      <td>broca</td>\n    </tr>\n    <tr>\n      <th>2</th>\n      <td>1AGT138</td>\n      <td>3.0</td>\n      <td>7.0</td>\n      <td>broca</td>\n    </tr>\n    <tr>\n      <th>5</th>\n      <td>3LDI060</td>\n      <td>0.0</td>\n      <td>8.0</td>\n      <td>broca</td>\n    </tr>\n    <tr>\n      <th>6</th>\n      <td>3LST145</td>\n      <td>6.0</td>\n      <td>6.0</td>\n      <td>broca</td>\n    </tr>\n    <tr>\n      <th>7</th>\n      <td>4ANT042</td>\n      <td>7.5</td>\n      <td>6.5</td>\n      <td>broca</td>\n    </tr>\n    <tr>\n      <th>8</th>\n      <td>4DRO233</td>\n      <td>7.0</td>\n      <td>8.0</td>\n      <td>control</td>\n    </tr>\n    <tr>\n      <th>11</th>\n      <td>5NSA280</td>\n      <td>5.0</td>\n      <td>8.0</td>\n      <td>control</td>\n    </tr>\n    <tr>\n      <th>12</th>\n      <td>6CSA143</td>\n      <td>0.0</td>\n      <td>5.5</td>\n      <td>control</td>\n    </tr>\n    <tr>\n      <th>13</th>\n      <td>7BGT235</td>\n      <td>7.5</td>\n      <td>8.0</td>\n      <td>broca</td>\n    </tr>\n    <tr>\n      <th>14</th>\n      <td>7KSM240</td>\n      <td>5.0</td>\n      <td>7.0</td>\n      <td>control</td>\n    </tr>\n    <tr>\n      <th>15</th>\n      <td>7RAI228</td>\n      <td>2.0</td>\n      <td>6.0</td>\n      <td>broca</td>\n    </tr>\n    <tr>\n      <th>16</th>\n      <td>7SOA133</td>\n      <td>8.0</td>\n      <td>8.0</td>\n      <td>broca</td>\n    </tr>\n    <tr>\n      <th>17</th>\n      <td>7VKT025</td>\n      <td>8.0</td>\n      <td>8.0</td>\n      <td>control</td>\n    </tr>\n  </tbody>\n</table>\n</div>"
     },
     "metadata": {},
     "output_type": "display_data"
    },
    {
     "data": {
      "text/plain": "     Source        SS  DF         F     p-unc       np2\n0     Group  0.011774   1  0.012531  0.913083  0.001252\n1   Pretest  1.373382   1  1.461765  0.254459  0.127534\n2  Residual  9.395368  10       NaN       NaN       NaN",
      "text/html": "<div>\n<style scoped>\n    .dataframe tbody tr th:only-of-type {\n        vertical-align: middle;\n    }\n\n    .dataframe tbody tr th {\n        vertical-align: top;\n    }\n\n    .dataframe thead th {\n        text-align: right;\n    }\n</style>\n<table border=\"1\" class=\"dataframe\">\n  <thead>\n    <tr style=\"text-align: right;\">\n      <th></th>\n      <th>Source</th>\n      <th>SS</th>\n      <th>DF</th>\n      <th>F</th>\n      <th>p-unc</th>\n      <th>np2</th>\n    </tr>\n  </thead>\n  <tbody>\n    <tr>\n      <th>0</th>\n      <td>Group</td>\n      <td>0.011774</td>\n      <td>1</td>\n      <td>0.012531</td>\n      <td>0.913083</td>\n      <td>0.001252</td>\n    </tr>\n    <tr>\n      <th>1</th>\n      <td>Pretest</td>\n      <td>1.373382</td>\n      <td>1</td>\n      <td>1.461765</td>\n      <td>0.254459</td>\n      <td>0.127534</td>\n    </tr>\n    <tr>\n      <th>2</th>\n      <td>Residual</td>\n      <td>9.395368</td>\n      <td>10</td>\n      <td>NaN</td>\n      <td>NaN</td>\n      <td>NaN</td>\n    </tr>\n  </tbody>\n</table>\n</div>"
     },
     "execution_count": 43,
     "metadata": {},
     "output_type": "execute_result"
    }
   ],
   "source": [
    "#merge df_pretest and df_posttest on uid\n",
    "df_merge = pd.merge(df_pretest, df_posttest, on=\"UID\")\n",
    "#drop everything except uid, pretest and posttest\n",
    "df_merge = df_merge.drop(df_merge.columns[1:19], axis= 1)\n",
    "#dropna\n",
    "df_merge = df_merge.dropna()\n",
    "\n",
    "#add group column to df_merge and fill with group name (control or broca)\n",
    "df_merge[\"Group\"] = \"\"\n",
    "for index, row in df_merge.iterrows():\n",
    "    if row[\"UID\"] in control_uid:\n",
    "        df_merge.loc[index, 'Group'] = 'control'\n",
    "    elif row[\"UID\"] in broca_uid:\n",
    "        df_merge.loc[index, 'Group'] = 'broca'\n",
    "\n",
    "from pingouin import ancova\n",
    "display(df_merge)\n",
    "ancova(data=df_merge, dv='Posttest', covar='Pretest', between='Group')"
   ],
   "metadata": {
    "collapsed": false,
    "pycharm": {
     "name": "#%%\n"
    }
   }
  },
  {
   "cell_type": "code",
   "execution_count": 44,
   "outputs": [
    {
     "name": "stdout",
     "output_type": "stream",
     "text": [
      "Mean Broca Pretest:  4.5625\n",
      "Std Broca Pretest:  3.052370273363683\n",
      "Mean Control Pretest:  5.0\n",
      "Std Control Pretest:  3.082207001484488\n",
      "\n",
      "Mean Broca Posttest:  7.1875\n",
      "Std Broca Posttest:  0.9234059624177068\n",
      "Mean Control Posttest:  7.3\n",
      "Std Control Posttest:  1.0954451150103321\n"
     ]
    }
   ],
   "source": [
    "#get mean of pretest and group control\n",
    "mean_control_pretest = df_merge[df_merge.Group == \"control\"].Pretest.mean()\n",
    "#get std of pretest and group control\n",
    "std_control_pretest = df_merge[df_merge.Group == \"control\"].Pretest.std()\n",
    "\n",
    "#get std of pretest and group broca\n",
    "mean_broca_pretest = df_merge[df_merge.Group == \"broca\"].Pretest.mean()\n",
    "\n",
    "#get std of pretest and group broca\n",
    "std_broca_pretest = df_merge[df_merge.Group == \"broca\"].Pretest.std()\n",
    "\n",
    "#get std of posttest and group control\n",
    "std_control_posttest = df_merge[df_merge.Group == \"control\"].Posttest.std()\n",
    "\n",
    "#get std of posttest and group broca\n",
    "std_broca_posttest = df_merge[df_merge.Group == \"broca\"].Posttest.std()\n",
    "\n",
    "#get mean of pretest and group broca\n",
    "mean_broca_pretest = df_merge[df_merge.Group == \"broca\"].Pretest.mean()\n",
    "\n",
    "#get mean of posttest and group control\n",
    "mean_control_posttest = df_merge[df_merge.Group == \"control\"].Posttest.mean()\n",
    "\n",
    "#get mean of posttest and group broca\n",
    "mean_broca_posttest = df_merge[df_merge.Group == \"broca\"].Posttest.mean()\n",
    "\n",
    "#print means and stds\n",
    "print(\"Mean Broca Pretest: \", mean_broca_pretest)\n",
    "print(\"Std Broca Pretest: \", std_broca_pretest)\n",
    "print(\"Mean Control Pretest: \", mean_control_pretest)\n",
    "print(\"Std Control Pretest: \", std_control_pretest)\n",
    "print()\n",
    "print(\"Mean Broca Posttest: \", mean_broca_posttest)\n",
    "print(\"Std Broca Posttest: \", std_broca_posttest)\n",
    "print(\"Mean Control Posttest: \", mean_control_posttest)\n",
    "print(\"Std Control Posttest: \", std_control_posttest)"
   ],
   "metadata": {
    "collapsed": false,
    "pycharm": {
     "name": "#%%\n"
    }
   }
  },
  {
   "cell_type": "code",
   "execution_count": 45,
   "outputs": [
    {
     "data": {
      "text/plain": "        UID  1.1  1.2  2.1  2.2  2.3  2.4  2.5  2.6 (nur Coding)  \\\n0   0LZR203    6  7.0  5.0  5.0  2.0  5.0  3.0               3.0   \n1   0REG243    6  7.0  6.0  5.0  2.0  5.0  3.0               3.0   \n2   1AGT138    6  7.0  5.0  5.0  2.0  5.0  3.0               3.0   \n5   3LDI060    6  7.0  6.0  5.0  2.0  5.0  3.0               3.0   \n6   3LST145    6  7.0  6.0  5.0  2.0  5.0  3.0               3.0   \n7   4ANT042    6  7.0  6.0  5.0  2.0  5.0  3.0               3.0   \n8   4DRO233    6  7.0  4.0  4.0  2.0  5.0  3.0               3.0   \n11  5NSA280    6  7.0  6.0  5.0  2.0  5.0  3.0               3.0   \n12  6CSA143    6  7.0  6.0  5.0  2.0  5.0  2.0               3.0   \n13  7BGT235    6  7.0  6.0  5.0  1.0  5.0  3.0               3.0   \n14  7KSM240    6  7.0  6.0  5.0  2.0  5.0  1.0               3.0   \n15  7RAI228    6  7.0  6.0  5.0  1.0  5.0  3.0               3.0   \n16  7SOA133    5  7.0  3.0  5.0  2.0  5.0  3.0               3.0   \n17  7VKT025    6  7.0  6.0  5.0  2.0  5.0  3.0               3.0   \n18  8AB4138  NaN  NaN  NaN  NaN  NaN  NaN  NaN               NaN   \n19  8CHT208    6  7.0  6.0  5.0  2.0  5.0  3.0               3.0   \n22      NaN    6  7.0  6.0  5.0  2.0  5.0  3.0               3.0   \n\n    3.1 (Integerdivisionproblem nicht betrachtet)  ...   6.2  6.3   6.4  7.1  \\\n0                                             5.0  ...  10.0  NaN  13.0  2.0   \n1                                             4.5  ...  10.0  NaN  13.0  3.5   \n2                                             5.0  ...   9.0  NaN  13.0  6.0   \n5                                             4.5  ...  10.0  NaN  13.0  6.0   \n6                                             5.0  ...  10.0  NaN  13.0  6.0   \n7                                             5.0  ...   9.0  NaN  13.0  6.0   \n8                                             4.5  ...  10.0  NaN   3.0  6.0   \n11                                            5.0  ...  10.0  NaN  13.0  3.0   \n12                                            2.5  ...   9.0  NaN   6.0  2.0   \n13                                            5.0  ...  10.0  NaN  13.0  6.0   \n14                                            4.5  ...   8.0  NaN  13.0  1.5   \n15                                            5.0  ...  10.0  NaN  13.0  1.0   \n16                                            NaN  ...   9.0  NaN  13.0  1.0   \n17                                            5.0  ...  10.0  NaN  13.0  6.0   \n18                                            NaN  ...  10.0  NaN  13.0  0.5   \n19                                            5.0  ...  10.0  NaN  13.0  2.5   \n22                                            5.0  ...  10.0  NaN  13.0  6.0   \n\n    7.2  7.3  7.4  7.5  7.6 (Primzahl)  7.7 (Primzahl)  \n0   NaN  3.0  5.0  4.0             9.0            10.0  \n1   NaN  NaN  NaN  NaN             NaN             NaN  \n2   NaN  3.0  5.0  4.0             6.0             8.0  \n5   NaN  4.0  5.0  4.0             8.0             9.0  \n6   NaN  4.0  5.0  4.0            11.0            10.0  \n7   NaN  4.0  5.0  4.0            12.0            10.0  \n8   NaN  4.0  5.0  1.0             7.0            10.0  \n11  NaN  3.0  5.0  4.0            11.5            10.0  \n12  NaN  4.0  4.0  3.5             5.5             8.0  \n13  NaN  4.0  5.0  3.5            12.0            10.0  \n14  NaN  2.0  5.0  3.0             4.0             8.0  \n15  NaN  3.0  5.0  4.0             5.0             8.0  \n16  NaN  3.5  4.5  4.0            12.0            10.0  \n17  NaN  NaN  NaN  NaN             NaN             NaN  \n18  NaN  NaN  NaN  NaN             NaN             NaN  \n19  NaN  NaN  NaN  NaN             NaN             NaN  \n22  NaN  4.0  5.0  4.0            12.0            10.0  \n\n[17 rows x 31 columns]",
      "text/html": "<div>\n<style scoped>\n    .dataframe tbody tr th:only-of-type {\n        vertical-align: middle;\n    }\n\n    .dataframe tbody tr th {\n        vertical-align: top;\n    }\n\n    .dataframe thead th {\n        text-align: right;\n    }\n</style>\n<table border=\"1\" class=\"dataframe\">\n  <thead>\n    <tr style=\"text-align: right;\">\n      <th></th>\n      <th>UID</th>\n      <th>1.1</th>\n      <th>1.2</th>\n      <th>2.1</th>\n      <th>2.2</th>\n      <th>2.3</th>\n      <th>2.4</th>\n      <th>2.5</th>\n      <th>2.6 (nur Coding)</th>\n      <th>3.1 (Integerdivisionproblem nicht betrachtet)</th>\n      <th>...</th>\n      <th>6.2</th>\n      <th>6.3</th>\n      <th>6.4</th>\n      <th>7.1</th>\n      <th>7.2</th>\n      <th>7.3</th>\n      <th>7.4</th>\n      <th>7.5</th>\n      <th>7.6 (Primzahl)</th>\n      <th>7.7 (Primzahl)</th>\n    </tr>\n  </thead>\n  <tbody>\n    <tr>\n      <th>0</th>\n      <td>0LZR203</td>\n      <td>6</td>\n      <td>7.0</td>\n      <td>5.0</td>\n      <td>5.0</td>\n      <td>2.0</td>\n      <td>5.0</td>\n      <td>3.0</td>\n      <td>3.0</td>\n      <td>5.0</td>\n      <td>...</td>\n      <td>10.0</td>\n      <td>NaN</td>\n      <td>13.0</td>\n      <td>2.0</td>\n      <td>NaN</td>\n      <td>3.0</td>\n      <td>5.0</td>\n      <td>4.0</td>\n      <td>9.0</td>\n      <td>10.0</td>\n    </tr>\n    <tr>\n      <th>1</th>\n      <td>0REG243</td>\n      <td>6</td>\n      <td>7.0</td>\n      <td>6.0</td>\n      <td>5.0</td>\n      <td>2.0</td>\n      <td>5.0</td>\n      <td>3.0</td>\n      <td>3.0</td>\n      <td>4.5</td>\n      <td>...</td>\n      <td>10.0</td>\n      <td>NaN</td>\n      <td>13.0</td>\n      <td>3.5</td>\n      <td>NaN</td>\n      <td>NaN</td>\n      <td>NaN</td>\n      <td>NaN</td>\n      <td>NaN</td>\n      <td>NaN</td>\n    </tr>\n    <tr>\n      <th>2</th>\n      <td>1AGT138</td>\n      <td>6</td>\n      <td>7.0</td>\n      <td>5.0</td>\n      <td>5.0</td>\n      <td>2.0</td>\n      <td>5.0</td>\n      <td>3.0</td>\n      <td>3.0</td>\n      <td>5.0</td>\n      <td>...</td>\n      <td>9.0</td>\n      <td>NaN</td>\n      <td>13.0</td>\n      <td>6.0</td>\n      <td>NaN</td>\n      <td>3.0</td>\n      <td>5.0</td>\n      <td>4.0</td>\n      <td>6.0</td>\n      <td>8.0</td>\n    </tr>\n    <tr>\n      <th>5</th>\n      <td>3LDI060</td>\n      <td>6</td>\n      <td>7.0</td>\n      <td>6.0</td>\n      <td>5.0</td>\n      <td>2.0</td>\n      <td>5.0</td>\n      <td>3.0</td>\n      <td>3.0</td>\n      <td>4.5</td>\n      <td>...</td>\n      <td>10.0</td>\n      <td>NaN</td>\n      <td>13.0</td>\n      <td>6.0</td>\n      <td>NaN</td>\n      <td>4.0</td>\n      <td>5.0</td>\n      <td>4.0</td>\n      <td>8.0</td>\n      <td>9.0</td>\n    </tr>\n    <tr>\n      <th>6</th>\n      <td>3LST145</td>\n      <td>6</td>\n      <td>7.0</td>\n      <td>6.0</td>\n      <td>5.0</td>\n      <td>2.0</td>\n      <td>5.0</td>\n      <td>3.0</td>\n      <td>3.0</td>\n      <td>5.0</td>\n      <td>...</td>\n      <td>10.0</td>\n      <td>NaN</td>\n      <td>13.0</td>\n      <td>6.0</td>\n      <td>NaN</td>\n      <td>4.0</td>\n      <td>5.0</td>\n      <td>4.0</td>\n      <td>11.0</td>\n      <td>10.0</td>\n    </tr>\n    <tr>\n      <th>7</th>\n      <td>4ANT042</td>\n      <td>6</td>\n      <td>7.0</td>\n      <td>6.0</td>\n      <td>5.0</td>\n      <td>2.0</td>\n      <td>5.0</td>\n      <td>3.0</td>\n      <td>3.0</td>\n      <td>5.0</td>\n      <td>...</td>\n      <td>9.0</td>\n      <td>NaN</td>\n      <td>13.0</td>\n      <td>6.0</td>\n      <td>NaN</td>\n      <td>4.0</td>\n      <td>5.0</td>\n      <td>4.0</td>\n      <td>12.0</td>\n      <td>10.0</td>\n    </tr>\n    <tr>\n      <th>8</th>\n      <td>4DRO233</td>\n      <td>6</td>\n      <td>7.0</td>\n      <td>4.0</td>\n      <td>4.0</td>\n      <td>2.0</td>\n      <td>5.0</td>\n      <td>3.0</td>\n      <td>3.0</td>\n      <td>4.5</td>\n      <td>...</td>\n      <td>10.0</td>\n      <td>NaN</td>\n      <td>3.0</td>\n      <td>6.0</td>\n      <td>NaN</td>\n      <td>4.0</td>\n      <td>5.0</td>\n      <td>1.0</td>\n      <td>7.0</td>\n      <td>10.0</td>\n    </tr>\n    <tr>\n      <th>11</th>\n      <td>5NSA280</td>\n      <td>6</td>\n      <td>7.0</td>\n      <td>6.0</td>\n      <td>5.0</td>\n      <td>2.0</td>\n      <td>5.0</td>\n      <td>3.0</td>\n      <td>3.0</td>\n      <td>5.0</td>\n      <td>...</td>\n      <td>10.0</td>\n      <td>NaN</td>\n      <td>13.0</td>\n      <td>3.0</td>\n      <td>NaN</td>\n      <td>3.0</td>\n      <td>5.0</td>\n      <td>4.0</td>\n      <td>11.5</td>\n      <td>10.0</td>\n    </tr>\n    <tr>\n      <th>12</th>\n      <td>6CSA143</td>\n      <td>6</td>\n      <td>7.0</td>\n      <td>6.0</td>\n      <td>5.0</td>\n      <td>2.0</td>\n      <td>5.0</td>\n      <td>2.0</td>\n      <td>3.0</td>\n      <td>2.5</td>\n      <td>...</td>\n      <td>9.0</td>\n      <td>NaN</td>\n      <td>6.0</td>\n      <td>2.0</td>\n      <td>NaN</td>\n      <td>4.0</td>\n      <td>4.0</td>\n      <td>3.5</td>\n      <td>5.5</td>\n      <td>8.0</td>\n    </tr>\n    <tr>\n      <th>13</th>\n      <td>7BGT235</td>\n      <td>6</td>\n      <td>7.0</td>\n      <td>6.0</td>\n      <td>5.0</td>\n      <td>1.0</td>\n      <td>5.0</td>\n      <td>3.0</td>\n      <td>3.0</td>\n      <td>5.0</td>\n      <td>...</td>\n      <td>10.0</td>\n      <td>NaN</td>\n      <td>13.0</td>\n      <td>6.0</td>\n      <td>NaN</td>\n      <td>4.0</td>\n      <td>5.0</td>\n      <td>3.5</td>\n      <td>12.0</td>\n      <td>10.0</td>\n    </tr>\n    <tr>\n      <th>14</th>\n      <td>7KSM240</td>\n      <td>6</td>\n      <td>7.0</td>\n      <td>6.0</td>\n      <td>5.0</td>\n      <td>2.0</td>\n      <td>5.0</td>\n      <td>1.0</td>\n      <td>3.0</td>\n      <td>4.5</td>\n      <td>...</td>\n      <td>8.0</td>\n      <td>NaN</td>\n      <td>13.0</td>\n      <td>1.5</td>\n      <td>NaN</td>\n      <td>2.0</td>\n      <td>5.0</td>\n      <td>3.0</td>\n      <td>4.0</td>\n      <td>8.0</td>\n    </tr>\n    <tr>\n      <th>15</th>\n      <td>7RAI228</td>\n      <td>6</td>\n      <td>7.0</td>\n      <td>6.0</td>\n      <td>5.0</td>\n      <td>1.0</td>\n      <td>5.0</td>\n      <td>3.0</td>\n      <td>3.0</td>\n      <td>5.0</td>\n      <td>...</td>\n      <td>10.0</td>\n      <td>NaN</td>\n      <td>13.0</td>\n      <td>1.0</td>\n      <td>NaN</td>\n      <td>3.0</td>\n      <td>5.0</td>\n      <td>4.0</td>\n      <td>5.0</td>\n      <td>8.0</td>\n    </tr>\n    <tr>\n      <th>16</th>\n      <td>7SOA133</td>\n      <td>5</td>\n      <td>7.0</td>\n      <td>3.0</td>\n      <td>5.0</td>\n      <td>2.0</td>\n      <td>5.0</td>\n      <td>3.0</td>\n      <td>3.0</td>\n      <td>NaN</td>\n      <td>...</td>\n      <td>9.0</td>\n      <td>NaN</td>\n      <td>13.0</td>\n      <td>1.0</td>\n      <td>NaN</td>\n      <td>3.5</td>\n      <td>4.5</td>\n      <td>4.0</td>\n      <td>12.0</td>\n      <td>10.0</td>\n    </tr>\n    <tr>\n      <th>17</th>\n      <td>7VKT025</td>\n      <td>6</td>\n      <td>7.0</td>\n      <td>6.0</td>\n      <td>5.0</td>\n      <td>2.0</td>\n      <td>5.0</td>\n      <td>3.0</td>\n      <td>3.0</td>\n      <td>5.0</td>\n      <td>...</td>\n      <td>10.0</td>\n      <td>NaN</td>\n      <td>13.0</td>\n      <td>6.0</td>\n      <td>NaN</td>\n      <td>NaN</td>\n      <td>NaN</td>\n      <td>NaN</td>\n      <td>NaN</td>\n      <td>NaN</td>\n    </tr>\n    <tr>\n      <th>18</th>\n      <td>8AB4138</td>\n      <td>NaN</td>\n      <td>NaN</td>\n      <td>NaN</td>\n      <td>NaN</td>\n      <td>NaN</td>\n      <td>NaN</td>\n      <td>NaN</td>\n      <td>NaN</td>\n      <td>NaN</td>\n      <td>...</td>\n      <td>10.0</td>\n      <td>NaN</td>\n      <td>13.0</td>\n      <td>0.5</td>\n      <td>NaN</td>\n      <td>NaN</td>\n      <td>NaN</td>\n      <td>NaN</td>\n      <td>NaN</td>\n      <td>NaN</td>\n    </tr>\n    <tr>\n      <th>19</th>\n      <td>8CHT208</td>\n      <td>6</td>\n      <td>7.0</td>\n      <td>6.0</td>\n      <td>5.0</td>\n      <td>2.0</td>\n      <td>5.0</td>\n      <td>3.0</td>\n      <td>3.0</td>\n      <td>5.0</td>\n      <td>...</td>\n      <td>10.0</td>\n      <td>NaN</td>\n      <td>13.0</td>\n      <td>2.5</td>\n      <td>NaN</td>\n      <td>NaN</td>\n      <td>NaN</td>\n      <td>NaN</td>\n      <td>NaN</td>\n      <td>NaN</td>\n    </tr>\n    <tr>\n      <th>22</th>\n      <td>NaN</td>\n      <td>6</td>\n      <td>7.0</td>\n      <td>6.0</td>\n      <td>5.0</td>\n      <td>2.0</td>\n      <td>5.0</td>\n      <td>3.0</td>\n      <td>3.0</td>\n      <td>5.0</td>\n      <td>...</td>\n      <td>10.0</td>\n      <td>NaN</td>\n      <td>13.0</td>\n      <td>6.0</td>\n      <td>NaN</td>\n      <td>4.0</td>\n      <td>5.0</td>\n      <td>4.0</td>\n      <td>12.0</td>\n      <td>10.0</td>\n    </tr>\n  </tbody>\n</table>\n<p>17 rows × 31 columns</p>\n</div>"
     },
     "metadata": {},
     "output_type": "display_data"
    },
    {
     "data": {
      "text/plain": "0     143.0\n1     112.5\n2     140.0\n5     141.0\n6     152.5\n7     153.0\n8     126.5\n11    147.5\n12    122.5\n13    152.0\n14    123.5\n15    132.0\n16    112.0\n17    120.0\n18     44.5\n19    107.5\n22    155.0\nName: Total, dtype: float64"
     },
     "metadata": {},
     "output_type": "display_data"
    },
    {
     "name": "stdout",
     "output_type": "stream",
     "text": [
      "35.0\n",
      "32.0\n",
      "35.0\n",
      "104.0\n",
      "35.0\n",
      "nan\n"
     ]
    },
    {
     "data": {
      "text/plain": "        UID  1.1  1.2  2.1  2.2  2.3  2.4  2.5  2.6 (nur Coding)  \\\n0   0LZR203  6.0  7.0  5.0  5.0  2.0  5.0  3.0               3.0   \n1   0REG243  6.0  7.0  6.0  5.0  2.0  5.0  3.0               3.0   \n2   1AGT138  6.0  7.0  5.0  5.0  2.0  5.0  3.0               3.0   \n5   3LDI060  6.0  7.0  6.0  5.0  2.0  5.0  3.0               3.0   \n6   3LST145  6.0  7.0  6.0  5.0  2.0  5.0  3.0               3.0   \n7   4ANT042  6.0  7.0  6.0  5.0  2.0  5.0  3.0               3.0   \n8   4DRO233  6.0  7.0  4.0  4.0  2.0  5.0  3.0               3.0   \n11  5NSA280  6.0  7.0  6.0  5.0  2.0  5.0  3.0               3.0   \n12  6CSA143  6.0  7.0  6.0  5.0  2.0  5.0  2.0               3.0   \n13  7BGT235  6.0  7.0  6.0  5.0  1.0  5.0  3.0               3.0   \n14  7KSM240  6.0  7.0  6.0  5.0  2.0  5.0  1.0               3.0   \n15  7RAI228  6.0  7.0  6.0  5.0  1.0  5.0  3.0               3.0   \n16  7SOA133  5.0  7.0  3.0  5.0  2.0  5.0  3.0               3.0   \n17  7VKT025  6.0  7.0  6.0  5.0  2.0  5.0  3.0               3.0   \n18  8AB4138  NaN  NaN  NaN  NaN  NaN  NaN  NaN               NaN   \n19  8CHT208  6.0  7.0  6.0  5.0  2.0  5.0  3.0               3.0   \n22      NaN  6.0  7.0  6.0  5.0  2.0  5.0  3.0               3.0   \n\n    3.1 (Integerdivisionproblem nicht betrachtet)  ...   6.2   6.4  7.1  7.3  \\\n0                                             5.0  ...  10.0  13.0  2.0  3.0   \n1                                             4.5  ...  10.0  13.0  3.5  NaN   \n2                                             5.0  ...   9.0  13.0  6.0  3.0   \n5                                             4.5  ...  10.0  13.0  6.0  4.0   \n6                                             5.0  ...  10.0  13.0  6.0  4.0   \n7                                             5.0  ...   9.0  13.0  6.0  4.0   \n8                                             4.5  ...  10.0   3.0  6.0  4.0   \n11                                            5.0  ...  10.0  13.0  3.0  3.0   \n12                                            2.5  ...   9.0   6.0  2.0  4.0   \n13                                            5.0  ...  10.0  13.0  6.0  4.0   \n14                                            4.5  ...   8.0  13.0  1.5  2.0   \n15                                            5.0  ...  10.0  13.0  1.0  3.0   \n16                                            NaN  ...   9.0  13.0  1.0  3.5   \n17                                            5.0  ...  10.0  13.0  6.0  NaN   \n18                                            NaN  ...  10.0  13.0  0.5  NaN   \n19                                            5.0  ...  10.0  13.0  2.5  NaN   \n22                                            5.0  ...  10.0  13.0  6.0  4.0   \n\n    7.4  7.5  7.6 (Primzahl)  7.7 (Primzahl)  Total  Percentage  \n0   5.0  4.0             9.0            10.0  143.0   92.258065  \n1   NaN  NaN             NaN             NaN  112.5       93.75  \n2   5.0  4.0             6.0             8.0  140.0   90.322581  \n5   5.0  4.0             8.0             9.0  141.0   90.967742  \n6   5.0  4.0            11.0            10.0  152.5   98.387097  \n7   5.0  4.0            12.0            10.0  153.0   98.709677  \n8   5.0  1.0             7.0            10.0  126.5   81.612903  \n11  5.0  4.0            11.5            10.0  147.5    95.16129  \n12  4.0  3.5             5.5             8.0  122.5   79.032258  \n13  5.0  3.5            12.0            10.0  152.0   98.064516  \n14  5.0  3.0             4.0             8.0  123.5   79.677419  \n15  5.0  4.0             5.0             8.0  132.0    85.16129  \n16  4.5  4.0            12.0            10.0  112.0   91.056911  \n17  NaN  NaN             NaN             NaN  120.0       100.0  \n18  NaN  NaN             NaN             NaN   44.5   87.254902  \n19  NaN  NaN             NaN             NaN  107.5   89.583333  \n22  5.0  4.0            12.0            10.0  155.0         NaN  \n\n[17 rows x 30 columns]",
      "text/html": "<div>\n<style scoped>\n    .dataframe tbody tr th:only-of-type {\n        vertical-align: middle;\n    }\n\n    .dataframe tbody tr th {\n        vertical-align: top;\n    }\n\n    .dataframe thead th {\n        text-align: right;\n    }\n</style>\n<table border=\"1\" class=\"dataframe\">\n  <thead>\n    <tr style=\"text-align: right;\">\n      <th></th>\n      <th>UID</th>\n      <th>1.1</th>\n      <th>1.2</th>\n      <th>2.1</th>\n      <th>2.2</th>\n      <th>2.3</th>\n      <th>2.4</th>\n      <th>2.5</th>\n      <th>2.6 (nur Coding)</th>\n      <th>3.1 (Integerdivisionproblem nicht betrachtet)</th>\n      <th>...</th>\n      <th>6.2</th>\n      <th>6.4</th>\n      <th>7.1</th>\n      <th>7.3</th>\n      <th>7.4</th>\n      <th>7.5</th>\n      <th>7.6 (Primzahl)</th>\n      <th>7.7 (Primzahl)</th>\n      <th>Total</th>\n      <th>Percentage</th>\n    </tr>\n  </thead>\n  <tbody>\n    <tr>\n      <th>0</th>\n      <td>0LZR203</td>\n      <td>6.0</td>\n      <td>7.0</td>\n      <td>5.0</td>\n      <td>5.0</td>\n      <td>2.0</td>\n      <td>5.0</td>\n      <td>3.0</td>\n      <td>3.0</td>\n      <td>5.0</td>\n      <td>...</td>\n      <td>10.0</td>\n      <td>13.0</td>\n      <td>2.0</td>\n      <td>3.0</td>\n      <td>5.0</td>\n      <td>4.0</td>\n      <td>9.0</td>\n      <td>10.0</td>\n      <td>143.0</td>\n      <td>92.258065</td>\n    </tr>\n    <tr>\n      <th>1</th>\n      <td>0REG243</td>\n      <td>6.0</td>\n      <td>7.0</td>\n      <td>6.0</td>\n      <td>5.0</td>\n      <td>2.0</td>\n      <td>5.0</td>\n      <td>3.0</td>\n      <td>3.0</td>\n      <td>4.5</td>\n      <td>...</td>\n      <td>10.0</td>\n      <td>13.0</td>\n      <td>3.5</td>\n      <td>NaN</td>\n      <td>NaN</td>\n      <td>NaN</td>\n      <td>NaN</td>\n      <td>NaN</td>\n      <td>112.5</td>\n      <td>93.75</td>\n    </tr>\n    <tr>\n      <th>2</th>\n      <td>1AGT138</td>\n      <td>6.0</td>\n      <td>7.0</td>\n      <td>5.0</td>\n      <td>5.0</td>\n      <td>2.0</td>\n      <td>5.0</td>\n      <td>3.0</td>\n      <td>3.0</td>\n      <td>5.0</td>\n      <td>...</td>\n      <td>9.0</td>\n      <td>13.0</td>\n      <td>6.0</td>\n      <td>3.0</td>\n      <td>5.0</td>\n      <td>4.0</td>\n      <td>6.0</td>\n      <td>8.0</td>\n      <td>140.0</td>\n      <td>90.322581</td>\n    </tr>\n    <tr>\n      <th>5</th>\n      <td>3LDI060</td>\n      <td>6.0</td>\n      <td>7.0</td>\n      <td>6.0</td>\n      <td>5.0</td>\n      <td>2.0</td>\n      <td>5.0</td>\n      <td>3.0</td>\n      <td>3.0</td>\n      <td>4.5</td>\n      <td>...</td>\n      <td>10.0</td>\n      <td>13.0</td>\n      <td>6.0</td>\n      <td>4.0</td>\n      <td>5.0</td>\n      <td>4.0</td>\n      <td>8.0</td>\n      <td>9.0</td>\n      <td>141.0</td>\n      <td>90.967742</td>\n    </tr>\n    <tr>\n      <th>6</th>\n      <td>3LST145</td>\n      <td>6.0</td>\n      <td>7.0</td>\n      <td>6.0</td>\n      <td>5.0</td>\n      <td>2.0</td>\n      <td>5.0</td>\n      <td>3.0</td>\n      <td>3.0</td>\n      <td>5.0</td>\n      <td>...</td>\n      <td>10.0</td>\n      <td>13.0</td>\n      <td>6.0</td>\n      <td>4.0</td>\n      <td>5.0</td>\n      <td>4.0</td>\n      <td>11.0</td>\n      <td>10.0</td>\n      <td>152.5</td>\n      <td>98.387097</td>\n    </tr>\n    <tr>\n      <th>7</th>\n      <td>4ANT042</td>\n      <td>6.0</td>\n      <td>7.0</td>\n      <td>6.0</td>\n      <td>5.0</td>\n      <td>2.0</td>\n      <td>5.0</td>\n      <td>3.0</td>\n      <td>3.0</td>\n      <td>5.0</td>\n      <td>...</td>\n      <td>9.0</td>\n      <td>13.0</td>\n      <td>6.0</td>\n      <td>4.0</td>\n      <td>5.0</td>\n      <td>4.0</td>\n      <td>12.0</td>\n      <td>10.0</td>\n      <td>153.0</td>\n      <td>98.709677</td>\n    </tr>\n    <tr>\n      <th>8</th>\n      <td>4DRO233</td>\n      <td>6.0</td>\n      <td>7.0</td>\n      <td>4.0</td>\n      <td>4.0</td>\n      <td>2.0</td>\n      <td>5.0</td>\n      <td>3.0</td>\n      <td>3.0</td>\n      <td>4.5</td>\n      <td>...</td>\n      <td>10.0</td>\n      <td>3.0</td>\n      <td>6.0</td>\n      <td>4.0</td>\n      <td>5.0</td>\n      <td>1.0</td>\n      <td>7.0</td>\n      <td>10.0</td>\n      <td>126.5</td>\n      <td>81.612903</td>\n    </tr>\n    <tr>\n      <th>11</th>\n      <td>5NSA280</td>\n      <td>6.0</td>\n      <td>7.0</td>\n      <td>6.0</td>\n      <td>5.0</td>\n      <td>2.0</td>\n      <td>5.0</td>\n      <td>3.0</td>\n      <td>3.0</td>\n      <td>5.0</td>\n      <td>...</td>\n      <td>10.0</td>\n      <td>13.0</td>\n      <td>3.0</td>\n      <td>3.0</td>\n      <td>5.0</td>\n      <td>4.0</td>\n      <td>11.5</td>\n      <td>10.0</td>\n      <td>147.5</td>\n      <td>95.16129</td>\n    </tr>\n    <tr>\n      <th>12</th>\n      <td>6CSA143</td>\n      <td>6.0</td>\n      <td>7.0</td>\n      <td>6.0</td>\n      <td>5.0</td>\n      <td>2.0</td>\n      <td>5.0</td>\n      <td>2.0</td>\n      <td>3.0</td>\n      <td>2.5</td>\n      <td>...</td>\n      <td>9.0</td>\n      <td>6.0</td>\n      <td>2.0</td>\n      <td>4.0</td>\n      <td>4.0</td>\n      <td>3.5</td>\n      <td>5.5</td>\n      <td>8.0</td>\n      <td>122.5</td>\n      <td>79.032258</td>\n    </tr>\n    <tr>\n      <th>13</th>\n      <td>7BGT235</td>\n      <td>6.0</td>\n      <td>7.0</td>\n      <td>6.0</td>\n      <td>5.0</td>\n      <td>1.0</td>\n      <td>5.0</td>\n      <td>3.0</td>\n      <td>3.0</td>\n      <td>5.0</td>\n      <td>...</td>\n      <td>10.0</td>\n      <td>13.0</td>\n      <td>6.0</td>\n      <td>4.0</td>\n      <td>5.0</td>\n      <td>3.5</td>\n      <td>12.0</td>\n      <td>10.0</td>\n      <td>152.0</td>\n      <td>98.064516</td>\n    </tr>\n    <tr>\n      <th>14</th>\n      <td>7KSM240</td>\n      <td>6.0</td>\n      <td>7.0</td>\n      <td>6.0</td>\n      <td>5.0</td>\n      <td>2.0</td>\n      <td>5.0</td>\n      <td>1.0</td>\n      <td>3.0</td>\n      <td>4.5</td>\n      <td>...</td>\n      <td>8.0</td>\n      <td>13.0</td>\n      <td>1.5</td>\n      <td>2.0</td>\n      <td>5.0</td>\n      <td>3.0</td>\n      <td>4.0</td>\n      <td>8.0</td>\n      <td>123.5</td>\n      <td>79.677419</td>\n    </tr>\n    <tr>\n      <th>15</th>\n      <td>7RAI228</td>\n      <td>6.0</td>\n      <td>7.0</td>\n      <td>6.0</td>\n      <td>5.0</td>\n      <td>1.0</td>\n      <td>5.0</td>\n      <td>3.0</td>\n      <td>3.0</td>\n      <td>5.0</td>\n      <td>...</td>\n      <td>10.0</td>\n      <td>13.0</td>\n      <td>1.0</td>\n      <td>3.0</td>\n      <td>5.0</td>\n      <td>4.0</td>\n      <td>5.0</td>\n      <td>8.0</td>\n      <td>132.0</td>\n      <td>85.16129</td>\n    </tr>\n    <tr>\n      <th>16</th>\n      <td>7SOA133</td>\n      <td>5.0</td>\n      <td>7.0</td>\n      <td>3.0</td>\n      <td>5.0</td>\n      <td>2.0</td>\n      <td>5.0</td>\n      <td>3.0</td>\n      <td>3.0</td>\n      <td>NaN</td>\n      <td>...</td>\n      <td>9.0</td>\n      <td>13.0</td>\n      <td>1.0</td>\n      <td>3.5</td>\n      <td>4.5</td>\n      <td>4.0</td>\n      <td>12.0</td>\n      <td>10.0</td>\n      <td>112.0</td>\n      <td>91.056911</td>\n    </tr>\n    <tr>\n      <th>17</th>\n      <td>7VKT025</td>\n      <td>6.0</td>\n      <td>7.0</td>\n      <td>6.0</td>\n      <td>5.0</td>\n      <td>2.0</td>\n      <td>5.0</td>\n      <td>3.0</td>\n      <td>3.0</td>\n      <td>5.0</td>\n      <td>...</td>\n      <td>10.0</td>\n      <td>13.0</td>\n      <td>6.0</td>\n      <td>NaN</td>\n      <td>NaN</td>\n      <td>NaN</td>\n      <td>NaN</td>\n      <td>NaN</td>\n      <td>120.0</td>\n      <td>100.0</td>\n    </tr>\n    <tr>\n      <th>18</th>\n      <td>8AB4138</td>\n      <td>NaN</td>\n      <td>NaN</td>\n      <td>NaN</td>\n      <td>NaN</td>\n      <td>NaN</td>\n      <td>NaN</td>\n      <td>NaN</td>\n      <td>NaN</td>\n      <td>NaN</td>\n      <td>...</td>\n      <td>10.0</td>\n      <td>13.0</td>\n      <td>0.5</td>\n      <td>NaN</td>\n      <td>NaN</td>\n      <td>NaN</td>\n      <td>NaN</td>\n      <td>NaN</td>\n      <td>44.5</td>\n      <td>87.254902</td>\n    </tr>\n    <tr>\n      <th>19</th>\n      <td>8CHT208</td>\n      <td>6.0</td>\n      <td>7.0</td>\n      <td>6.0</td>\n      <td>5.0</td>\n      <td>2.0</td>\n      <td>5.0</td>\n      <td>3.0</td>\n      <td>3.0</td>\n      <td>5.0</td>\n      <td>...</td>\n      <td>10.0</td>\n      <td>13.0</td>\n      <td>2.5</td>\n      <td>NaN</td>\n      <td>NaN</td>\n      <td>NaN</td>\n      <td>NaN</td>\n      <td>NaN</td>\n      <td>107.5</td>\n      <td>89.583333</td>\n    </tr>\n    <tr>\n      <th>22</th>\n      <td>NaN</td>\n      <td>6.0</td>\n      <td>7.0</td>\n      <td>6.0</td>\n      <td>5.0</td>\n      <td>2.0</td>\n      <td>5.0</td>\n      <td>3.0</td>\n      <td>3.0</td>\n      <td>5.0</td>\n      <td>...</td>\n      <td>10.0</td>\n      <td>13.0</td>\n      <td>6.0</td>\n      <td>4.0</td>\n      <td>5.0</td>\n      <td>4.0</td>\n      <td>12.0</td>\n      <td>10.0</td>\n      <td>155.0</td>\n      <td>NaN</td>\n    </tr>\n  </tbody>\n</table>\n<p>17 rows × 30 columns</p>\n</div>"
     },
     "metadata": {},
     "output_type": "display_data"
    }
   ],
   "source": [
    "import numpy as np\n",
    "\n",
    "df_tasks = pd.read_excel(xls, \"Übungsaufgaben\")\n",
    "\n",
    "#delete rows in df_tasks where more than 10 times are nan\n",
    "df_tasks = df_tasks.dropna(thresh=10)\n",
    "\n",
    "#df_tasks drop last two rows\n",
    "df_tasks = df_tasks.drop(df_tasks.index[[-2]])\n",
    "\n",
    "#df tasks drop last column\n",
    "df_tasks = df_tasks.drop(df_tasks.columns[-1], axis=1)\n",
    "\n",
    "display(df_tasks)\n",
    "\n",
    "#df tasks drop column total\n",
    "#df_tasks = df_tasks.drop(df_tasks.columns[-1], axis= 1)\n",
    "\n",
    "\n",
    "#df task remove column '3.3'\n",
    "df_tasks = df_tasks.drop(['3.3', '6.3', '7.2'], axis= 1)\n",
    "\n",
    "#calculate total points per row and add to df_tasks starting from 2nd column\n",
    "#calculate total points per row and add to df_tasks\n",
    "df_tasks['Total'] = df_tasks.iloc[:, 1:].sum(axis=1)\n",
    "\n",
    "display(df_tasks[\"Total\"])\n",
    "\n",
    "tasks = df_tasks.iloc[-1]\n",
    "\n",
    "#change column 1.1 to floats\n",
    "df_tasks['1.1'] = df_tasks['1.1'].astype(float)\n",
    "\n",
    "#add empty column Percentage at end\n",
    "df_tasks[\"Percentage\"] = \"\"\n",
    "\n",
    "max_points = []\n",
    "for index, row in df_tasks.iterrows():\n",
    "    nan_list = row[row.isnull()].index.tolist()\n",
    "\n",
    "    if nan_list:\n",
    "        total = 0\n",
    "        for element in nan_list:\n",
    "\n",
    "            if element in tasks.index:\n",
    "                #if element is in tasks.index, get the value of the element\n",
    "                #print(tasks[element])\n",
    "                total += tasks[element]\n",
    "        print(total)\n",
    "\n",
    "        #remove at index in df_tasks from column total the total\n",
    "        max = 155 - total\n",
    "        df_tasks.at[index, 'Percentage'] = df_tasks.at[index, 'Total'] / max * 100\n",
    "    else:\n",
    "        df_tasks.at[index, 'Percentage'] = df_tasks.at[index, 'Total'] / 155 * 100\n",
    "\n",
    "#print(max_points)\n",
    "\n",
    "#calculate percentage of total points per row and add to df_tasks starting from 2nd column\n",
    "#df_tasks[\"Percentage\"] = df_tasks[\"Total\"] / 155 * 100\n",
    "\n",
    "display(df_tasks)"
   ],
   "metadata": {
    "collapsed": false,
    "pycharm": {
     "name": "#%%\n"
    }
   }
  },
  {
   "cell_type": "code",
   "execution_count": 46,
   "outputs": [
    {
     "data": {
      "text/plain": "        UID  1.1  1.2  2.1  2.2  2.3  2.4  2.5  2.6 (nur Coding)  \\\n0   0LZR203  6.0  7.0  5.0  5.0  2.0  5.0  3.0               3.0   \n1   0REG243  6.0  7.0  6.0  5.0  2.0  5.0  3.0               3.0   \n2   1AGT138  6.0  7.0  5.0  5.0  2.0  5.0  3.0               3.0   \n5   3LDI060  6.0  7.0  6.0  5.0  2.0  5.0  3.0               3.0   \n6   3LST145  6.0  7.0  6.0  5.0  2.0  5.0  3.0               3.0   \n7   4ANT042  6.0  7.0  6.0  5.0  2.0  5.0  3.0               3.0   \n13  7BGT235  6.0  7.0  6.0  5.0  1.0  5.0  3.0               3.0   \n15  7RAI228  6.0  7.0  6.0  5.0  1.0  5.0  3.0               3.0   \n16  7SOA133  5.0  7.0  3.0  5.0  2.0  5.0  3.0               3.0   \n19  8CHT208  6.0  7.0  6.0  5.0  2.0  5.0  3.0               3.0   \n\n    3.1 (Integerdivisionproblem nicht betrachtet)  ...   6.2   6.4  7.1  7.3  \\\n0                                             5.0  ...  10.0  13.0  2.0  3.0   \n1                                             4.5  ...  10.0  13.0  3.5  NaN   \n2                                             5.0  ...   9.0  13.0  6.0  3.0   \n5                                             4.5  ...  10.0  13.0  6.0  4.0   \n6                                             5.0  ...  10.0  13.0  6.0  4.0   \n7                                             5.0  ...   9.0  13.0  6.0  4.0   \n13                                            5.0  ...  10.0  13.0  6.0  4.0   \n15                                            5.0  ...  10.0  13.0  1.0  3.0   \n16                                            NaN  ...   9.0  13.0  1.0  3.5   \n19                                            5.0  ...  10.0  13.0  2.5  NaN   \n\n    7.4  7.5  7.6 (Primzahl)  7.7 (Primzahl)  Total  Percentage  \n0   5.0  4.0             9.0            10.0  143.0   92.258065  \n1   NaN  NaN             NaN             NaN  112.5       93.75  \n2   5.0  4.0             6.0             8.0  140.0   90.322581  \n5   5.0  4.0             8.0             9.0  141.0   90.967742  \n6   5.0  4.0            11.0            10.0  152.5   98.387097  \n7   5.0  4.0            12.0            10.0  153.0   98.709677  \n13  5.0  3.5            12.0            10.0  152.0   98.064516  \n15  5.0  4.0             5.0             8.0  132.0    85.16129  \n16  4.5  4.0            12.0            10.0  112.0   91.056911  \n19  NaN  NaN             NaN             NaN  107.5   89.583333  \n\n[10 rows x 30 columns]",
      "text/html": "<div>\n<style scoped>\n    .dataframe tbody tr th:only-of-type {\n        vertical-align: middle;\n    }\n\n    .dataframe tbody tr th {\n        vertical-align: top;\n    }\n\n    .dataframe thead th {\n        text-align: right;\n    }\n</style>\n<table border=\"1\" class=\"dataframe\">\n  <thead>\n    <tr style=\"text-align: right;\">\n      <th></th>\n      <th>UID</th>\n      <th>1.1</th>\n      <th>1.2</th>\n      <th>2.1</th>\n      <th>2.2</th>\n      <th>2.3</th>\n      <th>2.4</th>\n      <th>2.5</th>\n      <th>2.6 (nur Coding)</th>\n      <th>3.1 (Integerdivisionproblem nicht betrachtet)</th>\n      <th>...</th>\n      <th>6.2</th>\n      <th>6.4</th>\n      <th>7.1</th>\n      <th>7.3</th>\n      <th>7.4</th>\n      <th>7.5</th>\n      <th>7.6 (Primzahl)</th>\n      <th>7.7 (Primzahl)</th>\n      <th>Total</th>\n      <th>Percentage</th>\n    </tr>\n  </thead>\n  <tbody>\n    <tr>\n      <th>0</th>\n      <td>0LZR203</td>\n      <td>6.0</td>\n      <td>7.0</td>\n      <td>5.0</td>\n      <td>5.0</td>\n      <td>2.0</td>\n      <td>5.0</td>\n      <td>3.0</td>\n      <td>3.0</td>\n      <td>5.0</td>\n      <td>...</td>\n      <td>10.0</td>\n      <td>13.0</td>\n      <td>2.0</td>\n      <td>3.0</td>\n      <td>5.0</td>\n      <td>4.0</td>\n      <td>9.0</td>\n      <td>10.0</td>\n      <td>143.0</td>\n      <td>92.258065</td>\n    </tr>\n    <tr>\n      <th>1</th>\n      <td>0REG243</td>\n      <td>6.0</td>\n      <td>7.0</td>\n      <td>6.0</td>\n      <td>5.0</td>\n      <td>2.0</td>\n      <td>5.0</td>\n      <td>3.0</td>\n      <td>3.0</td>\n      <td>4.5</td>\n      <td>...</td>\n      <td>10.0</td>\n      <td>13.0</td>\n      <td>3.5</td>\n      <td>NaN</td>\n      <td>NaN</td>\n      <td>NaN</td>\n      <td>NaN</td>\n      <td>NaN</td>\n      <td>112.5</td>\n      <td>93.75</td>\n    </tr>\n    <tr>\n      <th>2</th>\n      <td>1AGT138</td>\n      <td>6.0</td>\n      <td>7.0</td>\n      <td>5.0</td>\n      <td>5.0</td>\n      <td>2.0</td>\n      <td>5.0</td>\n      <td>3.0</td>\n      <td>3.0</td>\n      <td>5.0</td>\n      <td>...</td>\n      <td>9.0</td>\n      <td>13.0</td>\n      <td>6.0</td>\n      <td>3.0</td>\n      <td>5.0</td>\n      <td>4.0</td>\n      <td>6.0</td>\n      <td>8.0</td>\n      <td>140.0</td>\n      <td>90.322581</td>\n    </tr>\n    <tr>\n      <th>5</th>\n      <td>3LDI060</td>\n      <td>6.0</td>\n      <td>7.0</td>\n      <td>6.0</td>\n      <td>5.0</td>\n      <td>2.0</td>\n      <td>5.0</td>\n      <td>3.0</td>\n      <td>3.0</td>\n      <td>4.5</td>\n      <td>...</td>\n      <td>10.0</td>\n      <td>13.0</td>\n      <td>6.0</td>\n      <td>4.0</td>\n      <td>5.0</td>\n      <td>4.0</td>\n      <td>8.0</td>\n      <td>9.0</td>\n      <td>141.0</td>\n      <td>90.967742</td>\n    </tr>\n    <tr>\n      <th>6</th>\n      <td>3LST145</td>\n      <td>6.0</td>\n      <td>7.0</td>\n      <td>6.0</td>\n      <td>5.0</td>\n      <td>2.0</td>\n      <td>5.0</td>\n      <td>3.0</td>\n      <td>3.0</td>\n      <td>5.0</td>\n      <td>...</td>\n      <td>10.0</td>\n      <td>13.0</td>\n      <td>6.0</td>\n      <td>4.0</td>\n      <td>5.0</td>\n      <td>4.0</td>\n      <td>11.0</td>\n      <td>10.0</td>\n      <td>152.5</td>\n      <td>98.387097</td>\n    </tr>\n    <tr>\n      <th>7</th>\n      <td>4ANT042</td>\n      <td>6.0</td>\n      <td>7.0</td>\n      <td>6.0</td>\n      <td>5.0</td>\n      <td>2.0</td>\n      <td>5.0</td>\n      <td>3.0</td>\n      <td>3.0</td>\n      <td>5.0</td>\n      <td>...</td>\n      <td>9.0</td>\n      <td>13.0</td>\n      <td>6.0</td>\n      <td>4.0</td>\n      <td>5.0</td>\n      <td>4.0</td>\n      <td>12.0</td>\n      <td>10.0</td>\n      <td>153.0</td>\n      <td>98.709677</td>\n    </tr>\n    <tr>\n      <th>13</th>\n      <td>7BGT235</td>\n      <td>6.0</td>\n      <td>7.0</td>\n      <td>6.0</td>\n      <td>5.0</td>\n      <td>1.0</td>\n      <td>5.0</td>\n      <td>3.0</td>\n      <td>3.0</td>\n      <td>5.0</td>\n      <td>...</td>\n      <td>10.0</td>\n      <td>13.0</td>\n      <td>6.0</td>\n      <td>4.0</td>\n      <td>5.0</td>\n      <td>3.5</td>\n      <td>12.0</td>\n      <td>10.0</td>\n      <td>152.0</td>\n      <td>98.064516</td>\n    </tr>\n    <tr>\n      <th>15</th>\n      <td>7RAI228</td>\n      <td>6.0</td>\n      <td>7.0</td>\n      <td>6.0</td>\n      <td>5.0</td>\n      <td>1.0</td>\n      <td>5.0</td>\n      <td>3.0</td>\n      <td>3.0</td>\n      <td>5.0</td>\n      <td>...</td>\n      <td>10.0</td>\n      <td>13.0</td>\n      <td>1.0</td>\n      <td>3.0</td>\n      <td>5.0</td>\n      <td>4.0</td>\n      <td>5.0</td>\n      <td>8.0</td>\n      <td>132.0</td>\n      <td>85.16129</td>\n    </tr>\n    <tr>\n      <th>16</th>\n      <td>7SOA133</td>\n      <td>5.0</td>\n      <td>7.0</td>\n      <td>3.0</td>\n      <td>5.0</td>\n      <td>2.0</td>\n      <td>5.0</td>\n      <td>3.0</td>\n      <td>3.0</td>\n      <td>NaN</td>\n      <td>...</td>\n      <td>9.0</td>\n      <td>13.0</td>\n      <td>1.0</td>\n      <td>3.5</td>\n      <td>4.5</td>\n      <td>4.0</td>\n      <td>12.0</td>\n      <td>10.0</td>\n      <td>112.0</td>\n      <td>91.056911</td>\n    </tr>\n    <tr>\n      <th>19</th>\n      <td>8CHT208</td>\n      <td>6.0</td>\n      <td>7.0</td>\n      <td>6.0</td>\n      <td>5.0</td>\n      <td>2.0</td>\n      <td>5.0</td>\n      <td>3.0</td>\n      <td>3.0</td>\n      <td>5.0</td>\n      <td>...</td>\n      <td>10.0</td>\n      <td>13.0</td>\n      <td>2.5</td>\n      <td>NaN</td>\n      <td>NaN</td>\n      <td>NaN</td>\n      <td>NaN</td>\n      <td>NaN</td>\n      <td>107.5</td>\n      <td>89.583333</td>\n    </tr>\n  </tbody>\n</table>\n<p>10 rows × 30 columns</p>\n</div>"
     },
     "metadata": {},
     "output_type": "display_data"
    },
    {
     "data": {
      "text/plain": "        UID  1.1  1.2  2.1  2.2  2.3  2.4  2.5  2.6 (nur Coding)  \\\n8   4DRO233  6.0  7.0  4.0  4.0  2.0  5.0  3.0               3.0   \n11  5NSA280  6.0  7.0  6.0  5.0  2.0  5.0  3.0               3.0   \n12  6CSA143  6.0  7.0  6.0  5.0  2.0  5.0  2.0               3.0   \n14  7KSM240  6.0  7.0  6.0  5.0  2.0  5.0  1.0               3.0   \n17  7VKT025  6.0  7.0  6.0  5.0  2.0  5.0  3.0               3.0   \n18  8AB4138  NaN  NaN  NaN  NaN  NaN  NaN  NaN               NaN   \n\n    3.1 (Integerdivisionproblem nicht betrachtet)  ...   6.2   6.4  7.1  7.3  \\\n8                                             4.5  ...  10.0   3.0  6.0  4.0   \n11                                            5.0  ...  10.0  13.0  3.0  3.0   \n12                                            2.5  ...   9.0   6.0  2.0  4.0   \n14                                            4.5  ...   8.0  13.0  1.5  2.0   \n17                                            5.0  ...  10.0  13.0  6.0  NaN   \n18                                            NaN  ...  10.0  13.0  0.5  NaN   \n\n    7.4  7.5  7.6 (Primzahl)  7.7 (Primzahl)  Total  Percentage  \n8   5.0  1.0             7.0            10.0  126.5   81.612903  \n11  5.0  4.0            11.5            10.0  147.5    95.16129  \n12  4.0  3.5             5.5             8.0  122.5   79.032258  \n14  5.0  3.0             4.0             8.0  123.5   79.677419  \n17  NaN  NaN             NaN             NaN  120.0       100.0  \n18  NaN  NaN             NaN             NaN   44.5   87.254902  \n\n[6 rows x 30 columns]",
      "text/html": "<div>\n<style scoped>\n    .dataframe tbody tr th:only-of-type {\n        vertical-align: middle;\n    }\n\n    .dataframe tbody tr th {\n        vertical-align: top;\n    }\n\n    .dataframe thead th {\n        text-align: right;\n    }\n</style>\n<table border=\"1\" class=\"dataframe\">\n  <thead>\n    <tr style=\"text-align: right;\">\n      <th></th>\n      <th>UID</th>\n      <th>1.1</th>\n      <th>1.2</th>\n      <th>2.1</th>\n      <th>2.2</th>\n      <th>2.3</th>\n      <th>2.4</th>\n      <th>2.5</th>\n      <th>2.6 (nur Coding)</th>\n      <th>3.1 (Integerdivisionproblem nicht betrachtet)</th>\n      <th>...</th>\n      <th>6.2</th>\n      <th>6.4</th>\n      <th>7.1</th>\n      <th>7.3</th>\n      <th>7.4</th>\n      <th>7.5</th>\n      <th>7.6 (Primzahl)</th>\n      <th>7.7 (Primzahl)</th>\n      <th>Total</th>\n      <th>Percentage</th>\n    </tr>\n  </thead>\n  <tbody>\n    <tr>\n      <th>8</th>\n      <td>4DRO233</td>\n      <td>6.0</td>\n      <td>7.0</td>\n      <td>4.0</td>\n      <td>4.0</td>\n      <td>2.0</td>\n      <td>5.0</td>\n      <td>3.0</td>\n      <td>3.0</td>\n      <td>4.5</td>\n      <td>...</td>\n      <td>10.0</td>\n      <td>3.0</td>\n      <td>6.0</td>\n      <td>4.0</td>\n      <td>5.0</td>\n      <td>1.0</td>\n      <td>7.0</td>\n      <td>10.0</td>\n      <td>126.5</td>\n      <td>81.612903</td>\n    </tr>\n    <tr>\n      <th>11</th>\n      <td>5NSA280</td>\n      <td>6.0</td>\n      <td>7.0</td>\n      <td>6.0</td>\n      <td>5.0</td>\n      <td>2.0</td>\n      <td>5.0</td>\n      <td>3.0</td>\n      <td>3.0</td>\n      <td>5.0</td>\n      <td>...</td>\n      <td>10.0</td>\n      <td>13.0</td>\n      <td>3.0</td>\n      <td>3.0</td>\n      <td>5.0</td>\n      <td>4.0</td>\n      <td>11.5</td>\n      <td>10.0</td>\n      <td>147.5</td>\n      <td>95.16129</td>\n    </tr>\n    <tr>\n      <th>12</th>\n      <td>6CSA143</td>\n      <td>6.0</td>\n      <td>7.0</td>\n      <td>6.0</td>\n      <td>5.0</td>\n      <td>2.0</td>\n      <td>5.0</td>\n      <td>2.0</td>\n      <td>3.0</td>\n      <td>2.5</td>\n      <td>...</td>\n      <td>9.0</td>\n      <td>6.0</td>\n      <td>2.0</td>\n      <td>4.0</td>\n      <td>4.0</td>\n      <td>3.5</td>\n      <td>5.5</td>\n      <td>8.0</td>\n      <td>122.5</td>\n      <td>79.032258</td>\n    </tr>\n    <tr>\n      <th>14</th>\n      <td>7KSM240</td>\n      <td>6.0</td>\n      <td>7.0</td>\n      <td>6.0</td>\n      <td>5.0</td>\n      <td>2.0</td>\n      <td>5.0</td>\n      <td>1.0</td>\n      <td>3.0</td>\n      <td>4.5</td>\n      <td>...</td>\n      <td>8.0</td>\n      <td>13.0</td>\n      <td>1.5</td>\n      <td>2.0</td>\n      <td>5.0</td>\n      <td>3.0</td>\n      <td>4.0</td>\n      <td>8.0</td>\n      <td>123.5</td>\n      <td>79.677419</td>\n    </tr>\n    <tr>\n      <th>17</th>\n      <td>7VKT025</td>\n      <td>6.0</td>\n      <td>7.0</td>\n      <td>6.0</td>\n      <td>5.0</td>\n      <td>2.0</td>\n      <td>5.0</td>\n      <td>3.0</td>\n      <td>3.0</td>\n      <td>5.0</td>\n      <td>...</td>\n      <td>10.0</td>\n      <td>13.0</td>\n      <td>6.0</td>\n      <td>NaN</td>\n      <td>NaN</td>\n      <td>NaN</td>\n      <td>NaN</td>\n      <td>NaN</td>\n      <td>120.0</td>\n      <td>100.0</td>\n    </tr>\n    <tr>\n      <th>18</th>\n      <td>8AB4138</td>\n      <td>NaN</td>\n      <td>NaN</td>\n      <td>NaN</td>\n      <td>NaN</td>\n      <td>NaN</td>\n      <td>NaN</td>\n      <td>NaN</td>\n      <td>NaN</td>\n      <td>NaN</td>\n      <td>...</td>\n      <td>10.0</td>\n      <td>13.0</td>\n      <td>0.5</td>\n      <td>NaN</td>\n      <td>NaN</td>\n      <td>NaN</td>\n      <td>NaN</td>\n      <td>NaN</td>\n      <td>44.5</td>\n      <td>87.254902</td>\n    </tr>\n  </tbody>\n</table>\n<p>6 rows × 30 columns</p>\n</div>"
     },
     "metadata": {},
     "output_type": "display_data"
    },
    {
     "data": {
      "text/plain": "87.12312882142105"
     },
     "execution_count": 46,
     "metadata": {},
     "output_type": "execute_result"
    }
   ],
   "source": [
    "#split df_tasks into broca and control\n",
    "df_tasks_broca = df_tasks[df_tasks.UID.isin(broca_uid)]\n",
    "df_tasks_control = df_tasks[df_tasks.UID.isin(control_uid)]\n",
    "\n",
    "display(df_tasks_broca)\n",
    "display(df_tasks_control)\n",
    "\n",
    "df_tasks_control[\"Percentage\"].mean()"
   ],
   "metadata": {
    "collapsed": false,
    "pycharm": {
     "name": "#%%\n"
    }
   }
  },
  {
   "cell_type": "code",
   "execution_count": 47,
   "outputs": [
    {
     "data": {
      "text/plain": "92.82612116443745"
     },
     "execution_count": 47,
     "metadata": {},
     "output_type": "execute_result"
    }
   ],
   "source": [
    "df_tasks_broca[\"Percentage\"].mean()"
   ],
   "metadata": {
    "collapsed": false,
    "pycharm": {
     "name": "#%%\n"
    }
   }
  },
  {
   "cell_type": "code",
   "execution_count": 48,
   "outputs": [],
   "source": [
    "#create df_broca_datatypes with only UID and 1.1 and 1.2\n",
    "df_datatypes = df_tasks[['UID', '1.1', '1.2']]\n",
    "\n",
    "df_variables = df_tasks[['UID', '2.1', '2.2', '2.3', '2.4', '2.5', '2.6 (nur Coding)']]\n",
    "\n",
    "df_arithmetic = df_tasks[['UID', '3.1 (Integerdivisionproblem nicht betrachtet)', '3.2.1', '3.2.2', '3.4']]\n",
    "\n",
    "df_print = df_tasks[['UID', '4.1', '4.2']]\n",
    "\n",
    "df_logical = df_tasks[['UID', '5.1', '5.2', '5.3', '5.4']]\n",
    "\n",
    "df_conditional = df_tasks[['UID', '6.1', '6.2', '6.4']]\n",
    "\n",
    "df_loops = df_tasks[['UID', '7.1', '7.3', '7.4', '7.5', '7.6 (Primzahl)', '7.7 (Primzahl)']]\n",
    "\n",
    "\n",
    "#get last row of df_datatypes\n",
    "points_datatypes = df_datatypes.iloc[-1]\n",
    "\n",
    "#get last row of df_variables\n",
    "points_variables = df_variables.iloc[-1]\n",
    "\n",
    "#get last row of df_arithmetic\n",
    "points_arithmetic = df_arithmetic.iloc[-1]\n",
    "\n",
    "#get last row of df_print\n",
    "points_print = df_print.iloc[-1]\n",
    "\n",
    "#get last row of df_logical\n",
    "points_logical = df_logical.iloc[-1]\n",
    "\n",
    "#get last row of df_conditional\n",
    "points_conditional = df_conditional.iloc[-1]\n",
    "\n",
    "#get last row of df_loops\n",
    "points_loops = df_loops.iloc[-1]\n",
    "#get sum of points_datatypes\n",
    "sum_datatypes = points_datatypes.sum()\n",
    "\n",
    "#get sum of points_variables\n",
    "sum_variables = points_variables.sum()\n",
    "\n",
    "#get sum of points_arithmetic\n",
    "sum_arithmetic = points_arithmetic.sum()\n",
    "\n",
    "#get sum of points_print\n",
    "sum_print = points_print.sum()\n",
    "\n",
    "#get sum of points_logical\n",
    "sum_logical = points_logical.sum()\n",
    "\n",
    "#get sum of points_conditional\n",
    "sum_conditional = points_conditional.sum()\n",
    "\n",
    "#get sum of points_loops\n",
    "sum_loops = points_loops.sum()\n",
    "\n",
    "df_datatypes = df_datatypes.dropna()\n",
    "df_variables = df_variables.dropna()\n",
    "df_arithmetic = df_arithmetic.dropna()\n",
    "df_print = df_print.dropna()\n",
    "df_logical = df_logical.dropna()\n",
    "df_conditional = df_conditional.dropna()\n",
    "df_loops = df_loops.dropna()\n",
    "\n",
    "\n",
    "#split df_datatypes in broca and control\n",
    "df_datatypes_broca = df_datatypes[df_datatypes.UID.isin(broca_uid)]\n",
    "df_datatypes_control = df_datatypes[df_datatypes.UID.isin(control_uid)]\n",
    "\n",
    "#split df_variables in broca and control\n",
    "df_variables_broca = df_variables[df_variables.UID.isin(broca_uid)]\n",
    "df_variables_control = df_variables[df_variables.UID.isin(control_uid)]\n",
    "\n",
    "#split df_arithmetic in broca and control\n",
    "df_arithmetic_broca = df_arithmetic[df_arithmetic.UID.isin(broca_uid)]\n",
    "df_arithmetic_control = df_arithmetic[df_arithmetic.UID.isin(control_uid)]\n",
    "\n",
    "#split df_print in broca and control\n",
    "df_print_broca = df_print[df_print.UID.isin(broca_uid)]\n",
    "df_print_control = df_print[df_print.UID.isin(control_uid)]\n",
    "\n",
    "#split df_logical in broca and control\n",
    "df_logical_broca = df_logical[df_logical.UID.isin(broca_uid)]\n",
    "df_logical_control = df_logical[df_logical.UID.isin(control_uid)]\n",
    "\n",
    "#split df_conditional in broca and control\n",
    "df_conditional_broca = df_conditional[df_conditional.UID.isin(broca_uid)]\n",
    "df_conditional_control = df_conditional[df_conditional.UID.isin(control_uid)]\n",
    "\n",
    "#split df_loops in broca and control\n",
    "df_loops_broca = df_loops[df_loops.UID.isin(broca_uid)]\n",
    "df_loops_control = df_loops[df_loops.UID.isin(control_uid)]\n"
   ],
   "metadata": {
    "collapsed": false,
    "pycharm": {
     "name": "#%%\n"
    }
   }
  },
  {
   "cell_type": "code",
   "execution_count": 49,
   "outputs": [
    {
     "name": "stderr",
     "output_type": "stream",
     "text": [
      "C:\\Users\\gorgo\\AppData\\Local\\Temp/ipykernel_8352/1782377705.py:2: SettingWithCopyWarning: \n",
      "A value is trying to be set on a copy of a slice from a DataFrame.\n",
      "Try using .loc[row_indexer,col_indexer] = value instead\n",
      "\n",
      "See the caveats in the documentation: https://pandas.pydata.org/pandas-docs/stable/user_guide/indexing.html#returning-a-view-versus-a-copy\n",
      "  df_datatypes_broca['Total'] = df_datatypes_broca.sum(numeric_only=True, axis=1)\n",
      "C:\\Users\\gorgo\\AppData\\Local\\Temp/ipykernel_8352/1782377705.py:5: SettingWithCopyWarning: \n",
      "A value is trying to be set on a copy of a slice from a DataFrame.\n",
      "Try using .loc[row_indexer,col_indexer] = value instead\n",
      "\n",
      "See the caveats in the documentation: https://pandas.pydata.org/pandas-docs/stable/user_guide/indexing.html#returning-a-view-versus-a-copy\n",
      "  df_datatypes_control['Total'] = df_datatypes_control.sum(numeric_only=True, axis=1)\n",
      "C:\\Users\\gorgo\\AppData\\Local\\Temp/ipykernel_8352/1782377705.py:9: SettingWithCopyWarning: \n",
      "A value is trying to be set on a copy of a slice from a DataFrame.\n",
      "Try using .loc[row_indexer,col_indexer] = value instead\n",
      "\n",
      "See the caveats in the documentation: https://pandas.pydata.org/pandas-docs/stable/user_guide/indexing.html#returning-a-view-versus-a-copy\n",
      "  df_variables_broca['Total'] = df_variables_broca.sum(numeric_only=True, axis=1)\n",
      "C:\\Users\\gorgo\\AppData\\Local\\Temp/ipykernel_8352/1782377705.py:12: SettingWithCopyWarning: \n",
      "A value is trying to be set on a copy of a slice from a DataFrame.\n",
      "Try using .loc[row_indexer,col_indexer] = value instead\n",
      "\n",
      "See the caveats in the documentation: https://pandas.pydata.org/pandas-docs/stable/user_guide/indexing.html#returning-a-view-versus-a-copy\n",
      "  df_variables_control['Total'] = df_variables_control.sum(numeric_only=True, axis=1)\n",
      "C:\\Users\\gorgo\\AppData\\Local\\Temp/ipykernel_8352/1782377705.py:16: SettingWithCopyWarning: \n",
      "A value is trying to be set on a copy of a slice from a DataFrame.\n",
      "Try using .loc[row_indexer,col_indexer] = value instead\n",
      "\n",
      "See the caveats in the documentation: https://pandas.pydata.org/pandas-docs/stable/user_guide/indexing.html#returning-a-view-versus-a-copy\n",
      "  df_arithmetic_broca['Total'] = df_arithmetic_broca.sum(numeric_only=True, axis=1)\n",
      "C:\\Users\\gorgo\\AppData\\Local\\Temp/ipykernel_8352/1782377705.py:19: SettingWithCopyWarning: \n",
      "A value is trying to be set on a copy of a slice from a DataFrame.\n",
      "Try using .loc[row_indexer,col_indexer] = value instead\n",
      "\n",
      "See the caveats in the documentation: https://pandas.pydata.org/pandas-docs/stable/user_guide/indexing.html#returning-a-view-versus-a-copy\n",
      "  df_arithmetic_control['Total'] = df_arithmetic_control.sum(numeric_only=True, axis=1)\n",
      "C:\\Users\\gorgo\\AppData\\Local\\Temp/ipykernel_8352/1782377705.py:23: SettingWithCopyWarning: \n",
      "A value is trying to be set on a copy of a slice from a DataFrame.\n",
      "Try using .loc[row_indexer,col_indexer] = value instead\n",
      "\n",
      "See the caveats in the documentation: https://pandas.pydata.org/pandas-docs/stable/user_guide/indexing.html#returning-a-view-versus-a-copy\n",
      "  df_print_broca['Total'] = df_print_broca.sum(numeric_only=True, axis=1)\n",
      "C:\\Users\\gorgo\\AppData\\Local\\Temp/ipykernel_8352/1782377705.py:26: SettingWithCopyWarning: \n",
      "A value is trying to be set on a copy of a slice from a DataFrame.\n",
      "Try using .loc[row_indexer,col_indexer] = value instead\n",
      "\n",
      "See the caveats in the documentation: https://pandas.pydata.org/pandas-docs/stable/user_guide/indexing.html#returning-a-view-versus-a-copy\n",
      "  df_print_control['Total'] = df_print_control.sum(numeric_only=True, axis=1)\n",
      "C:\\Users\\gorgo\\AppData\\Local\\Temp/ipykernel_8352/1782377705.py:30: SettingWithCopyWarning: \n",
      "A value is trying to be set on a copy of a slice from a DataFrame.\n",
      "Try using .loc[row_indexer,col_indexer] = value instead\n",
      "\n",
      "See the caveats in the documentation: https://pandas.pydata.org/pandas-docs/stable/user_guide/indexing.html#returning-a-view-versus-a-copy\n",
      "  df_logical_broca['Total'] = df_logical_broca.sum(numeric_only=True, axis=1)\n",
      "C:\\Users\\gorgo\\AppData\\Local\\Temp/ipykernel_8352/1782377705.py:33: SettingWithCopyWarning: \n",
      "A value is trying to be set on a copy of a slice from a DataFrame.\n",
      "Try using .loc[row_indexer,col_indexer] = value instead\n",
      "\n",
      "See the caveats in the documentation: https://pandas.pydata.org/pandas-docs/stable/user_guide/indexing.html#returning-a-view-versus-a-copy\n",
      "  df_logical_control['Total'] = df_logical_control.sum(numeric_only=True, axis=1)\n",
      "C:\\Users\\gorgo\\AppData\\Local\\Temp/ipykernel_8352/1782377705.py:37: SettingWithCopyWarning: \n",
      "A value is trying to be set on a copy of a slice from a DataFrame.\n",
      "Try using .loc[row_indexer,col_indexer] = value instead\n",
      "\n",
      "See the caveats in the documentation: https://pandas.pydata.org/pandas-docs/stable/user_guide/indexing.html#returning-a-view-versus-a-copy\n",
      "  df_conditional_broca['Total'] = df_conditional_broca.sum(numeric_only=True, axis=1)\n",
      "C:\\Users\\gorgo\\AppData\\Local\\Temp/ipykernel_8352/1782377705.py:40: SettingWithCopyWarning: \n",
      "A value is trying to be set on a copy of a slice from a DataFrame.\n",
      "Try using .loc[row_indexer,col_indexer] = value instead\n",
      "\n",
      "See the caveats in the documentation: https://pandas.pydata.org/pandas-docs/stable/user_guide/indexing.html#returning-a-view-versus-a-copy\n",
      "  df_conditional_control['Total'] = df_conditional_control.sum(numeric_only=True, axis=1)\n",
      "C:\\Users\\gorgo\\AppData\\Local\\Temp/ipykernel_8352/1782377705.py:44: SettingWithCopyWarning: \n",
      "A value is trying to be set on a copy of a slice from a DataFrame.\n",
      "Try using .loc[row_indexer,col_indexer] = value instead\n",
      "\n",
      "See the caveats in the documentation: https://pandas.pydata.org/pandas-docs/stable/user_guide/indexing.html#returning-a-view-versus-a-copy\n",
      "  df_loops_broca['Total'] = df_loops_broca.sum(numeric_only=True, axis=1)\n",
      "C:\\Users\\gorgo\\AppData\\Local\\Temp/ipykernel_8352/1782377705.py:47: SettingWithCopyWarning: \n",
      "A value is trying to be set on a copy of a slice from a DataFrame.\n",
      "Try using .loc[row_indexer,col_indexer] = value instead\n",
      "\n",
      "See the caveats in the documentation: https://pandas.pydata.org/pandas-docs/stable/user_guide/indexing.html#returning-a-view-versus-a-copy\n",
      "  df_loops_control['Total'] = df_loops_control.sum(numeric_only=True, axis=1)\n"
     ]
    }
   ],
   "source": [
    "#add numerical row sum to df_datatypes_broca\n",
    "df_datatypes_broca['Total'] = df_datatypes_broca.sum(numeric_only=True, axis=1)\n",
    "\n",
    "#add numerical row sum to df_datatypes_control\n",
    "df_datatypes_control['Total'] = df_datatypes_control.sum(numeric_only=True, axis=1)\n",
    "\n",
    "\n",
    "#add numerical row sum to df_variables_broca\n",
    "df_variables_broca['Total'] = df_variables_broca.sum(numeric_only=True, axis=1)\n",
    "\n",
    "#add numerical row sum to df_variables_control\n",
    "df_variables_control['Total'] = df_variables_control.sum(numeric_only=True, axis=1)\n",
    "\n",
    "\n",
    "#add numerical row sum to df_arithmetic_broca\n",
    "df_arithmetic_broca['Total'] = df_arithmetic_broca.sum(numeric_only=True, axis=1)\n",
    "\n",
    "#add numerical row sum to df_arithmetic_control\n",
    "df_arithmetic_control['Total'] = df_arithmetic_control.sum(numeric_only=True, axis=1)\n",
    "\n",
    "\n",
    "#add numerical row sum to df_print_broca\n",
    "df_print_broca['Total'] = df_print_broca.sum(numeric_only=True, axis=1)\n",
    "\n",
    "#add numerical row sum to df_print_control\n",
    "df_print_control['Total'] = df_print_control.sum(numeric_only=True, axis=1)\n",
    "\n",
    "\n",
    "#add numerical row sum to df_logical_broca\n",
    "df_logical_broca['Total'] = df_logical_broca.sum(numeric_only=True, axis=1)\n",
    "\n",
    "#add numerical row sum to df_logical_control\n",
    "df_logical_control['Total'] = df_logical_control.sum(numeric_only=True, axis=1)\n",
    "\n",
    "\n",
    "#add numerical row sum to df_conditional_broca\n",
    "df_conditional_broca['Total'] = df_conditional_broca.sum(numeric_only=True, axis=1)\n",
    "\n",
    "#add numerical row sum to df_conditional_control\n",
    "df_conditional_control['Total'] = df_conditional_control.sum(numeric_only=True, axis=1)\n",
    "\n",
    "\n",
    "#add numerical row sum to df_loops_broca\n",
    "df_loops_broca['Total'] = df_loops_broca.sum(numeric_only=True, axis=1)\n",
    "\n",
    "#add numerical row sum to df_loops_control\n",
    "df_loops_control['Total'] = df_loops_control.sum(numeric_only=True, axis=1)\n",
    "\n",
    "#print number of rows in df_datatypes_broca\n",
    "\n"
   ],
   "metadata": {
    "collapsed": false,
    "pycharm": {
     "name": "#%%\n"
    }
   }
  },
  {
   "cell_type": "code",
   "execution_count": 50,
   "outputs": [
    {
     "name": "stdout",
     "output_type": "stream",
     "text": [
      "Number of rows in df_datatypes_broca:  10\n",
      "Number of rows in df_datatypes_control:  6\n",
      "Number of rows in df_loops_broca:  8\n",
      "Number of rows in df_loops_control:  4\n"
     ]
    }
   ],
   "source": [
    "print('Number of rows in df_datatypes_broca: ', len(df_conditional_broca))\n",
    "print('Number of rows in df_datatypes_control: ', len(df_conditional_control))\n",
    "\n",
    "print('Number of rows in df_loops_broca: ', len(df_loops_broca))\n",
    "print('Number of rows in df_loops_control: ', len(df_loops_control))\n"
   ],
   "metadata": {
    "collapsed": false,
    "pycharm": {
     "name": "#%%\n"
    }
   }
  },
  {
   "cell_type": "code",
   "execution_count": 51,
   "outputs": [
    {
     "data": {
      "text/plain": "        UID  1.1  1.2  Total\n0   0LZR203  6.0  7.0   13.0\n1   0REG243  6.0  7.0   13.0\n2   1AGT138  6.0  7.0   13.0\n5   3LDI060  6.0  7.0   13.0\n6   3LST145  6.0  7.0   13.0\n7   4ANT042  6.0  7.0   13.0\n13  7BGT235  6.0  7.0   13.0\n15  7RAI228  6.0  7.0   13.0\n16  7SOA133  5.0  7.0   12.0\n19  8CHT208  6.0  7.0   13.0",
      "text/html": "<div>\n<style scoped>\n    .dataframe tbody tr th:only-of-type {\n        vertical-align: middle;\n    }\n\n    .dataframe tbody tr th {\n        vertical-align: top;\n    }\n\n    .dataframe thead th {\n        text-align: right;\n    }\n</style>\n<table border=\"1\" class=\"dataframe\">\n  <thead>\n    <tr style=\"text-align: right;\">\n      <th></th>\n      <th>UID</th>\n      <th>1.1</th>\n      <th>1.2</th>\n      <th>Total</th>\n    </tr>\n  </thead>\n  <tbody>\n    <tr>\n      <th>0</th>\n      <td>0LZR203</td>\n      <td>6.0</td>\n      <td>7.0</td>\n      <td>13.0</td>\n    </tr>\n    <tr>\n      <th>1</th>\n      <td>0REG243</td>\n      <td>6.0</td>\n      <td>7.0</td>\n      <td>13.0</td>\n    </tr>\n    <tr>\n      <th>2</th>\n      <td>1AGT138</td>\n      <td>6.0</td>\n      <td>7.0</td>\n      <td>13.0</td>\n    </tr>\n    <tr>\n      <th>5</th>\n      <td>3LDI060</td>\n      <td>6.0</td>\n      <td>7.0</td>\n      <td>13.0</td>\n    </tr>\n    <tr>\n      <th>6</th>\n      <td>3LST145</td>\n      <td>6.0</td>\n      <td>7.0</td>\n      <td>13.0</td>\n    </tr>\n    <tr>\n      <th>7</th>\n      <td>4ANT042</td>\n      <td>6.0</td>\n      <td>7.0</td>\n      <td>13.0</td>\n    </tr>\n    <tr>\n      <th>13</th>\n      <td>7BGT235</td>\n      <td>6.0</td>\n      <td>7.0</td>\n      <td>13.0</td>\n    </tr>\n    <tr>\n      <th>15</th>\n      <td>7RAI228</td>\n      <td>6.0</td>\n      <td>7.0</td>\n      <td>13.0</td>\n    </tr>\n    <tr>\n      <th>16</th>\n      <td>7SOA133</td>\n      <td>5.0</td>\n      <td>7.0</td>\n      <td>12.0</td>\n    </tr>\n    <tr>\n      <th>19</th>\n      <td>8CHT208</td>\n      <td>6.0</td>\n      <td>7.0</td>\n      <td>13.0</td>\n    </tr>\n  </tbody>\n</table>\n</div>"
     },
     "metadata": {},
     "output_type": "display_data"
    },
    {
     "data": {
      "text/plain": "        UID  6.1   6.2   6.4  Total\n8   4DRO233  2.0  10.0   3.0   15.0\n11  5NSA280  2.0  10.0  13.0   25.0\n12  6CSA143  2.0   9.0   6.0   17.0\n14  7KSM240  2.0   8.0  13.0   23.0\n17  7VKT025  2.0  10.0  13.0   25.0\n18  8AB4138  2.0  10.0  13.0   25.0",
      "text/html": "<div>\n<style scoped>\n    .dataframe tbody tr th:only-of-type {\n        vertical-align: middle;\n    }\n\n    .dataframe tbody tr th {\n        vertical-align: top;\n    }\n\n    .dataframe thead th {\n        text-align: right;\n    }\n</style>\n<table border=\"1\" class=\"dataframe\">\n  <thead>\n    <tr style=\"text-align: right;\">\n      <th></th>\n      <th>UID</th>\n      <th>6.1</th>\n      <th>6.2</th>\n      <th>6.4</th>\n      <th>Total</th>\n    </tr>\n  </thead>\n  <tbody>\n    <tr>\n      <th>8</th>\n      <td>4DRO233</td>\n      <td>2.0</td>\n      <td>10.0</td>\n      <td>3.0</td>\n      <td>15.0</td>\n    </tr>\n    <tr>\n      <th>11</th>\n      <td>5NSA280</td>\n      <td>2.0</td>\n      <td>10.0</td>\n      <td>13.0</td>\n      <td>25.0</td>\n    </tr>\n    <tr>\n      <th>12</th>\n      <td>6CSA143</td>\n      <td>2.0</td>\n      <td>9.0</td>\n      <td>6.0</td>\n      <td>17.0</td>\n    </tr>\n    <tr>\n      <th>14</th>\n      <td>7KSM240</td>\n      <td>2.0</td>\n      <td>8.0</td>\n      <td>13.0</td>\n      <td>23.0</td>\n    </tr>\n    <tr>\n      <th>17</th>\n      <td>7VKT025</td>\n      <td>2.0</td>\n      <td>10.0</td>\n      <td>13.0</td>\n      <td>25.0</td>\n    </tr>\n    <tr>\n      <th>18</th>\n      <td>8AB4138</td>\n      <td>2.0</td>\n      <td>10.0</td>\n      <td>13.0</td>\n      <td>25.0</td>\n    </tr>\n  </tbody>\n</table>\n</div>"
     },
     "metadata": {},
     "output_type": "display_data"
    }
   ],
   "source": [
    "display(df_datatypes_broca)\n",
    "\n",
    "display(df_conditional_control)"
   ],
   "metadata": {
    "collapsed": false,
    "pycharm": {
     "name": "#%%\n"
    }
   }
  },
  {
   "cell_type": "code",
   "execution_count": 52,
   "outputs": [
    {
     "data": {
      "text/plain": "<Figure size 1440x720 with 7 Axes>",
      "image/png": "[encoded data removed]"
     },
     "metadata": {},
     "output_type": "display_data"
    }
   ],
   "source": [
    "#create boxplot for df_datatypes_broca and df_datatypes_control and df_variables_broca and df_variables_control\n",
    "#and df_arithmetic_broca and df_arithmetic_control and df_print_broca and df_print_control\n",
    "#and df_logical_broca and df_logical_control and df_conditional_broca and df_conditional_control\n",
    "#and df_loops_broca and df_loops_control\n",
    "fig, ax = plt.subplots(1, 7, figsize=(20, 10))\n",
    "\n",
    "\n",
    "\n",
    "ax[0].boxplot([df_datatypes_broca['Total'], df_datatypes_control['Total']])\n",
    "ax[0].set_title('Datatypes')\n",
    "ax[1].boxplot([df_variables_broca['Total'], df_variables_control['Total']])\n",
    "ax[1].set_title('Variables')\n",
    "ax[2].boxplot([df_arithmetic_broca['Total'], df_arithmetic_control['Total']])\n",
    "ax[2].set_title('Arithmetic')\n",
    "ax[3].boxplot([df_print_broca['Total'], df_print_control['Total']])\n",
    "ax[3].set_title('Print')\n",
    "ax[4].boxplot([df_logical_broca['Total'], df_logical_control['Total']])\n",
    "ax[4].set_title('Logical')\n",
    "ax[5].boxplot([df_conditional_broca['Total'], df_conditional_control['Total']])\n",
    "ax[5].set_title('Conditional')\n",
    "ax[6].boxplot([df_loops_broca['Total'], df_loops_control['Total']])\n",
    "ax[6].set_title('Loops')\n",
    "\n",
    "plt.savefig('boxplot.png')"
   ],
   "metadata": {
    "collapsed": false,
    "pycharm": {
     "name": "#%%\n"
    }
   }
  },
  {
   "cell_type": "code",
   "execution_count": 53,
   "outputs": [
    {
     "name": "stderr",
     "output_type": "stream",
     "text": [
      "C:\\Users\\gorgo\\AppData\\Local\\Temp/ipykernel_8352/738212892.py:2: SettingWithCopyWarning: \n",
      "A value is trying to be set on a copy of a slice from a DataFrame\n",
      "\n",
      "See the caveats in the documentation: https://pandas.pydata.org/pandas-docs/stable/user_guide/indexing.html#returning-a-view-versus-a-copy\n",
      "  df_datatypes_control.rename(columns={'Total': 'Datatypes Total'}, inplace=True)\n",
      "C:\\Users\\gorgo\\AppData\\Local\\Temp/ipykernel_8352/738212892.py:5: SettingWithCopyWarning: \n",
      "A value is trying to be set on a copy of a slice from a DataFrame\n",
      "\n",
      "See the caveats in the documentation: https://pandas.pydata.org/pandas-docs/stable/user_guide/indexing.html#returning-a-view-versus-a-copy\n",
      "  df_variables_control.rename(columns={'Total': 'Variables Total'}, inplace=True)\n",
      "C:\\Users\\gorgo\\AppData\\Local\\Temp/ipykernel_8352/738212892.py:8: SettingWithCopyWarning: \n",
      "A value is trying to be set on a copy of a slice from a DataFrame\n",
      "\n",
      "See the caveats in the documentation: https://pandas.pydata.org/pandas-docs/stable/user_guide/indexing.html#returning-a-view-versus-a-copy\n",
      "  df_arithmetic_control.rename(columns={'Total': 'Arithmetic Total'}, inplace=True)\n",
      "C:\\Users\\gorgo\\AppData\\Local\\Temp/ipykernel_8352/738212892.py:11: SettingWithCopyWarning: \n",
      "A value is trying to be set on a copy of a slice from a DataFrame\n",
      "\n",
      "See the caveats in the documentation: https://pandas.pydata.org/pandas-docs/stable/user_guide/indexing.html#returning-a-view-versus-a-copy\n",
      "  df_print_control.rename(columns={'Total': 'Print Total'}, inplace=True)\n",
      "C:\\Users\\gorgo\\AppData\\Local\\Temp/ipykernel_8352/738212892.py:14: SettingWithCopyWarning: \n",
      "A value is trying to be set on a copy of a slice from a DataFrame\n",
      "\n",
      "See the caveats in the documentation: https://pandas.pydata.org/pandas-docs/stable/user_guide/indexing.html#returning-a-view-versus-a-copy\n",
      "  df_logical_control.rename(columns={'Total': 'Logical Total'}, inplace=True)\n",
      "C:\\Users\\gorgo\\AppData\\Local\\Temp/ipykernel_8352/738212892.py:17: SettingWithCopyWarning: \n",
      "A value is trying to be set on a copy of a slice from a DataFrame\n",
      "\n",
      "See the caveats in the documentation: https://pandas.pydata.org/pandas-docs/stable/user_guide/indexing.html#returning-a-view-versus-a-copy\n",
      "  df_conditional_control.rename(columns={'Total': 'Conditional Total'}, inplace=True)\n",
      "C:\\Users\\gorgo\\AppData\\Local\\Temp/ipykernel_8352/738212892.py:20: SettingWithCopyWarning: \n",
      "A value is trying to be set on a copy of a slice from a DataFrame\n",
      "\n",
      "See the caveats in the documentation: https://pandas.pydata.org/pandas-docs/stable/user_guide/indexing.html#returning-a-view-versus-a-copy\n",
      "  df_loops_control.rename(columns={'Total': 'Loops Total'}, inplace=True)\n"
     ]
    }
   ],
   "source": [
    "#rename df_datatypes_control total to \"Datatypes Total\"\n",
    "df_datatypes_control.rename(columns={'Total': 'Datatypes Total'}, inplace=True)\n",
    "\n",
    "#rename df_variables_control total to \"Variables Total\"\n",
    "df_variables_control.rename(columns={'Total': 'Variables Total'}, inplace=True)\n",
    "\n",
    "#rename df_arithmetic_control total to \"Arithmetic Total\"\n",
    "df_arithmetic_control.rename(columns={'Total': 'Arithmetic Total'}, inplace=True)\n",
    "\n",
    "#rename df_print_control total to \"Print Total\"\n",
    "df_print_control.rename(columns={'Total': 'Print Total'}, inplace=True)\n",
    "\n",
    "#rename df_logical_control total to \"Logical Total\"\n",
    "df_logical_control.rename(columns={'Total': 'Logical Total'}, inplace=True)\n",
    "\n",
    "#rename df_conditional_control total to \"Conditional Total\"\n",
    "df_conditional_control.rename(columns={'Total': 'Conditional Total'}, inplace=True)\n",
    "\n",
    "#rename df_loops_control total to \"Loops Total\"\n",
    "df_loops_control.rename(columns={'Total': 'Loops Total'}, inplace=True)\n"
   ],
   "metadata": {
    "collapsed": false,
    "pycharm": {
     "name": "#%%\n"
    }
   }
  },
  {
   "cell_type": "code",
   "execution_count": 54,
   "outputs": [],
   "source": [
    "max_datatypes = 13\n",
    "max_variables = 24\n",
    "max_arithmetic = 18\n",
    "max_print = 14\n",
    "max_logical = 20\n",
    "max_conditional = 25\n",
    "max_loops = 41"
   ],
   "metadata": {
    "collapsed": false,
    "pycharm": {
     "name": "#%%\n"
    }
   }
  },
  {
   "cell_type": "code",
   "execution_count": 55,
   "outputs": [
    {
     "name": "stderr",
     "output_type": "stream",
     "text": [
      "C:\\Users\\gorgo\\AppData\\Local\\Temp/ipykernel_8352/3357257950.py:2: SettingWithCopyWarning: \n",
      "A value is trying to be set on a copy of a slice from a DataFrame.\n",
      "Try using .loc[row_indexer,col_indexer] = value instead\n",
      "\n",
      "See the caveats in the documentation: https://pandas.pydata.org/pandas-docs/stable/user_guide/indexing.html#returning-a-view-versus-a-copy\n",
      "  df_datatypes_control['Datatypes Percentage'] = df_datatypes_control['Datatypes Total'] / max_datatypes * 100\n",
      "C:\\Users\\gorgo\\AppData\\Local\\Temp/ipykernel_8352/3357257950.py:3: SettingWithCopyWarning: \n",
      "A value is trying to be set on a copy of a slice from a DataFrame.\n",
      "Try using .loc[row_indexer,col_indexer] = value instead\n",
      "\n",
      "See the caveats in the documentation: https://pandas.pydata.org/pandas-docs/stable/user_guide/indexing.html#returning-a-view-versus-a-copy\n",
      "  df_variables_control['Variables Percentage'] = df_variables_control['Variables Total'] / max_variables * 100\n",
      "C:\\Users\\gorgo\\AppData\\Local\\Temp/ipykernel_8352/3357257950.py:4: SettingWithCopyWarning: \n",
      "A value is trying to be set on a copy of a slice from a DataFrame.\n",
      "Try using .loc[row_indexer,col_indexer] = value instead\n",
      "\n",
      "See the caveats in the documentation: https://pandas.pydata.org/pandas-docs/stable/user_guide/indexing.html#returning-a-view-versus-a-copy\n",
      "  df_arithmetic_control['Arithmetic Percentage'] = df_arithmetic_control['Arithmetic Total'] / max_arithmetic * 100\n",
      "C:\\Users\\gorgo\\AppData\\Local\\Temp/ipykernel_8352/3357257950.py:5: SettingWithCopyWarning: \n",
      "A value is trying to be set on a copy of a slice from a DataFrame.\n",
      "Try using .loc[row_indexer,col_indexer] = value instead\n",
      "\n",
      "See the caveats in the documentation: https://pandas.pydata.org/pandas-docs/stable/user_guide/indexing.html#returning-a-view-versus-a-copy\n",
      "  df_print_control['Print Percentage'] = df_print_control['Print Total'] / max_print * 100\n",
      "C:\\Users\\gorgo\\AppData\\Local\\Temp/ipykernel_8352/3357257950.py:6: SettingWithCopyWarning: \n",
      "A value is trying to be set on a copy of a slice from a DataFrame.\n",
      "Try using .loc[row_indexer,col_indexer] = value instead\n",
      "\n",
      "See the caveats in the documentation: https://pandas.pydata.org/pandas-docs/stable/user_guide/indexing.html#returning-a-view-versus-a-copy\n",
      "  df_logical_control['Logical Percentage'] = df_logical_control['Logical Total'] / max_logical * 100\n",
      "C:\\Users\\gorgo\\AppData\\Local\\Temp/ipykernel_8352/3357257950.py:7: SettingWithCopyWarning: \n",
      "A value is trying to be set on a copy of a slice from a DataFrame.\n",
      "Try using .loc[row_indexer,col_indexer] = value instead\n",
      "\n",
      "See the caveats in the documentation: https://pandas.pydata.org/pandas-docs/stable/user_guide/indexing.html#returning-a-view-versus-a-copy\n",
      "  df_conditional_control['Conditional Percentage'] = df_conditional_control['Conditional Total'] / max_conditional * 100\n",
      "C:\\Users\\gorgo\\AppData\\Local\\Temp/ipykernel_8352/3357257950.py:8: SettingWithCopyWarning: \n",
      "A value is trying to be set on a copy of a slice from a DataFrame.\n",
      "Try using .loc[row_indexer,col_indexer] = value instead\n",
      "\n",
      "See the caveats in the documentation: https://pandas.pydata.org/pandas-docs/stable/user_guide/indexing.html#returning-a-view-versus-a-copy\n",
      "  df_loops_control['Loops Percentage'] = df_loops_control['Loops Total'] / max_loops * 100\n",
      "C:\\Users\\gorgo\\AppData\\Local\\Temp/ipykernel_8352/3357257950.py:19: FutureWarning: In a future version of pandas all arguments of DataFrame.drop except for the argument 'labels' will be keyword-only.\n",
      "  df_total.drop(df_total.columns.difference(['UID', 'Datatypes Percentage', 'Variables Percentage', 'Arithmetic Percentage', 'Print Percentage', 'Logical Percentage', 'Conditional Percentage', 'Loops Percentage']), 1, inplace=True)\n"
     ]
    },
    {
     "data": {
      "text/plain": "       UID  Datatypes Percentage  Variables Percentage  Arithmetic Percentage  \\\n0  4DRO233                 100.0             87.500000              86.111111   \n1  5NSA280                 100.0            100.000000             100.000000   \n2  6CSA143                 100.0             95.833333              80.555556   \n3  7KSM240                 100.0             91.666667              88.888889   \n\n   Print Percentage  Logical Percentage  Conditional Percentage  \\\n0         71.428571                95.0                    60.0   \n1        100.000000                85.0                   100.0   \n2         71.428571                90.0                    68.0   \n3         57.142857                90.0                    92.0   \n\n   Loops Percentage  \n0         80.487805  \n1         89.024390  \n2         65.853659  \n3         57.317073  ",
      "text/html": "<div>\n<style scoped>\n    .dataframe tbody tr th:only-of-type {\n        vertical-align: middle;\n    }\n\n    .dataframe tbody tr th {\n        vertical-align: top;\n    }\n\n    .dataframe thead th {\n        text-align: right;\n    }\n</style>\n<table border=\"1\" class=\"dataframe\">\n  <thead>\n    <tr style=\"text-align: right;\">\n      <th></th>\n      <th>UID</th>\n      <th>Datatypes Percentage</th>\n      <th>Variables Percentage</th>\n      <th>Arithmetic Percentage</th>\n      <th>Print Percentage</th>\n      <th>Logical Percentage</th>\n      <th>Conditional Percentage</th>\n      <th>Loops Percentage</th>\n    </tr>\n  </thead>\n  <tbody>\n    <tr>\n      <th>0</th>\n      <td>4DRO233</td>\n      <td>100.0</td>\n      <td>87.500000</td>\n      <td>86.111111</td>\n      <td>71.428571</td>\n      <td>95.0</td>\n      <td>60.0</td>\n      <td>80.487805</td>\n    </tr>\n    <tr>\n      <th>1</th>\n      <td>5NSA280</td>\n      <td>100.0</td>\n      <td>100.000000</td>\n      <td>100.000000</td>\n      <td>100.000000</td>\n      <td>85.0</td>\n      <td>100.0</td>\n      <td>89.024390</td>\n    </tr>\n    <tr>\n      <th>2</th>\n      <td>6CSA143</td>\n      <td>100.0</td>\n      <td>95.833333</td>\n      <td>80.555556</td>\n      <td>71.428571</td>\n      <td>90.0</td>\n      <td>68.0</td>\n      <td>65.853659</td>\n    </tr>\n    <tr>\n      <th>3</th>\n      <td>7KSM240</td>\n      <td>100.0</td>\n      <td>91.666667</td>\n      <td>88.888889</td>\n      <td>57.142857</td>\n      <td>90.0</td>\n      <td>92.0</td>\n      <td>57.317073</td>\n    </tr>\n  </tbody>\n</table>\n</div>"
     },
     "metadata": {},
     "output_type": "display_data"
    },
    {
     "name": "stderr",
     "output_type": "stream",
     "text": [
      "C:\\Users\\gorgo\\AppData\\Local\\Temp/ipykernel_8352/3357257950.py:23: FutureWarning: In future versions `DataFrame.to_latex` is expected to utilise the base implementation of `Styler.to_latex` for formatting and rendering. The arguments signature may therefore change. It is recommended instead to use `DataFrame.style.to_latex` which also contains additional functionality.\n",
      "  df_total.to_latex('df_total.tex', index=False)\n"
     ]
    }
   ],
   "source": [
    "\n",
    "\n",
    "#calculate percentage from total and max\n",
    "df_datatypes_control['Datatypes Percentage'] = df_datatypes_control['Datatypes Total'] / max_datatypes * 100\n",
    "df_variables_control['Variables Percentage'] = df_variables_control['Variables Total'] / max_variables * 100\n",
    "df_arithmetic_control['Arithmetic Percentage'] = df_arithmetic_control['Arithmetic Total'] / max_arithmetic * 100\n",
    "df_print_control['Print Percentage'] = df_print_control['Print Total'] / max_print * 100\n",
    "df_logical_control['Logical Percentage'] = df_logical_control['Logical Total'] / max_logical * 100\n",
    "df_conditional_control['Conditional Percentage'] = df_conditional_control['Conditional Total'] / max_conditional * 100\n",
    "df_loops_control['Loops Percentage'] = df_loops_control['Loops Total'] / max_loops * 100\n",
    "\n",
    "\n",
    "df_total = pd.merge(df_datatypes_control, df_variables_control, on='UID')\n",
    "df_total = pd.merge(df_total, df_arithmetic_control, on='UID')\n",
    "df_total = pd.merge(df_total, df_print_control, on='UID')\n",
    "df_total = pd.merge(df_total, df_logical_control, on='UID')\n",
    "df_total = pd.merge(df_total, df_conditional_control, on='UID')\n",
    "df_total = pd.merge(df_total, df_loops_control, on='UID')\n",
    "\n",
    "#df total drop everything except uid and total\n",
    "df_total.drop(df_total.columns.difference(['UID', 'Datatypes Percentage', 'Variables Percentage', 'Arithmetic Percentage', 'Print Percentage', 'Logical Percentage', 'Conditional Percentage', 'Loops Percentage']), 1, inplace=True)\n",
    "\n",
    "display(df_total)\n",
    "\n",
    "df_total.to_latex('df_total.tex', index=False)\n"
   ],
   "metadata": {
    "collapsed": false,
    "pycharm": {
     "name": "#%%\n"
    }
   }
  },
  {
   "cell_type": "code",
   "execution_count": 71,
   "outputs": [
    {
     "data": {
      "text/plain": "        UID  Aufgabe 1a  Aufgabe 1b  Aufgabe 1c  Aufgabe 1d  Aufgabe 1e  \\\n0   0LZR203         1.0         1.0         1.0         1.0         1.0   \n1   0REG243         NaN         NaN         NaN         NaN         NaN   \n2   1AGT138         1.0         1.0         1.0         1.0         1.0   \n3   1HJA213         NaN         NaN         NaN         NaN         NaN   \n4   1RBR047         NaN         NaN         NaN         NaN         NaN   \n5   3LDI060         1.0         1.0         1.0         1.0         1.0   \n6   3LST145         1.0         1.0         1.0         1.0         1.0   \n7   4ANT042         1.0         1.0         1.0         1.0         1.0   \n8   4DRO233         1.0         1.0         1.0         1.0         1.0   \n9   4MNT105         NaN         NaN         NaN         NaN         NaN   \n10  5JS4143         NaN         NaN         NaN         NaN         NaN   \n11  5NSA280         1.0         1.0         1.0         1.0         1.0   \n12  6CSA143         0.0         1.0         1.0         1.0         1.0   \n13  7BGT235         1.0         1.0         1.0         1.0         1.0   \n14  7KSM240         1.0         1.0         1.0         1.0         1.0   \n15  7RAI228         0.0         0.0         1.0         1.0         1.0   \n16  7SOA133         1.0         1.0         1.0         1.0         1.0   \n17  7VKT025         1.0         1.0         1.0         1.0         1.0   \n18  8AB4138         NaN         NaN         NaN         NaN         NaN   \n19  8CHT208         NaN         NaN         NaN         NaN         NaN   \n\n    Aufgabe 1f  Aufgabe 2  Aufgabe 3  Insgesamt  \n0          1.0        1.0        0.0        7.0  \n1          NaN        NaN        NaN        NaN  \n2          1.0        1.0        1.0        8.0  \n3          NaN        NaN        NaN        NaN  \n4          NaN        NaN        NaN        NaN  \n5          1.0        1.0        1.0        8.0  \n6          1.0        1.0        1.0        8.0  \n7          1.0        1.0        1.0        8.0  \n8          1.0        1.0        1.0        8.0  \n9          NaN        NaN        NaN        NaN  \n10         NaN        NaN        NaN        NaN  \n11         1.0        1.0        1.0        8.0  \n12         0.0        0.5        0.0        4.5  \n13         1.0        1.0        1.0        8.0  \n14         1.0        1.0        1.0        8.0  \n15         1.0        0.0        1.0        5.0  \n16         1.0        1.0        1.0        8.0  \n17         1.0        1.0        1.0        8.0  \n18         NaN        NaN        NaN        NaN  \n19         NaN        NaN        NaN        NaN  ",
      "text/html": "<div>\n<style scoped>\n    .dataframe tbody tr th:only-of-type {\n        vertical-align: middle;\n    }\n\n    .dataframe tbody tr th {\n        vertical-align: top;\n    }\n\n    .dataframe thead th {\n        text-align: right;\n    }\n</style>\n<table border=\"1\" class=\"dataframe\">\n  <thead>\n    <tr style=\"text-align: right;\">\n      <th></th>\n      <th>UID</th>\n      <th>Aufgabe 1a</th>\n      <th>Aufgabe 1b</th>\n      <th>Aufgabe 1c</th>\n      <th>Aufgabe 1d</th>\n      <th>Aufgabe 1e</th>\n      <th>Aufgabe 1f</th>\n      <th>Aufgabe 2</th>\n      <th>Aufgabe 3</th>\n      <th>Insgesamt</th>\n    </tr>\n  </thead>\n  <tbody>\n    <tr>\n      <th>0</th>\n      <td>0LZR203</td>\n      <td>1.0</td>\n      <td>1.0</td>\n      <td>1.0</td>\n      <td>1.0</td>\n      <td>1.0</td>\n      <td>1.0</td>\n      <td>1.0</td>\n      <td>0.0</td>\n      <td>7.0</td>\n    </tr>\n    <tr>\n      <th>1</th>\n      <td>0REG243</td>\n      <td>NaN</td>\n      <td>NaN</td>\n      <td>NaN</td>\n      <td>NaN</td>\n      <td>NaN</td>\n      <td>NaN</td>\n      <td>NaN</td>\n      <td>NaN</td>\n      <td>NaN</td>\n    </tr>\n    <tr>\n      <th>2</th>\n      <td>1AGT138</td>\n      <td>1.0</td>\n      <td>1.0</td>\n      <td>1.0</td>\n      <td>1.0</td>\n      <td>1.0</td>\n      <td>1.0</td>\n      <td>1.0</td>\n      <td>1.0</td>\n      <td>8.0</td>\n    </tr>\n    <tr>\n      <th>3</th>\n      <td>1HJA213</td>\n      <td>NaN</td>\n      <td>NaN</td>\n      <td>NaN</td>\n      <td>NaN</td>\n      <td>NaN</td>\n      <td>NaN</td>\n      <td>NaN</td>\n      <td>NaN</td>\n      <td>NaN</td>\n    </tr>\n    <tr>\n      <th>4</th>\n      <td>1RBR047</td>\n      <td>NaN</td>\n      <td>NaN</td>\n      <td>NaN</td>\n      <td>NaN</td>\n      <td>NaN</td>\n      <td>NaN</td>\n      <td>NaN</td>\n      <td>NaN</td>\n      <td>NaN</td>\n    </tr>\n    <tr>\n      <th>5</th>\n      <td>3LDI060</td>\n      <td>1.0</td>\n      <td>1.0</td>\n      <td>1.0</td>\n      <td>1.0</td>\n      <td>1.0</td>\n      <td>1.0</td>\n      <td>1.0</td>\n      <td>1.0</td>\n      <td>8.0</td>\n    </tr>\n    <tr>\n      <th>6</th>\n      <td>3LST145</td>\n      <td>1.0</td>\n      <td>1.0</td>\n      <td>1.0</td>\n      <td>1.0</td>\n      <td>1.0</td>\n      <td>1.0</td>\n      <td>1.0</td>\n      <td>1.0</td>\n      <td>8.0</td>\n    </tr>\n    <tr>\n      <th>7</th>\n      <td>4ANT042</td>\n      <td>1.0</td>\n      <td>1.0</td>\n      <td>1.0</td>\n      <td>1.0</td>\n      <td>1.0</td>\n      <td>1.0</td>\n      <td>1.0</td>\n      <td>1.0</td>\n      <td>8.0</td>\n    </tr>\n    <tr>\n      <th>8</th>\n      <td>4DRO233</td>\n      <td>1.0</td>\n      <td>1.0</td>\n      <td>1.0</td>\n      <td>1.0</td>\n      <td>1.0</td>\n      <td>1.0</td>\n      <td>1.0</td>\n      <td>1.0</td>\n      <td>8.0</td>\n    </tr>\n    <tr>\n      <th>9</th>\n      <td>4MNT105</td>\n      <td>NaN</td>\n      <td>NaN</td>\n      <td>NaN</td>\n      <td>NaN</td>\n      <td>NaN</td>\n      <td>NaN</td>\n      <td>NaN</td>\n      <td>NaN</td>\n      <td>NaN</td>\n    </tr>\n    <tr>\n      <th>10</th>\n      <td>5JS4143</td>\n      <td>NaN</td>\n      <td>NaN</td>\n      <td>NaN</td>\n      <td>NaN</td>\n      <td>NaN</td>\n      <td>NaN</td>\n      <td>NaN</td>\n      <td>NaN</td>\n      <td>NaN</td>\n    </tr>\n    <tr>\n      <th>11</th>\n      <td>5NSA280</td>\n      <td>1.0</td>\n      <td>1.0</td>\n      <td>1.0</td>\n      <td>1.0</td>\n      <td>1.0</td>\n      <td>1.0</td>\n      <td>1.0</td>\n      <td>1.0</td>\n      <td>8.0</td>\n    </tr>\n    <tr>\n      <th>12</th>\n      <td>6CSA143</td>\n      <td>0.0</td>\n      <td>1.0</td>\n      <td>1.0</td>\n      <td>1.0</td>\n      <td>1.0</td>\n      <td>0.0</td>\n      <td>0.5</td>\n      <td>0.0</td>\n      <td>4.5</td>\n    </tr>\n    <tr>\n      <th>13</th>\n      <td>7BGT235</td>\n      <td>1.0</td>\n      <td>1.0</td>\n      <td>1.0</td>\n      <td>1.0</td>\n      <td>1.0</td>\n      <td>1.0</td>\n      <td>1.0</td>\n      <td>1.0</td>\n      <td>8.0</td>\n    </tr>\n    <tr>\n      <th>14</th>\n      <td>7KSM240</td>\n      <td>1.0</td>\n      <td>1.0</td>\n      <td>1.0</td>\n      <td>1.0</td>\n      <td>1.0</td>\n      <td>1.0</td>\n      <td>1.0</td>\n      <td>1.0</td>\n      <td>8.0</td>\n    </tr>\n    <tr>\n      <th>15</th>\n      <td>7RAI228</td>\n      <td>0.0</td>\n      <td>0.0</td>\n      <td>1.0</td>\n      <td>1.0</td>\n      <td>1.0</td>\n      <td>1.0</td>\n      <td>0.0</td>\n      <td>1.0</td>\n      <td>5.0</td>\n    </tr>\n    <tr>\n      <th>16</th>\n      <td>7SOA133</td>\n      <td>1.0</td>\n      <td>1.0</td>\n      <td>1.0</td>\n      <td>1.0</td>\n      <td>1.0</td>\n      <td>1.0</td>\n      <td>1.0</td>\n      <td>1.0</td>\n      <td>8.0</td>\n    </tr>\n    <tr>\n      <th>17</th>\n      <td>7VKT025</td>\n      <td>1.0</td>\n      <td>1.0</td>\n      <td>1.0</td>\n      <td>1.0</td>\n      <td>1.0</td>\n      <td>1.0</td>\n      <td>1.0</td>\n      <td>1.0</td>\n      <td>8.0</td>\n    </tr>\n    <tr>\n      <th>18</th>\n      <td>8AB4138</td>\n      <td>NaN</td>\n      <td>NaN</td>\n      <td>NaN</td>\n      <td>NaN</td>\n      <td>NaN</td>\n      <td>NaN</td>\n      <td>NaN</td>\n      <td>NaN</td>\n      <td>NaN</td>\n    </tr>\n    <tr>\n      <th>19</th>\n      <td>8CHT208</td>\n      <td>NaN</td>\n      <td>NaN</td>\n      <td>NaN</td>\n      <td>NaN</td>\n      <td>NaN</td>\n      <td>NaN</td>\n      <td>NaN</td>\n      <td>NaN</td>\n      <td>NaN</td>\n    </tr>\n  </tbody>\n</table>\n</div>"
     },
     "execution_count": 71,
     "metadata": {},
     "output_type": "execute_result"
    }
   ],
   "source": [
    "df_posttest_programming"
   ],
   "metadata": {
    "collapsed": false,
    "pycharm": {
     "name": "#%%\n"
    }
   }
  },
  {
   "cell_type": "code",
   "execution_count": 73,
   "outputs": [
    {
     "name": "stderr",
     "output_type": "stream",
     "text": [
      "C:\\Users\\gorgo\\AppData\\Local\\Temp/ipykernel_8352/536751948.py:12: FutureWarning: Passing 'suffixes' which cause duplicate columns {'Total_x'} in the result is deprecated and will raise a MergeError in a future version.\n",
      "  df_total_broca = pd.merge(df_total_broca, df_print_broca, on='UID')\n",
      "C:\\Users\\gorgo\\AppData\\Local\\Temp/ipykernel_8352/536751948.py:14: FutureWarning: Passing 'suffixes' which cause duplicate columns {'Total_x'} in the result is deprecated and will raise a MergeError in a future version.\n",
      "  df_total_broca = pd.merge(df_total_broca, df_conditional_broca, on='UID')\n"
     ]
    },
    {
     "data": {
      "text/plain": "        UID  Aufgabe 1a  Aufgabe 1b  Aufgabe 1c  Aufgabe 1d  Aufgabe 1e  \\\n0   0LZR203         1.0         1.0         1.0         1.0         1.0   \n1   0REG243         NaN         NaN         NaN         NaN         NaN   \n2   1AGT138         1.0         1.0         1.0         1.0         1.0   \n3   1HJA213         NaN         NaN         NaN         NaN         NaN   \n4   1RBR047         NaN         NaN         NaN         NaN         NaN   \n5   3LDI060         1.0         1.0         1.0         1.0         1.0   \n6   3LST145         1.0         1.0         1.0         1.0         1.0   \n7   4ANT042         1.0         1.0         1.0         1.0         1.0   \n8   4DRO233         1.0         1.0         1.0         1.0         1.0   \n9   4MNT105         NaN         NaN         NaN         NaN         NaN   \n10  5JS4143         NaN         NaN         NaN         NaN         NaN   \n11  5NSA280         1.0         1.0         1.0         1.0         1.0   \n12  6CSA143         0.0         1.0         1.0         1.0         1.0   \n13  7BGT235         1.0         1.0         1.0         1.0         1.0   \n14  7KSM240         1.0         1.0         1.0         1.0         1.0   \n15  7RAI228         0.0         0.0         1.0         1.0         1.0   \n16  7SOA133         1.0         1.0         1.0         1.0         1.0   \n17  7VKT025         1.0         1.0         1.0         1.0         1.0   \n18  8AB4138         NaN         NaN         NaN         NaN         NaN   \n19  8CHT208         NaN         NaN         NaN         NaN         NaN   \n\n    Aufgabe 1f  Aufgabe 2  Aufgabe 3  Insgesamt  Programming Percentage  \n0          1.0        1.0        0.0        7.0                   87.50  \n1          NaN        NaN        NaN        NaN                     NaN  \n2          1.0        1.0        1.0        8.0                  100.00  \n3          NaN        NaN        NaN        NaN                     NaN  \n4          NaN        NaN        NaN        NaN                     NaN  \n5          1.0        1.0        1.0        8.0                  100.00  \n6          1.0        1.0        1.0        8.0                  100.00  \n7          1.0        1.0        1.0        8.0                  100.00  \n8          1.0        1.0        1.0        8.0                  100.00  \n9          NaN        NaN        NaN        NaN                     NaN  \n10         NaN        NaN        NaN        NaN                     NaN  \n11         1.0        1.0        1.0        8.0                  100.00  \n12         0.0        0.5        0.0        4.5                   56.25  \n13         1.0        1.0        1.0        8.0                  100.00  \n14         1.0        1.0        1.0        8.0                  100.00  \n15         1.0        0.0        1.0        5.0                   62.50  \n16         1.0        1.0        1.0        8.0                  100.00  \n17         1.0        1.0        1.0        8.0                  100.00  \n18         NaN        NaN        NaN        NaN                     NaN  \n19         NaN        NaN        NaN        NaN                     NaN  ",
      "text/html": "<div>\n<style scoped>\n    .dataframe tbody tr th:only-of-type {\n        vertical-align: middle;\n    }\n\n    .dataframe tbody tr th {\n        vertical-align: top;\n    }\n\n    .dataframe thead th {\n        text-align: right;\n    }\n</style>\n<table border=\"1\" class=\"dataframe\">\n  <thead>\n    <tr style=\"text-align: right;\">\n      <th></th>\n      <th>UID</th>\n      <th>Aufgabe 1a</th>\n      <th>Aufgabe 1b</th>\n      <th>Aufgabe 1c</th>\n      <th>Aufgabe 1d</th>\n      <th>Aufgabe 1e</th>\n      <th>Aufgabe 1f</th>\n      <th>Aufgabe 2</th>\n      <th>Aufgabe 3</th>\n      <th>Insgesamt</th>\n      <th>Programming Percentage</th>\n    </tr>\n  </thead>\n  <tbody>\n    <tr>\n      <th>0</th>\n      <td>0LZR203</td>\n      <td>1.0</td>\n      <td>1.0</td>\n      <td>1.0</td>\n      <td>1.0</td>\n      <td>1.0</td>\n      <td>1.0</td>\n      <td>1.0</td>\n      <td>0.0</td>\n      <td>7.0</td>\n      <td>87.50</td>\n    </tr>\n    <tr>\n      <th>1</th>\n      <td>0REG243</td>\n      <td>NaN</td>\n      <td>NaN</td>\n      <td>NaN</td>\n      <td>NaN</td>\n      <td>NaN</td>\n      <td>NaN</td>\n      <td>NaN</td>\n      <td>NaN</td>\n      <td>NaN</td>\n      <td>NaN</td>\n    </tr>\n    <tr>\n      <th>2</th>\n      <td>1AGT138</td>\n      <td>1.0</td>\n      <td>1.0</td>\n      <td>1.0</td>\n      <td>1.0</td>\n      <td>1.0</td>\n      <td>1.0</td>\n      <td>1.0</td>\n      <td>1.0</td>\n      <td>8.0</td>\n      <td>100.00</td>\n    </tr>\n    <tr>\n      <th>3</th>\n      <td>1HJA213</td>\n      <td>NaN</td>\n      <td>NaN</td>\n      <td>NaN</td>\n      <td>NaN</td>\n      <td>NaN</td>\n      <td>NaN</td>\n      <td>NaN</td>\n      <td>NaN</td>\n      <td>NaN</td>\n      <td>NaN</td>\n    </tr>\n    <tr>\n      <th>4</th>\n      <td>1RBR047</td>\n      <td>NaN</td>\n      <td>NaN</td>\n      <td>NaN</td>\n      <td>NaN</td>\n      <td>NaN</td>\n      <td>NaN</td>\n      <td>NaN</td>\n      <td>NaN</td>\n      <td>NaN</td>\n      <td>NaN</td>\n    </tr>\n    <tr>\n      <th>5</th>\n      <td>3LDI060</td>\n      <td>1.0</td>\n      <td>1.0</td>\n      <td>1.0</td>\n      <td>1.0</td>\n      <td>1.0</td>\n      <td>1.0</td>\n      <td>1.0</td>\n      <td>1.0</td>\n      <td>8.0</td>\n      <td>100.00</td>\n    </tr>\n    <tr>\n      <th>6</th>\n      <td>3LST145</td>\n      <td>1.0</td>\n      <td>1.0</td>\n      <td>1.0</td>\n      <td>1.0</td>\n      <td>1.0</td>\n      <td>1.0</td>\n      <td>1.0</td>\n      <td>1.0</td>\n      <td>8.0</td>\n      <td>100.00</td>\n    </tr>\n    <tr>\n      <th>7</th>\n      <td>4ANT042</td>\n      <td>1.0</td>\n      <td>1.0</td>\n      <td>1.0</td>\n      <td>1.0</td>\n      <td>1.0</td>\n      <td>1.0</td>\n      <td>1.0</td>\n      <td>1.0</td>\n      <td>8.0</td>\n      <td>100.00</td>\n    </tr>\n    <tr>\n      <th>8</th>\n      <td>4DRO233</td>\n      <td>1.0</td>\n      <td>1.0</td>\n      <td>1.0</td>\n      <td>1.0</td>\n      <td>1.0</td>\n      <td>1.0</td>\n      <td>1.0</td>\n      <td>1.0</td>\n      <td>8.0</td>\n      <td>100.00</td>\n    </tr>\n    <tr>\n      <th>9</th>\n      <td>4MNT105</td>\n      <td>NaN</td>\n      <td>NaN</td>\n      <td>NaN</td>\n      <td>NaN</td>\n      <td>NaN</td>\n      <td>NaN</td>\n      <td>NaN</td>\n      <td>NaN</td>\n      <td>NaN</td>\n      <td>NaN</td>\n    </tr>\n    <tr>\n      <th>10</th>\n      <td>5JS4143</td>\n      <td>NaN</td>\n      <td>NaN</td>\n      <td>NaN</td>\n      <td>NaN</td>\n      <td>NaN</td>\n      <td>NaN</td>\n      <td>NaN</td>\n      <td>NaN</td>\n      <td>NaN</td>\n      <td>NaN</td>\n    </tr>\n    <tr>\n      <th>11</th>\n      <td>5NSA280</td>\n      <td>1.0</td>\n      <td>1.0</td>\n      <td>1.0</td>\n      <td>1.0</td>\n      <td>1.0</td>\n      <td>1.0</td>\n      <td>1.0</td>\n      <td>1.0</td>\n      <td>8.0</td>\n      <td>100.00</td>\n    </tr>\n    <tr>\n      <th>12</th>\n      <td>6CSA143</td>\n      <td>0.0</td>\n      <td>1.0</td>\n      <td>1.0</td>\n      <td>1.0</td>\n      <td>1.0</td>\n      <td>0.0</td>\n      <td>0.5</td>\n      <td>0.0</td>\n      <td>4.5</td>\n      <td>56.25</td>\n    </tr>\n    <tr>\n      <th>13</th>\n      <td>7BGT235</td>\n      <td>1.0</td>\n      <td>1.0</td>\n      <td>1.0</td>\n      <td>1.0</td>\n      <td>1.0</td>\n      <td>1.0</td>\n      <td>1.0</td>\n      <td>1.0</td>\n      <td>8.0</td>\n      <td>100.00</td>\n    </tr>\n    <tr>\n      <th>14</th>\n      <td>7KSM240</td>\n      <td>1.0</td>\n      <td>1.0</td>\n      <td>1.0</td>\n      <td>1.0</td>\n      <td>1.0</td>\n      <td>1.0</td>\n      <td>1.0</td>\n      <td>1.0</td>\n      <td>8.0</td>\n      <td>100.00</td>\n    </tr>\n    <tr>\n      <th>15</th>\n      <td>7RAI228</td>\n      <td>0.0</td>\n      <td>0.0</td>\n      <td>1.0</td>\n      <td>1.0</td>\n      <td>1.0</td>\n      <td>1.0</td>\n      <td>0.0</td>\n      <td>1.0</td>\n      <td>5.0</td>\n      <td>62.50</td>\n    </tr>\n    <tr>\n      <th>16</th>\n      <td>7SOA133</td>\n      <td>1.0</td>\n      <td>1.0</td>\n      <td>1.0</td>\n      <td>1.0</td>\n      <td>1.0</td>\n      <td>1.0</td>\n      <td>1.0</td>\n      <td>1.0</td>\n      <td>8.0</td>\n      <td>100.00</td>\n    </tr>\n    <tr>\n      <th>17</th>\n      <td>7VKT025</td>\n      <td>1.0</td>\n      <td>1.0</td>\n      <td>1.0</td>\n      <td>1.0</td>\n      <td>1.0</td>\n      <td>1.0</td>\n      <td>1.0</td>\n      <td>1.0</td>\n      <td>8.0</td>\n      <td>100.00</td>\n    </tr>\n    <tr>\n      <th>18</th>\n      <td>8AB4138</td>\n      <td>NaN</td>\n      <td>NaN</td>\n      <td>NaN</td>\n      <td>NaN</td>\n      <td>NaN</td>\n      <td>NaN</td>\n      <td>NaN</td>\n      <td>NaN</td>\n      <td>NaN</td>\n      <td>NaN</td>\n    </tr>\n    <tr>\n      <th>19</th>\n      <td>8CHT208</td>\n      <td>NaN</td>\n      <td>NaN</td>\n      <td>NaN</td>\n      <td>NaN</td>\n      <td>NaN</td>\n      <td>NaN</td>\n      <td>NaN</td>\n      <td>NaN</td>\n      <td>NaN</td>\n      <td>NaN</td>\n    </tr>\n  </tbody>\n</table>\n</div>"
     },
     "metadata": {},
     "output_type": "display_data"
    },
    {
     "name": "stderr",
     "output_type": "stream",
     "text": [
      "C:\\Users\\gorgo\\AppData\\Local\\Temp/ipykernel_8352/536751948.py:26: FutureWarning: In a future version of pandas all arguments of DataFrame.drop except for the argument 'labels' will be keyword-only.\n",
      "  df_total_broca.drop(df_total_broca.columns.difference(['UID', 'Datatypes Percentage', 'Variables Percentage', 'Arithmetic Percentage', 'Print Percentage', 'Logical Percentage', 'Conditional Percentage', 'Loops Percentage', 'Programming Percentage']), 1, inplace=True)\n",
      "C:\\Users\\gorgo\\AppData\\Local\\Temp/ipykernel_8352/536751948.py:49: FutureWarning: In a future version of pandas all arguments of DataFrame.drop except for the argument 'labels' will be keyword-only.\n",
      "  df_total_broca.drop(df_total_broca.columns.difference(['UID', 'Datatypes Percentage', 'Variables Percentage', 'Arithmetic Percentage', 'Print Percentage', 'Logical Percentage', 'Conditional Percentage', 'Loops Percentage', 'Pre-Percentage', 'Post-Percentage', 'Programming Percentage']), 1, inplace=True)\n",
      "C:\\Users\\gorgo\\AppData\\Local\\Temp/ipykernel_8352/536751948.py:55: FutureWarning: In future versions `DataFrame.to_latex` is expected to utilise the base implementation of `Styler.to_latex` for formatting and rendering. The arguments signature may therefore change. It is recommended instead to use `DataFrame.style.to_latex` which also contains additional functionality.\n",
      "  df_total_broca.to_latex('df_total_broca.tex', index=False)\n"
     ]
    }
   ],
   "source": [
    "#calculate percentage from total and max for df_datatypes_broca and df_variables_broca and df_arithmetic_broca and df_print_broca and df_logical_broca and df_conditional_broca and df_loops_broca\n",
    "df_datatypes_broca['Datatypes Percentage'] = df_datatypes_broca['Total'] / max_datatypes * 100\n",
    "df_variables_broca['Variables Percentage'] = df_variables_broca['Total'] / max_variables * 100\n",
    "df_arithmetic_broca['Arithmetic Percentage'] = df_arithmetic_broca['Total'] / max_arithmetic * 100\n",
    "df_print_broca['Print Percentage'] = df_print_broca['Total'] / max_print * 100\n",
    "df_logical_broca['Logical Percentage'] = df_logical_broca['Total'] / max_logical * 100\n",
    "df_conditional_broca['Conditional Percentage'] = df_conditional_broca['Total'] / max_conditional * 100\n",
    "df_loops_broca['Loops Percentage'] = df_loops_broca['Total'] / max_loops * 100\n",
    "\n",
    "df_total_broca = pd.merge(df_datatypes_broca, df_variables_broca, on='UID')\n",
    "df_total_broca = pd.merge(df_total_broca, df_arithmetic_broca, on='UID')\n",
    "df_total_broca = pd.merge(df_total_broca, df_print_broca, on='UID')\n",
    "df_total_broca = pd.merge(df_total_broca, df_logical_broca, on='UID')\n",
    "df_total_broca = pd.merge(df_total_broca, df_conditional_broca, on='UID')\n",
    "df_total_broca = pd.merge(df_total_broca, df_loops_broca, on='UID')\n",
    "\n",
    "display(df_posttest_programming)\n",
    "\n",
    "#df_posttest_programming add percentage columns for insgesamt\n",
    "df_posttest_programming['Programming Percentage'] = df_posttest_programming['Insgesamt'] / 8 * 100\n",
    "\n",
    "#add df_posttest_programming to df_total_broca\n",
    "df_total_broca = pd.merge(df_total_broca, df_posttest_programming, on='UID')\n",
    "\n",
    "#remove everything except uid and percentage\n",
    "df_total_broca.drop(df_total_broca.columns.difference(['UID', 'Datatypes Percentage', 'Variables Percentage', 'Arithmetic Percentage', 'Print Percentage', 'Logical Percentage', 'Conditional Percentage', 'Loops Percentage', 'Programming Percentage']), 1, inplace=True)\n",
    "\n",
    "#cut percentage with 1 rounded number after comma\n",
    "df_total_broca['Datatypes Percentage'] = df_total_broca['Datatypes Percentage'].round(1)\n",
    "df_total_broca['Variables Percentage'] = df_total_broca['Variables Percentage'].round(1)\n",
    "df_total_broca['Arithmetic Percentage'] = df_total_broca['Arithmetic Percentage'].round(1)\n",
    "df_total_broca['Print Percentage'] = df_total_broca['Print Percentage'].round(1)\n",
    "df_total_broca['Logical Percentage'] = df_total_broca['Logical Percentage'].round(1)\n",
    "df_total_broca['Conditional Percentage'] = df_total_broca['Conditional Percentage'].round(1)\n",
    "df_total_broca['Loops Percentage'] = df_total_broca['Loops Percentage'].round(1)\n",
    "\n",
    "#display(df_posttest)\n",
    "#df_pretest calculate percentage from total and max\n",
    "df_posttest['Post-Percentage'] = df_posttest['Posttest'] / 8 * 100\n",
    "df_posttest['Pre-Percentage'] = df_posttest['Pretest'] / 8 * 100\n",
    "\n",
    "#round percentage with 1 number after comma\n",
    "df_posttest['Post-Percentage'] = df_posttest['Post-Percentage'].round(1)\n",
    "df_posttest['Pre-Percentage'] = df_posttest['Pre-Percentage'].round(1)\n",
    "\n",
    "df_total_broca = pd.merge(df_total_broca, df_posttest, on='UID')\n",
    "\n",
    "#df_total_broca drop everything except uid and percentages\n",
    "df_total_broca.drop(df_total_broca.columns.difference(['UID', 'Datatypes Percentage', 'Variables Percentage', 'Arithmetic Percentage', 'Print Percentage', 'Logical Percentage', 'Conditional Percentage', 'Loops Percentage', 'Pre-Percentage', 'Post-Percentage', 'Programming Percentage']), 1, inplace=True)\n",
    "\n",
    "#df_total_broca move Pre-Percentage to second column\n",
    "cols = list(df_total_broca.columns.values)\n",
    "df_total_broca = df_total_broca[cols[0:1] + cols[-1:] + cols[1:-1]]\n",
    "\n",
    "df_total_broca.to_latex('df_total_broca.tex', index=False)"
   ],
   "metadata": {
    "collapsed": false,
    "pycharm": {
     "name": "#%%\n"
    }
   }
  },
  {
   "cell_type": "code",
   "execution_count": 57,
   "outputs": [
    {
     "data": {
      "text/plain": "        UID  6.1   6.2   6.4  Total  Conditional Percentage\n0   0LZR203  2.0  10.0  13.0   25.0                   100.0\n1   0REG243  1.0  10.0  13.0   24.0                    96.0\n2   1AGT138  2.0   9.0  13.0   24.0                    96.0\n5   3LDI060  2.0  10.0  13.0   25.0                   100.0\n6   3LST145  2.0  10.0  13.0   25.0                   100.0\n7   4ANT042  2.0   9.0  13.0   24.0                    96.0\n13  7BGT235  2.0  10.0  13.0   25.0                   100.0\n15  7RAI228  2.0  10.0  13.0   25.0                   100.0\n16  7SOA133  2.0   9.0  13.0   24.0                    96.0\n19  8CHT208  2.0  10.0  13.0   25.0                   100.0",
      "text/html": "<div>\n<style scoped>\n    .dataframe tbody tr th:only-of-type {\n        vertical-align: middle;\n    }\n\n    .dataframe tbody tr th {\n        vertical-align: top;\n    }\n\n    .dataframe thead th {\n        text-align: right;\n    }\n</style>\n<table border=\"1\" class=\"dataframe\">\n  <thead>\n    <tr style=\"text-align: right;\">\n      <th></th>\n      <th>UID</th>\n      <th>6.1</th>\n      <th>6.2</th>\n      <th>6.4</th>\n      <th>Total</th>\n      <th>Conditional Percentage</th>\n    </tr>\n  </thead>\n  <tbody>\n    <tr>\n      <th>0</th>\n      <td>0LZR203</td>\n      <td>2.0</td>\n      <td>10.0</td>\n      <td>13.0</td>\n      <td>25.0</td>\n      <td>100.0</td>\n    </tr>\n    <tr>\n      <th>1</th>\n      <td>0REG243</td>\n      <td>1.0</td>\n      <td>10.0</td>\n      <td>13.0</td>\n      <td>24.0</td>\n      <td>96.0</td>\n    </tr>\n    <tr>\n      <th>2</th>\n      <td>1AGT138</td>\n      <td>2.0</td>\n      <td>9.0</td>\n      <td>13.0</td>\n      <td>24.0</td>\n      <td>96.0</td>\n    </tr>\n    <tr>\n      <th>5</th>\n      <td>3LDI060</td>\n      <td>2.0</td>\n      <td>10.0</td>\n      <td>13.0</td>\n      <td>25.0</td>\n      <td>100.0</td>\n    </tr>\n    <tr>\n      <th>6</th>\n      <td>3LST145</td>\n      <td>2.0</td>\n      <td>10.0</td>\n      <td>13.0</td>\n      <td>25.0</td>\n      <td>100.0</td>\n    </tr>\n    <tr>\n      <th>7</th>\n      <td>4ANT042</td>\n      <td>2.0</td>\n      <td>9.0</td>\n      <td>13.0</td>\n      <td>24.0</td>\n      <td>96.0</td>\n    </tr>\n    <tr>\n      <th>13</th>\n      <td>7BGT235</td>\n      <td>2.0</td>\n      <td>10.0</td>\n      <td>13.0</td>\n      <td>25.0</td>\n      <td>100.0</td>\n    </tr>\n    <tr>\n      <th>15</th>\n      <td>7RAI228</td>\n      <td>2.0</td>\n      <td>10.0</td>\n      <td>13.0</td>\n      <td>25.0</td>\n      <td>100.0</td>\n    </tr>\n    <tr>\n      <th>16</th>\n      <td>7SOA133</td>\n      <td>2.0</td>\n      <td>9.0</td>\n      <td>13.0</td>\n      <td>24.0</td>\n      <td>96.0</td>\n    </tr>\n    <tr>\n      <th>19</th>\n      <td>8CHT208</td>\n      <td>2.0</td>\n      <td>10.0</td>\n      <td>13.0</td>\n      <td>25.0</td>\n      <td>100.0</td>\n    </tr>\n  </tbody>\n</table>\n</div>"
     },
     "execution_count": 57,
     "metadata": {},
     "output_type": "execute_result"
    }
   ],
   "source": [
    "df_conditional_broca"
   ],
   "metadata": {
    "collapsed": false,
    "pycharm": {
     "name": "#%%\n"
    }
   }
  },
  {
   "cell_type": "code",
   "execution_count": 58,
   "outputs": [
    {
     "data": {
      "text/plain": "        UID  2.1  2.2  2.3  2.4  2.5  2.6 (nur Coding)  Total\n0   0LZR203  5.0  5.0  2.0  5.0  3.0               3.0   23.0\n1   0REG243  6.0  5.0  2.0  5.0  3.0               3.0   24.0\n2   1AGT138  5.0  5.0  2.0  5.0  3.0               3.0   23.0\n5   3LDI060  6.0  5.0  2.0  5.0  3.0               3.0   24.0\n6   3LST145  6.0  5.0  2.0  5.0  3.0               3.0   24.0\n7   4ANT042  6.0  5.0  2.0  5.0  3.0               3.0   24.0\n8   4DRO233  4.0  4.0  2.0  5.0  3.0               3.0   21.0\n11  5NSA280  6.0  5.0  2.0  5.0  3.0               3.0   24.0\n12  6CSA143  6.0  5.0  2.0  5.0  2.0               3.0   23.0\n13  7BGT235  6.0  5.0  1.0  5.0  3.0               3.0   23.0\n14  7KSM240  6.0  5.0  2.0  5.0  1.0               3.0   22.0\n15  7RAI228  6.0  5.0  1.0  5.0  3.0               3.0   23.0\n16  7SOA133  3.0  5.0  2.0  5.0  3.0               3.0   21.0\n17  7VKT025  6.0  5.0  2.0  5.0  3.0               3.0   24.0\n19  8CHT208  6.0  5.0  2.0  5.0  3.0               3.0   24.0",
      "text/html": "<div>\n<style scoped>\n    .dataframe tbody tr th:only-of-type {\n        vertical-align: middle;\n    }\n\n    .dataframe tbody tr th {\n        vertical-align: top;\n    }\n\n    .dataframe thead th {\n        text-align: right;\n    }\n</style>\n<table border=\"1\" class=\"dataframe\">\n  <thead>\n    <tr style=\"text-align: right;\">\n      <th></th>\n      <th>UID</th>\n      <th>2.1</th>\n      <th>2.2</th>\n      <th>2.3</th>\n      <th>2.4</th>\n      <th>2.5</th>\n      <th>2.6 (nur Coding)</th>\n      <th>Total</th>\n    </tr>\n  </thead>\n  <tbody>\n    <tr>\n      <th>0</th>\n      <td>0LZR203</td>\n      <td>5.0</td>\n      <td>5.0</td>\n      <td>2.0</td>\n      <td>5.0</td>\n      <td>3.0</td>\n      <td>3.0</td>\n      <td>23.0</td>\n    </tr>\n    <tr>\n      <th>1</th>\n      <td>0REG243</td>\n      <td>6.0</td>\n      <td>5.0</td>\n      <td>2.0</td>\n      <td>5.0</td>\n      <td>3.0</td>\n      <td>3.0</td>\n      <td>24.0</td>\n    </tr>\n    <tr>\n      <th>2</th>\n      <td>1AGT138</td>\n      <td>5.0</td>\n      <td>5.0</td>\n      <td>2.0</td>\n      <td>5.0</td>\n      <td>3.0</td>\n      <td>3.0</td>\n      <td>23.0</td>\n    </tr>\n    <tr>\n      <th>5</th>\n      <td>3LDI060</td>\n      <td>6.0</td>\n      <td>5.0</td>\n      <td>2.0</td>\n      <td>5.0</td>\n      <td>3.0</td>\n      <td>3.0</td>\n      <td>24.0</td>\n    </tr>\n    <tr>\n      <th>6</th>\n      <td>3LST145</td>\n      <td>6.0</td>\n      <td>5.0</td>\n      <td>2.0</td>\n      <td>5.0</td>\n      <td>3.0</td>\n      <td>3.0</td>\n      <td>24.0</td>\n    </tr>\n    <tr>\n      <th>7</th>\n      <td>4ANT042</td>\n      <td>6.0</td>\n      <td>5.0</td>\n      <td>2.0</td>\n      <td>5.0</td>\n      <td>3.0</td>\n      <td>3.0</td>\n      <td>24.0</td>\n    </tr>\n    <tr>\n      <th>8</th>\n      <td>4DRO233</td>\n      <td>4.0</td>\n      <td>4.0</td>\n      <td>2.0</td>\n      <td>5.0</td>\n      <td>3.0</td>\n      <td>3.0</td>\n      <td>21.0</td>\n    </tr>\n    <tr>\n      <th>11</th>\n      <td>5NSA280</td>\n      <td>6.0</td>\n      <td>5.0</td>\n      <td>2.0</td>\n      <td>5.0</td>\n      <td>3.0</td>\n      <td>3.0</td>\n      <td>24.0</td>\n    </tr>\n    <tr>\n      <th>12</th>\n      <td>6CSA143</td>\n      <td>6.0</td>\n      <td>5.0</td>\n      <td>2.0</td>\n      <td>5.0</td>\n      <td>2.0</td>\n      <td>3.0</td>\n      <td>23.0</td>\n    </tr>\n    <tr>\n      <th>13</th>\n      <td>7BGT235</td>\n      <td>6.0</td>\n      <td>5.0</td>\n      <td>1.0</td>\n      <td>5.0</td>\n      <td>3.0</td>\n      <td>3.0</td>\n      <td>23.0</td>\n    </tr>\n    <tr>\n      <th>14</th>\n      <td>7KSM240</td>\n      <td>6.0</td>\n      <td>5.0</td>\n      <td>2.0</td>\n      <td>5.0</td>\n      <td>1.0</td>\n      <td>3.0</td>\n      <td>22.0</td>\n    </tr>\n    <tr>\n      <th>15</th>\n      <td>7RAI228</td>\n      <td>6.0</td>\n      <td>5.0</td>\n      <td>1.0</td>\n      <td>5.0</td>\n      <td>3.0</td>\n      <td>3.0</td>\n      <td>23.0</td>\n    </tr>\n    <tr>\n      <th>16</th>\n      <td>7SOA133</td>\n      <td>3.0</td>\n      <td>5.0</td>\n      <td>2.0</td>\n      <td>5.0</td>\n      <td>3.0</td>\n      <td>3.0</td>\n      <td>21.0</td>\n    </tr>\n    <tr>\n      <th>17</th>\n      <td>7VKT025</td>\n      <td>6.0</td>\n      <td>5.0</td>\n      <td>2.0</td>\n      <td>5.0</td>\n      <td>3.0</td>\n      <td>3.0</td>\n      <td>24.0</td>\n    </tr>\n    <tr>\n      <th>19</th>\n      <td>8CHT208</td>\n      <td>6.0</td>\n      <td>5.0</td>\n      <td>2.0</td>\n      <td>5.0</td>\n      <td>3.0</td>\n      <td>3.0</td>\n      <td>24.0</td>\n    </tr>\n  </tbody>\n</table>\n</div>"
     },
     "metadata": {},
     "output_type": "display_data"
    },
    {
     "data": {
      "text/plain": "        UID  1.1  1.2  Total    Group\n0   0LZR203  6.0  7.0   13.0    Broca\n1   0REG243  6.0  7.0   13.0    Broca\n2   1AGT138  6.0  7.0   13.0    Broca\n5   3LDI060  6.0  7.0   13.0    Broca\n6   3LST145  6.0  7.0   13.0    Broca\n7   4ANT042  6.0  7.0   13.0    Broca\n8   4DRO233  6.0  7.0   13.0  Control\n11  5NSA280  6.0  7.0   13.0  Control\n12  6CSA143  6.0  7.0   13.0  Control\n13  7BGT235  6.0  7.0   13.0    Broca\n14  7KSM240  6.0  7.0   13.0  Control\n15  7RAI228  6.0  7.0   13.0    Broca\n16  7SOA133  5.0  7.0   12.0    Broca\n17  7VKT025  6.0  7.0   13.0  Control\n19  8CHT208  6.0  7.0   13.0    Broca",
      "text/html": "<div>\n<style scoped>\n    .dataframe tbody tr th:only-of-type {\n        vertical-align: middle;\n    }\n\n    .dataframe tbody tr th {\n        vertical-align: top;\n    }\n\n    .dataframe thead th {\n        text-align: right;\n    }\n</style>\n<table border=\"1\" class=\"dataframe\">\n  <thead>\n    <tr style=\"text-align: right;\">\n      <th></th>\n      <th>UID</th>\n      <th>1.1</th>\n      <th>1.2</th>\n      <th>Total</th>\n      <th>Group</th>\n    </tr>\n  </thead>\n  <tbody>\n    <tr>\n      <th>0</th>\n      <td>0LZR203</td>\n      <td>6.0</td>\n      <td>7.0</td>\n      <td>13.0</td>\n      <td>Broca</td>\n    </tr>\n    <tr>\n      <th>1</th>\n      <td>0REG243</td>\n      <td>6.0</td>\n      <td>7.0</td>\n      <td>13.0</td>\n      <td>Broca</td>\n    </tr>\n    <tr>\n      <th>2</th>\n      <td>1AGT138</td>\n      <td>6.0</td>\n      <td>7.0</td>\n      <td>13.0</td>\n      <td>Broca</td>\n    </tr>\n    <tr>\n      <th>5</th>\n      <td>3LDI060</td>\n      <td>6.0</td>\n      <td>7.0</td>\n      <td>13.0</td>\n      <td>Broca</td>\n    </tr>\n    <tr>\n      <th>6</th>\n      <td>3LST145</td>\n      <td>6.0</td>\n      <td>7.0</td>\n      <td>13.0</td>\n      <td>Broca</td>\n    </tr>\n    <tr>\n      <th>7</th>\n      <td>4ANT042</td>\n      <td>6.0</td>\n      <td>7.0</td>\n      <td>13.0</td>\n      <td>Broca</td>\n    </tr>\n    <tr>\n      <th>8</th>\n      <td>4DRO233</td>\n      <td>6.0</td>\n      <td>7.0</td>\n      <td>13.0</td>\n      <td>Control</td>\n    </tr>\n    <tr>\n      <th>11</th>\n      <td>5NSA280</td>\n      <td>6.0</td>\n      <td>7.0</td>\n      <td>13.0</td>\n      <td>Control</td>\n    </tr>\n    <tr>\n      <th>12</th>\n      <td>6CSA143</td>\n      <td>6.0</td>\n      <td>7.0</td>\n      <td>13.0</td>\n      <td>Control</td>\n    </tr>\n    <tr>\n      <th>13</th>\n      <td>7BGT235</td>\n      <td>6.0</td>\n      <td>7.0</td>\n      <td>13.0</td>\n      <td>Broca</td>\n    </tr>\n    <tr>\n      <th>14</th>\n      <td>7KSM240</td>\n      <td>6.0</td>\n      <td>7.0</td>\n      <td>13.0</td>\n      <td>Control</td>\n    </tr>\n    <tr>\n      <th>15</th>\n      <td>7RAI228</td>\n      <td>6.0</td>\n      <td>7.0</td>\n      <td>13.0</td>\n      <td>Broca</td>\n    </tr>\n    <tr>\n      <th>16</th>\n      <td>7SOA133</td>\n      <td>5.0</td>\n      <td>7.0</td>\n      <td>12.0</td>\n      <td>Broca</td>\n    </tr>\n    <tr>\n      <th>17</th>\n      <td>7VKT025</td>\n      <td>6.0</td>\n      <td>7.0</td>\n      <td>13.0</td>\n      <td>Control</td>\n    </tr>\n    <tr>\n      <th>19</th>\n      <td>8CHT208</td>\n      <td>6.0</td>\n      <td>7.0</td>\n      <td>13.0</td>\n      <td>Broca</td>\n    </tr>\n  </tbody>\n</table>\n</div>"
     },
     "metadata": {},
     "output_type": "display_data"
    }
   ],
   "source": [
    "#add numerical row sum to df_datatypes\n",
    "df_datatypes['Total'] = df_datatypes.sum(numeric_only=True, axis=1)\n",
    "\n",
    "#add numerical row sum to df_variables\n",
    "df_variables['Total'] = df_variables.sum(numeric_only=True, axis=1)\n",
    "\n",
    "#add numerical row sum to df_arithmetic\n",
    "df_arithmetic['Total'] = df_arithmetic.sum(numeric_only=True, axis=1)\n",
    "\n",
    "#add numerical row sum to df_print\n",
    "df_print['Total'] = df_print.sum(numeric_only=True, axis=1)\n",
    "\n",
    "#add numerical row sum to df_logical\n",
    "df_logical['Total'] = df_logical.sum(numeric_only=True, axis=1)\n",
    "\n",
    "#add numerical row sum to df_conditional\n",
    "df_conditional['Total'] = df_conditional.sum(numeric_only=True, axis=1)\n",
    "\n",
    "#add numerical row sum to df_loops\n",
    "df_loops['Total'] = df_loops.sum(numeric_only=True, axis=1)\n",
    "\n",
    "#add column group to df_datatypes and df_variables and df_arithmetic and df_print and df_logical and df_conditional and df_loops and check if uid is in broca or control group\n",
    "\n",
    "import numpy as np\n",
    "\n",
    "display(df_variables)\n",
    "df_datatypes['Group'] = np.where(df_datatypes['UID'].isin(broca_uid), 'Broca', 'Control')\n",
    "df_variables['Group'] = np.where(df_variables['UID'].isin(broca_uid), 'Broca', 'Control')\n",
    "df_arithmetic['Group'] = np.where(df_arithmetic['UID'].isin(broca_uid), 'Broca', 'Control')\n",
    "df_print['Group'] = np.where(df_print['UID'].isin(broca_uid), 'Broca', 'Control')\n",
    "df_logical['Group'] = np.where(df_logical['UID'].isin(broca_uid), 'Broca', 'Control')\n",
    "df_conditional['Group'] = np.where(df_conditional['UID'].isin(broca_uid), 'Broca', 'Control')\n",
    "df_loops['Group'] = np.where(df_loops['UID'].isin(broca_uid), 'Broca', 'Control')\n",
    "\n",
    "display(df_datatypes)\n",
    "\n",
    "#remove last row in df_datatypes and df_variables and df_arithmetic and df_print and df_logical and df_conditional and df_loops\n",
    "df_datatypes = df_datatypes.iloc[:-1]\n",
    "df_variables = df_variables.iloc[:-1]\n",
    "df_arithmetic = df_arithmetic.iloc[:-1]\n",
    "df_print = df_print.iloc[:-1]\n",
    "df_logical = df_logical.iloc[:-1]\n",
    "df_conditional = df_conditional.iloc[:-1]\n",
    "df_loops = df_loops.iloc[:-1]"
   ],
   "metadata": {
    "collapsed": false,
    "pycharm": {
     "name": "#%%\n"
    }
   }
  },
  {
   "cell_type": "code",
   "execution_count": 59,
   "outputs": [],
   "source": [
    "max_datatypes = 13\n",
    "max_variables = 24\n",
    "max_arithmetic = 18\n",
    "max_print = 14\n",
    "max_logical = 20\n",
    "max_conditional = 25\n",
    "max_loops = 41"
   ],
   "metadata": {
    "collapsed": false,
    "pycharm": {
     "name": "#%%\n"
    }
   }
  },
  {
   "cell_type": "code",
   "execution_count": 60,
   "outputs": [
    {
     "data": {
      "text/plain": "        UID  1.1  1.2  Total    Group\n0   0LZR203  6.0  7.0   13.0    Broca\n1   0REG243  6.0  7.0   13.0    Broca\n2   1AGT138  6.0  7.0   13.0    Broca\n5   3LDI060  6.0  7.0   13.0    Broca\n6   3LST145  6.0  7.0   13.0    Broca\n7   4ANT042  6.0  7.0   13.0    Broca\n8   4DRO233  6.0  7.0   13.0  Control\n11  5NSA280  6.0  7.0   13.0  Control\n12  6CSA143  6.0  7.0   13.0  Control\n13  7BGT235  6.0  7.0   13.0    Broca\n14  7KSM240  6.0  7.0   13.0  Control\n15  7RAI228  6.0  7.0   13.0    Broca\n16  7SOA133  5.0  7.0   12.0    Broca\n17  7VKT025  6.0  7.0   13.0  Control",
      "text/html": "<div>\n<style scoped>\n    .dataframe tbody tr th:only-of-type {\n        vertical-align: middle;\n    }\n\n    .dataframe tbody tr th {\n        vertical-align: top;\n    }\n\n    .dataframe thead th {\n        text-align: right;\n    }\n</style>\n<table border=\"1\" class=\"dataframe\">\n  <thead>\n    <tr style=\"text-align: right;\">\n      <th></th>\n      <th>UID</th>\n      <th>1.1</th>\n      <th>1.2</th>\n      <th>Total</th>\n      <th>Group</th>\n    </tr>\n  </thead>\n  <tbody>\n    <tr>\n      <th>0</th>\n      <td>0LZR203</td>\n      <td>6.0</td>\n      <td>7.0</td>\n      <td>13.0</td>\n      <td>Broca</td>\n    </tr>\n    <tr>\n      <th>1</th>\n      <td>0REG243</td>\n      <td>6.0</td>\n      <td>7.0</td>\n      <td>13.0</td>\n      <td>Broca</td>\n    </tr>\n    <tr>\n      <th>2</th>\n      <td>1AGT138</td>\n      <td>6.0</td>\n      <td>7.0</td>\n      <td>13.0</td>\n      <td>Broca</td>\n    </tr>\n    <tr>\n      <th>5</th>\n      <td>3LDI060</td>\n      <td>6.0</td>\n      <td>7.0</td>\n      <td>13.0</td>\n      <td>Broca</td>\n    </tr>\n    <tr>\n      <th>6</th>\n      <td>3LST145</td>\n      <td>6.0</td>\n      <td>7.0</td>\n      <td>13.0</td>\n      <td>Broca</td>\n    </tr>\n    <tr>\n      <th>7</th>\n      <td>4ANT042</td>\n      <td>6.0</td>\n      <td>7.0</td>\n      <td>13.0</td>\n      <td>Broca</td>\n    </tr>\n    <tr>\n      <th>8</th>\n      <td>4DRO233</td>\n      <td>6.0</td>\n      <td>7.0</td>\n      <td>13.0</td>\n      <td>Control</td>\n    </tr>\n    <tr>\n      <th>11</th>\n      <td>5NSA280</td>\n      <td>6.0</td>\n      <td>7.0</td>\n      <td>13.0</td>\n      <td>Control</td>\n    </tr>\n    <tr>\n      <th>12</th>\n      <td>6CSA143</td>\n      <td>6.0</td>\n      <td>7.0</td>\n      <td>13.0</td>\n      <td>Control</td>\n    </tr>\n    <tr>\n      <th>13</th>\n      <td>7BGT235</td>\n      <td>6.0</td>\n      <td>7.0</td>\n      <td>13.0</td>\n      <td>Broca</td>\n    </tr>\n    <tr>\n      <th>14</th>\n      <td>7KSM240</td>\n      <td>6.0</td>\n      <td>7.0</td>\n      <td>13.0</td>\n      <td>Control</td>\n    </tr>\n    <tr>\n      <th>15</th>\n      <td>7RAI228</td>\n      <td>6.0</td>\n      <td>7.0</td>\n      <td>13.0</td>\n      <td>Broca</td>\n    </tr>\n    <tr>\n      <th>16</th>\n      <td>7SOA133</td>\n      <td>5.0</td>\n      <td>7.0</td>\n      <td>12.0</td>\n      <td>Broca</td>\n    </tr>\n    <tr>\n      <th>17</th>\n      <td>7VKT025</td>\n      <td>6.0</td>\n      <td>7.0</td>\n      <td>13.0</td>\n      <td>Control</td>\n    </tr>\n  </tbody>\n</table>\n</div>"
     },
     "metadata": {},
     "output_type": "display_data"
    }
   ],
   "source": [
    "display(df_datatypes)\n",
    "\n",
    "#calculate df_datatypes percentage and add to df_datatypes\n",
    "df_datatypes['Percentage'] = df_datatypes['Total'] / max_datatypes * 100\n",
    "df_variables['Percentage'] = df_variables['Total'] / max_variables * 100\n",
    "df_arithmetic['Percentage'] = df_arithmetic['Total'] / max_arithmetic * 100\n",
    "df_print['Percentage'] = df_print['Total'] / max_print * 100\n",
    "df_logical['Percentage'] = df_logical['Total'] / max_logical * 100\n",
    "df_conditional['Percentage'] = df_conditional['Total'] / max_conditional * 100\n",
    "df_loops['Percentage'] = df_loops['Total'] / max_loops * 100\n"
   ],
   "metadata": {
    "collapsed": false,
    "pycharm": {
     "name": "#%%\n"
    }
   }
  },
  {
   "cell_type": "code",
   "execution_count": 61,
   "outputs": [],
   "source": [
    "#add new column for original df with name of category\n",
    "df_datatypes = df_datatypes[['Percentage', 'Group']]\n",
    "df_datatypes['Category'] = 'Datatypes'\n",
    "\n",
    "df_variables = df_variables[['Percentage', 'Group']]\n",
    "df_variables['Category'] = 'Variables'\n",
    "\n",
    "df_arithmetic = df_arithmetic[['Percentage', 'Group']]\n",
    "df_arithmetic['Category'] = 'Arithmetic'\n",
    "\n",
    "df_print = df_print[['Percentage', 'Group']]\n",
    "df_print['Category'] = 'Print'\n",
    "\n",
    "df_logical = df_logical[['Percentage', 'Group']]\n",
    "df_logical['Category'] = 'Logical'\n",
    "\n",
    "df_conditional = df_conditional[['Percentage', 'Group']]\n",
    "df_conditional['Category'] = 'Conditional'\n",
    "\n",
    "df_loops = df_loops[['Percentage', 'Group']]\n",
    "df_loops['Category'] = 'Loops'"
   ],
   "metadata": {
    "collapsed": false,
    "pycharm": {
     "name": "#%%\n"
    }
   }
  },
  {
   "cell_type": "code",
   "execution_count": 62,
   "outputs": [
    {
     "name": "stderr",
     "output_type": "stream",
     "text": [
      "C:\\Users\\gorgo\\AppData\\Local\\Temp/ipykernel_8352/1869162343.py:2: FutureWarning: The frame.append method is deprecated and will be removed from pandas in a future version. Use pandas.concat instead.\n",
      "  df = df_datatypes.append(df_variables)\n"
     ]
    }
   ],
   "source": [
    "#append df_datypes and df_variables and df_arithmetic and df_print and df_logical and df_conditional and df_loops but only Total, Group and Category\n",
    "df = df_datatypes.append(df_variables)"
   ],
   "metadata": {
    "collapsed": false,
    "pycharm": {
     "name": "#%%\n"
    }
   }
  },
  {
   "cell_type": "code",
   "execution_count": 63,
   "outputs": [
    {
     "name": "stderr",
     "output_type": "stream",
     "text": [
      "C:\\Users\\gorgo\\AppData\\Local\\Temp/ipykernel_8352/1276371271.py:1: FutureWarning: The frame.append method is deprecated and will be removed from pandas in a future version. Use pandas.concat instead.\n",
      "  df_total = df_datatypes[['Percentage', 'Group', 'Category']].append(df_variables[['Percentage', 'Group', 'Category']]).append(df_arithmetic[['Percentage', 'Group', 'Category']]).append(df_print[['Percentage', 'Group', 'Category']]).append(df_logical[['Percentage', 'Group', 'Category']]).append(df_conditional[['Percentage', 'Group', 'Category']]).append(df_loops[['Percentage', 'Group', 'Category']])\n",
      "C:\\Users\\gorgo\\AppData\\Local\\Temp/ipykernel_8352/1276371271.py:1: FutureWarning: The frame.append method is deprecated and will be removed from pandas in a future version. Use pandas.concat instead.\n",
      "  df_total = df_datatypes[['Percentage', 'Group', 'Category']].append(df_variables[['Percentage', 'Group', 'Category']]).append(df_arithmetic[['Percentage', 'Group', 'Category']]).append(df_print[['Percentage', 'Group', 'Category']]).append(df_logical[['Percentage', 'Group', 'Category']]).append(df_conditional[['Percentage', 'Group', 'Category']]).append(df_loops[['Percentage', 'Group', 'Category']])\n",
      "C:\\Users\\gorgo\\AppData\\Local\\Temp/ipykernel_8352/1276371271.py:1: FutureWarning: The frame.append method is deprecated and will be removed from pandas in a future version. Use pandas.concat instead.\n",
      "  df_total = df_datatypes[['Percentage', 'Group', 'Category']].append(df_variables[['Percentage', 'Group', 'Category']]).append(df_arithmetic[['Percentage', 'Group', 'Category']]).append(df_print[['Percentage', 'Group', 'Category']]).append(df_logical[['Percentage', 'Group', 'Category']]).append(df_conditional[['Percentage', 'Group', 'Category']]).append(df_loops[['Percentage', 'Group', 'Category']])\n",
      "C:\\Users\\gorgo\\AppData\\Local\\Temp/ipykernel_8352/1276371271.py:1: FutureWarning: The frame.append method is deprecated and will be removed from pandas in a future version. Use pandas.concat instead.\n",
      "  df_total = df_datatypes[['Percentage', 'Group', 'Category']].append(df_variables[['Percentage', 'Group', 'Category']]).append(df_arithmetic[['Percentage', 'Group', 'Category']]).append(df_print[['Percentage', 'Group', 'Category']]).append(df_logical[['Percentage', 'Group', 'Category']]).append(df_conditional[['Percentage', 'Group', 'Category']]).append(df_loops[['Percentage', 'Group', 'Category']])\n",
      "C:\\Users\\gorgo\\AppData\\Local\\Temp/ipykernel_8352/1276371271.py:1: FutureWarning: The frame.append method is deprecated and will be removed from pandas in a future version. Use pandas.concat instead.\n",
      "  df_total = df_datatypes[['Percentage', 'Group', 'Category']].append(df_variables[['Percentage', 'Group', 'Category']]).append(df_arithmetic[['Percentage', 'Group', 'Category']]).append(df_print[['Percentage', 'Group', 'Category']]).append(df_logical[['Percentage', 'Group', 'Category']]).append(df_conditional[['Percentage', 'Group', 'Category']]).append(df_loops[['Percentage', 'Group', 'Category']])\n",
      "C:\\Users\\gorgo\\AppData\\Local\\Temp/ipykernel_8352/1276371271.py:1: FutureWarning: The frame.append method is deprecated and will be removed from pandas in a future version. Use pandas.concat instead.\n",
      "  df_total = df_datatypes[['Percentage', 'Group', 'Category']].append(df_variables[['Percentage', 'Group', 'Category']]).append(df_arithmetic[['Percentage', 'Group', 'Category']]).append(df_print[['Percentage', 'Group', 'Category']]).append(df_logical[['Percentage', 'Group', 'Category']]).append(df_conditional[['Percentage', 'Group', 'Category']]).append(df_loops[['Percentage', 'Group', 'Category']])\n"
     ]
    },
    {
     "data": {
      "text/plain": "    Percentage    Group   Category\n0   100.000000    Broca  Datatypes\n1   100.000000    Broca  Datatypes\n2   100.000000    Broca  Datatypes\n5   100.000000    Broca  Datatypes\n6   100.000000    Broca  Datatypes\n..         ...      ...        ...\n11   89.024390  Control      Loops\n12   65.853659  Control      Loops\n13   98.780488    Broca      Loops\n14   57.317073  Control      Loops\n15   63.414634    Broca      Loops\n\n[95 rows x 3 columns]",
      "text/html": "<div>\n<style scoped>\n    .dataframe tbody tr th:only-of-type {\n        vertical-align: middle;\n    }\n\n    .dataframe tbody tr th {\n        vertical-align: top;\n    }\n\n    .dataframe thead th {\n        text-align: right;\n    }\n</style>\n<table border=\"1\" class=\"dataframe\">\n  <thead>\n    <tr style=\"text-align: right;\">\n      <th></th>\n      <th>Percentage</th>\n      <th>Group</th>\n      <th>Category</th>\n    </tr>\n  </thead>\n  <tbody>\n    <tr>\n      <th>0</th>\n      <td>100.000000</td>\n      <td>Broca</td>\n      <td>Datatypes</td>\n    </tr>\n    <tr>\n      <th>1</th>\n      <td>100.000000</td>\n      <td>Broca</td>\n      <td>Datatypes</td>\n    </tr>\n    <tr>\n      <th>2</th>\n      <td>100.000000</td>\n      <td>Broca</td>\n      <td>Datatypes</td>\n    </tr>\n    <tr>\n      <th>5</th>\n      <td>100.000000</td>\n      <td>Broca</td>\n      <td>Datatypes</td>\n    </tr>\n    <tr>\n      <th>6</th>\n      <td>100.000000</td>\n      <td>Broca</td>\n      <td>Datatypes</td>\n    </tr>\n    <tr>\n      <th>...</th>\n      <td>...</td>\n      <td>...</td>\n      <td>...</td>\n    </tr>\n    <tr>\n      <th>11</th>\n      <td>89.024390</td>\n      <td>Control</td>\n      <td>Loops</td>\n    </tr>\n    <tr>\n      <th>12</th>\n      <td>65.853659</td>\n      <td>Control</td>\n      <td>Loops</td>\n    </tr>\n    <tr>\n      <th>13</th>\n      <td>98.780488</td>\n      <td>Broca</td>\n      <td>Loops</td>\n    </tr>\n    <tr>\n      <th>14</th>\n      <td>57.317073</td>\n      <td>Control</td>\n      <td>Loops</td>\n    </tr>\n    <tr>\n      <th>15</th>\n      <td>63.414634</td>\n      <td>Broca</td>\n      <td>Loops</td>\n    </tr>\n  </tbody>\n</table>\n<p>95 rows × 3 columns</p>\n</div>"
     },
     "metadata": {},
     "output_type": "display_data"
    }
   ],
   "source": [
    "df_total = df_datatypes[['Percentage', 'Group', 'Category']].append(df_variables[['Percentage', 'Group', 'Category']]).append(df_arithmetic[['Percentage', 'Group', 'Category']]).append(df_print[['Percentage', 'Group', 'Category']]).append(df_logical[['Percentage', 'Group', 'Category']]).append(df_conditional[['Percentage', 'Group', 'Category']]).append(df_loops[['Percentage', 'Group', 'Category']])\n",
    "\n",
    "display(df_total)\n",
    "\n",
    "#rename broca and control in yes and no for group\n",
    "df_total['Group'] = df_total['Group'].replace(['Broca', 'Control'], ['broca', 'control'])"
   ],
   "metadata": {
    "collapsed": false,
    "pycharm": {
     "name": "#%%\n"
    }
   }
  },
  {
   "cell_type": "code",
   "execution_count": 64,
   "outputs": [
    {
     "data": {
      "text/plain": "    Percentage    Group   Category\n0   100.000000    Broca  Datatypes\n1   100.000000    Broca  Datatypes\n2   100.000000    Broca  Datatypes\n5   100.000000    Broca  Datatypes\n6   100.000000    Broca  Datatypes\n7   100.000000    Broca  Datatypes\n8   100.000000  Control  Datatypes\n11  100.000000  Control  Datatypes\n12  100.000000  Control  Datatypes\n13  100.000000    Broca  Datatypes\n14  100.000000  Control  Datatypes\n15  100.000000    Broca  Datatypes\n16   92.307692    Broca  Datatypes\n17  100.000000  Control  Datatypes",
      "text/html": "<div>\n<style scoped>\n    .dataframe tbody tr th:only-of-type {\n        vertical-align: middle;\n    }\n\n    .dataframe tbody tr th {\n        vertical-align: top;\n    }\n\n    .dataframe thead th {\n        text-align: right;\n    }\n</style>\n<table border=\"1\" class=\"dataframe\">\n  <thead>\n    <tr style=\"text-align: right;\">\n      <th></th>\n      <th>Percentage</th>\n      <th>Group</th>\n      <th>Category</th>\n    </tr>\n  </thead>\n  <tbody>\n    <tr>\n      <th>0</th>\n      <td>100.000000</td>\n      <td>Broca</td>\n      <td>Datatypes</td>\n    </tr>\n    <tr>\n      <th>1</th>\n      <td>100.000000</td>\n      <td>Broca</td>\n      <td>Datatypes</td>\n    </tr>\n    <tr>\n      <th>2</th>\n      <td>100.000000</td>\n      <td>Broca</td>\n      <td>Datatypes</td>\n    </tr>\n    <tr>\n      <th>5</th>\n      <td>100.000000</td>\n      <td>Broca</td>\n      <td>Datatypes</td>\n    </tr>\n    <tr>\n      <th>6</th>\n      <td>100.000000</td>\n      <td>Broca</td>\n      <td>Datatypes</td>\n    </tr>\n    <tr>\n      <th>7</th>\n      <td>100.000000</td>\n      <td>Broca</td>\n      <td>Datatypes</td>\n    </tr>\n    <tr>\n      <th>8</th>\n      <td>100.000000</td>\n      <td>Control</td>\n      <td>Datatypes</td>\n    </tr>\n    <tr>\n      <th>11</th>\n      <td>100.000000</td>\n      <td>Control</td>\n      <td>Datatypes</td>\n    </tr>\n    <tr>\n      <th>12</th>\n      <td>100.000000</td>\n      <td>Control</td>\n      <td>Datatypes</td>\n    </tr>\n    <tr>\n      <th>13</th>\n      <td>100.000000</td>\n      <td>Broca</td>\n      <td>Datatypes</td>\n    </tr>\n    <tr>\n      <th>14</th>\n      <td>100.000000</td>\n      <td>Control</td>\n      <td>Datatypes</td>\n    </tr>\n    <tr>\n      <th>15</th>\n      <td>100.000000</td>\n      <td>Broca</td>\n      <td>Datatypes</td>\n    </tr>\n    <tr>\n      <th>16</th>\n      <td>92.307692</td>\n      <td>Broca</td>\n      <td>Datatypes</td>\n    </tr>\n    <tr>\n      <th>17</th>\n      <td>100.000000</td>\n      <td>Control</td>\n      <td>Datatypes</td>\n    </tr>\n  </tbody>\n</table>\n</div>"
     },
     "metadata": {},
     "output_type": "display_data"
    },
    {
     "data": {
      "text/plain": "<Figure size 432x288 with 1 Axes>",
      "image/png": "[encoded data removed]"
     },
     "metadata": {},
     "output_type": "display_data"
    }
   ],
   "source": [
    "display(df_datatypes)\n",
    "\n",
    "import seaborn as sns\n",
    "\n",
    "#show 100 rows in display\n",
    "pd.set_option('display.max_rows', 100)\n",
    "\n",
    "# Draw a nested violinplot and split the violins for easier comparison\n",
    "violin = sns.violinplot(data=df_total, x=\"Category\", y=\"Percentage\", hue=\"Group\",\n",
    "               split=True, inner=\"quart\", linewidth=1)\n",
    "\n",
    "violin.set(xlabel='Programming construct', ylabel='Percentage of correct answers')\n",
    "#violin.set(ylim=(0, 100))\n",
    "violin.set_title('Programming exercises per construct')\n",
    "\n",
    "violin.legend(title='Group', loc='center left', bbox_to_anchor=(1, 0.8))\n",
    "\n",
    "plt.savefig('violinplot_exercises.pdf', bbox_inches='tight')"
   ],
   "metadata": {
    "collapsed": false,
    "pycharm": {
     "name": "#%%\n"
    }
   }
  },
  {
   "cell_type": "code",
   "execution_count": 65,
   "outputs": [
    {
     "data": {
      "text/plain": "        UID  1.1  1.2  Total  Datatypes Percentage\n0   0LZR203  6.0  7.0   13.0            100.000000\n1   0REG243  6.0  7.0   13.0            100.000000\n2   1AGT138  6.0  7.0   13.0            100.000000\n5   3LDI060  6.0  7.0   13.0            100.000000\n6   3LST145  6.0  7.0   13.0            100.000000\n7   4ANT042  6.0  7.0   13.0            100.000000\n13  7BGT235  6.0  7.0   13.0            100.000000\n15  7RAI228  6.0  7.0   13.0            100.000000\n16  7SOA133  5.0  7.0   12.0             92.307692\n19  8CHT208  6.0  7.0   13.0            100.000000",
      "text/html": "<div>\n<style scoped>\n    .dataframe tbody tr th:only-of-type {\n        vertical-align: middle;\n    }\n\n    .dataframe tbody tr th {\n        vertical-align: top;\n    }\n\n    .dataframe thead th {\n        text-align: right;\n    }\n</style>\n<table border=\"1\" class=\"dataframe\">\n  <thead>\n    <tr style=\"text-align: right;\">\n      <th></th>\n      <th>UID</th>\n      <th>1.1</th>\n      <th>1.2</th>\n      <th>Total</th>\n      <th>Datatypes Percentage</th>\n    </tr>\n  </thead>\n  <tbody>\n    <tr>\n      <th>0</th>\n      <td>0LZR203</td>\n      <td>6.0</td>\n      <td>7.0</td>\n      <td>13.0</td>\n      <td>100.000000</td>\n    </tr>\n    <tr>\n      <th>1</th>\n      <td>0REG243</td>\n      <td>6.0</td>\n      <td>7.0</td>\n      <td>13.0</td>\n      <td>100.000000</td>\n    </tr>\n    <tr>\n      <th>2</th>\n      <td>1AGT138</td>\n      <td>6.0</td>\n      <td>7.0</td>\n      <td>13.0</td>\n      <td>100.000000</td>\n    </tr>\n    <tr>\n      <th>5</th>\n      <td>3LDI060</td>\n      <td>6.0</td>\n      <td>7.0</td>\n      <td>13.0</td>\n      <td>100.000000</td>\n    </tr>\n    <tr>\n      <th>6</th>\n      <td>3LST145</td>\n      <td>6.0</td>\n      <td>7.0</td>\n      <td>13.0</td>\n      <td>100.000000</td>\n    </tr>\n    <tr>\n      <th>7</th>\n      <td>4ANT042</td>\n      <td>6.0</td>\n      <td>7.0</td>\n      <td>13.0</td>\n      <td>100.000000</td>\n    </tr>\n    <tr>\n      <th>13</th>\n      <td>7BGT235</td>\n      <td>6.0</td>\n      <td>7.0</td>\n      <td>13.0</td>\n      <td>100.000000</td>\n    </tr>\n    <tr>\n      <th>15</th>\n      <td>7RAI228</td>\n      <td>6.0</td>\n      <td>7.0</td>\n      <td>13.0</td>\n      <td>100.000000</td>\n    </tr>\n    <tr>\n      <th>16</th>\n      <td>7SOA133</td>\n      <td>5.0</td>\n      <td>7.0</td>\n      <td>12.0</td>\n      <td>92.307692</td>\n    </tr>\n    <tr>\n      <th>19</th>\n      <td>8CHT208</td>\n      <td>6.0</td>\n      <td>7.0</td>\n      <td>13.0</td>\n      <td>100.000000</td>\n    </tr>\n  </tbody>\n</table>\n</div>"
     },
     "execution_count": 65,
     "metadata": {},
     "output_type": "execute_result"
    }
   ],
   "source": [
    "df_datatypes_broca"
   ],
   "metadata": {
    "collapsed": false,
    "pycharm": {
     "name": "#%%\n"
    }
   }
  },
  {
   "cell_type": "code",
   "execution_count": 65,
   "outputs": [],
   "source": [],
   "metadata": {
    "collapsed": false,
    "pycharm": {
     "name": "#%%\n"
    }
   }
  }
 ],
 "metadata": {
  "kernelspec": {
   "display_name": "Python 3",
   "language": "python",
   "name": "python3"
  },
  "language_info": {
   "codemirror_mode": {
    "name": "ipython",
    "version": 2
   },
   "file_extension": ".py",
   "mimetype": "text/x-python",
   "name": "python",
   "nbconvert_exporter": "python",
   "pygments_lexer": "ipython2",
   "version": "2.7.6"
  }
 },
 "nbformat": 4,
 "nbformat_minor": 0
}