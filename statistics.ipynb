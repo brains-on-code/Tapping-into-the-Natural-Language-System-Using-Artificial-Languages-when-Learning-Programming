{
 "cells": [
  {
   "cell_type": "code",
   "execution_count": 188,
   "outputs": [],
   "source": [
    "import pandas as pd\n",
    "import seaborn as sns\n",
    "import matplotlib.pyplot as plt\n",
    "\n",
    "xls = pd.ExcelFile('data/Vorkurs_22.xlsx')\n",
    "df_experience = pd.read_excel(xls, 'Programmiererfahrung')\n",
    "df_pretest = pd.read_excel(xls, \"Pretest\")\n",
    "df_tasks = pd.read_excel(xls, 'Übungsaufgaben')\n",
    "df_broca = pd.read_excel(xls, \"BROCAtreat\")\n",
    "df_posttest = pd.read_excel(xls, \"Posttest-Ahadi\")\n",
    "df_posttest_programming = pd.read_excel(xls, \"Posttest-Programmieraufgabe\")"
   ],
   "metadata": {
    "collapsed": false,
    "pycharm": {
     "name": "#%%\n"
    }
   }
  },
  {
   "cell_type": "markdown",
   "source": [
    "Create Lists of different UIDs"
   ],
   "metadata": {
    "collapsed": false,
    "pycharm": {
     "name": "#%% md\n"
    }
   }
  },
  {
   "cell_type": "code",
   "execution_count": 189,
   "outputs": [
    {
     "name": "stdout",
     "output_type": "stream",
     "text": [
      "['1RBR047', '4DRO233', '4MNT105', '5JS4143', '5NSA280', '6CSA143', '7KSM240', '7VKT025', '8AB4138']\n",
      "['0LZR203', '0REG243', '1AGT138', '1HJA213', '3LDI060', '3LST145', '4ANT042', '7BGT235', '7RAI228', '7SOA133', '8CHT208']\n"
     ]
    }
   ],
   "source": [
    "broca_uid = df_broca['UID'].to_list()\n",
    "all_uid = df_pretest['UID'].to_list()\n",
    "control_uid = list(set(all_uid) - set(broca_uid))\n",
    "control_uid.sort()\n",
    "broca_uid.sort()\n",
    "print(control_uid)\n",
    "print(broca_uid)"
   ],
   "metadata": {
    "collapsed": false,
    "pycharm": {
     "name": "#%%\n"
    }
   }
  },
  {
   "cell_type": "markdown",
   "source": [
    "Calculate Points for Pretest and Posttest"
   ],
   "metadata": {
    "collapsed": false,
    "pycharm": {
     "name": "#%% md\n"
    }
   }
  },
  {
   "cell_type": "code",
   "execution_count": 190,
   "outputs": [],
   "source": [
    "pretest_all = df_pretest[\"Insgesamt\"].dropna().to_list()\n",
    "posttest_all = df_posttest[\"Insgesamt\"].dropna().to_list()"
   ],
   "metadata": {
    "collapsed": false,
    "pycharm": {
     "name": "#%%\n"
    }
   }
  },
  {
   "cell_type": "code",
   "execution_count": 191,
   "outputs": [],
   "source": [
    "broca_pretest = df_pretest[df_pretest.UID.isin(broca_uid)]\n",
    "control_pretest = df_pretest[df_pretest.UID.isin(control_uid)]\n",
    "\n",
    "broca_pretest = broca_pretest[\"Insgesamt\"].dropna().to_list()\n",
    "control_pretest = control_pretest[\"Insgesamt\"].dropna().to_list()"
   ],
   "metadata": {
    "collapsed": false,
    "pycharm": {
     "name": "#%%\n"
    }
   }
  },
  {
   "cell_type": "code",
   "execution_count": 192,
   "outputs": [
    {
     "data": {
      "text/plain": "        UID  Aufgabe 1a  Aufgabe 1b  Aufgabe 1c  Aufgabe 1d  Aufgabe 1e  \\\n4   1RBR047         NaN         NaN         NaN         NaN         NaN   \n8   4DRO233         1.0         1.0         1.0         1.0         1.0   \n9   4MNT105         NaN         NaN         NaN         NaN         NaN   \n10  5JS4143         NaN         NaN         NaN         NaN         NaN   \n11  5NSA280         1.0         1.0         1.0         1.0         1.0   \n12  6CSA143         0.0         1.0         1.0         1.0         1.0   \n14  7KSM240         1.0         1.0         1.0         1.0         1.0   \n17  7VKT025         NaN         NaN         NaN         NaN         NaN   \n18  8AB4138         NaN         NaN         NaN         NaN         NaN   \n\n    Aufgabe 1f  Aufgabe 2  Aufgabe 3  Insgesamt  Unnamed: 10  Pretest  \\\n4          NaN        NaN        NaN        NaN          NaN      8.0   \n8          1.0        1.0        1.0        8.0          NaN      7.0   \n9          NaN        NaN        NaN        NaN          NaN      NaN   \n10         NaN        NaN        NaN        NaN          NaN      8.0   \n11         1.0        1.0        1.0        8.0          NaN      5.0   \n12         1.0        0.5        0.0        5.5          NaN      0.0   \n14         1.0        1.0        0.0        7.0          NaN      5.0   \n17         NaN        NaN        NaN        NaN          NaN      8.0   \n18         NaN        NaN        NaN        NaN          NaN      NaN   \n\n    Posttest  \n4        NaN  \n8        8.0  \n9        NaN  \n10       NaN  \n11       8.0  \n12       5.5  \n14       7.0  \n17       8.0  \n18       NaN  ",
      "text/html": "<div>\n<style scoped>\n    .dataframe tbody tr th:only-of-type {\n        vertical-align: middle;\n    }\n\n    .dataframe tbody tr th {\n        vertical-align: top;\n    }\n\n    .dataframe thead th {\n        text-align: right;\n    }\n</style>\n<table border=\"1\" class=\"dataframe\">\n  <thead>\n    <tr style=\"text-align: right;\">\n      <th></th>\n      <th>UID</th>\n      <th>Aufgabe 1a</th>\n      <th>Aufgabe 1b</th>\n      <th>Aufgabe 1c</th>\n      <th>Aufgabe 1d</th>\n      <th>Aufgabe 1e</th>\n      <th>Aufgabe 1f</th>\n      <th>Aufgabe 2</th>\n      <th>Aufgabe 3</th>\n      <th>Insgesamt</th>\n      <th>Unnamed: 10</th>\n      <th>Pretest</th>\n      <th>Posttest</th>\n    </tr>\n  </thead>\n  <tbody>\n    <tr>\n      <th>4</th>\n      <td>1RBR047</td>\n      <td>NaN</td>\n      <td>NaN</td>\n      <td>NaN</td>\n      <td>NaN</td>\n      <td>NaN</td>\n      <td>NaN</td>\n      <td>NaN</td>\n      <td>NaN</td>\n      <td>NaN</td>\n      <td>NaN</td>\n      <td>8.0</td>\n      <td>NaN</td>\n    </tr>\n    <tr>\n      <th>8</th>\n      <td>4DRO233</td>\n      <td>1.0</td>\n      <td>1.0</td>\n      <td>1.0</td>\n      <td>1.0</td>\n      <td>1.0</td>\n      <td>1.0</td>\n      <td>1.0</td>\n      <td>1.0</td>\n      <td>8.0</td>\n      <td>NaN</td>\n      <td>7.0</td>\n      <td>8.0</td>\n    </tr>\n    <tr>\n      <th>9</th>\n      <td>4MNT105</td>\n      <td>NaN</td>\n      <td>NaN</td>\n      <td>NaN</td>\n      <td>NaN</td>\n      <td>NaN</td>\n      <td>NaN</td>\n      <td>NaN</td>\n      <td>NaN</td>\n      <td>NaN</td>\n      <td>NaN</td>\n      <td>NaN</td>\n      <td>NaN</td>\n    </tr>\n    <tr>\n      <th>10</th>\n      <td>5JS4143</td>\n      <td>NaN</td>\n      <td>NaN</td>\n      <td>NaN</td>\n      <td>NaN</td>\n      <td>NaN</td>\n      <td>NaN</td>\n      <td>NaN</td>\n      <td>NaN</td>\n      <td>NaN</td>\n      <td>NaN</td>\n      <td>8.0</td>\n      <td>NaN</td>\n    </tr>\n    <tr>\n      <th>11</th>\n      <td>5NSA280</td>\n      <td>1.0</td>\n      <td>1.0</td>\n      <td>1.0</td>\n      <td>1.0</td>\n      <td>1.0</td>\n      <td>1.0</td>\n      <td>1.0</td>\n      <td>1.0</td>\n      <td>8.0</td>\n      <td>NaN</td>\n      <td>5.0</td>\n      <td>8.0</td>\n    </tr>\n    <tr>\n      <th>12</th>\n      <td>6CSA143</td>\n      <td>0.0</td>\n      <td>1.0</td>\n      <td>1.0</td>\n      <td>1.0</td>\n      <td>1.0</td>\n      <td>1.0</td>\n      <td>0.5</td>\n      <td>0.0</td>\n      <td>5.5</td>\n      <td>NaN</td>\n      <td>0.0</td>\n      <td>5.5</td>\n    </tr>\n    <tr>\n      <th>14</th>\n      <td>7KSM240</td>\n      <td>1.0</td>\n      <td>1.0</td>\n      <td>1.0</td>\n      <td>1.0</td>\n      <td>1.0</td>\n      <td>1.0</td>\n      <td>1.0</td>\n      <td>0.0</td>\n      <td>7.0</td>\n      <td>NaN</td>\n      <td>5.0</td>\n      <td>7.0</td>\n    </tr>\n    <tr>\n      <th>17</th>\n      <td>7VKT025</td>\n      <td>NaN</td>\n      <td>NaN</td>\n      <td>NaN</td>\n      <td>NaN</td>\n      <td>NaN</td>\n      <td>NaN</td>\n      <td>NaN</td>\n      <td>NaN</td>\n      <td>NaN</td>\n      <td>NaN</td>\n      <td>8.0</td>\n      <td>8.0</td>\n    </tr>\n    <tr>\n      <th>18</th>\n      <td>8AB4138</td>\n      <td>NaN</td>\n      <td>NaN</td>\n      <td>NaN</td>\n      <td>NaN</td>\n      <td>NaN</td>\n      <td>NaN</td>\n      <td>NaN</td>\n      <td>NaN</td>\n      <td>NaN</td>\n      <td>NaN</td>\n      <td>NaN</td>\n      <td>NaN</td>\n    </tr>\n  </tbody>\n</table>\n</div>"
     },
     "metadata": {},
     "output_type": "display_data"
    }
   ],
   "source": [
    "broca_posttest = df_posttest[df_posttest.UID.isin(broca_uid)]\n",
    "control_posttest = df_posttest[df_posttest.UID.isin(control_uid)]\n",
    "\n",
    "display(control_posttest)\n",
    "broca_posttest = broca_posttest[\"Posttest\"].dropna().to_list()\n",
    "control_posttest = control_posttest[\"Posttest\"].dropna().to_list()"
   ],
   "metadata": {
    "collapsed": false,
    "pycharm": {
     "name": "#%%\n"
    }
   }
  },
  {
   "cell_type": "code",
   "execution_count": 193,
   "outputs": [
    {
     "name": "stdout",
     "output_type": "stream",
     "text": [
      "        UID  Aufgabe 1a  Aufgabe 1b  Aufgabe 1c  Aufgabe 1d  Aufgabe 1e  \\\n",
      "0   0LZR203         1.0         1.0         1.0         1.0         1.0   \n",
      "1   0REG243         NaN         NaN         NaN         NaN         NaN   \n",
      "2   1AGT138         1.0         1.0         1.0         1.0         1.0   \n",
      "3   1HJA213         NaN         NaN         NaN         NaN         NaN   \n",
      "5   3LDI060         1.0         1.0         1.0         1.0         1.0   \n",
      "6   3LST145         1.0         1.0         1.0         1.0         1.0   \n",
      "7   4ANT042         1.0         1.0         1.0         1.0         1.0   \n",
      "13  7BGT235         1.0         1.0         1.0         1.0         1.0   \n",
      "15  7RAI228         0.0         0.0         1.0         1.0         1.0   \n",
      "16  7SOA133         1.0         1.0         1.0         1.0         1.0   \n",
      "19  8CHT208         NaN         NaN         NaN         NaN         NaN   \n",
      "\n",
      "    Aufgabe 1f  Aufgabe 2  Aufgabe 3  Insgesamt  Unnamed: 10  \n",
      "0          1.0        1.0        0.0        2.0          7.0  \n",
      "1          NaN        NaN        NaN        NaN          NaN  \n",
      "2          1.0        1.0        1.0        2.0          8.0  \n",
      "3          NaN        NaN        NaN        NaN          NaN  \n",
      "5          1.0        1.0        1.0        2.0          8.0  \n",
      "6          1.0        1.0        1.0        2.0          8.0  \n",
      "7          1.0        1.0        1.0        2.0          8.0  \n",
      "13         1.0        1.0        1.0        2.0          8.0  \n",
      "15         1.0        0.0        1.0        1.0          5.0  \n",
      "16         1.0        1.0        1.0        2.0          8.0  \n",
      "19         NaN        NaN        NaN        NaN          NaN  \n",
      "        UID  Aufgabe 1a  Aufgabe 1b  Aufgabe 1c  Aufgabe 1d  Aufgabe 1e  \\\n",
      "4   1RBR047         NaN         NaN         NaN         NaN         NaN   \n",
      "8   4DRO233         1.0         1.0         1.0         1.0         1.0   \n",
      "9   4MNT105         NaN         NaN         NaN         NaN         NaN   \n",
      "10  5JS4143         NaN         NaN         NaN         NaN         NaN   \n",
      "11  5NSA280         1.0         1.0         1.0         1.0         1.0   \n",
      "12  6CSA143         0.0         1.0         1.0         1.0         1.0   \n",
      "14  7KSM240         1.0         1.0         1.0         1.0         1.0   \n",
      "17  7VKT025         1.0         1.0         1.0         1.0         1.0   \n",
      "18  8AB4138         NaN         NaN         NaN         NaN         NaN   \n",
      "\n",
      "    Aufgabe 1f  Aufgabe 2  Aufgabe 3  Insgesamt  Unnamed: 10  \n",
      "4          NaN        NaN        NaN        NaN          NaN  \n",
      "8          1.0        1.0        1.0        2.0          8.0  \n",
      "9          NaN        NaN        NaN        NaN          NaN  \n",
      "10         NaN        NaN        NaN        NaN          NaN  \n",
      "11         1.0        1.0        1.0        2.0          8.0  \n",
      "12         0.0        0.5        0.0        0.0          4.5  \n",
      "14         1.0        1.0        1.0        2.0          8.0  \n",
      "17         1.0        1.0        1.0        2.0          8.0  \n",
      "18         NaN        NaN        NaN        NaN          NaN  \n",
      "[2.0, 2.0, 0.0, 2.0, 2.0]\n"
     ]
    }
   ],
   "source": [
    "broca_programming_test = df_posttest_programming[df_posttest_programming.UID.isin(broca_uid)]\n",
    "control_programming_test = df_posttest_programming[df_posttest_programming.UID.isin(control_uid)]\n",
    "\n",
    "print(broca_programming_test)\n",
    "print(control_programming_test)\n",
    "\n",
    "broca_programming_test = broca_programming_test[\"Insgesamt\"].dropna().to_list()\n",
    "control_programming_test = control_programming_test[\"Insgesamt\"].dropna().to_list()\n",
    "\n",
    "print(control_programming_test)"
   ],
   "metadata": {
    "collapsed": false,
    "pycharm": {
     "name": "#%%\n"
    }
   }
  },
  {
   "cell_type": "code",
   "execution_count": 194,
   "outputs": [],
   "source": [
    "df_broca_pretest = pd.DataFrame(broca_pretest)\n",
    "df_broca_posttest = pd.DataFrame(broca_posttest)\n",
    "df_control_pretest = pd.DataFrame(control_pretest)\n",
    "df_control_posttest = pd.DataFrame(control_posttest)\n",
    "\n",
    "df_broca_programming = pd.DataFrame(broca_programming_test)\n",
    "df_control_programming = pd.DataFrame(control_programming_test)"
   ],
   "metadata": {
    "collapsed": false,
    "pycharm": {
     "name": "#%%\n"
    }
   }
  },
  {
   "cell_type": "markdown",
   "source": [
    "Descriptive Statistics of Points per Group"
   ],
   "metadata": {
    "collapsed": false,
    "pycharm": {
     "name": "#%% md\n"
    }
   }
  },
  {
   "cell_type": "code",
   "execution_count": 195,
   "outputs": [
    {
     "data": {
      "text/plain": "               0\ncount  11.000000\nmean    4.818182\nstd     2.600699\nmin     0.000000\n25%     2.750000\n50%     5.500000\n75%     6.750000\nmax     8.000000",
      "text/html": "<div>\n<style scoped>\n    .dataframe tbody tr th:only-of-type {\n        vertical-align: middle;\n    }\n\n    .dataframe tbody tr th {\n        vertical-align: top;\n    }\n\n    .dataframe thead th {\n        text-align: right;\n    }\n</style>\n<table border=\"1\" class=\"dataframe\">\n  <thead>\n    <tr style=\"text-align: right;\">\n      <th></th>\n      <th>0</th>\n    </tr>\n  </thead>\n  <tbody>\n    <tr>\n      <th>count</th>\n      <td>11.000000</td>\n    </tr>\n    <tr>\n      <th>mean</th>\n      <td>4.818182</td>\n    </tr>\n    <tr>\n      <th>std</th>\n      <td>2.600699</td>\n    </tr>\n    <tr>\n      <th>min</th>\n      <td>0.000000</td>\n    </tr>\n    <tr>\n      <th>25%</th>\n      <td>2.750000</td>\n    </tr>\n    <tr>\n      <th>50%</th>\n      <td>5.500000</td>\n    </tr>\n    <tr>\n      <th>75%</th>\n      <td>6.750000</td>\n    </tr>\n    <tr>\n      <th>max</th>\n      <td>8.000000</td>\n    </tr>\n  </tbody>\n</table>\n</div>"
     },
     "execution_count": 195,
     "metadata": {},
     "output_type": "execute_result"
    }
   ],
   "source": [
    "df_broca_pretest.describe()"
   ],
   "metadata": {
    "collapsed": false,
    "pycharm": {
     "name": "#%%\n"
    }
   }
  },
  {
   "cell_type": "code",
   "execution_count": 196,
   "outputs": [
    {
     "data": {
      "text/plain": "              0\ncount  8.000000\nmean   7.187500\nstd    0.923406\nmin    6.000000\n25%    6.375000\n50%    7.500000\n75%    8.000000\nmax    8.000000",
      "text/html": "<div>\n<style scoped>\n    .dataframe tbody tr th:only-of-type {\n        vertical-align: middle;\n    }\n\n    .dataframe tbody tr th {\n        vertical-align: top;\n    }\n\n    .dataframe thead th {\n        text-align: right;\n    }\n</style>\n<table border=\"1\" class=\"dataframe\">\n  <thead>\n    <tr style=\"text-align: right;\">\n      <th></th>\n      <th>0</th>\n    </tr>\n  </thead>\n  <tbody>\n    <tr>\n      <th>count</th>\n      <td>8.000000</td>\n    </tr>\n    <tr>\n      <th>mean</th>\n      <td>7.187500</td>\n    </tr>\n    <tr>\n      <th>std</th>\n      <td>0.923406</td>\n    </tr>\n    <tr>\n      <th>min</th>\n      <td>6.000000</td>\n    </tr>\n    <tr>\n      <th>25%</th>\n      <td>6.375000</td>\n    </tr>\n    <tr>\n      <th>50%</th>\n      <td>7.500000</td>\n    </tr>\n    <tr>\n      <th>75%</th>\n      <td>8.000000</td>\n    </tr>\n    <tr>\n      <th>max</th>\n      <td>8.000000</td>\n    </tr>\n  </tbody>\n</table>\n</div>"
     },
     "execution_count": 196,
     "metadata": {},
     "output_type": "execute_result"
    }
   ],
   "source": [
    "df_broca_posttest.describe()"
   ],
   "metadata": {
    "collapsed": false,
    "pycharm": {
     "name": "#%%\n"
    }
   }
  },
  {
   "cell_type": "code",
   "execution_count": 197,
   "outputs": [
    {
     "data": {
      "text/plain": "              0\ncount  9.000000\nmean   5.222222\nstd    3.192874\nmin    0.000000\n25%    5.000000\n50%    6.000000\n75%    8.000000\nmax    8.000000",
      "text/html": "<div>\n<style scoped>\n    .dataframe tbody tr th:only-of-type {\n        vertical-align: middle;\n    }\n\n    .dataframe tbody tr th {\n        vertical-align: top;\n    }\n\n    .dataframe thead th {\n        text-align: right;\n    }\n</style>\n<table border=\"1\" class=\"dataframe\">\n  <thead>\n    <tr style=\"text-align: right;\">\n      <th></th>\n      <th>0</th>\n    </tr>\n  </thead>\n  <tbody>\n    <tr>\n      <th>count</th>\n      <td>9.000000</td>\n    </tr>\n    <tr>\n      <th>mean</th>\n      <td>5.222222</td>\n    </tr>\n    <tr>\n      <th>std</th>\n      <td>3.192874</td>\n    </tr>\n    <tr>\n      <th>min</th>\n      <td>0.000000</td>\n    </tr>\n    <tr>\n      <th>25%</th>\n      <td>5.000000</td>\n    </tr>\n    <tr>\n      <th>50%</th>\n      <td>6.000000</td>\n    </tr>\n    <tr>\n      <th>75%</th>\n      <td>8.000000</td>\n    </tr>\n    <tr>\n      <th>max</th>\n      <td>8.000000</td>\n    </tr>\n  </tbody>\n</table>\n</div>"
     },
     "execution_count": 197,
     "metadata": {},
     "output_type": "execute_result"
    }
   ],
   "source": [
    "df_control_pretest.describe()"
   ],
   "metadata": {
    "collapsed": false,
    "pycharm": {
     "name": "#%%\n"
    }
   }
  },
  {
   "cell_type": "code",
   "execution_count": 198,
   "outputs": [
    {
     "data": {
      "text/plain": "              0\ncount  5.000000\nmean   7.300000\nstd    1.095445\nmin    5.500000\n25%    7.000000\n50%    8.000000\n75%    8.000000\nmax    8.000000",
      "text/html": "<div>\n<style scoped>\n    .dataframe tbody tr th:only-of-type {\n        vertical-align: middle;\n    }\n\n    .dataframe tbody tr th {\n        vertical-align: top;\n    }\n\n    .dataframe thead th {\n        text-align: right;\n    }\n</style>\n<table border=\"1\" class=\"dataframe\">\n  <thead>\n    <tr style=\"text-align: right;\">\n      <th></th>\n      <th>0</th>\n    </tr>\n  </thead>\n  <tbody>\n    <tr>\n      <th>count</th>\n      <td>5.000000</td>\n    </tr>\n    <tr>\n      <th>mean</th>\n      <td>7.300000</td>\n    </tr>\n    <tr>\n      <th>std</th>\n      <td>1.095445</td>\n    </tr>\n    <tr>\n      <th>min</th>\n      <td>5.500000</td>\n    </tr>\n    <tr>\n      <th>25%</th>\n      <td>7.000000</td>\n    </tr>\n    <tr>\n      <th>50%</th>\n      <td>8.000000</td>\n    </tr>\n    <tr>\n      <th>75%</th>\n      <td>8.000000</td>\n    </tr>\n    <tr>\n      <th>max</th>\n      <td>8.000000</td>\n    </tr>\n  </tbody>\n</table>\n</div>"
     },
     "execution_count": 198,
     "metadata": {},
     "output_type": "execute_result"
    }
   ],
   "source": [
    "df_control_posttest.describe()"
   ],
   "metadata": {
    "collapsed": false,
    "pycharm": {
     "name": "#%%\n"
    }
   }
  },
  {
   "cell_type": "code",
   "execution_count": 199,
   "outputs": [
    {
     "data": {
      "text/plain": "              0\ncount  8.000000\nmean   1.875000\nstd    0.353553\nmin    1.000000\n25%    2.000000\n50%    2.000000\n75%    2.000000\nmax    2.000000",
      "text/html": "<div>\n<style scoped>\n    .dataframe tbody tr th:only-of-type {\n        vertical-align: middle;\n    }\n\n    .dataframe tbody tr th {\n        vertical-align: top;\n    }\n\n    .dataframe thead th {\n        text-align: right;\n    }\n</style>\n<table border=\"1\" class=\"dataframe\">\n  <thead>\n    <tr style=\"text-align: right;\">\n      <th></th>\n      <th>0</th>\n    </tr>\n  </thead>\n  <tbody>\n    <tr>\n      <th>count</th>\n      <td>8.000000</td>\n    </tr>\n    <tr>\n      <th>mean</th>\n      <td>1.875000</td>\n    </tr>\n    <tr>\n      <th>std</th>\n      <td>0.353553</td>\n    </tr>\n    <tr>\n      <th>min</th>\n      <td>1.000000</td>\n    </tr>\n    <tr>\n      <th>25%</th>\n      <td>2.000000</td>\n    </tr>\n    <tr>\n      <th>50%</th>\n      <td>2.000000</td>\n    </tr>\n    <tr>\n      <th>75%</th>\n      <td>2.000000</td>\n    </tr>\n    <tr>\n      <th>max</th>\n      <td>2.000000</td>\n    </tr>\n  </tbody>\n</table>\n</div>"
     },
     "execution_count": 199,
     "metadata": {},
     "output_type": "execute_result"
    }
   ],
   "source": [
    "df_broca_programming.describe()"
   ],
   "metadata": {
    "collapsed": false,
    "pycharm": {
     "name": "#%%\n"
    }
   }
  },
  {
   "cell_type": "code",
   "execution_count": 200,
   "outputs": [
    {
     "data": {
      "text/plain": "              0\ncount  5.000000\nmean   1.600000\nstd    0.894427\nmin    0.000000\n25%    2.000000\n50%    2.000000\n75%    2.000000\nmax    2.000000",
      "text/html": "<div>\n<style scoped>\n    .dataframe tbody tr th:only-of-type {\n        vertical-align: middle;\n    }\n\n    .dataframe tbody tr th {\n        vertical-align: top;\n    }\n\n    .dataframe thead th {\n        text-align: right;\n    }\n</style>\n<table border=\"1\" class=\"dataframe\">\n  <thead>\n    <tr style=\"text-align: right;\">\n      <th></th>\n      <th>0</th>\n    </tr>\n  </thead>\n  <tbody>\n    <tr>\n      <th>count</th>\n      <td>5.000000</td>\n    </tr>\n    <tr>\n      <th>mean</th>\n      <td>1.600000</td>\n    </tr>\n    <tr>\n      <th>std</th>\n      <td>0.894427</td>\n    </tr>\n    <tr>\n      <th>min</th>\n      <td>0.000000</td>\n    </tr>\n    <tr>\n      <th>25%</th>\n      <td>2.000000</td>\n    </tr>\n    <tr>\n      <th>50%</th>\n      <td>2.000000</td>\n    </tr>\n    <tr>\n      <th>75%</th>\n      <td>2.000000</td>\n    </tr>\n    <tr>\n      <th>max</th>\n      <td>2.000000</td>\n    </tr>\n  </tbody>\n</table>\n</div>"
     },
     "execution_count": 200,
     "metadata": {},
     "output_type": "execute_result"
    }
   ],
   "source": [
    "df_control_programming.describe()"
   ],
   "metadata": {
    "collapsed": false,
    "pycharm": {
     "name": "#%%\n"
    }
   }
  },
  {
   "cell_type": "code",
   "execution_count": 201,
   "outputs": [
    {
     "name": "stdout",
     "output_type": "stream",
     "text": [
      "5.222222222222222\n"
     ]
    }
   ],
   "source": [
    "mean_control_pretest = df_control_pretest.describe(include='all').loc['mean']\n",
    "\n",
    "print(mean_control_pretest[0])"
   ],
   "metadata": {
    "collapsed": false,
    "pycharm": {
     "name": "#%%\n"
    }
   }
  },
  {
   "cell_type": "markdown",
   "source": [],
   "metadata": {
    "collapsed": false,
    "pycharm": {
     "name": "#%% md\n"
    }
   }
  },
  {
   "cell_type": "markdown",
   "source": [
    "Boxplot for Pre- and Posttest"
   ],
   "metadata": {
    "collapsed": false,
    "pycharm": {
     "name": "#%% md\n"
    }
   }
  },
  {
   "cell_type": "markdown",
   "source": [
    "Questionnaire\n"
   ],
   "metadata": {
    "collapsed": false,
    "pycharm": {
     "name": "#%% md\n"
    }
   }
  },
  {
   "cell_type": "code",
   "execution_count": 202,
   "outputs": [
    {
     "data": {
      "text/plain": "männlich    6\nweiblich    1\nName: control, dtype: int64"
     },
     "metadata": {},
     "output_type": "display_data"
    },
    {
     "data": {
      "text/plain": "         männlich  weiblich\ntest            8         3\ncontrol         6         1\nall            16         5",
      "text/html": "<div>\n<style scoped>\n    .dataframe tbody tr th:only-of-type {\n        vertical-align: middle;\n    }\n\n    .dataframe tbody tr th {\n        vertical-align: top;\n    }\n\n    .dataframe thead th {\n        text-align: right;\n    }\n</style>\n<table border=\"1\" class=\"dataframe\">\n  <thead>\n    <tr style=\"text-align: right;\">\n      <th></th>\n      <th>männlich</th>\n      <th>weiblich</th>\n    </tr>\n  </thead>\n  <tbody>\n    <tr>\n      <th>test</th>\n      <td>8</td>\n      <td>3</td>\n    </tr>\n    <tr>\n      <th>control</th>\n      <td>6</td>\n      <td>1</td>\n    </tr>\n    <tr>\n      <th>all</th>\n      <td>16</td>\n      <td>5</td>\n    </tr>\n  </tbody>\n</table>\n</div>"
     },
     "execution_count": 202,
     "metadata": {},
     "output_type": "execute_result"
    }
   ],
   "source": [
    "broca_questionnaire = df_experience[df_experience.UID.isin(broca_uid)]\n",
    "control_questionnaire = df_experience[df_experience.UID.isin(control_uid)]\n",
    "\n",
    "gender_all = df_experience[\"bio_geschlecht\"].value_counts()\n",
    "gender_brocanto = broca_questionnaire[\"bio_geschlecht\"].value_counts()\n",
    "gender_control = control_questionnaire[\"bio_geschlecht\"].value_counts()\n",
    "\n",
    "gender_control.name = \"control\"\n",
    "gender_all.name = \"all\"\n",
    "gender_brocanto.name = \"test\"\n",
    "display(gender_control)\n",
    "df_gender = pd.DataFrame([gender_brocanto, gender_control, gender_all])\n",
    "\n",
    "df_gender"
   ],
   "metadata": {
    "collapsed": false,
    "pycharm": {
     "name": "#%%\n"
    }
   }
  },
  {
   "cell_type": "code",
   "execution_count": 203,
   "outputs": [
    {
     "data": {
      "text/plain": "count    21.000000\nmean     21.238095\nstd       4.158182\nmin      18.000000\n25%      18.000000\n50%      19.000000\n75%      22.000000\nmax      32.000000\nName: alter, dtype: float64"
     },
     "execution_count": 203,
     "metadata": {},
     "output_type": "execute_result"
    }
   ],
   "source": [
    "age_all = df_experience[\"alter\"]\n",
    "age_brocanto = broca_questionnaire[\"alter\"]\n",
    "age_control = control_questionnaire[\"alter\"]\n",
    "\n",
    "age_all.describe()"
   ],
   "metadata": {
    "collapsed": false,
    "pycharm": {
     "name": "#%%\n"
    }
   }
  },
  {
   "cell_type": "code",
   "execution_count": 204,
   "outputs": [
    {
     "data": {
      "text/plain": "        UID  Aufgabe 1a  Aufgabe 1b  Aufgabe 1c  Aufgabe 1d  Aufgabe 1e  \\\n0   0LZR203         1.0         1.0         1.0         1.0         1.0   \n1   0REG243         NaN         NaN         NaN         NaN         NaN   \n2   1AGT138         1.0         1.0         1.0         1.0         1.0   \n3   1HJA213         NaN         NaN         NaN         NaN         NaN   \n4   1RBR047         NaN         NaN         NaN         NaN         NaN   \n5   3LDI060         1.0         1.0         1.0         1.0         1.0   \n6   3LST145         1.0         1.0         1.0         1.0         1.0   \n7   4ANT042         1.0         1.0         1.0         0.0         1.0   \n8   4DRO233         1.0         1.0         1.0         1.0         1.0   \n9   4MNT105         NaN         NaN         NaN         NaN         NaN   \n10  5JS4143         NaN         NaN         NaN         NaN         NaN   \n11  5NSA280         1.0         1.0         1.0         1.0         1.0   \n12  6CSA143         0.0         1.0         1.0         1.0         1.0   \n13  7BGT235         1.0         1.0         1.0         1.0         1.0   \n14  7KSM240         1.0         1.0         1.0         1.0         1.0   \n15  7RAI228         1.0         1.0         1.0         1.0         1.0   \n16  7SOA133         1.0         1.0         1.0         1.0         1.0   \n17  7VKT025         NaN         NaN         NaN         NaN         NaN   \n18  8AB4138         NaN         NaN         NaN         NaN         NaN   \n19  8CHT208         NaN         NaN         NaN         NaN         NaN   \n\n    Aufgabe 1f  Aufgabe 2  Aufgabe 3  Insgesamt  Unnamed: 10  Pretest  \\\n0          1.0        1.0        1.0        8.0          NaN      2.5   \n1          NaN        NaN        NaN        NaN          NaN      5.0   \n2          1.0        0.0        1.0        7.0          NaN      3.0   \n3          NaN        NaN        NaN        NaN          NaN      6.0   \n4          NaN        NaN        NaN        NaN          NaN      8.0   \n5          1.0        1.0        1.0        8.0          NaN      0.0   \n6          1.0        0.0        0.0        6.0          NaN      6.0   \n7          0.5        1.0        1.0        6.5          NaN      7.5   \n8          1.0        1.0        1.0        8.0          NaN      7.0   \n9          NaN        NaN        NaN        NaN          NaN      NaN   \n10         NaN        NaN        NaN        NaN          NaN      8.0   \n11         1.0        1.0        1.0        8.0          NaN      5.0   \n12         1.0        0.5        0.0        5.5          NaN      0.0   \n13         1.0        1.0        1.0        8.0          NaN      7.5   \n14         1.0        1.0        0.0        7.0          NaN      5.0   \n15         0.0        0.0        1.0        6.0          NaN      2.0   \n16         1.0        1.0        1.0        8.0          NaN      8.0   \n17         NaN        NaN        NaN        NaN          NaN      8.0   \n18         NaN        NaN        NaN        NaN          NaN      NaN   \n19         NaN        NaN        NaN        NaN          NaN      NaN   \n\n    Posttest  \n0        8.0  \n1        NaN  \n2        7.0  \n3        NaN  \n4        NaN  \n5        8.0  \n6        6.0  \n7        6.5  \n8        8.0  \n9        NaN  \n10       NaN  \n11       8.0  \n12       5.5  \n13       8.0  \n14       7.0  \n15       6.0  \n16       8.0  \n17       8.0  \n18       NaN  \n19       NaN  ",
      "text/html": "<div>\n<style scoped>\n    .dataframe tbody tr th:only-of-type {\n        vertical-align: middle;\n    }\n\n    .dataframe tbody tr th {\n        vertical-align: top;\n    }\n\n    .dataframe thead th {\n        text-align: right;\n    }\n</style>\n<table border=\"1\" class=\"dataframe\">\n  <thead>\n    <tr style=\"text-align: right;\">\n      <th></th>\n      <th>UID</th>\n      <th>Aufgabe 1a</th>\n      <th>Aufgabe 1b</th>\n      <th>Aufgabe 1c</th>\n      <th>Aufgabe 1d</th>\n      <th>Aufgabe 1e</th>\n      <th>Aufgabe 1f</th>\n      <th>Aufgabe 2</th>\n      <th>Aufgabe 3</th>\n      <th>Insgesamt</th>\n      <th>Unnamed: 10</th>\n      <th>Pretest</th>\n      <th>Posttest</th>\n    </tr>\n  </thead>\n  <tbody>\n    <tr>\n      <th>0</th>\n      <td>0LZR203</td>\n      <td>1.0</td>\n      <td>1.0</td>\n      <td>1.0</td>\n      <td>1.0</td>\n      <td>1.0</td>\n      <td>1.0</td>\n      <td>1.0</td>\n      <td>1.0</td>\n      <td>8.0</td>\n      <td>NaN</td>\n      <td>2.5</td>\n      <td>8.0</td>\n    </tr>\n    <tr>\n      <th>1</th>\n      <td>0REG243</td>\n      <td>NaN</td>\n      <td>NaN</td>\n      <td>NaN</td>\n      <td>NaN</td>\n      <td>NaN</td>\n      <td>NaN</td>\n      <td>NaN</td>\n      <td>NaN</td>\n      <td>NaN</td>\n      <td>NaN</td>\n      <td>5.0</td>\n      <td>NaN</td>\n    </tr>\n    <tr>\n      <th>2</th>\n      <td>1AGT138</td>\n      <td>1.0</td>\n      <td>1.0</td>\n      <td>1.0</td>\n      <td>1.0</td>\n      <td>1.0</td>\n      <td>1.0</td>\n      <td>0.0</td>\n      <td>1.0</td>\n      <td>7.0</td>\n      <td>NaN</td>\n      <td>3.0</td>\n      <td>7.0</td>\n    </tr>\n    <tr>\n      <th>3</th>\n      <td>1HJA213</td>\n      <td>NaN</td>\n      <td>NaN</td>\n      <td>NaN</td>\n      <td>NaN</td>\n      <td>NaN</td>\n      <td>NaN</td>\n      <td>NaN</td>\n      <td>NaN</td>\n      <td>NaN</td>\n      <td>NaN</td>\n      <td>6.0</td>\n      <td>NaN</td>\n    </tr>\n    <tr>\n      <th>4</th>\n      <td>1RBR047</td>\n      <td>NaN</td>\n      <td>NaN</td>\n      <td>NaN</td>\n      <td>NaN</td>\n      <td>NaN</td>\n      <td>NaN</td>\n      <td>NaN</td>\n      <td>NaN</td>\n      <td>NaN</td>\n      <td>NaN</td>\n      <td>8.0</td>\n      <td>NaN</td>\n    </tr>\n    <tr>\n      <th>5</th>\n      <td>3LDI060</td>\n      <td>1.0</td>\n      <td>1.0</td>\n      <td>1.0</td>\n      <td>1.0</td>\n      <td>1.0</td>\n      <td>1.0</td>\n      <td>1.0</td>\n      <td>1.0</td>\n      <td>8.0</td>\n      <td>NaN</td>\n      <td>0.0</td>\n      <td>8.0</td>\n    </tr>\n    <tr>\n      <th>6</th>\n      <td>3LST145</td>\n      <td>1.0</td>\n      <td>1.0</td>\n      <td>1.0</td>\n      <td>1.0</td>\n      <td>1.0</td>\n      <td>1.0</td>\n      <td>0.0</td>\n      <td>0.0</td>\n      <td>6.0</td>\n      <td>NaN</td>\n      <td>6.0</td>\n      <td>6.0</td>\n    </tr>\n    <tr>\n      <th>7</th>\n      <td>4ANT042</td>\n      <td>1.0</td>\n      <td>1.0</td>\n      <td>1.0</td>\n      <td>0.0</td>\n      <td>1.0</td>\n      <td>0.5</td>\n      <td>1.0</td>\n      <td>1.0</td>\n      <td>6.5</td>\n      <td>NaN</td>\n      <td>7.5</td>\n      <td>6.5</td>\n    </tr>\n    <tr>\n      <th>8</th>\n      <td>4DRO233</td>\n      <td>1.0</td>\n      <td>1.0</td>\n      <td>1.0</td>\n      <td>1.0</td>\n      <td>1.0</td>\n      <td>1.0</td>\n      <td>1.0</td>\n      <td>1.0</td>\n      <td>8.0</td>\n      <td>NaN</td>\n      <td>7.0</td>\n      <td>8.0</td>\n    </tr>\n    <tr>\n      <th>9</th>\n      <td>4MNT105</td>\n      <td>NaN</td>\n      <td>NaN</td>\n      <td>NaN</td>\n      <td>NaN</td>\n      <td>NaN</td>\n      <td>NaN</td>\n      <td>NaN</td>\n      <td>NaN</td>\n      <td>NaN</td>\n      <td>NaN</td>\n      <td>NaN</td>\n      <td>NaN</td>\n    </tr>\n    <tr>\n      <th>10</th>\n      <td>5JS4143</td>\n      <td>NaN</td>\n      <td>NaN</td>\n      <td>NaN</td>\n      <td>NaN</td>\n      <td>NaN</td>\n      <td>NaN</td>\n      <td>NaN</td>\n      <td>NaN</td>\n      <td>NaN</td>\n      <td>NaN</td>\n      <td>8.0</td>\n      <td>NaN</td>\n    </tr>\n    <tr>\n      <th>11</th>\n      <td>5NSA280</td>\n      <td>1.0</td>\n      <td>1.0</td>\n      <td>1.0</td>\n      <td>1.0</td>\n      <td>1.0</td>\n      <td>1.0</td>\n      <td>1.0</td>\n      <td>1.0</td>\n      <td>8.0</td>\n      <td>NaN</td>\n      <td>5.0</td>\n      <td>8.0</td>\n    </tr>\n    <tr>\n      <th>12</th>\n      <td>6CSA143</td>\n      <td>0.0</td>\n      <td>1.0</td>\n      <td>1.0</td>\n      <td>1.0</td>\n      <td>1.0</td>\n      <td>1.0</td>\n      <td>0.5</td>\n      <td>0.0</td>\n      <td>5.5</td>\n      <td>NaN</td>\n      <td>0.0</td>\n      <td>5.5</td>\n    </tr>\n    <tr>\n      <th>13</th>\n      <td>7BGT235</td>\n      <td>1.0</td>\n      <td>1.0</td>\n      <td>1.0</td>\n      <td>1.0</td>\n      <td>1.0</td>\n      <td>1.0</td>\n      <td>1.0</td>\n      <td>1.0</td>\n      <td>8.0</td>\n      <td>NaN</td>\n      <td>7.5</td>\n      <td>8.0</td>\n    </tr>\n    <tr>\n      <th>14</th>\n      <td>7KSM240</td>\n      <td>1.0</td>\n      <td>1.0</td>\n      <td>1.0</td>\n      <td>1.0</td>\n      <td>1.0</td>\n      <td>1.0</td>\n      <td>1.0</td>\n      <td>0.0</td>\n      <td>7.0</td>\n      <td>NaN</td>\n      <td>5.0</td>\n      <td>7.0</td>\n    </tr>\n    <tr>\n      <th>15</th>\n      <td>7RAI228</td>\n      <td>1.0</td>\n      <td>1.0</td>\n      <td>1.0</td>\n      <td>1.0</td>\n      <td>1.0</td>\n      <td>0.0</td>\n      <td>0.0</td>\n      <td>1.0</td>\n      <td>6.0</td>\n      <td>NaN</td>\n      <td>2.0</td>\n      <td>6.0</td>\n    </tr>\n    <tr>\n      <th>16</th>\n      <td>7SOA133</td>\n      <td>1.0</td>\n      <td>1.0</td>\n      <td>1.0</td>\n      <td>1.0</td>\n      <td>1.0</td>\n      <td>1.0</td>\n      <td>1.0</td>\n      <td>1.0</td>\n      <td>8.0</td>\n      <td>NaN</td>\n      <td>8.0</td>\n      <td>8.0</td>\n    </tr>\n    <tr>\n      <th>17</th>\n      <td>7VKT025</td>\n      <td>NaN</td>\n      <td>NaN</td>\n      <td>NaN</td>\n      <td>NaN</td>\n      <td>NaN</td>\n      <td>NaN</td>\n      <td>NaN</td>\n      <td>NaN</td>\n      <td>NaN</td>\n      <td>NaN</td>\n      <td>8.0</td>\n      <td>8.0</td>\n    </tr>\n    <tr>\n      <th>18</th>\n      <td>8AB4138</td>\n      <td>NaN</td>\n      <td>NaN</td>\n      <td>NaN</td>\n      <td>NaN</td>\n      <td>NaN</td>\n      <td>NaN</td>\n      <td>NaN</td>\n      <td>NaN</td>\n      <td>NaN</td>\n      <td>NaN</td>\n      <td>NaN</td>\n      <td>NaN</td>\n    </tr>\n    <tr>\n      <th>19</th>\n      <td>8CHT208</td>\n      <td>NaN</td>\n      <td>NaN</td>\n      <td>NaN</td>\n      <td>NaN</td>\n      <td>NaN</td>\n      <td>NaN</td>\n      <td>NaN</td>\n      <td>NaN</td>\n      <td>NaN</td>\n      <td>NaN</td>\n      <td>NaN</td>\n      <td>NaN</td>\n    </tr>\n  </tbody>\n</table>\n</div>"
     },
     "metadata": {},
     "output_type": "display_data"
    }
   ],
   "source": [
    "display(df_posttest)\n",
    "df_posttest = df_posttest.drop('Insgesamt', axis= 1)"
   ],
   "metadata": {
    "collapsed": false,
    "pycharm": {
     "name": "#%%\n"
    }
   }
  },
  {
   "cell_type": "code",
   "execution_count": 205,
   "outputs": [
    {
     "name": "stderr",
     "output_type": "stream",
     "text": [
      "C:\\Users\\gorgo\\AppData\\Local\\Temp/ipykernel_16444/2018031493.py:3: FutureWarning: The frame.append method is deprecated and will be removed from pandas in a future version. Use pandas.concat instead.\n",
      "  df_merged = df_pretest.append(df_posttest, ignore_index=True)\n"
     ]
    },
    {
     "data": {
      "text/plain": "        UID  Insgesamt  Posttest    Group      Test\n0   0LZR203        2.5       NaN    broca   Pretest\n1   0REG243        5.0       NaN    broca   Pretest\n2   1AGT138        3.0       NaN    broca   Pretest\n3   1HJA213        6.0       NaN    broca   Pretest\n4   1RBR047        8.0       NaN  control   Pretest\n5   3LDI060        0.0       NaN    broca   Pretest\n6   3LST145        6.0       NaN    broca   Pretest\n7   4ANT042        7.5       NaN    broca   Pretest\n8   4DRO233        7.0       NaN  control   Pretest\n9   4MNT105        0.0       NaN  control   Pretest\n10  5JS4143        8.0       NaN  control   Pretest\n11  5NSA280        5.0       NaN  control   Pretest\n12  6CSA143        0.0       NaN  control   Pretest\n13  7BGT235        7.5       NaN    broca   Pretest\n14  7KSM240        5.0       NaN  control   Pretest\n15  7RAI228        2.0       NaN    broca   Pretest\n16  7SOA133        8.0       NaN    broca   Pretest\n17  7VKT025        8.0       NaN  control   Pretest\n18  8AB4138        6.0       NaN  control   Pretest\n19  8CHT208        5.5       NaN    broca   Pretest\n20  0LZR203        NaN       8.0    broca  Posttest\n21  0REG243        NaN       NaN    broca  Posttest\n22  1AGT138        NaN       7.0    broca  Posttest\n23  1HJA213        NaN       NaN    broca  Posttest\n24  1RBR047        NaN       NaN  control  Posttest\n25  3LDI060        NaN       8.0    broca  Posttest\n26  3LST145        NaN       6.0    broca  Posttest\n27  4ANT042        NaN       6.5    broca  Posttest\n28  4DRO233        NaN       8.0  control  Posttest\n29  4MNT105        NaN       NaN  control  Posttest\n30  5JS4143        NaN       NaN  control  Posttest\n31  5NSA280        NaN       8.0  control  Posttest\n32  6CSA143        NaN       5.5  control  Posttest\n33  7BGT235        NaN       8.0    broca  Posttest\n34  7KSM240        NaN       7.0  control  Posttest\n35  7RAI228        NaN       6.0    broca  Posttest\n36  7SOA133        NaN       8.0    broca  Posttest\n37  7VKT025        NaN       8.0  control  Posttest\n38  8AB4138        NaN       NaN  control  Posttest\n39  8CHT208        NaN       NaN    broca  Posttest",
      "text/html": "<div>\n<style scoped>\n    .dataframe tbody tr th:only-of-type {\n        vertical-align: middle;\n    }\n\n    .dataframe tbody tr th {\n        vertical-align: top;\n    }\n\n    .dataframe thead th {\n        text-align: right;\n    }\n</style>\n<table border=\"1\" class=\"dataframe\">\n  <thead>\n    <tr style=\"text-align: right;\">\n      <th></th>\n      <th>UID</th>\n      <th>Insgesamt</th>\n      <th>Posttest</th>\n      <th>Group</th>\n      <th>Test</th>\n    </tr>\n  </thead>\n  <tbody>\n    <tr>\n      <th>0</th>\n      <td>0LZR203</td>\n      <td>2.5</td>\n      <td>NaN</td>\n      <td>broca</td>\n      <td>Pretest</td>\n    </tr>\n    <tr>\n      <th>1</th>\n      <td>0REG243</td>\n      <td>5.0</td>\n      <td>NaN</td>\n      <td>broca</td>\n      <td>Pretest</td>\n    </tr>\n    <tr>\n      <th>2</th>\n      <td>1AGT138</td>\n      <td>3.0</td>\n      <td>NaN</td>\n      <td>broca</td>\n      <td>Pretest</td>\n    </tr>\n    <tr>\n      <th>3</th>\n      <td>1HJA213</td>\n      <td>6.0</td>\n      <td>NaN</td>\n      <td>broca</td>\n      <td>Pretest</td>\n    </tr>\n    <tr>\n      <th>4</th>\n      <td>1RBR047</td>\n      <td>8.0</td>\n      <td>NaN</td>\n      <td>control</td>\n      <td>Pretest</td>\n    </tr>\n    <tr>\n      <th>5</th>\n      <td>3LDI060</td>\n      <td>0.0</td>\n      <td>NaN</td>\n      <td>broca</td>\n      <td>Pretest</td>\n    </tr>\n    <tr>\n      <th>6</th>\n      <td>3LST145</td>\n      <td>6.0</td>\n      <td>NaN</td>\n      <td>broca</td>\n      <td>Pretest</td>\n    </tr>\n    <tr>\n      <th>7</th>\n      <td>4ANT042</td>\n      <td>7.5</td>\n      <td>NaN</td>\n      <td>broca</td>\n      <td>Pretest</td>\n    </tr>\n    <tr>\n      <th>8</th>\n      <td>4DRO233</td>\n      <td>7.0</td>\n      <td>NaN</td>\n      <td>control</td>\n      <td>Pretest</td>\n    </tr>\n    <tr>\n      <th>9</th>\n      <td>4MNT105</td>\n      <td>0.0</td>\n      <td>NaN</td>\n      <td>control</td>\n      <td>Pretest</td>\n    </tr>\n    <tr>\n      <th>10</th>\n      <td>5JS4143</td>\n      <td>8.0</td>\n      <td>NaN</td>\n      <td>control</td>\n      <td>Pretest</td>\n    </tr>\n    <tr>\n      <th>11</th>\n      <td>5NSA280</td>\n      <td>5.0</td>\n      <td>NaN</td>\n      <td>control</td>\n      <td>Pretest</td>\n    </tr>\n    <tr>\n      <th>12</th>\n      <td>6CSA143</td>\n      <td>0.0</td>\n      <td>NaN</td>\n      <td>control</td>\n      <td>Pretest</td>\n    </tr>\n    <tr>\n      <th>13</th>\n      <td>7BGT235</td>\n      <td>7.5</td>\n      <td>NaN</td>\n      <td>broca</td>\n      <td>Pretest</td>\n    </tr>\n    <tr>\n      <th>14</th>\n      <td>7KSM240</td>\n      <td>5.0</td>\n      <td>NaN</td>\n      <td>control</td>\n      <td>Pretest</td>\n    </tr>\n    <tr>\n      <th>15</th>\n      <td>7RAI228</td>\n      <td>2.0</td>\n      <td>NaN</td>\n      <td>broca</td>\n      <td>Pretest</td>\n    </tr>\n    <tr>\n      <th>16</th>\n      <td>7SOA133</td>\n      <td>8.0</td>\n      <td>NaN</td>\n      <td>broca</td>\n      <td>Pretest</td>\n    </tr>\n    <tr>\n      <th>17</th>\n      <td>7VKT025</td>\n      <td>8.0</td>\n      <td>NaN</td>\n      <td>control</td>\n      <td>Pretest</td>\n    </tr>\n    <tr>\n      <th>18</th>\n      <td>8AB4138</td>\n      <td>6.0</td>\n      <td>NaN</td>\n      <td>control</td>\n      <td>Pretest</td>\n    </tr>\n    <tr>\n      <th>19</th>\n      <td>8CHT208</td>\n      <td>5.5</td>\n      <td>NaN</td>\n      <td>broca</td>\n      <td>Pretest</td>\n    </tr>\n    <tr>\n      <th>20</th>\n      <td>0LZR203</td>\n      <td>NaN</td>\n      <td>8.0</td>\n      <td>broca</td>\n      <td>Posttest</td>\n    </tr>\n    <tr>\n      <th>21</th>\n      <td>0REG243</td>\n      <td>NaN</td>\n      <td>NaN</td>\n      <td>broca</td>\n      <td>Posttest</td>\n    </tr>\n    <tr>\n      <th>22</th>\n      <td>1AGT138</td>\n      <td>NaN</td>\n      <td>7.0</td>\n      <td>broca</td>\n      <td>Posttest</td>\n    </tr>\n    <tr>\n      <th>23</th>\n      <td>1HJA213</td>\n      <td>NaN</td>\n      <td>NaN</td>\n      <td>broca</td>\n      <td>Posttest</td>\n    </tr>\n    <tr>\n      <th>24</th>\n      <td>1RBR047</td>\n      <td>NaN</td>\n      <td>NaN</td>\n      <td>control</td>\n      <td>Posttest</td>\n    </tr>\n    <tr>\n      <th>25</th>\n      <td>3LDI060</td>\n      <td>NaN</td>\n      <td>8.0</td>\n      <td>broca</td>\n      <td>Posttest</td>\n    </tr>\n    <tr>\n      <th>26</th>\n      <td>3LST145</td>\n      <td>NaN</td>\n      <td>6.0</td>\n      <td>broca</td>\n      <td>Posttest</td>\n    </tr>\n    <tr>\n      <th>27</th>\n      <td>4ANT042</td>\n      <td>NaN</td>\n      <td>6.5</td>\n      <td>broca</td>\n      <td>Posttest</td>\n    </tr>\n    <tr>\n      <th>28</th>\n      <td>4DRO233</td>\n      <td>NaN</td>\n      <td>8.0</td>\n      <td>control</td>\n      <td>Posttest</td>\n    </tr>\n    <tr>\n      <th>29</th>\n      <td>4MNT105</td>\n      <td>NaN</td>\n      <td>NaN</td>\n      <td>control</td>\n      <td>Posttest</td>\n    </tr>\n    <tr>\n      <th>30</th>\n      <td>5JS4143</td>\n      <td>NaN</td>\n      <td>NaN</td>\n      <td>control</td>\n      <td>Posttest</td>\n    </tr>\n    <tr>\n      <th>31</th>\n      <td>5NSA280</td>\n      <td>NaN</td>\n      <td>8.0</td>\n      <td>control</td>\n      <td>Posttest</td>\n    </tr>\n    <tr>\n      <th>32</th>\n      <td>6CSA143</td>\n      <td>NaN</td>\n      <td>5.5</td>\n      <td>control</td>\n      <td>Posttest</td>\n    </tr>\n    <tr>\n      <th>33</th>\n      <td>7BGT235</td>\n      <td>NaN</td>\n      <td>8.0</td>\n      <td>broca</td>\n      <td>Posttest</td>\n    </tr>\n    <tr>\n      <th>34</th>\n      <td>7KSM240</td>\n      <td>NaN</td>\n      <td>7.0</td>\n      <td>control</td>\n      <td>Posttest</td>\n    </tr>\n    <tr>\n      <th>35</th>\n      <td>7RAI228</td>\n      <td>NaN</td>\n      <td>6.0</td>\n      <td>broca</td>\n      <td>Posttest</td>\n    </tr>\n    <tr>\n      <th>36</th>\n      <td>7SOA133</td>\n      <td>NaN</td>\n      <td>8.0</td>\n      <td>broca</td>\n      <td>Posttest</td>\n    </tr>\n    <tr>\n      <th>37</th>\n      <td>7VKT025</td>\n      <td>NaN</td>\n      <td>8.0</td>\n      <td>control</td>\n      <td>Posttest</td>\n    </tr>\n    <tr>\n      <th>38</th>\n      <td>8AB4138</td>\n      <td>NaN</td>\n      <td>NaN</td>\n      <td>control</td>\n      <td>Posttest</td>\n    </tr>\n    <tr>\n      <th>39</th>\n      <td>8CHT208</td>\n      <td>NaN</td>\n      <td>NaN</td>\n      <td>broca</td>\n      <td>Posttest</td>\n    </tr>\n  </tbody>\n</table>\n</div>"
     },
     "metadata": {},
     "output_type": "display_data"
    },
    {
     "data": {
      "text/plain": "        UID  Insgesamt  Posttest    Group      Test  Points\n0   0LZR203        2.5       NaN    broca   Pretest     2.5\n1   0REG243        5.0       NaN    broca   Pretest     5.0\n2   1AGT138        3.0       NaN    broca   Pretest     3.0\n3   1HJA213        6.0       NaN    broca   Pretest     6.0\n4   1RBR047        8.0       NaN  control   Pretest     8.0\n5   3LDI060        0.0       NaN    broca   Pretest     0.0\n6   3LST145        6.0       NaN    broca   Pretest     6.0\n7   4ANT042        7.5       NaN    broca   Pretest     7.5\n8   4DRO233        7.0       NaN  control   Pretest     7.0\n9   4MNT105        0.0       NaN  control   Pretest     0.0\n10  5JS4143        8.0       NaN  control   Pretest     8.0\n11  5NSA280        5.0       NaN  control   Pretest     5.0\n12  6CSA143        0.0       NaN  control   Pretest     0.0\n13  7BGT235        7.5       NaN    broca   Pretest     7.5\n14  7KSM240        5.0       NaN  control   Pretest     5.0\n15  7RAI228        2.0       NaN    broca   Pretest     2.0\n16  7SOA133        8.0       NaN    broca   Pretest     8.0\n17  7VKT025        8.0       NaN  control   Pretest     8.0\n18  8AB4138        6.0       NaN  control   Pretest     6.0\n19  8CHT208        5.5       NaN    broca   Pretest     5.5\n20  0LZR203        NaN       8.0    broca  Posttest     8.0\n22  1AGT138        NaN       7.0    broca  Posttest     7.0\n25  3LDI060        NaN       8.0    broca  Posttest     8.0\n26  3LST145        NaN       6.0    broca  Posttest     6.0\n27  4ANT042        NaN       6.5    broca  Posttest     6.5\n28  4DRO233        NaN       8.0  control  Posttest     8.0\n31  5NSA280        NaN       8.0  control  Posttest     8.0\n32  6CSA143        NaN       5.5  control  Posttest     5.5\n33  7BGT235        NaN       8.0    broca  Posttest     8.0\n34  7KSM240        NaN       7.0  control  Posttest     7.0\n35  7RAI228        NaN       6.0    broca  Posttest     6.0\n36  7SOA133        NaN       8.0    broca  Posttest     8.0\n37  7VKT025        NaN       8.0  control  Posttest     8.0",
      "text/html": "<div>\n<style scoped>\n    .dataframe tbody tr th:only-of-type {\n        vertical-align: middle;\n    }\n\n    .dataframe tbody tr th {\n        vertical-align: top;\n    }\n\n    .dataframe thead th {\n        text-align: right;\n    }\n</style>\n<table border=\"1\" class=\"dataframe\">\n  <thead>\n    <tr style=\"text-align: right;\">\n      <th></th>\n      <th>UID</th>\n      <th>Insgesamt</th>\n      <th>Posttest</th>\n      <th>Group</th>\n      <th>Test</th>\n      <th>Points</th>\n    </tr>\n  </thead>\n  <tbody>\n    <tr>\n      <th>0</th>\n      <td>0LZR203</td>\n      <td>2.5</td>\n      <td>NaN</td>\n      <td>broca</td>\n      <td>Pretest</td>\n      <td>2.5</td>\n    </tr>\n    <tr>\n      <th>1</th>\n      <td>0REG243</td>\n      <td>5.0</td>\n      <td>NaN</td>\n      <td>broca</td>\n      <td>Pretest</td>\n      <td>5.0</td>\n    </tr>\n    <tr>\n      <th>2</th>\n      <td>1AGT138</td>\n      <td>3.0</td>\n      <td>NaN</td>\n      <td>broca</td>\n      <td>Pretest</td>\n      <td>3.0</td>\n    </tr>\n    <tr>\n      <th>3</th>\n      <td>1HJA213</td>\n      <td>6.0</td>\n      <td>NaN</td>\n      <td>broca</td>\n      <td>Pretest</td>\n      <td>6.0</td>\n    </tr>\n    <tr>\n      <th>4</th>\n      <td>1RBR047</td>\n      <td>8.0</td>\n      <td>NaN</td>\n      <td>control</td>\n      <td>Pretest</td>\n      <td>8.0</td>\n    </tr>\n    <tr>\n      <th>5</th>\n      <td>3LDI060</td>\n      <td>0.0</td>\n      <td>NaN</td>\n      <td>broca</td>\n      <td>Pretest</td>\n      <td>0.0</td>\n    </tr>\n    <tr>\n      <th>6</th>\n      <td>3LST145</td>\n      <td>6.0</td>\n      <td>NaN</td>\n      <td>broca</td>\n      <td>Pretest</td>\n      <td>6.0</td>\n    </tr>\n    <tr>\n      <th>7</th>\n      <td>4ANT042</td>\n      <td>7.5</td>\n      <td>NaN</td>\n      <td>broca</td>\n      <td>Pretest</td>\n      <td>7.5</td>\n    </tr>\n    <tr>\n      <th>8</th>\n      <td>4DRO233</td>\n      <td>7.0</td>\n      <td>NaN</td>\n      <td>control</td>\n      <td>Pretest</td>\n      <td>7.0</td>\n    </tr>\n    <tr>\n      <th>9</th>\n      <td>4MNT105</td>\n      <td>0.0</td>\n      <td>NaN</td>\n      <td>control</td>\n      <td>Pretest</td>\n      <td>0.0</td>\n    </tr>\n    <tr>\n      <th>10</th>\n      <td>5JS4143</td>\n      <td>8.0</td>\n      <td>NaN</td>\n      <td>control</td>\n      <td>Pretest</td>\n      <td>8.0</td>\n    </tr>\n    <tr>\n      <th>11</th>\n      <td>5NSA280</td>\n      <td>5.0</td>\n      <td>NaN</td>\n      <td>control</td>\n      <td>Pretest</td>\n      <td>5.0</td>\n    </tr>\n    <tr>\n      <th>12</th>\n      <td>6CSA143</td>\n      <td>0.0</td>\n      <td>NaN</td>\n      <td>control</td>\n      <td>Pretest</td>\n      <td>0.0</td>\n    </tr>\n    <tr>\n      <th>13</th>\n      <td>7BGT235</td>\n      <td>7.5</td>\n      <td>NaN</td>\n      <td>broca</td>\n      <td>Pretest</td>\n      <td>7.5</td>\n    </tr>\n    <tr>\n      <th>14</th>\n      <td>7KSM240</td>\n      <td>5.0</td>\n      <td>NaN</td>\n      <td>control</td>\n      <td>Pretest</td>\n      <td>5.0</td>\n    </tr>\n    <tr>\n      <th>15</th>\n      <td>7RAI228</td>\n      <td>2.0</td>\n      <td>NaN</td>\n      <td>broca</td>\n      <td>Pretest</td>\n      <td>2.0</td>\n    </tr>\n    <tr>\n      <th>16</th>\n      <td>7SOA133</td>\n      <td>8.0</td>\n      <td>NaN</td>\n      <td>broca</td>\n      <td>Pretest</td>\n      <td>8.0</td>\n    </tr>\n    <tr>\n      <th>17</th>\n      <td>7VKT025</td>\n      <td>8.0</td>\n      <td>NaN</td>\n      <td>control</td>\n      <td>Pretest</td>\n      <td>8.0</td>\n    </tr>\n    <tr>\n      <th>18</th>\n      <td>8AB4138</td>\n      <td>6.0</td>\n      <td>NaN</td>\n      <td>control</td>\n      <td>Pretest</td>\n      <td>6.0</td>\n    </tr>\n    <tr>\n      <th>19</th>\n      <td>8CHT208</td>\n      <td>5.5</td>\n      <td>NaN</td>\n      <td>broca</td>\n      <td>Pretest</td>\n      <td>5.5</td>\n    </tr>\n    <tr>\n      <th>20</th>\n      <td>0LZR203</td>\n      <td>NaN</td>\n      <td>8.0</td>\n      <td>broca</td>\n      <td>Posttest</td>\n      <td>8.0</td>\n    </tr>\n    <tr>\n      <th>22</th>\n      <td>1AGT138</td>\n      <td>NaN</td>\n      <td>7.0</td>\n      <td>broca</td>\n      <td>Posttest</td>\n      <td>7.0</td>\n    </tr>\n    <tr>\n      <th>25</th>\n      <td>3LDI060</td>\n      <td>NaN</td>\n      <td>8.0</td>\n      <td>broca</td>\n      <td>Posttest</td>\n      <td>8.0</td>\n    </tr>\n    <tr>\n      <th>26</th>\n      <td>3LST145</td>\n      <td>NaN</td>\n      <td>6.0</td>\n      <td>broca</td>\n      <td>Posttest</td>\n      <td>6.0</td>\n    </tr>\n    <tr>\n      <th>27</th>\n      <td>4ANT042</td>\n      <td>NaN</td>\n      <td>6.5</td>\n      <td>broca</td>\n      <td>Posttest</td>\n      <td>6.5</td>\n    </tr>\n    <tr>\n      <th>28</th>\n      <td>4DRO233</td>\n      <td>NaN</td>\n      <td>8.0</td>\n      <td>control</td>\n      <td>Posttest</td>\n      <td>8.0</td>\n    </tr>\n    <tr>\n      <th>31</th>\n      <td>5NSA280</td>\n      <td>NaN</td>\n      <td>8.0</td>\n      <td>control</td>\n      <td>Posttest</td>\n      <td>8.0</td>\n    </tr>\n    <tr>\n      <th>32</th>\n      <td>6CSA143</td>\n      <td>NaN</td>\n      <td>5.5</td>\n      <td>control</td>\n      <td>Posttest</td>\n      <td>5.5</td>\n    </tr>\n    <tr>\n      <th>33</th>\n      <td>7BGT235</td>\n      <td>NaN</td>\n      <td>8.0</td>\n      <td>broca</td>\n      <td>Posttest</td>\n      <td>8.0</td>\n    </tr>\n    <tr>\n      <th>34</th>\n      <td>7KSM240</td>\n      <td>NaN</td>\n      <td>7.0</td>\n      <td>control</td>\n      <td>Posttest</td>\n      <td>7.0</td>\n    </tr>\n    <tr>\n      <th>35</th>\n      <td>7RAI228</td>\n      <td>NaN</td>\n      <td>6.0</td>\n      <td>broca</td>\n      <td>Posttest</td>\n      <td>6.0</td>\n    </tr>\n    <tr>\n      <th>36</th>\n      <td>7SOA133</td>\n      <td>NaN</td>\n      <td>8.0</td>\n      <td>broca</td>\n      <td>Posttest</td>\n      <td>8.0</td>\n    </tr>\n    <tr>\n      <th>37</th>\n      <td>7VKT025</td>\n      <td>NaN</td>\n      <td>8.0</td>\n      <td>control</td>\n      <td>Posttest</td>\n      <td>8.0</td>\n    </tr>\n  </tbody>\n</table>\n</div>"
     },
     "metadata": {},
     "output_type": "display_data"
    },
    {
     "data": {
      "text/plain": "<AxesSubplot:xlabel='Test', ylabel='Points'>"
     },
     "execution_count": 205,
     "metadata": {},
     "output_type": "execute_result"
    },
    {
     "data": {
      "text/plain": "<Figure size 360x216 with 1 Axes>",
      "image/png": "[encoded data removed]"
     },
     "metadata": {},
     "output_type": "display_data"
    }
   ],
   "source": [
    "#df_merged = pd.merge(df_pretest, df_posttest, on=\"UID\")\n",
    "\n",
    "df_merged = df_pretest.append(df_posttest, ignore_index=True)\n",
    "\n",
    "df_merged = df_merged.drop(df_merged.columns[1:9], axis= 1)\n",
    "df_merged = df_merged.drop(df_merged.columns[2:4], axis= 1)\n",
    "\n",
    "df_merged[\"Group\"] = \"\"\n",
    "df_merged[\"Test\"] = \"\"\n",
    "\n",
    "\n",
    "for i in range(40):\n",
    "    if i < 20:\n",
    "        df_merged.at[i, 'Test'] = \"Pretest\"\n",
    "\n",
    "    else:\n",
    "        df_merged.at[i, 'Test'] = \"Posttest\"\n",
    "\n",
    "for index, row in df_merged.iterrows():\n",
    "    if row[\"UID\"] in control_uid:\n",
    "        df_merged.loc[index, 'Group'] = 'control'\n",
    "    elif row[\"UID\"] in broca_uid:\n",
    "        df_merged.loc[index, 'Group'] = 'broca'\n",
    "display(df_merged)\n",
    "\n",
    "#df_merged['Points'] = df_merged.Insgesamt.fillna(0) + df_merged.Posttest.fillna(0)\n",
    "df_merged[\"Points\"] = df_merged[[\"Insgesamt\", \"Posttest\"]].sum(axis=1)\n",
    "#df_merged= df_merged[df_merged['Points'] != 0]\n",
    "\n",
    "df_merged = df_merged.loc[~((df_merged['Points'] == 0) & (df_merged['Test'] == \"Posttest\"))]\n",
    "\n",
    "for index, row in df_merged.iterrows():\n",
    "    if row['Test'] == \"Posttest\":\n",
    "        if row['Points'] == 0.0:\n",
    "            del row\n",
    "display(df_merged)\n",
    "\n",
    "sns.boxplot(data=df_merged, x=\"Test\", y=\"Points\", hue=\"Group\", orient='v')"
   ],
   "metadata": {
    "collapsed": false,
    "pycharm": {
     "name": "#%%\n"
    }
   }
  },
  {
   "cell_type": "markdown",
   "source": [
    "Mann-Whitney U Test\n",
    "Pretest und Posttest\n",
    "\n",
    "Messzeitpunkt 3 Posttest-Programmieraufgabe\n",
    "\n",
    "Prozentuale Berechnung der Punkte\n",
    "\n",
    "Deviation - 1 Person hat die Aufgabe bei mir im Büro bearbeitet\n",
    "\n",
    "Individueller Verlauf über die Woche\n",
    "\n",
    "Tabelle Aufgaben und Rohpunkte und Prozente. Getrennt nach Gruppe. Gibt es nach Konzept Unterschiede.\n",
    "\n",
    "Beschreiben wieso gewisse Aufgaben nicht bewertet wurden"
   ],
   "metadata": {
    "collapsed": false,
    "pycharm": {
     "name": "#%% md\n"
    }
   }
  },
  {
   "cell_type": "markdown",
   "source": [
    " aus df_merged"
   ],
   "metadata": {
    "collapsed": false,
    "pycharm": {
     "name": "#%% md\n"
    }
   }
  },
  {
   "cell_type": "code",
   "execution_count": 206,
   "outputs": [
    {
     "data": {
      "text/plain": "<Figure size 360x216 with 1 Axes>",
      "image/png": "[encoded data removed]"
     },
     "metadata": {},
     "output_type": "display_data"
    }
   ],
   "source": [
    "#rename column Group with value test to broca\n",
    "df_merged = df_merged.replace({'Group': {'test': 'broca'}})\n",
    "\n",
    "df_merged = df_merged.rename(columns={\"test\": \"broca\"})\n",
    "\n",
    "\n",
    "df_merged['Group'] = df_merged['Group'].replace(['broca', 'control'], ['Brocanto', 'Git'])\n",
    "\n",
    "\n",
    "violin = sns.violinplot(data=df_merged, x=\"Test\", y=\"Points\", hue=\"Group\",\n",
    "                        split=True, inner=\"quart\", linewidth=1)\n",
    "violin.legend(title='Group', loc='center left', bbox_to_anchor=(1, 0.8))\n",
    "\n",
    "#violin y-axis limit\n",
    "violin.set(ylim=(0, 8))\n",
    "plt.savefig('plots/violinplot_pretest_posttest.pdf', bbox_inches='tight')\n"
   ],
   "metadata": {
    "collapsed": false,
    "pycharm": {
     "name": "#%%\n"
    }
   }
  },
  {
   "cell_type": "code",
   "execution_count": 207,
   "outputs": [],
   "source": [
    "#merge df_pretest and df_posttest on uid\n",
    "df_merge = pd.merge(df_pretest, df_posttest, on=\"UID\")\n",
    "#drop everything except uid, pretest and posttest\n",
    "df_merge = df_merge.drop(df_merge.columns[1:19], axis= 1)\n",
    "#dropna\n",
    "df_merge = df_merge.dropna()\n",
    "\n",
    "#add group column to df_merge and fill with group name (control or broca)\n",
    "df_merge[\"Group\"] = \"\"\n",
    "for index, row in df_merge.iterrows():\n",
    "    if row[\"UID\"] in control_uid:\n",
    "        df_merge.loc[index, 'Group'] = 'control'\n",
    "    elif row[\"UID\"] in broca_uid:\n",
    "        df_merge.loc[index, 'Group'] = 'broca'"
   ],
   "metadata": {
    "collapsed": false,
    "pycharm": {
     "name": "#%%\n"
    }
   }
  },
  {
   "cell_type": "code",
   "execution_count": 208,
   "outputs": [
    {
     "name": "stdout",
     "output_type": "stream",
     "text": [
      "Mean Broca Pretest:  4.5625\n",
      "Std Broca Pretest:  3.052370273363683\n",
      "Mean Control Pretest:  5.0\n",
      "Std Control Pretest:  3.082207001484488\n",
      "\n",
      "Mean Broca Posttest:  7.1875\n",
      "Std Broca Posttest:  0.9234059624177068\n",
      "Mean Control Posttest:  7.3\n",
      "Std Control Posttest:  1.0954451150103321\n"
     ]
    }
   ],
   "source": [
    "#get mean of pretest and group control\n",
    "mean_control_pretest = df_merge[df_merge.Group == \"control\"].Pretest.mean()\n",
    "#get std of pretest and group control\n",
    "std_control_pretest = df_merge[df_merge.Group == \"control\"].Pretest.std()\n",
    "\n",
    "#get std of pretest and group broca\n",
    "mean_broca_pretest = df_merge[df_merge.Group == \"broca\"].Pretest.mean()\n",
    "\n",
    "#get std of pretest and group broca\n",
    "std_broca_pretest = df_merge[df_merge.Group == \"broca\"].Pretest.std()\n",
    "\n",
    "#get std of posttest and group control\n",
    "std_control_posttest = df_merge[df_merge.Group == \"control\"].Posttest.std()\n",
    "\n",
    "#get std of posttest and group broca\n",
    "std_broca_posttest = df_merge[df_merge.Group == \"broca\"].Posttest.std()\n",
    "\n",
    "#get mean of pretest and group broca\n",
    "mean_broca_pretest = df_merge[df_merge.Group == \"broca\"].Pretest.mean()\n",
    "\n",
    "#get mean of posttest and group control\n",
    "mean_control_posttest = df_merge[df_merge.Group == \"control\"].Posttest.mean()\n",
    "\n",
    "#get mean of posttest and group broca\n",
    "mean_broca_posttest = df_merge[df_merge.Group == \"broca\"].Posttest.mean()\n",
    "\n",
    "#print means and stds\n",
    "print(\"Mean Broca Pretest: \", mean_broca_pretest)\n",
    "print(\"Std Broca Pretest: \", std_broca_pretest)\n",
    "print(\"Mean Control Pretest: \", mean_control_pretest)\n",
    "print(\"Std Control Pretest: \", std_control_pretest)\n",
    "print()\n",
    "print(\"Mean Broca Posttest: \", mean_broca_posttest)\n",
    "print(\"Std Broca Posttest: \", std_broca_posttest)\n",
    "print(\"Mean Control Posttest: \", mean_control_posttest)\n",
    "print(\"Std Control Posttest: \", std_control_posttest)"
   ],
   "metadata": {
    "collapsed": false,
    "pycharm": {
     "name": "#%%\n"
    }
   }
  },
  {
   "cell_type": "code",
   "execution_count": 209,
   "outputs": [],
   "source": [
    "df_tasks = pd.read_excel(xls, \"Übungsaufgaben\")\n",
    "\n",
    "#delete rows in df_tasks where more than 10 times are nan\n",
    "df_tasks = df_tasks.dropna(thresh=10)\n",
    "\n",
    "#df_tasks drop last two rows\n",
    "df_tasks = df_tasks.drop(df_tasks.index[[-2]])\n",
    "\n",
    "#df tasks drop last column\n",
    "df_tasks = df_tasks.drop(df_tasks.columns[-1], axis=1)\n",
    "\n",
    "\n",
    "#df task remove column '3.3'\n",
    "df_tasks = df_tasks.drop(['3.3', '6.3', '7.2'], axis= 1)\n",
    "\n",
    "#calculate total points per row and add to df_tasks starting from 2nd column\n",
    "#calculate total points per row and add to df_tasks\n",
    "df_tasks['Total'] = df_tasks.iloc[:, 1:].sum(axis=1)\n",
    "\n",
    "\n",
    "tasks = df_tasks.iloc[-1]\n",
    "\n",
    "#change column 1.1 to floats\n",
    "df_tasks['1.1'] = df_tasks['1.1'].astype(float)\n",
    "\n",
    "#add empty column Percentage at end\n",
    "df_tasks[\"Percentage\"] = \"\"\n",
    "\n",
    "max_points = []\n",
    "for index, row in df_tasks.iterrows():\n",
    "    nan_list = row[row.isnull()].index.tolist()\n",
    "\n",
    "    if nan_list:\n",
    "        total = 0\n",
    "        for element in nan_list:\n",
    "\n",
    "            if element in tasks.index:\n",
    "                #if element is in tasks.index, get the value of the element\n",
    "                #print(tasks[element])\n",
    "                total += tasks[element]\n",
    "\n",
    "        #remove at index in df_tasks from column total the total\n",
    "        max = 155 - total\n",
    "        df_tasks.at[index, 'Percentage'] = df_tasks.at[index, 'Total'] / max * 100\n",
    "    else:\n",
    "        df_tasks.at[index, 'Percentage'] = df_tasks.at[index, 'Total'] / 155 * 100"
   ],
   "metadata": {
    "collapsed": false,
    "pycharm": {
     "name": "#%%\n"
    }
   }
  },
  {
   "cell_type": "code",
   "execution_count": 210,
   "outputs": [
    {
     "data": {
      "text/plain": "87.12312882142105"
     },
     "execution_count": 210,
     "metadata": {},
     "output_type": "execute_result"
    }
   ],
   "source": [
    "#split df_tasks into broca and control\n",
    "df_tasks_broca = df_tasks[df_tasks.UID.isin(broca_uid)]\n",
    "df_tasks_control = df_tasks[df_tasks.UID.isin(control_uid)]\n",
    "\n",
    "df_tasks_control[\"Percentage\"].mean()"
   ],
   "metadata": {
    "collapsed": false,
    "pycharm": {
     "name": "#%%\n"
    }
   }
  },
  {
   "cell_type": "code",
   "execution_count": 211,
   "outputs": [
    {
     "data": {
      "text/plain": "92.82612116443745"
     },
     "execution_count": 211,
     "metadata": {},
     "output_type": "execute_result"
    }
   ],
   "source": [
    "df_tasks_broca[\"Percentage\"].mean()"
   ],
   "metadata": {
    "collapsed": false,
    "pycharm": {
     "name": "#%%\n"
    }
   }
  },
  {
   "cell_type": "code",
   "execution_count": 212,
   "outputs": [],
   "source": [
    "#create df_broca_datatypes with only UID and 1.1 and 1.2\n",
    "df_datatypes = df_tasks[['UID', '1.1', '1.2']]\n",
    "\n",
    "df_variables = df_tasks[['UID', '2.1', '2.2', '2.3', '2.4', '2.5', '2.6 (nur Coding)']]\n",
    "\n",
    "df_arithmetic = df_tasks[['UID', '3.1 (Integerdivisionproblem nicht betrachtet)', '3.2.1', '3.2.2', '3.4']]\n",
    "\n",
    "df_print = df_tasks[['UID', '4.1', '4.2']]\n",
    "\n",
    "df_logical = df_tasks[['UID', '5.1', '5.2', '5.3', '5.4']]\n",
    "\n",
    "df_conditional = df_tasks[['UID', '6.1', '6.2', '6.4']]\n",
    "\n",
    "df_loops = df_tasks[['UID', '7.1', '7.3', '7.4', '7.5', '7.6 (Primzahl)', '7.7 (Primzahl)']]\n",
    "\n",
    "\n",
    "#get last row of df_datatypes\n",
    "points_datatypes = df_datatypes.iloc[-1]\n",
    "\n",
    "#get last row of df_variables\n",
    "points_variables = df_variables.iloc[-1]\n",
    "\n",
    "#get last row of df_arithmetic\n",
    "points_arithmetic = df_arithmetic.iloc[-1]\n",
    "\n",
    "#get last row of df_print\n",
    "points_print = df_print.iloc[-1]\n",
    "\n",
    "#get last row of df_logical\n",
    "points_logical = df_logical.iloc[-1]\n",
    "\n",
    "#get last row of df_conditional\n",
    "points_conditional = df_conditional.iloc[-1]\n",
    "\n",
    "#get last row of df_loops\n",
    "points_loops = df_loops.iloc[-1]\n",
    "#get sum of points_datatypes\n",
    "sum_datatypes = points_datatypes.sum()\n",
    "\n",
    "#get sum of points_variables\n",
    "sum_variables = points_variables.sum()\n",
    "\n",
    "#get sum of points_arithmetic\n",
    "sum_arithmetic = points_arithmetic.sum()\n",
    "\n",
    "#get sum of points_print\n",
    "sum_print = points_print.sum()\n",
    "\n",
    "#get sum of points_logical\n",
    "sum_logical = points_logical.sum()\n",
    "\n",
    "#get sum of points_conditional\n",
    "sum_conditional = points_conditional.sum()\n",
    "\n",
    "#get sum of points_loops\n",
    "sum_loops = points_loops.sum()\n",
    "\n",
    "df_datatypes = df_datatypes.dropna()\n",
    "df_variables = df_variables.dropna()\n",
    "df_arithmetic = df_arithmetic.dropna()\n",
    "df_print = df_print.dropna()\n",
    "df_logical = df_logical.dropna()\n",
    "df_conditional = df_conditional.dropna()\n",
    "df_loops = df_loops.dropna()\n",
    "\n",
    "\n",
    "#split df_datatypes in broca and control\n",
    "df_datatypes_broca = df_datatypes[df_datatypes.UID.isin(broca_uid)]\n",
    "df_datatypes_control = df_datatypes[df_datatypes.UID.isin(control_uid)]\n",
    "\n",
    "#split df_variables in broca and control\n",
    "df_variables_broca = df_variables[df_variables.UID.isin(broca_uid)]\n",
    "df_variables_control = df_variables[df_variables.UID.isin(control_uid)]\n",
    "\n",
    "#split df_arithmetic in broca and control\n",
    "df_arithmetic_broca = df_arithmetic[df_arithmetic.UID.isin(broca_uid)]\n",
    "df_arithmetic_control = df_arithmetic[df_arithmetic.UID.isin(control_uid)]\n",
    "\n",
    "#split df_print in broca and control\n",
    "df_print_broca = df_print[df_print.UID.isin(broca_uid)]\n",
    "df_print_control = df_print[df_print.UID.isin(control_uid)]\n",
    "\n",
    "#split df_logical in broca and control\n",
    "df_logical_broca = df_logical[df_logical.UID.isin(broca_uid)]\n",
    "df_logical_control = df_logical[df_logical.UID.isin(control_uid)]\n",
    "\n",
    "#split df_conditional in broca and control\n",
    "df_conditional_broca = df_conditional[df_conditional.UID.isin(broca_uid)]\n",
    "df_conditional_control = df_conditional[df_conditional.UID.isin(control_uid)]\n",
    "\n",
    "#split df_loops in broca and control\n",
    "df_loops_broca = df_loops[df_loops.UID.isin(broca_uid)]\n",
    "df_loops_control = df_loops[df_loops.UID.isin(control_uid)]\n"
   ],
   "metadata": {
    "collapsed": false,
    "pycharm": {
     "name": "#%%\n"
    }
   }
  },
  {
   "cell_type": "code",
   "execution_count": 213,
   "outputs": [
    {
     "name": "stderr",
     "output_type": "stream",
     "text": [
      "C:\\Users\\gorgo\\AppData\\Local\\Temp/ipykernel_16444/2082305613.py:2: SettingWithCopyWarning: \n",
      "A value is trying to be set on a copy of a slice from a DataFrame.\n",
      "Try using .loc[row_indexer,col_indexer] = value instead\n",
      "\n",
      "See the caveats in the documentation: https://pandas.pydata.org/pandas-docs/stable/user_guide/indexing.html#returning-a-view-versus-a-copy\n",
      "  df_datatypes_broca['Total'] = df_datatypes_broca.sum(numeric_only=True, axis=1)\n",
      "C:\\Users\\gorgo\\AppData\\Local\\Temp/ipykernel_16444/2082305613.py:5: SettingWithCopyWarning: \n",
      "A value is trying to be set on a copy of a slice from a DataFrame.\n",
      "Try using .loc[row_indexer,col_indexer] = value instead\n",
      "\n",
      "See the caveats in the documentation: https://pandas.pydata.org/pandas-docs/stable/user_guide/indexing.html#returning-a-view-versus-a-copy\n",
      "  df_datatypes_control['Total'] = df_datatypes_control.sum(numeric_only=True, axis=1)\n",
      "C:\\Users\\gorgo\\AppData\\Local\\Temp/ipykernel_16444/2082305613.py:9: SettingWithCopyWarning: \n",
      "A value is trying to be set on a copy of a slice from a DataFrame.\n",
      "Try using .loc[row_indexer,col_indexer] = value instead\n",
      "\n",
      "See the caveats in the documentation: https://pandas.pydata.org/pandas-docs/stable/user_guide/indexing.html#returning-a-view-versus-a-copy\n",
      "  df_variables_broca['Total'] = df_variables_broca.sum(numeric_only=True, axis=1)\n",
      "C:\\Users\\gorgo\\AppData\\Local\\Temp/ipykernel_16444/2082305613.py:12: SettingWithCopyWarning: \n",
      "A value is trying to be set on a copy of a slice from a DataFrame.\n",
      "Try using .loc[row_indexer,col_indexer] = value instead\n",
      "\n",
      "See the caveats in the documentation: https://pandas.pydata.org/pandas-docs/stable/user_guide/indexing.html#returning-a-view-versus-a-copy\n",
      "  df_variables_control['Total'] = df_variables_control.sum(numeric_only=True, axis=1)\n",
      "C:\\Users\\gorgo\\AppData\\Local\\Temp/ipykernel_16444/2082305613.py:16: SettingWithCopyWarning: \n",
      "A value is trying to be set on a copy of a slice from a DataFrame.\n",
      "Try using .loc[row_indexer,col_indexer] = value instead\n",
      "\n",
      "See the caveats in the documentation: https://pandas.pydata.org/pandas-docs/stable/user_guide/indexing.html#returning-a-view-versus-a-copy\n",
      "  df_arithmetic_broca['Total'] = df_arithmetic_broca.sum(numeric_only=True, axis=1)\n",
      "C:\\Users\\gorgo\\AppData\\Local\\Temp/ipykernel_16444/2082305613.py:19: SettingWithCopyWarning: \n",
      "A value is trying to be set on a copy of a slice from a DataFrame.\n",
      "Try using .loc[row_indexer,col_indexer] = value instead\n",
      "\n",
      "See the caveats in the documentation: https://pandas.pydata.org/pandas-docs/stable/user_guide/indexing.html#returning-a-view-versus-a-copy\n",
      "  df_arithmetic_control['Total'] = df_arithmetic_control.sum(numeric_only=True, axis=1)\n",
      "C:\\Users\\gorgo\\AppData\\Local\\Temp/ipykernel_16444/2082305613.py:23: SettingWithCopyWarning: \n",
      "A value is trying to be set on a copy of a slice from a DataFrame.\n",
      "Try using .loc[row_indexer,col_indexer] = value instead\n",
      "\n",
      "See the caveats in the documentation: https://pandas.pydata.org/pandas-docs/stable/user_guide/indexing.html#returning-a-view-versus-a-copy\n",
      "  df_print_broca['Total'] = df_print_broca.sum(numeric_only=True, axis=1)\n",
      "C:\\Users\\gorgo\\AppData\\Local\\Temp/ipykernel_16444/2082305613.py:26: SettingWithCopyWarning: \n",
      "A value is trying to be set on a copy of a slice from a DataFrame.\n",
      "Try using .loc[row_indexer,col_indexer] = value instead\n",
      "\n",
      "See the caveats in the documentation: https://pandas.pydata.org/pandas-docs/stable/user_guide/indexing.html#returning-a-view-versus-a-copy\n",
      "  df_print_control['Total'] = df_print_control.sum(numeric_only=True, axis=1)\n",
      "C:\\Users\\gorgo\\AppData\\Local\\Temp/ipykernel_16444/2082305613.py:30: SettingWithCopyWarning: \n",
      "A value is trying to be set on a copy of a slice from a DataFrame.\n",
      "Try using .loc[row_indexer,col_indexer] = value instead\n",
      "\n",
      "See the caveats in the documentation: https://pandas.pydata.org/pandas-docs/stable/user_guide/indexing.html#returning-a-view-versus-a-copy\n",
      "  df_logical_broca['Total'] = df_logical_broca.sum(numeric_only=True, axis=1)\n",
      "C:\\Users\\gorgo\\AppData\\Local\\Temp/ipykernel_16444/2082305613.py:33: SettingWithCopyWarning: \n",
      "A value is trying to be set on a copy of a slice from a DataFrame.\n",
      "Try using .loc[row_indexer,col_indexer] = value instead\n",
      "\n",
      "See the caveats in the documentation: https://pandas.pydata.org/pandas-docs/stable/user_guide/indexing.html#returning-a-view-versus-a-copy\n",
      "  df_logical_control['Total'] = df_logical_control.sum(numeric_only=True, axis=1)\n",
      "C:\\Users\\gorgo\\AppData\\Local\\Temp/ipykernel_16444/2082305613.py:37: SettingWithCopyWarning: \n",
      "A value is trying to be set on a copy of a slice from a DataFrame.\n",
      "Try using .loc[row_indexer,col_indexer] = value instead\n",
      "\n",
      "See the caveats in the documentation: https://pandas.pydata.org/pandas-docs/stable/user_guide/indexing.html#returning-a-view-versus-a-copy\n",
      "  df_conditional_broca['Total'] = df_conditional_broca.sum(numeric_only=True, axis=1)\n",
      "C:\\Users\\gorgo\\AppData\\Local\\Temp/ipykernel_16444/2082305613.py:40: SettingWithCopyWarning: \n",
      "A value is trying to be set on a copy of a slice from a DataFrame.\n",
      "Try using .loc[row_indexer,col_indexer] = value instead\n",
      "\n",
      "See the caveats in the documentation: https://pandas.pydata.org/pandas-docs/stable/user_guide/indexing.html#returning-a-view-versus-a-copy\n",
      "  df_conditional_control['Total'] = df_conditional_control.sum(numeric_only=True, axis=1)\n",
      "C:\\Users\\gorgo\\AppData\\Local\\Temp/ipykernel_16444/2082305613.py:44: SettingWithCopyWarning: \n",
      "A value is trying to be set on a copy of a slice from a DataFrame.\n",
      "Try using .loc[row_indexer,col_indexer] = value instead\n",
      "\n",
      "See the caveats in the documentation: https://pandas.pydata.org/pandas-docs/stable/user_guide/indexing.html#returning-a-view-versus-a-copy\n",
      "  df_loops_broca['Total'] = df_loops_broca.sum(numeric_only=True, axis=1)\n",
      "C:\\Users\\gorgo\\AppData\\Local\\Temp/ipykernel_16444/2082305613.py:47: SettingWithCopyWarning: \n",
      "A value is trying to be set on a copy of a slice from a DataFrame.\n",
      "Try using .loc[row_indexer,col_indexer] = value instead\n",
      "\n",
      "See the caveats in the documentation: https://pandas.pydata.org/pandas-docs/stable/user_guide/indexing.html#returning-a-view-versus-a-copy\n",
      "  df_loops_control['Total'] = df_loops_control.sum(numeric_only=True, axis=1)\n"
     ]
    }
   ],
   "source": [
    "#add numerical row sum to df_datatypes_broca\n",
    "df_datatypes_broca['Total'] = df_datatypes_broca.sum(numeric_only=True, axis=1)\n",
    "\n",
    "#add numerical row sum to df_datatypes_control\n",
    "df_datatypes_control['Total'] = df_datatypes_control.sum(numeric_only=True, axis=1)\n",
    "\n",
    "\n",
    "#add numerical row sum to df_variables_broca\n",
    "df_variables_broca['Total'] = df_variables_broca.sum(numeric_only=True, axis=1)\n",
    "\n",
    "#add numerical row sum to df_variables_control\n",
    "df_variables_control['Total'] = df_variables_control.sum(numeric_only=True, axis=1)\n",
    "\n",
    "\n",
    "#add numerical row sum to df_arithmetic_broca\n",
    "df_arithmetic_broca['Total'] = df_arithmetic_broca.sum(numeric_only=True, axis=1)\n",
    "\n",
    "#add numerical row sum to df_arithmetic_control\n",
    "df_arithmetic_control['Total'] = df_arithmetic_control.sum(numeric_only=True, axis=1)\n",
    "\n",
    "\n",
    "#add numerical row sum to df_print_broca\n",
    "df_print_broca['Total'] = df_print_broca.sum(numeric_only=True, axis=1)\n",
    "\n",
    "#add numerical row sum to df_print_control\n",
    "df_print_control['Total'] = df_print_control.sum(numeric_only=True, axis=1)\n",
    "\n",
    "\n",
    "#add numerical row sum to df_logical_broca\n",
    "df_logical_broca['Total'] = df_logical_broca.sum(numeric_only=True, axis=1)\n",
    "\n",
    "#add numerical row sum to df_logical_control\n",
    "df_logical_control['Total'] = df_logical_control.sum(numeric_only=True, axis=1)\n",
    "\n",
    "\n",
    "#add numerical row sum to df_conditional_broca\n",
    "df_conditional_broca['Total'] = df_conditional_broca.sum(numeric_only=True, axis=1)\n",
    "\n",
    "#add numerical row sum to df_conditional_control\n",
    "df_conditional_control['Total'] = df_conditional_control.sum(numeric_only=True, axis=1)\n",
    "\n",
    "\n",
    "#add numerical row sum to df_loops_broca\n",
    "df_loops_broca['Total'] = df_loops_broca.sum(numeric_only=True, axis=1)\n",
    "\n",
    "#add numerical row sum to df_loops_control\n",
    "df_loops_control['Total'] = df_loops_control.sum(numeric_only=True, axis=1)"
   ],
   "metadata": {
    "collapsed": false,
    "pycharm": {
     "name": "#%%\n"
    }
   }
  },
  {
   "cell_type": "code",
   "execution_count": 214,
   "outputs": [
    {
     "name": "stdout",
     "output_type": "stream",
     "text": [
      "Number of rows in df_datatypes_broca:  10\n",
      "Number of rows in df_datatypes_control:  6\n",
      "Number of rows in df_loops_broca:  8\n",
      "Number of rows in df_loops_control:  4\n"
     ]
    }
   ],
   "source": [
    "print('Number of rows in df_datatypes_broca: ', len(df_conditional_broca))\n",
    "print('Number of rows in df_datatypes_control: ', len(df_conditional_control))\n",
    "\n",
    "print('Number of rows in df_loops_broca: ', len(df_loops_broca))\n",
    "print('Number of rows in df_loops_control: ', len(df_loops_control))\n"
   ],
   "metadata": {
    "collapsed": false,
    "pycharm": {
     "name": "#%%\n"
    }
   }
  },
  {
   "cell_type": "code",
   "execution_count": 215,
   "outputs": [
    {
     "name": "stderr",
     "output_type": "stream",
     "text": [
      "C:\\Users\\gorgo\\AppData\\Local\\Temp/ipykernel_16444/437444769.py:2: SettingWithCopyWarning: \n",
      "A value is trying to be set on a copy of a slice from a DataFrame\n",
      "\n",
      "See the caveats in the documentation: https://pandas.pydata.org/pandas-docs/stable/user_guide/indexing.html#returning-a-view-versus-a-copy\n",
      "  df_datatypes_control.rename(columns={'Total': 'Datatypes Total'}, inplace=True)\n",
      "C:\\Users\\gorgo\\AppData\\Local\\Temp/ipykernel_16444/437444769.py:5: SettingWithCopyWarning: \n",
      "A value is trying to be set on a copy of a slice from a DataFrame\n",
      "\n",
      "See the caveats in the documentation: https://pandas.pydata.org/pandas-docs/stable/user_guide/indexing.html#returning-a-view-versus-a-copy\n",
      "  df_variables_control.rename(columns={'Total': 'Variables Total'}, inplace=True)\n",
      "C:\\Users\\gorgo\\AppData\\Local\\Temp/ipykernel_16444/437444769.py:8: SettingWithCopyWarning: \n",
      "A value is trying to be set on a copy of a slice from a DataFrame\n",
      "\n",
      "See the caveats in the documentation: https://pandas.pydata.org/pandas-docs/stable/user_guide/indexing.html#returning-a-view-versus-a-copy\n",
      "  df_arithmetic_control.rename(columns={'Total': 'Arithmetic Total'}, inplace=True)\n",
      "C:\\Users\\gorgo\\AppData\\Local\\Temp/ipykernel_16444/437444769.py:11: SettingWithCopyWarning: \n",
      "A value is trying to be set on a copy of a slice from a DataFrame\n",
      "\n",
      "See the caveats in the documentation: https://pandas.pydata.org/pandas-docs/stable/user_guide/indexing.html#returning-a-view-versus-a-copy\n",
      "  df_print_control.rename(columns={'Total': 'Print Total'}, inplace=True)\n",
      "C:\\Users\\gorgo\\AppData\\Local\\Temp/ipykernel_16444/437444769.py:14: SettingWithCopyWarning: \n",
      "A value is trying to be set on a copy of a slice from a DataFrame\n",
      "\n",
      "See the caveats in the documentation: https://pandas.pydata.org/pandas-docs/stable/user_guide/indexing.html#returning-a-view-versus-a-copy\n",
      "  df_logical_control.rename(columns={'Total': 'Logical Total'}, inplace=True)\n",
      "C:\\Users\\gorgo\\AppData\\Local\\Temp/ipykernel_16444/437444769.py:17: SettingWithCopyWarning: \n",
      "A value is trying to be set on a copy of a slice from a DataFrame\n",
      "\n",
      "See the caveats in the documentation: https://pandas.pydata.org/pandas-docs/stable/user_guide/indexing.html#returning-a-view-versus-a-copy\n",
      "  df_conditional_control.rename(columns={'Total': 'Conditional Total'}, inplace=True)\n",
      "C:\\Users\\gorgo\\AppData\\Local\\Temp/ipykernel_16444/437444769.py:20: SettingWithCopyWarning: \n",
      "A value is trying to be set on a copy of a slice from a DataFrame\n",
      "\n",
      "See the caveats in the documentation: https://pandas.pydata.org/pandas-docs/stable/user_guide/indexing.html#returning-a-view-versus-a-copy\n",
      "  df_loops_control.rename(columns={'Total': 'Loops Total'}, inplace=True)\n"
     ]
    }
   ],
   "source": [
    "#rename df_datatypes_control total to \"Datatypes Total\"\n",
    "df_datatypes_control.rename(columns={'Total': 'Datatypes Total'}, inplace=True)\n",
    "\n",
    "#rename df_variables_control total to \"Variables Total\"\n",
    "df_variables_control.rename(columns={'Total': 'Variables Total'}, inplace=True)\n",
    "\n",
    "#rename df_arithmetic_control total to \"Arithmetic Total\"\n",
    "df_arithmetic_control.rename(columns={'Total': 'Arithmetic Total'}, inplace=True)\n",
    "\n",
    "#rename df_print_control total to \"Print Total\"\n",
    "df_print_control.rename(columns={'Total': 'Print Total'}, inplace=True)\n",
    "\n",
    "#rename df_logical_control total to \"Logical Total\"\n",
    "df_logical_control.rename(columns={'Total': 'Logical Total'}, inplace=True)\n",
    "\n",
    "#rename df_conditional_control total to \"Conditional Total\"\n",
    "df_conditional_control.rename(columns={'Total': 'Conditional Total'}, inplace=True)\n",
    "\n",
    "#rename df_loops_control total to \"Loops Total\"\n",
    "df_loops_control.rename(columns={'Total': 'Loops Total'}, inplace=True)"
   ],
   "metadata": {
    "collapsed": false,
    "pycharm": {
     "name": "#%%\n"
    }
   }
  },
  {
   "cell_type": "code",
   "execution_count": 216,
   "outputs": [],
   "source": [
    "max_datatypes = 13\n",
    "max_variables = 24\n",
    "max_arithmetic = 18\n",
    "max_print = 14\n",
    "max_logical = 20\n",
    "max_conditional = 25\n",
    "max_loops = 41"
   ],
   "metadata": {
    "collapsed": false,
    "pycharm": {
     "name": "#%%\n"
    }
   }
  },
  {
   "cell_type": "code",
   "execution_count": 217,
   "outputs": [
    {
     "name": "stdout",
     "output_type": "stream",
     "text": [
      "        UID  7.1  7.3  7.4  7.5  7.6 (Primzahl)  7.7 (Primzahl)  Total\n",
      "0   0LZR203  2.0  3.0  5.0  4.0             9.0            10.0   33.0\n",
      "2   1AGT138  6.0  3.0  5.0  4.0             6.0             8.0   32.0\n",
      "5   3LDI060  6.0  4.0  5.0  4.0             8.0             9.0   36.0\n",
      "6   3LST145  6.0  4.0  5.0  4.0            11.0            10.0   40.0\n",
      "7   4ANT042  6.0  4.0  5.0  4.0            12.0            10.0   41.0\n",
      "13  7BGT235  6.0  4.0  5.0  3.5            12.0            10.0   40.5\n",
      "15  7RAI228  1.0  3.0  5.0  4.0             5.0             8.0   26.0\n",
      "16  7SOA133  1.0  3.5  4.5  4.0            12.0            10.0   35.0\n"
     ]
    },
    {
     "name": "stderr",
     "output_type": "stream",
     "text": [
      "C:\\Users\\gorgo\\AppData\\Local\\Temp/ipykernel_16444/614415840.py:2: SettingWithCopyWarning: \n",
      "A value is trying to be set on a copy of a slice from a DataFrame.\n",
      "Try using .loc[row_indexer,col_indexer] = value instead\n",
      "\n",
      "See the caveats in the documentation: https://pandas.pydata.org/pandas-docs/stable/user_guide/indexing.html#returning-a-view-versus-a-copy\n",
      "  df_datatypes_control['Datatypes Percentage'] = df_datatypes_control['Datatypes Total'] / max_datatypes * 100\n",
      "C:\\Users\\gorgo\\AppData\\Local\\Temp/ipykernel_16444/614415840.py:3: SettingWithCopyWarning: \n",
      "A value is trying to be set on a copy of a slice from a DataFrame.\n",
      "Try using .loc[row_indexer,col_indexer] = value instead\n",
      "\n",
      "See the caveats in the documentation: https://pandas.pydata.org/pandas-docs/stable/user_guide/indexing.html#returning-a-view-versus-a-copy\n",
      "  df_variables_control['Variables Percentage'] = df_variables_control['Variables Total'] / max_variables * 100\n",
      "C:\\Users\\gorgo\\AppData\\Local\\Temp/ipykernel_16444/614415840.py:4: SettingWithCopyWarning: \n",
      "A value is trying to be set on a copy of a slice from a DataFrame.\n",
      "Try using .loc[row_indexer,col_indexer] = value instead\n",
      "\n",
      "See the caveats in the documentation: https://pandas.pydata.org/pandas-docs/stable/user_guide/indexing.html#returning-a-view-versus-a-copy\n",
      "  df_arithmetic_control['Arithmetic Percentage'] = df_arithmetic_control['Arithmetic Total'] / max_arithmetic * 100\n",
      "C:\\Users\\gorgo\\AppData\\Local\\Temp/ipykernel_16444/614415840.py:5: SettingWithCopyWarning: \n",
      "A value is trying to be set on a copy of a slice from a DataFrame.\n",
      "Try using .loc[row_indexer,col_indexer] = value instead\n",
      "\n",
      "See the caveats in the documentation: https://pandas.pydata.org/pandas-docs/stable/user_guide/indexing.html#returning-a-view-versus-a-copy\n",
      "  df_print_control['Print Percentage'] = df_print_control['Print Total'] / max_print * 100\n",
      "C:\\Users\\gorgo\\AppData\\Local\\Temp/ipykernel_16444/614415840.py:6: SettingWithCopyWarning: \n",
      "A value is trying to be set on a copy of a slice from a DataFrame.\n",
      "Try using .loc[row_indexer,col_indexer] = value instead\n",
      "\n",
      "See the caveats in the documentation: https://pandas.pydata.org/pandas-docs/stable/user_guide/indexing.html#returning-a-view-versus-a-copy\n",
      "  df_logical_control['Logical Percentage'] = df_logical_control['Logical Total'] / max_logical * 100\n",
      "C:\\Users\\gorgo\\AppData\\Local\\Temp/ipykernel_16444/614415840.py:7: SettingWithCopyWarning: \n",
      "A value is trying to be set on a copy of a slice from a DataFrame.\n",
      "Try using .loc[row_indexer,col_indexer] = value instead\n",
      "\n",
      "See the caveats in the documentation: https://pandas.pydata.org/pandas-docs/stable/user_guide/indexing.html#returning-a-view-versus-a-copy\n",
      "  df_conditional_control['Conditional Percentage'] = df_conditional_control['Conditional Total'] / max_conditional * 100\n",
      "C:\\Users\\gorgo\\AppData\\Local\\Temp/ipykernel_16444/614415840.py:8: SettingWithCopyWarning: \n",
      "A value is trying to be set on a copy of a slice from a DataFrame.\n",
      "Try using .loc[row_indexer,col_indexer] = value instead\n",
      "\n",
      "See the caveats in the documentation: https://pandas.pydata.org/pandas-docs/stable/user_guide/indexing.html#returning-a-view-versus-a-copy\n",
      "  df_loops_control['Loops Percentage'] = df_loops_control['Loops Total'] / max_loops * 100\n",
      "C:\\Users\\gorgo\\AppData\\Local\\Temp/ipykernel_16444/614415840.py:20: FutureWarning: In a future version of pandas all arguments of DataFrame.drop except for the argument 'labels' will be keyword-only.\n",
      "  df_total.drop(df_total.columns.difference(['UID', 'Datatypes Percentage', 'Variables Percentage', 'Arithmetic Percentage', 'Print Percentage', 'Logical Percentage', 'Conditional Percentage', 'Loops Percentage']), 1, inplace=True)\n"
     ]
    },
    {
     "data": {
      "text/plain": "       UID  Datatypes Percentage  Variables Percentage  Arithmetic Percentage  \\\n0  4DRO233                 100.0             87.500000              86.111111   \n1  5NSA280                 100.0            100.000000             100.000000   \n2  6CSA143                 100.0             95.833333              80.555556   \n3  7KSM240                 100.0             91.666667              88.888889   \n\n   Print Percentage  Logical Percentage  Conditional Percentage  \\\n0         71.428571                95.0                    60.0   \n1        100.000000                85.0                   100.0   \n2         71.428571                90.0                    68.0   \n3         57.142857                90.0                    92.0   \n\n   Loops Percentage  \n0         80.487805  \n1         89.024390  \n2         65.853659  \n3         57.317073  ",
      "text/html": "<div>\n<style scoped>\n    .dataframe tbody tr th:only-of-type {\n        vertical-align: middle;\n    }\n\n    .dataframe tbody tr th {\n        vertical-align: top;\n    }\n\n    .dataframe thead th {\n        text-align: right;\n    }\n</style>\n<table border=\"1\" class=\"dataframe\">\n  <thead>\n    <tr style=\"text-align: right;\">\n      <th></th>\n      <th>UID</th>\n      <th>Datatypes Percentage</th>\n      <th>Variables Percentage</th>\n      <th>Arithmetic Percentage</th>\n      <th>Print Percentage</th>\n      <th>Logical Percentage</th>\n      <th>Conditional Percentage</th>\n      <th>Loops Percentage</th>\n    </tr>\n  </thead>\n  <tbody>\n    <tr>\n      <th>0</th>\n      <td>4DRO233</td>\n      <td>100.0</td>\n      <td>87.500000</td>\n      <td>86.111111</td>\n      <td>71.428571</td>\n      <td>95.0</td>\n      <td>60.0</td>\n      <td>80.487805</td>\n    </tr>\n    <tr>\n      <th>1</th>\n      <td>5NSA280</td>\n      <td>100.0</td>\n      <td>100.000000</td>\n      <td>100.000000</td>\n      <td>100.000000</td>\n      <td>85.0</td>\n      <td>100.0</td>\n      <td>89.024390</td>\n    </tr>\n    <tr>\n      <th>2</th>\n      <td>6CSA143</td>\n      <td>100.0</td>\n      <td>95.833333</td>\n      <td>80.555556</td>\n      <td>71.428571</td>\n      <td>90.0</td>\n      <td>68.0</td>\n      <td>65.853659</td>\n    </tr>\n    <tr>\n      <th>3</th>\n      <td>7KSM240</td>\n      <td>100.0</td>\n      <td>91.666667</td>\n      <td>88.888889</td>\n      <td>57.142857</td>\n      <td>90.0</td>\n      <td>92.0</td>\n      <td>57.317073</td>\n    </tr>\n  </tbody>\n</table>\n</div>"
     },
     "metadata": {},
     "output_type": "display_data"
    },
    {
     "name": "stderr",
     "output_type": "stream",
     "text": [
      "C:\\Users\\gorgo\\AppData\\Local\\Temp/ipykernel_16444/614415840.py:24: FutureWarning: In future versions `DataFrame.to_latex` is expected to utilise the base implementation of `Styler.to_latex` for formatting and rendering. The arguments signature may therefore change. It is recommended instead to use `DataFrame.style.to_latex` which also contains additional functionality.\n",
      "  df_total.to_latex('df_total.tex', index=False)\n"
     ]
    }
   ],
   "source": [
    "#calculate percentage from total and max\n",
    "df_datatypes_control['Datatypes Percentage'] = df_datatypes_control['Datatypes Total'] / max_datatypes * 100\n",
    "df_variables_control['Variables Percentage'] = df_variables_control['Variables Total'] / max_variables * 100\n",
    "df_arithmetic_control['Arithmetic Percentage'] = df_arithmetic_control['Arithmetic Total'] / max_arithmetic * 100\n",
    "df_print_control['Print Percentage'] = df_print_control['Print Total'] / max_print * 100\n",
    "df_logical_control['Logical Percentage'] = df_logical_control['Logical Total'] / max_logical * 100\n",
    "df_conditional_control['Conditional Percentage'] = df_conditional_control['Conditional Total'] / max_conditional * 100\n",
    "df_loops_control['Loops Percentage'] = df_loops_control['Loops Total'] / max_loops * 100\n",
    "\n",
    "print(df_loops_broca)\n",
    "\n",
    "df_total = pd.merge(df_datatypes_control, df_variables_control, on='UID')\n",
    "df_total = pd.merge(df_total, df_arithmetic_control, on='UID')\n",
    "df_total = pd.merge(df_total, df_print_control, on='UID')\n",
    "df_total = pd.merge(df_total, df_logical_control, on='UID')\n",
    "df_total = pd.merge(df_total, df_conditional_control, on='UID')\n",
    "df_total = pd.merge(df_total, df_loops_control, on='UID')\n",
    "\n",
    "#df total drop everything except uid and total\n",
    "df_total.drop(df_total.columns.difference(['UID', 'Datatypes Percentage', 'Variables Percentage', 'Arithmetic Percentage', 'Print Percentage', 'Logical Percentage', 'Conditional Percentage', 'Loops Percentage']), 1, inplace=True)\n",
    "\n",
    "display(df_total)\n",
    "\n",
    "df_total.to_latex('df_total.tex', index=False)"
   ],
   "metadata": {
    "collapsed": false,
    "pycharm": {
     "name": "#%%\n"
    }
   }
  },
  {
   "cell_type": "code",
   "execution_count": 218,
   "outputs": [
    {
     "data": {
      "text/plain": "        UID  Aufgabe 1a  Aufgabe 1b  Aufgabe 1c  Aufgabe 1d  Aufgabe 1e  \\\n0   0LZR203         1.0         1.0         1.0         1.0         1.0   \n1   0REG243         NaN         NaN         NaN         NaN         NaN   \n2   1AGT138         1.0         1.0         1.0         1.0         1.0   \n3   1HJA213         NaN         NaN         NaN         NaN         NaN   \n4   1RBR047         NaN         NaN         NaN         NaN         NaN   \n5   3LDI060         1.0         1.0         1.0         1.0         1.0   \n6   3LST145         1.0         1.0         1.0         1.0         1.0   \n7   4ANT042         1.0         1.0         1.0         1.0         1.0   \n8   4DRO233         1.0         1.0         1.0         1.0         1.0   \n9   4MNT105         NaN         NaN         NaN         NaN         NaN   \n10  5JS4143         NaN         NaN         NaN         NaN         NaN   \n11  5NSA280         1.0         1.0         1.0         1.0         1.0   \n12  6CSA143         0.0         1.0         1.0         1.0         1.0   \n13  7BGT235         1.0         1.0         1.0         1.0         1.0   \n14  7KSM240         1.0         1.0         1.0         1.0         1.0   \n15  7RAI228         0.0         0.0         1.0         1.0         1.0   \n16  7SOA133         1.0         1.0         1.0         1.0         1.0   \n17  7VKT025         1.0         1.0         1.0         1.0         1.0   \n18  8AB4138         NaN         NaN         NaN         NaN         NaN   \n19  8CHT208         NaN         NaN         NaN         NaN         NaN   \n\n    Aufgabe 1f  Aufgabe 2  Aufgabe 3  Insgesamt  Unnamed: 10  \n0          1.0        1.0        0.0        2.0          7.0  \n1          NaN        NaN        NaN        NaN          NaN  \n2          1.0        1.0        1.0        2.0          8.0  \n3          NaN        NaN        NaN        NaN          NaN  \n4          NaN        NaN        NaN        NaN          NaN  \n5          1.0        1.0        1.0        2.0          8.0  \n6          1.0        1.0        1.0        2.0          8.0  \n7          1.0        1.0        1.0        2.0          8.0  \n8          1.0        1.0        1.0        2.0          8.0  \n9          NaN        NaN        NaN        NaN          NaN  \n10         NaN        NaN        NaN        NaN          NaN  \n11         1.0        1.0        1.0        2.0          8.0  \n12         0.0        0.5        0.0        0.0          4.5  \n13         1.0        1.0        1.0        2.0          8.0  \n14         1.0        1.0        1.0        2.0          8.0  \n15         1.0        0.0        1.0        1.0          5.0  \n16         1.0        1.0        1.0        2.0          8.0  \n17         1.0        1.0        1.0        2.0          8.0  \n18         NaN        NaN        NaN        NaN          NaN  \n19         NaN        NaN        NaN        NaN          NaN  ",
      "text/html": "<div>\n<style scoped>\n    .dataframe tbody tr th:only-of-type {\n        vertical-align: middle;\n    }\n\n    .dataframe tbody tr th {\n        vertical-align: top;\n    }\n\n    .dataframe thead th {\n        text-align: right;\n    }\n</style>\n<table border=\"1\" class=\"dataframe\">\n  <thead>\n    <tr style=\"text-align: right;\">\n      <th></th>\n      <th>UID</th>\n      <th>Aufgabe 1a</th>\n      <th>Aufgabe 1b</th>\n      <th>Aufgabe 1c</th>\n      <th>Aufgabe 1d</th>\n      <th>Aufgabe 1e</th>\n      <th>Aufgabe 1f</th>\n      <th>Aufgabe 2</th>\n      <th>Aufgabe 3</th>\n      <th>Insgesamt</th>\n      <th>Unnamed: 10</th>\n    </tr>\n  </thead>\n  <tbody>\n    <tr>\n      <th>0</th>\n      <td>0LZR203</td>\n      <td>1.0</td>\n      <td>1.0</td>\n      <td>1.0</td>\n      <td>1.0</td>\n      <td>1.0</td>\n      <td>1.0</td>\n      <td>1.0</td>\n      <td>0.0</td>\n      <td>2.0</td>\n      <td>7.0</td>\n    </tr>\n    <tr>\n      <th>1</th>\n      <td>0REG243</td>\n      <td>NaN</td>\n      <td>NaN</td>\n      <td>NaN</td>\n      <td>NaN</td>\n      <td>NaN</td>\n      <td>NaN</td>\n      <td>NaN</td>\n      <td>NaN</td>\n      <td>NaN</td>\n      <td>NaN</td>\n    </tr>\n    <tr>\n      <th>2</th>\n      <td>1AGT138</td>\n      <td>1.0</td>\n      <td>1.0</td>\n      <td>1.0</td>\n      <td>1.0</td>\n      <td>1.0</td>\n      <td>1.0</td>\n      <td>1.0</td>\n      <td>1.0</td>\n      <td>2.0</td>\n      <td>8.0</td>\n    </tr>\n    <tr>\n      <th>3</th>\n      <td>1HJA213</td>\n      <td>NaN</td>\n      <td>NaN</td>\n      <td>NaN</td>\n      <td>NaN</td>\n      <td>NaN</td>\n      <td>NaN</td>\n      <td>NaN</td>\n      <td>NaN</td>\n      <td>NaN</td>\n      <td>NaN</td>\n    </tr>\n    <tr>\n      <th>4</th>\n      <td>1RBR047</td>\n      <td>NaN</td>\n      <td>NaN</td>\n      <td>NaN</td>\n      <td>NaN</td>\n      <td>NaN</td>\n      <td>NaN</td>\n      <td>NaN</td>\n      <td>NaN</td>\n      <td>NaN</td>\n      <td>NaN</td>\n    </tr>\n    <tr>\n      <th>5</th>\n      <td>3LDI060</td>\n      <td>1.0</td>\n      <td>1.0</td>\n      <td>1.0</td>\n      <td>1.0</td>\n      <td>1.0</td>\n      <td>1.0</td>\n      <td>1.0</td>\n      <td>1.0</td>\n      <td>2.0</td>\n      <td>8.0</td>\n    </tr>\n    <tr>\n      <th>6</th>\n      <td>3LST145</td>\n      <td>1.0</td>\n      <td>1.0</td>\n      <td>1.0</td>\n      <td>1.0</td>\n      <td>1.0</td>\n      <td>1.0</td>\n      <td>1.0</td>\n      <td>1.0</td>\n      <td>2.0</td>\n      <td>8.0</td>\n    </tr>\n    <tr>\n      <th>7</th>\n      <td>4ANT042</td>\n      <td>1.0</td>\n      <td>1.0</td>\n      <td>1.0</td>\n      <td>1.0</td>\n      <td>1.0</td>\n      <td>1.0</td>\n      <td>1.0</td>\n      <td>1.0</td>\n      <td>2.0</td>\n      <td>8.0</td>\n    </tr>\n    <tr>\n      <th>8</th>\n      <td>4DRO233</td>\n      <td>1.0</td>\n      <td>1.0</td>\n      <td>1.0</td>\n      <td>1.0</td>\n      <td>1.0</td>\n      <td>1.0</td>\n      <td>1.0</td>\n      <td>1.0</td>\n      <td>2.0</td>\n      <td>8.0</td>\n    </tr>\n    <tr>\n      <th>9</th>\n      <td>4MNT105</td>\n      <td>NaN</td>\n      <td>NaN</td>\n      <td>NaN</td>\n      <td>NaN</td>\n      <td>NaN</td>\n      <td>NaN</td>\n      <td>NaN</td>\n      <td>NaN</td>\n      <td>NaN</td>\n      <td>NaN</td>\n    </tr>\n    <tr>\n      <th>10</th>\n      <td>5JS4143</td>\n      <td>NaN</td>\n      <td>NaN</td>\n      <td>NaN</td>\n      <td>NaN</td>\n      <td>NaN</td>\n      <td>NaN</td>\n      <td>NaN</td>\n      <td>NaN</td>\n      <td>NaN</td>\n      <td>NaN</td>\n    </tr>\n    <tr>\n      <th>11</th>\n      <td>5NSA280</td>\n      <td>1.0</td>\n      <td>1.0</td>\n      <td>1.0</td>\n      <td>1.0</td>\n      <td>1.0</td>\n      <td>1.0</td>\n      <td>1.0</td>\n      <td>1.0</td>\n      <td>2.0</td>\n      <td>8.0</td>\n    </tr>\n    <tr>\n      <th>12</th>\n      <td>6CSA143</td>\n      <td>0.0</td>\n      <td>1.0</td>\n      <td>1.0</td>\n      <td>1.0</td>\n      <td>1.0</td>\n      <td>0.0</td>\n      <td>0.5</td>\n      <td>0.0</td>\n      <td>0.0</td>\n      <td>4.5</td>\n    </tr>\n    <tr>\n      <th>13</th>\n      <td>7BGT235</td>\n      <td>1.0</td>\n      <td>1.0</td>\n      <td>1.0</td>\n      <td>1.0</td>\n      <td>1.0</td>\n      <td>1.0</td>\n      <td>1.0</td>\n      <td>1.0</td>\n      <td>2.0</td>\n      <td>8.0</td>\n    </tr>\n    <tr>\n      <th>14</th>\n      <td>7KSM240</td>\n      <td>1.0</td>\n      <td>1.0</td>\n      <td>1.0</td>\n      <td>1.0</td>\n      <td>1.0</td>\n      <td>1.0</td>\n      <td>1.0</td>\n      <td>1.0</td>\n      <td>2.0</td>\n      <td>8.0</td>\n    </tr>\n    <tr>\n      <th>15</th>\n      <td>7RAI228</td>\n      <td>0.0</td>\n      <td>0.0</td>\n      <td>1.0</td>\n      <td>1.0</td>\n      <td>1.0</td>\n      <td>1.0</td>\n      <td>0.0</td>\n      <td>1.0</td>\n      <td>1.0</td>\n      <td>5.0</td>\n    </tr>\n    <tr>\n      <th>16</th>\n      <td>7SOA133</td>\n      <td>1.0</td>\n      <td>1.0</td>\n      <td>1.0</td>\n      <td>1.0</td>\n      <td>1.0</td>\n      <td>1.0</td>\n      <td>1.0</td>\n      <td>1.0</td>\n      <td>2.0</td>\n      <td>8.0</td>\n    </tr>\n    <tr>\n      <th>17</th>\n      <td>7VKT025</td>\n      <td>1.0</td>\n      <td>1.0</td>\n      <td>1.0</td>\n      <td>1.0</td>\n      <td>1.0</td>\n      <td>1.0</td>\n      <td>1.0</td>\n      <td>1.0</td>\n      <td>2.0</td>\n      <td>8.0</td>\n    </tr>\n    <tr>\n      <th>18</th>\n      <td>8AB4138</td>\n      <td>NaN</td>\n      <td>NaN</td>\n      <td>NaN</td>\n      <td>NaN</td>\n      <td>NaN</td>\n      <td>NaN</td>\n      <td>NaN</td>\n      <td>NaN</td>\n      <td>NaN</td>\n      <td>NaN</td>\n    </tr>\n    <tr>\n      <th>19</th>\n      <td>8CHT208</td>\n      <td>NaN</td>\n      <td>NaN</td>\n      <td>NaN</td>\n      <td>NaN</td>\n      <td>NaN</td>\n      <td>NaN</td>\n      <td>NaN</td>\n      <td>NaN</td>\n      <td>NaN</td>\n      <td>NaN</td>\n    </tr>\n  </tbody>\n</table>\n</div>"
     },
     "execution_count": 218,
     "metadata": {},
     "output_type": "execute_result"
    }
   ],
   "source": [
    "df_posttest_programming"
   ],
   "metadata": {
    "collapsed": false,
    "pycharm": {
     "name": "#%%\n"
    }
   }
  },
  {
   "cell_type": "code",
   "execution_count": 219,
   "outputs": [
    {
     "name": "stderr",
     "output_type": "stream",
     "text": [
      "C:\\Users\\gorgo\\AppData\\Local\\Temp/ipykernel_16444/4253376804.py:2: SettingWithCopyWarning: \n",
      "A value is trying to be set on a copy of a slice from a DataFrame.\n",
      "Try using .loc[row_indexer,col_indexer] = value instead\n",
      "\n",
      "See the caveats in the documentation: https://pandas.pydata.org/pandas-docs/stable/user_guide/indexing.html#returning-a-view-versus-a-copy\n",
      "  df_datatypes_broca['Datatypes Percentage'] = df_datatypes_broca['Total'] / max_datatypes * 100\n",
      "C:\\Users\\gorgo\\AppData\\Local\\Temp/ipykernel_16444/4253376804.py:3: SettingWithCopyWarning: \n",
      "A value is trying to be set on a copy of a slice from a DataFrame.\n",
      "Try using .loc[row_indexer,col_indexer] = value instead\n",
      "\n",
      "See the caveats in the documentation: https://pandas.pydata.org/pandas-docs/stable/user_guide/indexing.html#returning-a-view-versus-a-copy\n",
      "  df_variables_broca['Variables Percentage'] = df_variables_broca['Total'] / max_variables * 100\n",
      "C:\\Users\\gorgo\\AppData\\Local\\Temp/ipykernel_16444/4253376804.py:4: SettingWithCopyWarning: \n",
      "A value is trying to be set on a copy of a slice from a DataFrame.\n",
      "Try using .loc[row_indexer,col_indexer] = value instead\n",
      "\n",
      "See the caveats in the documentation: https://pandas.pydata.org/pandas-docs/stable/user_guide/indexing.html#returning-a-view-versus-a-copy\n",
      "  df_arithmetic_broca['Arithmetic Percentage'] = df_arithmetic_broca['Total'] / max_arithmetic * 100\n",
      "C:\\Users\\gorgo\\AppData\\Local\\Temp/ipykernel_16444/4253376804.py:5: SettingWithCopyWarning: \n",
      "A value is trying to be set on a copy of a slice from a DataFrame.\n",
      "Try using .loc[row_indexer,col_indexer] = value instead\n",
      "\n",
      "See the caveats in the documentation: https://pandas.pydata.org/pandas-docs/stable/user_guide/indexing.html#returning-a-view-versus-a-copy\n",
      "  df_print_broca['Print Percentage'] = df_print_broca['Total'] / max_print * 100\n",
      "C:\\Users\\gorgo\\AppData\\Local\\Temp/ipykernel_16444/4253376804.py:6: SettingWithCopyWarning: \n",
      "A value is trying to be set on a copy of a slice from a DataFrame.\n",
      "Try using .loc[row_indexer,col_indexer] = value instead\n",
      "\n",
      "See the caveats in the documentation: https://pandas.pydata.org/pandas-docs/stable/user_guide/indexing.html#returning-a-view-versus-a-copy\n",
      "  df_logical_broca['Logical Percentage'] = df_logical_broca['Total'] / max_logical * 100\n",
      "C:\\Users\\gorgo\\AppData\\Local\\Temp/ipykernel_16444/4253376804.py:7: SettingWithCopyWarning: \n",
      "A value is trying to be set on a copy of a slice from a DataFrame.\n",
      "Try using .loc[row_indexer,col_indexer] = value instead\n",
      "\n",
      "See the caveats in the documentation: https://pandas.pydata.org/pandas-docs/stable/user_guide/indexing.html#returning-a-view-versus-a-copy\n",
      "  df_conditional_broca['Conditional Percentage'] = df_conditional_broca['Total'] / max_conditional * 100\n",
      "C:\\Users\\gorgo\\AppData\\Local\\Temp/ipykernel_16444/4253376804.py:8: SettingWithCopyWarning: \n",
      "A value is trying to be set on a copy of a slice from a DataFrame.\n",
      "Try using .loc[row_indexer,col_indexer] = value instead\n",
      "\n",
      "See the caveats in the documentation: https://pandas.pydata.org/pandas-docs/stable/user_guide/indexing.html#returning-a-view-versus-a-copy\n",
      "  df_loops_broca['Loops Percentage'] = df_loops_broca['Total'] / max_loops * 100\n",
      "C:\\Users\\gorgo\\AppData\\Local\\Temp/ipykernel_16444/4253376804.py:12: FutureWarning: Passing 'suffixes' which cause duplicate columns {'Total_x'} in the result is deprecated and will raise a MergeError in a future version.\n",
      "  df_total_broca = pd.merge(df_total_broca, df_print_broca, on='UID')\n",
      "C:\\Users\\gorgo\\AppData\\Local\\Temp/ipykernel_16444/4253376804.py:14: FutureWarning: Passing 'suffixes' which cause duplicate columns {'Total_x'} in the result is deprecated and will raise a MergeError in a future version.\n",
      "  df_total_broca = pd.merge(df_total_broca, df_conditional_broca, on='UID')\n"
     ]
    },
    {
     "data": {
      "text/plain": "        UID  Aufgabe 1a  Aufgabe 1b  Aufgabe 1c  Aufgabe 1d  Aufgabe 1e  \\\n0   0LZR203         1.0         1.0         1.0         1.0         1.0   \n1   0REG243         NaN         NaN         NaN         NaN         NaN   \n2   1AGT138         1.0         1.0         1.0         1.0         1.0   \n3   1HJA213         NaN         NaN         NaN         NaN         NaN   \n4   1RBR047         NaN         NaN         NaN         NaN         NaN   \n5   3LDI060         1.0         1.0         1.0         1.0         1.0   \n6   3LST145         1.0         1.0         1.0         1.0         1.0   \n7   4ANT042         1.0         1.0         1.0         1.0         1.0   \n8   4DRO233         1.0         1.0         1.0         1.0         1.0   \n9   4MNT105         NaN         NaN         NaN         NaN         NaN   \n10  5JS4143         NaN         NaN         NaN         NaN         NaN   \n11  5NSA280         1.0         1.0         1.0         1.0         1.0   \n12  6CSA143         0.0         1.0         1.0         1.0         1.0   \n13  7BGT235         1.0         1.0         1.0         1.0         1.0   \n14  7KSM240         1.0         1.0         1.0         1.0         1.0   \n15  7RAI228         0.0         0.0         1.0         1.0         1.0   \n16  7SOA133         1.0         1.0         1.0         1.0         1.0   \n17  7VKT025         1.0         1.0         1.0         1.0         1.0   \n18  8AB4138         NaN         NaN         NaN         NaN         NaN   \n19  8CHT208         NaN         NaN         NaN         NaN         NaN   \n\n    Aufgabe 1f  Aufgabe 2  Aufgabe 3  Insgesamt  Unnamed: 10  \n0          1.0        1.0        0.0        2.0          7.0  \n1          NaN        NaN        NaN        NaN          NaN  \n2          1.0        1.0        1.0        2.0          8.0  \n3          NaN        NaN        NaN        NaN          NaN  \n4          NaN        NaN        NaN        NaN          NaN  \n5          1.0        1.0        1.0        2.0          8.0  \n6          1.0        1.0        1.0        2.0          8.0  \n7          1.0        1.0        1.0        2.0          8.0  \n8          1.0        1.0        1.0        2.0          8.0  \n9          NaN        NaN        NaN        NaN          NaN  \n10         NaN        NaN        NaN        NaN          NaN  \n11         1.0        1.0        1.0        2.0          8.0  \n12         0.0        0.5        0.0        0.0          4.5  \n13         1.0        1.0        1.0        2.0          8.0  \n14         1.0        1.0        1.0        2.0          8.0  \n15         1.0        0.0        1.0        1.0          5.0  \n16         1.0        1.0        1.0        2.0          8.0  \n17         1.0        1.0        1.0        2.0          8.0  \n18         NaN        NaN        NaN        NaN          NaN  \n19         NaN        NaN        NaN        NaN          NaN  ",
      "text/html": "<div>\n<style scoped>\n    .dataframe tbody tr th:only-of-type {\n        vertical-align: middle;\n    }\n\n    .dataframe tbody tr th {\n        vertical-align: top;\n    }\n\n    .dataframe thead th {\n        text-align: right;\n    }\n</style>\n<table border=\"1\" class=\"dataframe\">\n  <thead>\n    <tr style=\"text-align: right;\">\n      <th></th>\n      <th>UID</th>\n      <th>Aufgabe 1a</th>\n      <th>Aufgabe 1b</th>\n      <th>Aufgabe 1c</th>\n      <th>Aufgabe 1d</th>\n      <th>Aufgabe 1e</th>\n      <th>Aufgabe 1f</th>\n      <th>Aufgabe 2</th>\n      <th>Aufgabe 3</th>\n      <th>Insgesamt</th>\n      <th>Unnamed: 10</th>\n    </tr>\n  </thead>\n  <tbody>\n    <tr>\n      <th>0</th>\n      <td>0LZR203</td>\n      <td>1.0</td>\n      <td>1.0</td>\n      <td>1.0</td>\n      <td>1.0</td>\n      <td>1.0</td>\n      <td>1.0</td>\n      <td>1.0</td>\n      <td>0.0</td>\n      <td>2.0</td>\n      <td>7.0</td>\n    </tr>\n    <tr>\n      <th>1</th>\n      <td>0REG243</td>\n      <td>NaN</td>\n      <td>NaN</td>\n      <td>NaN</td>\n      <td>NaN</td>\n      <td>NaN</td>\n      <td>NaN</td>\n      <td>NaN</td>\n      <td>NaN</td>\n      <td>NaN</td>\n      <td>NaN</td>\n    </tr>\n    <tr>\n      <th>2</th>\n      <td>1AGT138</td>\n      <td>1.0</td>\n      <td>1.0</td>\n      <td>1.0</td>\n      <td>1.0</td>\n      <td>1.0</td>\n      <td>1.0</td>\n      <td>1.0</td>\n      <td>1.0</td>\n      <td>2.0</td>\n      <td>8.0</td>\n    </tr>\n    <tr>\n      <th>3</th>\n      <td>1HJA213</td>\n      <td>NaN</td>\n      <td>NaN</td>\n      <td>NaN</td>\n      <td>NaN</td>\n      <td>NaN</td>\n      <td>NaN</td>\n      <td>NaN</td>\n      <td>NaN</td>\n      <td>NaN</td>\n      <td>NaN</td>\n    </tr>\n    <tr>\n      <th>4</th>\n      <td>1RBR047</td>\n      <td>NaN</td>\n      <td>NaN</td>\n      <td>NaN</td>\n      <td>NaN</td>\n      <td>NaN</td>\n      <td>NaN</td>\n      <td>NaN</td>\n      <td>NaN</td>\n      <td>NaN</td>\n      <td>NaN</td>\n    </tr>\n    <tr>\n      <th>5</th>\n      <td>3LDI060</td>\n      <td>1.0</td>\n      <td>1.0</td>\n      <td>1.0</td>\n      <td>1.0</td>\n      <td>1.0</td>\n      <td>1.0</td>\n      <td>1.0</td>\n      <td>1.0</td>\n      <td>2.0</td>\n      <td>8.0</td>\n    </tr>\n    <tr>\n      <th>6</th>\n      <td>3LST145</td>\n      <td>1.0</td>\n      <td>1.0</td>\n      <td>1.0</td>\n      <td>1.0</td>\n      <td>1.0</td>\n      <td>1.0</td>\n      <td>1.0</td>\n      <td>1.0</td>\n      <td>2.0</td>\n      <td>8.0</td>\n    </tr>\n    <tr>\n      <th>7</th>\n      <td>4ANT042</td>\n      <td>1.0</td>\n      <td>1.0</td>\n      <td>1.0</td>\n      <td>1.0</td>\n      <td>1.0</td>\n      <td>1.0</td>\n      <td>1.0</td>\n      <td>1.0</td>\n      <td>2.0</td>\n      <td>8.0</td>\n    </tr>\n    <tr>\n      <th>8</th>\n      <td>4DRO233</td>\n      <td>1.0</td>\n      <td>1.0</td>\n      <td>1.0</td>\n      <td>1.0</td>\n      <td>1.0</td>\n      <td>1.0</td>\n      <td>1.0</td>\n      <td>1.0</td>\n      <td>2.0</td>\n      <td>8.0</td>\n    </tr>\n    <tr>\n      <th>9</th>\n      <td>4MNT105</td>\n      <td>NaN</td>\n      <td>NaN</td>\n      <td>NaN</td>\n      <td>NaN</td>\n      <td>NaN</td>\n      <td>NaN</td>\n      <td>NaN</td>\n      <td>NaN</td>\n      <td>NaN</td>\n      <td>NaN</td>\n    </tr>\n    <tr>\n      <th>10</th>\n      <td>5JS4143</td>\n      <td>NaN</td>\n      <td>NaN</td>\n      <td>NaN</td>\n      <td>NaN</td>\n      <td>NaN</td>\n      <td>NaN</td>\n      <td>NaN</td>\n      <td>NaN</td>\n      <td>NaN</td>\n      <td>NaN</td>\n    </tr>\n    <tr>\n      <th>11</th>\n      <td>5NSA280</td>\n      <td>1.0</td>\n      <td>1.0</td>\n      <td>1.0</td>\n      <td>1.0</td>\n      <td>1.0</td>\n      <td>1.0</td>\n      <td>1.0</td>\n      <td>1.0</td>\n      <td>2.0</td>\n      <td>8.0</td>\n    </tr>\n    <tr>\n      <th>12</th>\n      <td>6CSA143</td>\n      <td>0.0</td>\n      <td>1.0</td>\n      <td>1.0</td>\n      <td>1.0</td>\n      <td>1.0</td>\n      <td>0.0</td>\n      <td>0.5</td>\n      <td>0.0</td>\n      <td>0.0</td>\n      <td>4.5</td>\n    </tr>\n    <tr>\n      <th>13</th>\n      <td>7BGT235</td>\n      <td>1.0</td>\n      <td>1.0</td>\n      <td>1.0</td>\n      <td>1.0</td>\n      <td>1.0</td>\n      <td>1.0</td>\n      <td>1.0</td>\n      <td>1.0</td>\n      <td>2.0</td>\n      <td>8.0</td>\n    </tr>\n    <tr>\n      <th>14</th>\n      <td>7KSM240</td>\n      <td>1.0</td>\n      <td>1.0</td>\n      <td>1.0</td>\n      <td>1.0</td>\n      <td>1.0</td>\n      <td>1.0</td>\n      <td>1.0</td>\n      <td>1.0</td>\n      <td>2.0</td>\n      <td>8.0</td>\n    </tr>\n    <tr>\n      <th>15</th>\n      <td>7RAI228</td>\n      <td>0.0</td>\n      <td>0.0</td>\n      <td>1.0</td>\n      <td>1.0</td>\n      <td>1.0</td>\n      <td>1.0</td>\n      <td>0.0</td>\n      <td>1.0</td>\n      <td>1.0</td>\n      <td>5.0</td>\n    </tr>\n    <tr>\n      <th>16</th>\n      <td>7SOA133</td>\n      <td>1.0</td>\n      <td>1.0</td>\n      <td>1.0</td>\n      <td>1.0</td>\n      <td>1.0</td>\n      <td>1.0</td>\n      <td>1.0</td>\n      <td>1.0</td>\n      <td>2.0</td>\n      <td>8.0</td>\n    </tr>\n    <tr>\n      <th>17</th>\n      <td>7VKT025</td>\n      <td>1.0</td>\n      <td>1.0</td>\n      <td>1.0</td>\n      <td>1.0</td>\n      <td>1.0</td>\n      <td>1.0</td>\n      <td>1.0</td>\n      <td>1.0</td>\n      <td>2.0</td>\n      <td>8.0</td>\n    </tr>\n    <tr>\n      <th>18</th>\n      <td>8AB4138</td>\n      <td>NaN</td>\n      <td>NaN</td>\n      <td>NaN</td>\n      <td>NaN</td>\n      <td>NaN</td>\n      <td>NaN</td>\n      <td>NaN</td>\n      <td>NaN</td>\n      <td>NaN</td>\n      <td>NaN</td>\n    </tr>\n    <tr>\n      <th>19</th>\n      <td>8CHT208</td>\n      <td>NaN</td>\n      <td>NaN</td>\n      <td>NaN</td>\n      <td>NaN</td>\n      <td>NaN</td>\n      <td>NaN</td>\n      <td>NaN</td>\n      <td>NaN</td>\n      <td>NaN</td>\n      <td>NaN</td>\n    </tr>\n  </tbody>\n</table>\n</div>"
     },
     "metadata": {},
     "output_type": "display_data"
    },
    {
     "name": "stderr",
     "output_type": "stream",
     "text": [
      "C:\\Users\\gorgo\\AppData\\Local\\Temp/ipykernel_16444/4253376804.py:26: FutureWarning: In a future version of pandas all arguments of DataFrame.drop except for the argument 'labels' will be keyword-only.\n",
      "  df_total_broca.drop(df_total_broca.columns.difference(['UID', 'Datatypes Percentage', 'Variables Percentage', 'Arithmetic Percentage', 'Print Percentage', 'Logical Percentage', 'Conditional Percentage', 'Loops Percentage', 'Programming Percentage']), 1, inplace=True)\n",
      "C:\\Users\\gorgo\\AppData\\Local\\Temp/ipykernel_16444/4253376804.py:49: FutureWarning: In a future version of pandas all arguments of DataFrame.drop except for the argument 'labels' will be keyword-only.\n",
      "  df_total_broca.drop(df_total_broca.columns.difference(['UID', 'Datatypes Percentage', 'Variables Percentage', 'Arithmetic Percentage', 'Print Percentage', 'Logical Percentage', 'Conditional Percentage', 'Loops Percentage', 'Pre-Percentage', 'Post-Percentage', 'Programming Percentage']), 1, inplace=True)\n",
      "C:\\Users\\gorgo\\AppData\\Local\\Temp/ipykernel_16444/4253376804.py:55: FutureWarning: In future versions `DataFrame.to_latex` is expected to utilise the base implementation of `Styler.to_latex` for formatting and rendering. The arguments signature may therefore change. It is recommended instead to use `DataFrame.style.to_latex` which also contains additional functionality.\n",
      "  df_total_broca.to_latex('df_total_broca.tex', index=False)\n"
     ]
    }
   ],
   "source": [
    "#calculate percentage from total and max for df_datatypes_broca and df_variables_broca and df_arithmetic_broca and df_print_broca and df_logical_broca and df_conditional_broca and df_loops_broca\n",
    "df_datatypes_broca['Datatypes Percentage'] = df_datatypes_broca['Total'] / max_datatypes * 100\n",
    "df_variables_broca['Variables Percentage'] = df_variables_broca['Total'] / max_variables * 100\n",
    "df_arithmetic_broca['Arithmetic Percentage'] = df_arithmetic_broca['Total'] / max_arithmetic * 100\n",
    "df_print_broca['Print Percentage'] = df_print_broca['Total'] / max_print * 100\n",
    "df_logical_broca['Logical Percentage'] = df_logical_broca['Total'] / max_logical * 100\n",
    "df_conditional_broca['Conditional Percentage'] = df_conditional_broca['Total'] / max_conditional * 100\n",
    "df_loops_broca['Loops Percentage'] = df_loops_broca['Total'] / max_loops * 100\n",
    "\n",
    "df_total_broca = pd.merge(df_datatypes_broca, df_variables_broca, on='UID')\n",
    "df_total_broca = pd.merge(df_total_broca, df_arithmetic_broca, on='UID')\n",
    "df_total_broca = pd.merge(df_total_broca, df_print_broca, on='UID')\n",
    "df_total_broca = pd.merge(df_total_broca, df_logical_broca, on='UID')\n",
    "df_total_broca = pd.merge(df_total_broca, df_conditional_broca, on='UID')\n",
    "df_total_broca = pd.merge(df_total_broca, df_loops_broca, on='UID')\n",
    "\n",
    "display(df_posttest_programming)\n",
    "\n",
    "#df_posttest_programming add percentage columns for insgesamt\n",
    "#df_posttest_programming['Programming Percentage'] = df_posttest_programming['Insgesamt'] / 8 * 100\n",
    "\n",
    "#add df_posttest_programming to df_total_broca\n",
    "df_total_broca = pd.merge(df_total_broca, df_posttest_programming, on='UID')\n",
    "\n",
    "#remove everything except uid and percentage\n",
    "df_total_broca.drop(df_total_broca.columns.difference(['UID', 'Datatypes Percentage', 'Variables Percentage', 'Arithmetic Percentage', 'Print Percentage', 'Logical Percentage', 'Conditional Percentage', 'Loops Percentage', 'Programming Percentage']), 1, inplace=True)\n",
    "\n",
    "#cut percentage with 1 rounded number after comma\n",
    "df_total_broca['Datatypes Percentage'] = df_total_broca['Datatypes Percentage'].round(1)\n",
    "df_total_broca['Variables Percentage'] = df_total_broca['Variables Percentage'].round(1)\n",
    "df_total_broca['Arithmetic Percentage'] = df_total_broca['Arithmetic Percentage'].round(1)\n",
    "df_total_broca['Print Percentage'] = df_total_broca['Print Percentage'].round(1)\n",
    "df_total_broca['Logical Percentage'] = df_total_broca['Logical Percentage'].round(1)\n",
    "df_total_broca['Conditional Percentage'] = df_total_broca['Conditional Percentage'].round(1)\n",
    "df_total_broca['Loops Percentage'] = df_total_broca['Loops Percentage'].round(1)\n",
    "\n",
    "#display(df_posttest)\n",
    "#df_pretest calculate percentage from total and max\n",
    "df_posttest['Post-Percentage'] = df_posttest['Posttest'] / 8 * 100\n",
    "df_posttest['Pre-Percentage'] = df_posttest['Pretest'] / 8 * 100\n",
    "\n",
    "#round percentage with 1 number after comma\n",
    "df_posttest['Post-Percentage'] = df_posttest['Post-Percentage'].round(1)\n",
    "df_posttest['Pre-Percentage'] = df_posttest['Pre-Percentage'].round(1)\n",
    "\n",
    "df_total_broca = pd.merge(df_total_broca, df_posttest, on='UID')\n",
    "\n",
    "#df_total_broca drop everything except uid and percentages\n",
    "df_total_broca.drop(df_total_broca.columns.difference(['UID', 'Datatypes Percentage', 'Variables Percentage', 'Arithmetic Percentage', 'Print Percentage', 'Logical Percentage', 'Conditional Percentage', 'Loops Percentage', 'Pre-Percentage', 'Post-Percentage', 'Programming Percentage']), 1, inplace=True)\n",
    "\n",
    "#df_total_broca move Pre-Percentage to second column\n",
    "cols = list(df_total_broca.columns.values)\n",
    "df_total_broca = df_total_broca[cols[0:1] + cols[-1:] + cols[1:-1]]\n",
    "\n",
    "df_total_broca.to_latex('df_total_broca.tex', index=False)"
   ],
   "metadata": {
    "collapsed": false,
    "pycharm": {
     "name": "#%%\n"
    }
   }
  },
  {
   "cell_type": "code",
   "execution_count": 220,
   "outputs": [
    {
     "data": {
      "text/plain": "        UID  6.1   6.2   6.4  Total  Conditional Percentage\n0   0LZR203  2.0  10.0  13.0   25.0                   100.0\n1   0REG243  1.0  10.0  13.0   24.0                    96.0\n2   1AGT138  2.0   9.0  13.0   24.0                    96.0\n5   3LDI060  2.0  10.0  13.0   25.0                   100.0\n6   3LST145  2.0  10.0  13.0   25.0                   100.0\n7   4ANT042  2.0   9.0  13.0   24.0                    96.0\n13  7BGT235  2.0  10.0  13.0   25.0                   100.0\n15  7RAI228  2.0  10.0  13.0   25.0                   100.0\n16  7SOA133  2.0   9.0  13.0   24.0                    96.0\n19  8CHT208  2.0  10.0  13.0   25.0                   100.0",
      "text/html": "<div>\n<style scoped>\n    .dataframe tbody tr th:only-of-type {\n        vertical-align: middle;\n    }\n\n    .dataframe tbody tr th {\n        vertical-align: top;\n    }\n\n    .dataframe thead th {\n        text-align: right;\n    }\n</style>\n<table border=\"1\" class=\"dataframe\">\n  <thead>\n    <tr style=\"text-align: right;\">\n      <th></th>\n      <th>UID</th>\n      <th>6.1</th>\n      <th>6.2</th>\n      <th>6.4</th>\n      <th>Total</th>\n      <th>Conditional Percentage</th>\n    </tr>\n  </thead>\n  <tbody>\n    <tr>\n      <th>0</th>\n      <td>0LZR203</td>\n      <td>2.0</td>\n      <td>10.0</td>\n      <td>13.0</td>\n      <td>25.0</td>\n      <td>100.0</td>\n    </tr>\n    <tr>\n      <th>1</th>\n      <td>0REG243</td>\n      <td>1.0</td>\n      <td>10.0</td>\n      <td>13.0</td>\n      <td>24.0</td>\n      <td>96.0</td>\n    </tr>\n    <tr>\n      <th>2</th>\n      <td>1AGT138</td>\n      <td>2.0</td>\n      <td>9.0</td>\n      <td>13.0</td>\n      <td>24.0</td>\n      <td>96.0</td>\n    </tr>\n    <tr>\n      <th>5</th>\n      <td>3LDI060</td>\n      <td>2.0</td>\n      <td>10.0</td>\n      <td>13.0</td>\n      <td>25.0</td>\n      <td>100.0</td>\n    </tr>\n    <tr>\n      <th>6</th>\n      <td>3LST145</td>\n      <td>2.0</td>\n      <td>10.0</td>\n      <td>13.0</td>\n      <td>25.0</td>\n      <td>100.0</td>\n    </tr>\n    <tr>\n      <th>7</th>\n      <td>4ANT042</td>\n      <td>2.0</td>\n      <td>9.0</td>\n      <td>13.0</td>\n      <td>24.0</td>\n      <td>96.0</td>\n    </tr>\n    <tr>\n      <th>13</th>\n      <td>7BGT235</td>\n      <td>2.0</td>\n      <td>10.0</td>\n      <td>13.0</td>\n      <td>25.0</td>\n      <td>100.0</td>\n    </tr>\n    <tr>\n      <th>15</th>\n      <td>7RAI228</td>\n      <td>2.0</td>\n      <td>10.0</td>\n      <td>13.0</td>\n      <td>25.0</td>\n      <td>100.0</td>\n    </tr>\n    <tr>\n      <th>16</th>\n      <td>7SOA133</td>\n      <td>2.0</td>\n      <td>9.0</td>\n      <td>13.0</td>\n      <td>24.0</td>\n      <td>96.0</td>\n    </tr>\n    <tr>\n      <th>19</th>\n      <td>8CHT208</td>\n      <td>2.0</td>\n      <td>10.0</td>\n      <td>13.0</td>\n      <td>25.0</td>\n      <td>100.0</td>\n    </tr>\n  </tbody>\n</table>\n</div>"
     },
     "execution_count": 220,
     "metadata": {},
     "output_type": "execute_result"
    }
   ],
   "source": [
    "df_conditional_broca"
   ],
   "metadata": {
    "collapsed": false,
    "pycharm": {
     "name": "#%%\n"
    }
   }
  },
  {
   "cell_type": "code",
   "execution_count": 221,
   "outputs": [
    {
     "data": {
      "text/plain": "        UID  2.1  2.2  2.3  2.4  2.5  2.6 (nur Coding)  Total\n0   0LZR203  5.0  5.0  2.0  5.0  3.0               3.0   23.0\n1   0REG243  6.0  5.0  2.0  5.0  3.0               3.0   24.0\n2   1AGT138  5.0  5.0  2.0  5.0  3.0               3.0   23.0\n5   3LDI060  6.0  5.0  2.0  5.0  3.0               3.0   24.0\n6   3LST145  6.0  5.0  2.0  5.0  3.0               3.0   24.0\n7   4ANT042  6.0  5.0  2.0  5.0  3.0               3.0   24.0\n8   4DRO233  4.0  4.0  2.0  5.0  3.0               3.0   21.0\n11  5NSA280  6.0  5.0  2.0  5.0  3.0               3.0   24.0\n12  6CSA143  6.0  5.0  2.0  5.0  2.0               3.0   23.0\n13  7BGT235  6.0  5.0  1.0  5.0  3.0               3.0   23.0\n14  7KSM240  6.0  5.0  2.0  5.0  1.0               3.0   22.0\n15  7RAI228  6.0  5.0  1.0  5.0  3.0               3.0   23.0\n16  7SOA133  3.0  5.0  2.0  5.0  3.0               3.0   21.0\n17  7VKT025  6.0  5.0  2.0  5.0  3.0               3.0   24.0\n19  8CHT208  6.0  5.0  2.0  5.0  3.0               3.0   24.0",
      "text/html": "<div>\n<style scoped>\n    .dataframe tbody tr th:only-of-type {\n        vertical-align: middle;\n    }\n\n    .dataframe tbody tr th {\n        vertical-align: top;\n    }\n\n    .dataframe thead th {\n        text-align: right;\n    }\n</style>\n<table border=\"1\" class=\"dataframe\">\n  <thead>\n    <tr style=\"text-align: right;\">\n      <th></th>\n      <th>UID</th>\n      <th>2.1</th>\n      <th>2.2</th>\n      <th>2.3</th>\n      <th>2.4</th>\n      <th>2.5</th>\n      <th>2.6 (nur Coding)</th>\n      <th>Total</th>\n    </tr>\n  </thead>\n  <tbody>\n    <tr>\n      <th>0</th>\n      <td>0LZR203</td>\n      <td>5.0</td>\n      <td>5.0</td>\n      <td>2.0</td>\n      <td>5.0</td>\n      <td>3.0</td>\n      <td>3.0</td>\n      <td>23.0</td>\n    </tr>\n    <tr>\n      <th>1</th>\n      <td>0REG243</td>\n      <td>6.0</td>\n      <td>5.0</td>\n      <td>2.0</td>\n      <td>5.0</td>\n      <td>3.0</td>\n      <td>3.0</td>\n      <td>24.0</td>\n    </tr>\n    <tr>\n      <th>2</th>\n      <td>1AGT138</td>\n      <td>5.0</td>\n      <td>5.0</td>\n      <td>2.0</td>\n      <td>5.0</td>\n      <td>3.0</td>\n      <td>3.0</td>\n      <td>23.0</td>\n    </tr>\n    <tr>\n      <th>5</th>\n      <td>3LDI060</td>\n      <td>6.0</td>\n      <td>5.0</td>\n      <td>2.0</td>\n      <td>5.0</td>\n      <td>3.0</td>\n      <td>3.0</td>\n      <td>24.0</td>\n    </tr>\n    <tr>\n      <th>6</th>\n      <td>3LST145</td>\n      <td>6.0</td>\n      <td>5.0</td>\n      <td>2.0</td>\n      <td>5.0</td>\n      <td>3.0</td>\n      <td>3.0</td>\n      <td>24.0</td>\n    </tr>\n    <tr>\n      <th>7</th>\n      <td>4ANT042</td>\n      <td>6.0</td>\n      <td>5.0</td>\n      <td>2.0</td>\n      <td>5.0</td>\n      <td>3.0</td>\n      <td>3.0</td>\n      <td>24.0</td>\n    </tr>\n    <tr>\n      <th>8</th>\n      <td>4DRO233</td>\n      <td>4.0</td>\n      <td>4.0</td>\n      <td>2.0</td>\n      <td>5.0</td>\n      <td>3.0</td>\n      <td>3.0</td>\n      <td>21.0</td>\n    </tr>\n    <tr>\n      <th>11</th>\n      <td>5NSA280</td>\n      <td>6.0</td>\n      <td>5.0</td>\n      <td>2.0</td>\n      <td>5.0</td>\n      <td>3.0</td>\n      <td>3.0</td>\n      <td>24.0</td>\n    </tr>\n    <tr>\n      <th>12</th>\n      <td>6CSA143</td>\n      <td>6.0</td>\n      <td>5.0</td>\n      <td>2.0</td>\n      <td>5.0</td>\n      <td>2.0</td>\n      <td>3.0</td>\n      <td>23.0</td>\n    </tr>\n    <tr>\n      <th>13</th>\n      <td>7BGT235</td>\n      <td>6.0</td>\n      <td>5.0</td>\n      <td>1.0</td>\n      <td>5.0</td>\n      <td>3.0</td>\n      <td>3.0</td>\n      <td>23.0</td>\n    </tr>\n    <tr>\n      <th>14</th>\n      <td>7KSM240</td>\n      <td>6.0</td>\n      <td>5.0</td>\n      <td>2.0</td>\n      <td>5.0</td>\n      <td>1.0</td>\n      <td>3.0</td>\n      <td>22.0</td>\n    </tr>\n    <tr>\n      <th>15</th>\n      <td>7RAI228</td>\n      <td>6.0</td>\n      <td>5.0</td>\n      <td>1.0</td>\n      <td>5.0</td>\n      <td>3.0</td>\n      <td>3.0</td>\n      <td>23.0</td>\n    </tr>\n    <tr>\n      <th>16</th>\n      <td>7SOA133</td>\n      <td>3.0</td>\n      <td>5.0</td>\n      <td>2.0</td>\n      <td>5.0</td>\n      <td>3.0</td>\n      <td>3.0</td>\n      <td>21.0</td>\n    </tr>\n    <tr>\n      <th>17</th>\n      <td>7VKT025</td>\n      <td>6.0</td>\n      <td>5.0</td>\n      <td>2.0</td>\n      <td>5.0</td>\n      <td>3.0</td>\n      <td>3.0</td>\n      <td>24.0</td>\n    </tr>\n    <tr>\n      <th>19</th>\n      <td>8CHT208</td>\n      <td>6.0</td>\n      <td>5.0</td>\n      <td>2.0</td>\n      <td>5.0</td>\n      <td>3.0</td>\n      <td>3.0</td>\n      <td>24.0</td>\n    </tr>\n  </tbody>\n</table>\n</div>"
     },
     "metadata": {},
     "output_type": "display_data"
    },
    {
     "data": {
      "text/plain": "        UID  1.1  1.2  Total    Group\n0   0LZR203  6.0  7.0   13.0    Broca\n1   0REG243  6.0  7.0   13.0    Broca\n2   1AGT138  6.0  7.0   13.0    Broca\n5   3LDI060  6.0  7.0   13.0    Broca\n6   3LST145  6.0  7.0   13.0    Broca\n7   4ANT042  6.0  7.0   13.0    Broca\n8   4DRO233  6.0  7.0   13.0  Control\n11  5NSA280  6.0  7.0   13.0  Control\n12  6CSA143  6.0  7.0   13.0  Control\n13  7BGT235  6.0  7.0   13.0    Broca\n14  7KSM240  6.0  7.0   13.0  Control\n15  7RAI228  6.0  7.0   13.0    Broca\n16  7SOA133  5.0  7.0   12.0    Broca\n17  7VKT025  6.0  7.0   13.0  Control\n19  8CHT208  6.0  7.0   13.0    Broca",
      "text/html": "<div>\n<style scoped>\n    .dataframe tbody tr th:only-of-type {\n        vertical-align: middle;\n    }\n\n    .dataframe tbody tr th {\n        vertical-align: top;\n    }\n\n    .dataframe thead th {\n        text-align: right;\n    }\n</style>\n<table border=\"1\" class=\"dataframe\">\n  <thead>\n    <tr style=\"text-align: right;\">\n      <th></th>\n      <th>UID</th>\n      <th>1.1</th>\n      <th>1.2</th>\n      <th>Total</th>\n      <th>Group</th>\n    </tr>\n  </thead>\n  <tbody>\n    <tr>\n      <th>0</th>\n      <td>0LZR203</td>\n      <td>6.0</td>\n      <td>7.0</td>\n      <td>13.0</td>\n      <td>Broca</td>\n    </tr>\n    <tr>\n      <th>1</th>\n      <td>0REG243</td>\n      <td>6.0</td>\n      <td>7.0</td>\n      <td>13.0</td>\n      <td>Broca</td>\n    </tr>\n    <tr>\n      <th>2</th>\n      <td>1AGT138</td>\n      <td>6.0</td>\n      <td>7.0</td>\n      <td>13.0</td>\n      <td>Broca</td>\n    </tr>\n    <tr>\n      <th>5</th>\n      <td>3LDI060</td>\n      <td>6.0</td>\n      <td>7.0</td>\n      <td>13.0</td>\n      <td>Broca</td>\n    </tr>\n    <tr>\n      <th>6</th>\n      <td>3LST145</td>\n      <td>6.0</td>\n      <td>7.0</td>\n      <td>13.0</td>\n      <td>Broca</td>\n    </tr>\n    <tr>\n      <th>7</th>\n      <td>4ANT042</td>\n      <td>6.0</td>\n      <td>7.0</td>\n      <td>13.0</td>\n      <td>Broca</td>\n    </tr>\n    <tr>\n      <th>8</th>\n      <td>4DRO233</td>\n      <td>6.0</td>\n      <td>7.0</td>\n      <td>13.0</td>\n      <td>Control</td>\n    </tr>\n    <tr>\n      <th>11</th>\n      <td>5NSA280</td>\n      <td>6.0</td>\n      <td>7.0</td>\n      <td>13.0</td>\n      <td>Control</td>\n    </tr>\n    <tr>\n      <th>12</th>\n      <td>6CSA143</td>\n      <td>6.0</td>\n      <td>7.0</td>\n      <td>13.0</td>\n      <td>Control</td>\n    </tr>\n    <tr>\n      <th>13</th>\n      <td>7BGT235</td>\n      <td>6.0</td>\n      <td>7.0</td>\n      <td>13.0</td>\n      <td>Broca</td>\n    </tr>\n    <tr>\n      <th>14</th>\n      <td>7KSM240</td>\n      <td>6.0</td>\n      <td>7.0</td>\n      <td>13.0</td>\n      <td>Control</td>\n    </tr>\n    <tr>\n      <th>15</th>\n      <td>7RAI228</td>\n      <td>6.0</td>\n      <td>7.0</td>\n      <td>13.0</td>\n      <td>Broca</td>\n    </tr>\n    <tr>\n      <th>16</th>\n      <td>7SOA133</td>\n      <td>5.0</td>\n      <td>7.0</td>\n      <td>12.0</td>\n      <td>Broca</td>\n    </tr>\n    <tr>\n      <th>17</th>\n      <td>7VKT025</td>\n      <td>6.0</td>\n      <td>7.0</td>\n      <td>13.0</td>\n      <td>Control</td>\n    </tr>\n    <tr>\n      <th>19</th>\n      <td>8CHT208</td>\n      <td>6.0</td>\n      <td>7.0</td>\n      <td>13.0</td>\n      <td>Broca</td>\n    </tr>\n  </tbody>\n</table>\n</div>"
     },
     "metadata": {},
     "output_type": "display_data"
    }
   ],
   "source": [
    "#add numerical row sum to df_datatypes\n",
    "df_datatypes['Total'] = df_datatypes.sum(numeric_only=True, axis=1)\n",
    "\n",
    "#add numerical row sum to df_variables\n",
    "df_variables['Total'] = df_variables.sum(numeric_only=True, axis=1)\n",
    "\n",
    "#add numerical row sum to df_arithmetic\n",
    "df_arithmetic['Total'] = df_arithmetic.sum(numeric_only=True, axis=1)\n",
    "\n",
    "#add numerical row sum to df_print\n",
    "df_print['Total'] = df_print.sum(numeric_only=True, axis=1)\n",
    "\n",
    "#add numerical row sum to df_logical\n",
    "df_logical['Total'] = df_logical.sum(numeric_only=True, axis=1)\n",
    "\n",
    "#add numerical row sum to df_conditional\n",
    "df_conditional['Total'] = df_conditional.sum(numeric_only=True, axis=1)\n",
    "\n",
    "#add numerical row sum to df_loops\n",
    "df_loops['Total'] = df_loops.sum(numeric_only=True, axis=1)\n",
    "\n",
    "#add column group to df_datatypes and df_variables and df_arithmetic and df_print and df_logical and df_conditional and df_loops and check if uid is in broca or control group\n",
    "\n",
    "import numpy as np\n",
    "\n",
    "display(df_variables)\n",
    "df_datatypes['Group'] = np.where(df_datatypes['UID'].isin(broca_uid), 'Broca', 'Control')\n",
    "df_variables['Group'] = np.where(df_variables['UID'].isin(broca_uid), 'Broca', 'Control')\n",
    "df_arithmetic['Group'] = np.where(df_arithmetic['UID'].isin(broca_uid), 'Broca', 'Control')\n",
    "df_print['Group'] = np.where(df_print['UID'].isin(broca_uid), 'Broca', 'Control')\n",
    "df_logical['Group'] = np.where(df_logical['UID'].isin(broca_uid), 'Broca', 'Control')\n",
    "df_conditional['Group'] = np.where(df_conditional['UID'].isin(broca_uid), 'Broca', 'Control')\n",
    "df_loops['Group'] = np.where(df_loops['UID'].isin(broca_uid), 'Broca', 'Control')\n",
    "\n",
    "display(df_datatypes)\n",
    "\n",
    "#remove last row in df_datatypes and df_variables and df_arithmetic and df_print and df_logical and df_conditional and df_loops\n",
    "df_datatypes = df_datatypes.iloc[:-1]\n",
    "df_variables = df_variables.iloc[:-1]\n",
    "df_arithmetic = df_arithmetic.iloc[:-1]\n",
    "df_print = df_print.iloc[:-1]\n",
    "df_logical = df_logical.iloc[:-1]\n",
    "df_conditional = df_conditional.iloc[:-1]\n",
    "df_loops = df_loops.iloc[:-1]"
   ],
   "metadata": {
    "collapsed": false,
    "pycharm": {
     "name": "#%%\n"
    }
   }
  },
  {
   "cell_type": "code",
   "execution_count": 222,
   "outputs": [],
   "source": [
    "max_datatypes = 13\n",
    "max_variables = 24\n",
    "max_arithmetic = 18\n",
    "max_print = 14\n",
    "max_logical = 20\n",
    "max_conditional = 25\n",
    "max_loops = 41"
   ],
   "metadata": {
    "collapsed": false,
    "pycharm": {
     "name": "#%%\n"
    }
   }
  },
  {
   "cell_type": "code",
   "execution_count": 223,
   "outputs": [
    {
     "data": {
      "text/plain": "        UID  1.1  1.2  Total    Group\n0   0LZR203  6.0  7.0   13.0    Broca\n1   0REG243  6.0  7.0   13.0    Broca\n2   1AGT138  6.0  7.0   13.0    Broca\n5   3LDI060  6.0  7.0   13.0    Broca\n6   3LST145  6.0  7.0   13.0    Broca\n7   4ANT042  6.0  7.0   13.0    Broca\n8   4DRO233  6.0  7.0   13.0  Control\n11  5NSA280  6.0  7.0   13.0  Control\n12  6CSA143  6.0  7.0   13.0  Control\n13  7BGT235  6.0  7.0   13.0    Broca\n14  7KSM240  6.0  7.0   13.0  Control\n15  7RAI228  6.0  7.0   13.0    Broca\n16  7SOA133  5.0  7.0   12.0    Broca\n17  7VKT025  6.0  7.0   13.0  Control",
      "text/html": "<div>\n<style scoped>\n    .dataframe tbody tr th:only-of-type {\n        vertical-align: middle;\n    }\n\n    .dataframe tbody tr th {\n        vertical-align: top;\n    }\n\n    .dataframe thead th {\n        text-align: right;\n    }\n</style>\n<table border=\"1\" class=\"dataframe\">\n  <thead>\n    <tr style=\"text-align: right;\">\n      <th></th>\n      <th>UID</th>\n      <th>1.1</th>\n      <th>1.2</th>\n      <th>Total</th>\n      <th>Group</th>\n    </tr>\n  </thead>\n  <tbody>\n    <tr>\n      <th>0</th>\n      <td>0LZR203</td>\n      <td>6.0</td>\n      <td>7.0</td>\n      <td>13.0</td>\n      <td>Broca</td>\n    </tr>\n    <tr>\n      <th>1</th>\n      <td>0REG243</td>\n      <td>6.0</td>\n      <td>7.0</td>\n      <td>13.0</td>\n      <td>Broca</td>\n    </tr>\n    <tr>\n      <th>2</th>\n      <td>1AGT138</td>\n      <td>6.0</td>\n      <td>7.0</td>\n      <td>13.0</td>\n      <td>Broca</td>\n    </tr>\n    <tr>\n      <th>5</th>\n      <td>3LDI060</td>\n      <td>6.0</td>\n      <td>7.0</td>\n      <td>13.0</td>\n      <td>Broca</td>\n    </tr>\n    <tr>\n      <th>6</th>\n      <td>3LST145</td>\n      <td>6.0</td>\n      <td>7.0</td>\n      <td>13.0</td>\n      <td>Broca</td>\n    </tr>\n    <tr>\n      <th>7</th>\n      <td>4ANT042</td>\n      <td>6.0</td>\n      <td>7.0</td>\n      <td>13.0</td>\n      <td>Broca</td>\n    </tr>\n    <tr>\n      <th>8</th>\n      <td>4DRO233</td>\n      <td>6.0</td>\n      <td>7.0</td>\n      <td>13.0</td>\n      <td>Control</td>\n    </tr>\n    <tr>\n      <th>11</th>\n      <td>5NSA280</td>\n      <td>6.0</td>\n      <td>7.0</td>\n      <td>13.0</td>\n      <td>Control</td>\n    </tr>\n    <tr>\n      <th>12</th>\n      <td>6CSA143</td>\n      <td>6.0</td>\n      <td>7.0</td>\n      <td>13.0</td>\n      <td>Control</td>\n    </tr>\n    <tr>\n      <th>13</th>\n      <td>7BGT235</td>\n      <td>6.0</td>\n      <td>7.0</td>\n      <td>13.0</td>\n      <td>Broca</td>\n    </tr>\n    <tr>\n      <th>14</th>\n      <td>7KSM240</td>\n      <td>6.0</td>\n      <td>7.0</td>\n      <td>13.0</td>\n      <td>Control</td>\n    </tr>\n    <tr>\n      <th>15</th>\n      <td>7RAI228</td>\n      <td>6.0</td>\n      <td>7.0</td>\n      <td>13.0</td>\n      <td>Broca</td>\n    </tr>\n    <tr>\n      <th>16</th>\n      <td>7SOA133</td>\n      <td>5.0</td>\n      <td>7.0</td>\n      <td>12.0</td>\n      <td>Broca</td>\n    </tr>\n    <tr>\n      <th>17</th>\n      <td>7VKT025</td>\n      <td>6.0</td>\n      <td>7.0</td>\n      <td>13.0</td>\n      <td>Control</td>\n    </tr>\n  </tbody>\n</table>\n</div>"
     },
     "metadata": {},
     "output_type": "display_data"
    }
   ],
   "source": [
    "display(df_datatypes)\n",
    "\n",
    "#calculate df_datatypes percentage and add to df_datatypes\n",
    "df_datatypes['Percentage'] = df_datatypes['Total'] / max_datatypes * 100\n",
    "df_variables['Percentage'] = df_variables['Total'] / max_variables * 100\n",
    "df_arithmetic['Percentage'] = df_arithmetic['Total'] / max_arithmetic * 100\n",
    "df_print['Percentage'] = df_print['Total'] / max_print * 100\n",
    "df_logical['Percentage'] = df_logical['Total'] / max_logical * 100\n",
    "df_conditional['Percentage'] = df_conditional['Total'] / max_conditional * 100\n",
    "df_loops['Percentage'] = df_loops['Total'] / max_loops * 100"
   ],
   "metadata": {
    "collapsed": false,
    "pycharm": {
     "name": "#%%\n"
    }
   }
  },
  {
   "cell_type": "code",
   "execution_count": 224,
   "outputs": [],
   "source": [
    "#add new column for original df with name of category\n",
    "df_datatypes = df_datatypes[['Percentage', 'Group']]\n",
    "df_datatypes['Category'] = 'Datatypes'\n",
    "\n",
    "df_variables = df_variables[['Percentage', 'Group']]\n",
    "df_variables['Category'] = 'Variables'\n",
    "\n",
    "df_arithmetic = df_arithmetic[['Percentage', 'Group']]\n",
    "df_arithmetic['Category'] = 'Arithmetic'\n",
    "\n",
    "df_print = df_print[['Percentage', 'Group']]\n",
    "df_print['Category'] = 'Print'\n",
    "\n",
    "df_logical = df_logical[['Percentage', 'Group']]\n",
    "df_logical['Category'] = 'Logical'\n",
    "\n",
    "df_conditional = df_conditional[['Percentage', 'Group']]\n",
    "df_conditional['Category'] = 'Conditional'\n",
    "\n",
    "df_loops = df_loops[['Percentage', 'Group']]\n",
    "df_loops['Category'] = 'Loops'"
   ],
   "metadata": {
    "collapsed": false,
    "pycharm": {
     "name": "#%%\n"
    }
   }
  },
  {
   "cell_type": "code",
   "execution_count": 225,
   "outputs": [
    {
     "name": "stderr",
     "output_type": "stream",
     "text": [
      "C:\\Users\\gorgo\\AppData\\Local\\Temp/ipykernel_16444/4264550574.py:2: FutureWarning: The frame.append method is deprecated and will be removed from pandas in a future version. Use pandas.concat instead.\n",
      "  df = df_datatypes.append(df_variables)\n"
     ]
    }
   ],
   "source": [
    "#append df_datypes and df_variables and df_arithmetic and df_print and df_logical and df_conditional and df_loops but only Total, Group and Category\n",
    "df = df_datatypes.append(df_variables)"
   ],
   "metadata": {
    "collapsed": false,
    "pycharm": {
     "name": "#%%\n"
    }
   }
  },
  {
   "cell_type": "code",
   "execution_count": 226,
   "outputs": [
    {
     "name": "stderr",
     "output_type": "stream",
     "text": [
      "C:\\Users\\gorgo\\AppData\\Local\\Temp/ipykernel_16444/1067861581.py:1: FutureWarning: The frame.append method is deprecated and will be removed from pandas in a future version. Use pandas.concat instead.\n",
      "  df_total = df_datatypes[['Percentage', 'Group', 'Category']].append(df_variables[['Percentage', 'Group', 'Category']]).append(df_arithmetic[['Percentage', 'Group', 'Category']]).append(df_print[['Percentage', 'Group', 'Category']]).append(df_logical[['Percentage', 'Group', 'Category']]).append(df_conditional[['Percentage', 'Group', 'Category']]).append(df_loops[['Percentage', 'Group', 'Category']])\n",
      "C:\\Users\\gorgo\\AppData\\Local\\Temp/ipykernel_16444/1067861581.py:1: FutureWarning: The frame.append method is deprecated and will be removed from pandas in a future version. Use pandas.concat instead.\n",
      "  df_total = df_datatypes[['Percentage', 'Group', 'Category']].append(df_variables[['Percentage', 'Group', 'Category']]).append(df_arithmetic[['Percentage', 'Group', 'Category']]).append(df_print[['Percentage', 'Group', 'Category']]).append(df_logical[['Percentage', 'Group', 'Category']]).append(df_conditional[['Percentage', 'Group', 'Category']]).append(df_loops[['Percentage', 'Group', 'Category']])\n",
      "C:\\Users\\gorgo\\AppData\\Local\\Temp/ipykernel_16444/1067861581.py:1: FutureWarning: The frame.append method is deprecated and will be removed from pandas in a future version. Use pandas.concat instead.\n",
      "  df_total = df_datatypes[['Percentage', 'Group', 'Category']].append(df_variables[['Percentage', 'Group', 'Category']]).append(df_arithmetic[['Percentage', 'Group', 'Category']]).append(df_print[['Percentage', 'Group', 'Category']]).append(df_logical[['Percentage', 'Group', 'Category']]).append(df_conditional[['Percentage', 'Group', 'Category']]).append(df_loops[['Percentage', 'Group', 'Category']])\n",
      "C:\\Users\\gorgo\\AppData\\Local\\Temp/ipykernel_16444/1067861581.py:1: FutureWarning: The frame.append method is deprecated and will be removed from pandas in a future version. Use pandas.concat instead.\n",
      "  df_total = df_datatypes[['Percentage', 'Group', 'Category']].append(df_variables[['Percentage', 'Group', 'Category']]).append(df_arithmetic[['Percentage', 'Group', 'Category']]).append(df_print[['Percentage', 'Group', 'Category']]).append(df_logical[['Percentage', 'Group', 'Category']]).append(df_conditional[['Percentage', 'Group', 'Category']]).append(df_loops[['Percentage', 'Group', 'Category']])\n",
      "C:\\Users\\gorgo\\AppData\\Local\\Temp/ipykernel_16444/1067861581.py:1: FutureWarning: The frame.append method is deprecated and will be removed from pandas in a future version. Use pandas.concat instead.\n",
      "  df_total = df_datatypes[['Percentage', 'Group', 'Category']].append(df_variables[['Percentage', 'Group', 'Category']]).append(df_arithmetic[['Percentage', 'Group', 'Category']]).append(df_print[['Percentage', 'Group', 'Category']]).append(df_logical[['Percentage', 'Group', 'Category']]).append(df_conditional[['Percentage', 'Group', 'Category']]).append(df_loops[['Percentage', 'Group', 'Category']])\n",
      "C:\\Users\\gorgo\\AppData\\Local\\Temp/ipykernel_16444/1067861581.py:1: FutureWarning: The frame.append method is deprecated and will be removed from pandas in a future version. Use pandas.concat instead.\n",
      "  df_total = df_datatypes[['Percentage', 'Group', 'Category']].append(df_variables[['Percentage', 'Group', 'Category']]).append(df_arithmetic[['Percentage', 'Group', 'Category']]).append(df_print[['Percentage', 'Group', 'Category']]).append(df_logical[['Percentage', 'Group', 'Category']]).append(df_conditional[['Percentage', 'Group', 'Category']]).append(df_loops[['Percentage', 'Group', 'Category']])\n"
     ]
    }
   ],
   "source": [
    "df_total = df_datatypes[['Percentage', 'Group', 'Category']].append(df_variables[['Percentage', 'Group', 'Category']]).append(df_arithmetic[['Percentage', 'Group', 'Category']]).append(df_print[['Percentage', 'Group', 'Category']]).append(df_logical[['Percentage', 'Group', 'Category']]).append(df_conditional[['Percentage', 'Group', 'Category']]).append(df_loops[['Percentage', 'Group', 'Category']])\n",
    "\n",
    "#rename broca and control in yes and no for group\n",
    "df_total['Group'] = df_total['Group'].replace(['Broca', 'Control'], ['broca', 'control'])"
   ],
   "metadata": {
    "collapsed": false,
    "pycharm": {
     "name": "#%%\n"
    }
   }
  },
  {
   "cell_type": "code",
   "execution_count": 226,
   "outputs": [],
   "source": [],
   "metadata": {
    "collapsed": false,
    "pycharm": {
     "name": "#%%\n"
    }
   }
  },
  {
   "cell_type": "code",
   "execution_count": 227,
   "outputs": [
    {
     "name": "stdout",
     "output_type": "stream",
     "text": [
      "98.22222222222223\n",
      "2.1081851067789197\n",
      "86.66666666666667\n",
      "18.007405883876405\n"
     ]
    },
    {
     "data": {
      "text/plain": "<Figure size 360x216 with 1 Axes>",
      "image/png": "[encoded data removed]"
     },
     "metadata": {},
     "output_type": "display_data"
    }
   ],
   "source": [
    "\n",
    "import seaborn as sns\n",
    "\n",
    "#show 100 rows in display\n",
    "pd.set_option('display.max_rows', 100)\n",
    "\n",
    "#dftotal rename Broca and Control to test and control\n",
    "#dftotal rename Broca and Control to Brocanto and Git\n",
    "#dftotal rename Broca and Control to Broca and Control\n",
    "#dftotal rename Broca and Control to Broca and Control\n",
    "#display(df_total)\n",
    "\n",
    "df_total['Group'] = df_total['Group'].replace(['broca', 'control'], ['Brocanto', 'Git'])\n",
    "\n",
    "#display(df_total)\n",
    "\n",
    "\n",
    "#show mean of df_total Group Brocanto and category conditional\n",
    "#create a list with values in group brocant and category conditional and show mean and standard deviation\n",
    "print(df_total.loc[(df_total['Group'] == 'Brocanto') & (df_total['Category'] == 'Conditional'), 'Percentage'].mean())\n",
    "print(df_total.loc[(df_total['Group'] == 'Brocanto') & (df_total['Category'] == 'Conditional'), 'Percentage'].std())\n",
    "print(df_total.loc[(df_total['Group'] == 'Git') & (df_total['Category'] == 'Conditional'), 'Percentage'].mean())\n",
    "print(df_total.loc[(df_total['Group'] == 'Git') & (df_total['Category'] == 'Conditional'), 'Percentage'].std())\n",
    "\n",
    "\n",
    "\n",
    "sns.set_theme(style=\"whitegrid\")\n",
    "\n",
    "violin = sns.violinplot(data=df_total, x=\"Category\", y=\"Percentage\", hue=\"Group\",\n",
    "               split=True, inner=\"quart\", linewidth=1, spanmode=\"hard\")\n",
    "\n",
    "violin.set(xlabel='Programming construct', ylabel='Percentage of correct answers')\n",
    "#violin.set(ylim=(0, 100))\n",
    "violin.set_title('Programming exercises per construct')\n",
    "\n",
    "violin.legend(title='Group', loc='center left', bbox_to_anchor=(1, 0.8))\n",
    "\n",
    "#rotate xticks\n",
    "violin.set_xticklabels(violin.get_xticklabels(), rotation=45)\n",
    "\n",
    "\n",
    "\n",
    "\n",
    "plt.savefig('plots/violinplot_exercises.pdf', bbox_inches='tight')"
   ],
   "metadata": {
    "collapsed": false,
    "pycharm": {
     "name": "#%%\n"
    }
   }
  },
  {
   "cell_type": "code",
   "execution_count": 228,
   "outputs": [
    {
     "name": "stdout",
     "output_type": "stream",
     "text": [
      "86.58536585365854\n"
     ]
    }
   ],
   "source": [
    "#show mean of df_total Group Brocanto and category conditional\n",
    "#create a list with values in group brocant and category conditional and show mean and standard deviation\n",
    "print(df_total.loc[(df_total['Group'] == 'Brocanto') & (df_total['Category'] == 'Loops'), 'Percentage'].mean())\n",
    "\n",
    "\n"
   ],
   "metadata": {
    "collapsed": false,
    "pycharm": {
     "name": "#%%\n"
    }
   }
  },
  {
   "cell_type": "code",
   "execution_count": 229,
   "outputs": [
    {
     "data": {
      "text/plain": "        UID  Insgesamt  Posttest     Group      Test  Points\n0   0LZR203        2.5       NaN  Brocanto   Pretest     2.5\n1   0REG243        5.0       NaN  Brocanto   Pretest     5.0\n2   1AGT138        3.0       NaN  Brocanto   Pretest     3.0\n3   1HJA213        6.0       NaN  Brocanto   Pretest     6.0\n4   1RBR047        8.0       NaN       Git   Pretest     8.0\n5   3LDI060        0.0       NaN  Brocanto   Pretest     0.0\n6   3LST145        6.0       NaN  Brocanto   Pretest     6.0\n7   4ANT042        7.5       NaN  Brocanto   Pretest     7.5\n8   4DRO233        7.0       NaN       Git   Pretest     7.0\n9   4MNT105        0.0       NaN       Git   Pretest     0.0\n10  5JS4143        8.0       NaN       Git   Pretest     8.0\n11  5NSA280        5.0       NaN       Git   Pretest     5.0\n12  6CSA143        0.0       NaN       Git   Pretest     0.0\n13  7BGT235        7.5       NaN  Brocanto   Pretest     7.5\n14  7KSM240        5.0       NaN       Git   Pretest     5.0\n15  7RAI228        2.0       NaN  Brocanto   Pretest     2.0\n16  7SOA133        8.0       NaN  Brocanto   Pretest     8.0\n17  7VKT025        8.0       NaN       Git   Pretest     8.0\n18  8AB4138        6.0       NaN       Git   Pretest     6.0\n19  8CHT208        5.5       NaN  Brocanto   Pretest     5.5\n20  0LZR203        NaN       8.0  Brocanto  Posttest     8.0\n22  1AGT138        NaN       7.0  Brocanto  Posttest     7.0\n25  3LDI060        NaN       8.0  Brocanto  Posttest     8.0\n26  3LST145        NaN       6.0  Brocanto  Posttest     6.0\n27  4ANT042        NaN       6.5  Brocanto  Posttest     6.5\n28  4DRO233        NaN       8.0       Git  Posttest     8.0\n31  5NSA280        NaN       8.0       Git  Posttest     8.0\n32  6CSA143        NaN       5.5       Git  Posttest     5.5\n33  7BGT235        NaN       8.0  Brocanto  Posttest     8.0\n34  7KSM240        NaN       7.0       Git  Posttest     7.0\n35  7RAI228        NaN       6.0  Brocanto  Posttest     6.0\n36  7SOA133        NaN       8.0  Brocanto  Posttest     8.0\n37  7VKT025        NaN       8.0       Git  Posttest     8.0",
      "text/html": "<div>\n<style scoped>\n    .dataframe tbody tr th:only-of-type {\n        vertical-align: middle;\n    }\n\n    .dataframe tbody tr th {\n        vertical-align: top;\n    }\n\n    .dataframe thead th {\n        text-align: right;\n    }\n</style>\n<table border=\"1\" class=\"dataframe\">\n  <thead>\n    <tr style=\"text-align: right;\">\n      <th></th>\n      <th>UID</th>\n      <th>Insgesamt</th>\n      <th>Posttest</th>\n      <th>Group</th>\n      <th>Test</th>\n      <th>Points</th>\n    </tr>\n  </thead>\n  <tbody>\n    <tr>\n      <th>0</th>\n      <td>0LZR203</td>\n      <td>2.5</td>\n      <td>NaN</td>\n      <td>Brocanto</td>\n      <td>Pretest</td>\n      <td>2.5</td>\n    </tr>\n    <tr>\n      <th>1</th>\n      <td>0REG243</td>\n      <td>5.0</td>\n      <td>NaN</td>\n      <td>Brocanto</td>\n      <td>Pretest</td>\n      <td>5.0</td>\n    </tr>\n    <tr>\n      <th>2</th>\n      <td>1AGT138</td>\n      <td>3.0</td>\n      <td>NaN</td>\n      <td>Brocanto</td>\n      <td>Pretest</td>\n      <td>3.0</td>\n    </tr>\n    <tr>\n      <th>3</th>\n      <td>1HJA213</td>\n      <td>6.0</td>\n      <td>NaN</td>\n      <td>Brocanto</td>\n      <td>Pretest</td>\n      <td>6.0</td>\n    </tr>\n    <tr>\n      <th>4</th>\n      <td>1RBR047</td>\n      <td>8.0</td>\n      <td>NaN</td>\n      <td>Git</td>\n      <td>Pretest</td>\n      <td>8.0</td>\n    </tr>\n    <tr>\n      <th>5</th>\n      <td>3LDI060</td>\n      <td>0.0</td>\n      <td>NaN</td>\n      <td>Brocanto</td>\n      <td>Pretest</td>\n      <td>0.0</td>\n    </tr>\n    <tr>\n      <th>6</th>\n      <td>3LST145</td>\n      <td>6.0</td>\n      <td>NaN</td>\n      <td>Brocanto</td>\n      <td>Pretest</td>\n      <td>6.0</td>\n    </tr>\n    <tr>\n      <th>7</th>\n      <td>4ANT042</td>\n      <td>7.5</td>\n      <td>NaN</td>\n      <td>Brocanto</td>\n      <td>Pretest</td>\n      <td>7.5</td>\n    </tr>\n    <tr>\n      <th>8</th>\n      <td>4DRO233</td>\n      <td>7.0</td>\n      <td>NaN</td>\n      <td>Git</td>\n      <td>Pretest</td>\n      <td>7.0</td>\n    </tr>\n    <tr>\n      <th>9</th>\n      <td>4MNT105</td>\n      <td>0.0</td>\n      <td>NaN</td>\n      <td>Git</td>\n      <td>Pretest</td>\n      <td>0.0</td>\n    </tr>\n    <tr>\n      <th>10</th>\n      <td>5JS4143</td>\n      <td>8.0</td>\n      <td>NaN</td>\n      <td>Git</td>\n      <td>Pretest</td>\n      <td>8.0</td>\n    </tr>\n    <tr>\n      <th>11</th>\n      <td>5NSA280</td>\n      <td>5.0</td>\n      <td>NaN</td>\n      <td>Git</td>\n      <td>Pretest</td>\n      <td>5.0</td>\n    </tr>\n    <tr>\n      <th>12</th>\n      <td>6CSA143</td>\n      <td>0.0</td>\n      <td>NaN</td>\n      <td>Git</td>\n      <td>Pretest</td>\n      <td>0.0</td>\n    </tr>\n    <tr>\n      <th>13</th>\n      <td>7BGT235</td>\n      <td>7.5</td>\n      <td>NaN</td>\n      <td>Brocanto</td>\n      <td>Pretest</td>\n      <td>7.5</td>\n    </tr>\n    <tr>\n      <th>14</th>\n      <td>7KSM240</td>\n      <td>5.0</td>\n      <td>NaN</td>\n      <td>Git</td>\n      <td>Pretest</td>\n      <td>5.0</td>\n    </tr>\n    <tr>\n      <th>15</th>\n      <td>7RAI228</td>\n      <td>2.0</td>\n      <td>NaN</td>\n      <td>Brocanto</td>\n      <td>Pretest</td>\n      <td>2.0</td>\n    </tr>\n    <tr>\n      <th>16</th>\n      <td>7SOA133</td>\n      <td>8.0</td>\n      <td>NaN</td>\n      <td>Brocanto</td>\n      <td>Pretest</td>\n      <td>8.0</td>\n    </tr>\n    <tr>\n      <th>17</th>\n      <td>7VKT025</td>\n      <td>8.0</td>\n      <td>NaN</td>\n      <td>Git</td>\n      <td>Pretest</td>\n      <td>8.0</td>\n    </tr>\n    <tr>\n      <th>18</th>\n      <td>8AB4138</td>\n      <td>6.0</td>\n      <td>NaN</td>\n      <td>Git</td>\n      <td>Pretest</td>\n      <td>6.0</td>\n    </tr>\n    <tr>\n      <th>19</th>\n      <td>8CHT208</td>\n      <td>5.5</td>\n      <td>NaN</td>\n      <td>Brocanto</td>\n      <td>Pretest</td>\n      <td>5.5</td>\n    </tr>\n    <tr>\n      <th>20</th>\n      <td>0LZR203</td>\n      <td>NaN</td>\n      <td>8.0</td>\n      <td>Brocanto</td>\n      <td>Posttest</td>\n      <td>8.0</td>\n    </tr>\n    <tr>\n      <th>22</th>\n      <td>1AGT138</td>\n      <td>NaN</td>\n      <td>7.0</td>\n      <td>Brocanto</td>\n      <td>Posttest</td>\n      <td>7.0</td>\n    </tr>\n    <tr>\n      <th>25</th>\n      <td>3LDI060</td>\n      <td>NaN</td>\n      <td>8.0</td>\n      <td>Brocanto</td>\n      <td>Posttest</td>\n      <td>8.0</td>\n    </tr>\n    <tr>\n      <th>26</th>\n      <td>3LST145</td>\n      <td>NaN</td>\n      <td>6.0</td>\n      <td>Brocanto</td>\n      <td>Posttest</td>\n      <td>6.0</td>\n    </tr>\n    <tr>\n      <th>27</th>\n      <td>4ANT042</td>\n      <td>NaN</td>\n      <td>6.5</td>\n      <td>Brocanto</td>\n      <td>Posttest</td>\n      <td>6.5</td>\n    </tr>\n    <tr>\n      <th>28</th>\n      <td>4DRO233</td>\n      <td>NaN</td>\n      <td>8.0</td>\n      <td>Git</td>\n      <td>Posttest</td>\n      <td>8.0</td>\n    </tr>\n    <tr>\n      <th>31</th>\n      <td>5NSA280</td>\n      <td>NaN</td>\n      <td>8.0</td>\n      <td>Git</td>\n      <td>Posttest</td>\n      <td>8.0</td>\n    </tr>\n    <tr>\n      <th>32</th>\n      <td>6CSA143</td>\n      <td>NaN</td>\n      <td>5.5</td>\n      <td>Git</td>\n      <td>Posttest</td>\n      <td>5.5</td>\n    </tr>\n    <tr>\n      <th>33</th>\n      <td>7BGT235</td>\n      <td>NaN</td>\n      <td>8.0</td>\n      <td>Brocanto</td>\n      <td>Posttest</td>\n      <td>8.0</td>\n    </tr>\n    <tr>\n      <th>34</th>\n      <td>7KSM240</td>\n      <td>NaN</td>\n      <td>7.0</td>\n      <td>Git</td>\n      <td>Posttest</td>\n      <td>7.0</td>\n    </tr>\n    <tr>\n      <th>35</th>\n      <td>7RAI228</td>\n      <td>NaN</td>\n      <td>6.0</td>\n      <td>Brocanto</td>\n      <td>Posttest</td>\n      <td>6.0</td>\n    </tr>\n    <tr>\n      <th>36</th>\n      <td>7SOA133</td>\n      <td>NaN</td>\n      <td>8.0</td>\n      <td>Brocanto</td>\n      <td>Posttest</td>\n      <td>8.0</td>\n    </tr>\n    <tr>\n      <th>37</th>\n      <td>7VKT025</td>\n      <td>NaN</td>\n      <td>8.0</td>\n      <td>Git</td>\n      <td>Posttest</td>\n      <td>8.0</td>\n    </tr>\n  </tbody>\n</table>\n</div>"
     },
     "metadata": {},
     "output_type": "display_data"
    }
   ],
   "source": [
    "#rename column Group with value test to broca\n",
    "df_merged = df_merged.replace({'Group': {'test': 'broca'}})\n",
    "\n",
    "df_merged = df_merged.rename(columns={\"test\": \"broca\"})\n",
    "\n",
    "\n",
    "df_merged['Group'] = df_merged['Group'].replace(['broca', 'control'], ['Brocanto', 'Git'])\n",
    "\n",
    "display(df_merged)\n"
   ],
   "metadata": {
    "collapsed": false,
    "pycharm": {
     "name": "#%%\n"
    }
   }
  },
  {
   "cell_type": "code",
   "execution_count": 230,
   "outputs": [
    {
     "data": {
      "text/plain": "<Figure size 360x216 with 1 Axes>",
      "image/png": "[encoded data removed]"
     },
     "metadata": {},
     "output_type": "display_data"
    }
   ],
   "source": [
    "violin1 = sns.violinplot(data=df_merged, x=\"Test\", y=\"Points\", hue=\"Group\",\n",
    "                         split=True, inner=\"quart\", linewidth=1)\n",
    "violin1.legend(title='Group', loc='center left', bbox_to_anchor=(1, 0.8))\n",
    "\n",
    "#violin y-axis limit\n",
    "violin1.set(ylim=(0, 8))\n",
    "\n",
    "plt.savefig('plots/violinplot_pretest_posttest.pdf', bbox_inches='tight')"
   ],
   "metadata": {
    "collapsed": false,
    "pycharm": {
     "name": "#%%\n"
    }
   }
  },
  {
   "cell_type": "code",
   "execution_count": 231,
   "outputs": [],
   "source": [
    "#calculate percentage in df_merged points\n",
    "df_merged['Percentage of correct answers'] = df_merged['Points'] / 8 * 100\n"
   ],
   "metadata": {
    "collapsed": false,
    "pycharm": {
     "name": "#%%\n"
    }
   }
  },
  {
   "cell_type": "code",
   "execution_count": 232,
   "outputs": [],
   "source": [
    "#df_total rename broca and control to Brocanto and Git\n",
    "df_total['Group'] = df_total['Group'].replace(['broca', 'control'], ['Brocanto', 'Git'])"
   ],
   "metadata": {
    "collapsed": false,
    "pycharm": {
     "name": "#%%\n"
    }
   }
  },
  {
   "cell_type": "code",
   "execution_count": 233,
   "outputs": [
    {
     "data": {
      "text/plain": "<Figure size 720x144 with 2 Axes>",
      "image/png": "[encoded data removed]"
     },
     "metadata": {},
     "output_type": "display_data"
    }
   ],
   "source": [
    "#use subplots for two violinplots\n",
    "fig, (ax1, ax2) = plt.subplots(1, 2, figsize=(10, 2))\n",
    "\n",
    "#subplots adjust space between plots\n",
    "fig.subplots_adjust(wspace=0.5)\n",
    "\n",
    "#adjust width of first subplot\n",
    "ax1.set_position([0.1, 0.1, 0.4, 0.8])\n",
    "\n",
    "#adjust width of second subplot\n",
    "ax2.set_position([0.6, 0.1, 0.5, 0.8])\n",
    "\n",
    "\n",
    "\n",
    "violin1 = sns.violinplot(data=df_merged, x=\"Test\", y=\"Percentage of correct answers\", hue=\"Group\",\n",
    "                         split=True, inner=\"quart\", linewidth=1, ax=ax1)\n",
    "#violin1.legend(title='Group', loc='center left', bbox_to_anchor=(1, 0.8))\n",
    "#remove legend from violin1\n",
    "violin1.legend_.remove()\n",
    "\n",
    "#violin y-axis limit\n",
    "violin1.set(ylim=(0, 100))\n",
    "\n",
    "violin2 = sns.violinplot(data=df_total, x=\"Category\", y=\"Percentage\", hue=\"Group\",\n",
    "                         split=True, inner=\"quart\", linewidth=1, spanmode=\"hard\", ax=ax2)\n",
    "\n",
    "violin2.set(xlabel='Programming construct', ylabel='Percentage of correct answers')\n",
    "violin2.set(ylim=(0, 100))\n",
    "violin2.set_title('Programming exercises per construct')\n",
    "\n",
    "#rename legend broca and control to Brocanto and Git\n",
    "violin2.legend(title='group', loc='center left', bbox_to_anchor=(1, 0.8))\n",
    "\n",
    "#rotate xticks\n",
    "#remove violin 2 title\n",
    "violin2.set_title('')\n",
    "#remove violin2 x axis label\n",
    "violin2.set_xlabel('')\n",
    "#remove violin1 x axis label\n",
    "violin1.set_xlabel('')\n",
    "\n",
    "plt.savefig('violinplot_pretest_posttest_exercises.pdf', bbox_inches='tight', pad_inches=0)"
   ],
   "metadata": {
    "collapsed": false,
    "pycharm": {
     "name": "#%%\n"
    }
   }
  },
  {
   "cell_type": "markdown",
   "source": [
    "Statistical tests"
   ],
   "metadata": {
    "collapsed": false,
    "pycharm": {
     "name": "#%% md\n"
    }
   }
  },
  {
   "cell_type": "code",
   "execution_count": 234,
   "outputs": [
    {
     "data": {
      "text/plain": "     Source        SS  DF         F     p-unc       np2\n0     Group  0.011774   1  0.012531  0.913083  0.001252\n1   Pretest  1.373382   1  1.461765  0.254459  0.127534\n2  Residual  9.395368  10       NaN       NaN       NaN",
      "text/html": "<div>\n<style scoped>\n    .dataframe tbody tr th:only-of-type {\n        vertical-align: middle;\n    }\n\n    .dataframe tbody tr th {\n        vertical-align: top;\n    }\n\n    .dataframe thead th {\n        text-align: right;\n    }\n</style>\n<table border=\"1\" class=\"dataframe\">\n  <thead>\n    <tr style=\"text-align: right;\">\n      <th></th>\n      <th>Source</th>\n      <th>SS</th>\n      <th>DF</th>\n      <th>F</th>\n      <th>p-unc</th>\n      <th>np2</th>\n    </tr>\n  </thead>\n  <tbody>\n    <tr>\n      <th>0</th>\n      <td>Group</td>\n      <td>0.011774</td>\n      <td>1</td>\n      <td>0.012531</td>\n      <td>0.913083</td>\n      <td>0.001252</td>\n    </tr>\n    <tr>\n      <th>1</th>\n      <td>Pretest</td>\n      <td>1.373382</td>\n      <td>1</td>\n      <td>1.461765</td>\n      <td>0.254459</td>\n      <td>0.127534</td>\n    </tr>\n    <tr>\n      <th>2</th>\n      <td>Residual</td>\n      <td>9.395368</td>\n      <td>10</td>\n      <td>NaN</td>\n      <td>NaN</td>\n      <td>NaN</td>\n    </tr>\n  </tbody>\n</table>\n</div>"
     },
     "execution_count": 234,
     "metadata": {},
     "output_type": "execute_result"
    }
   ],
   "source": [
    "from pingouin import ancova\n",
    "ancova(data=df_merge, dv='Posttest', covar='Pretest', between='Group')"
   ],
   "metadata": {
    "collapsed": false,
    "pycharm": {
     "name": "#%%\n"
    }
   }
  },
  {
   "cell_type": "code",
   "execution_count": 235,
   "outputs": [
    {
     "ename": "ValueError",
     "evalue": "Unequal N in friedmanchisquare.  Aborting.",
     "output_type": "error",
     "traceback": [
      "\u001B[1;31m---------------------------------------------------------------------------\u001B[0m",
      "\u001B[1;31mValueError\u001B[0m                                Traceback (most recent call last)",
      "\u001B[1;32m~\\AppData\\Local\\Temp/ipykernel_16444/2256893105.py\u001B[0m in \u001B[0;36m<module>\u001B[1;34m\u001B[0m\n\u001B[0;32m      1\u001B[0m \u001B[1;32mfrom\u001B[0m \u001B[0mscipy\u001B[0m \u001B[1;32mimport\u001B[0m \u001B[0mstats\u001B[0m\u001B[1;33m\u001B[0m\u001B[1;33m\u001B[0m\u001B[0m\n\u001B[0;32m      2\u001B[0m \u001B[1;31m#performan friedman test\u001B[0m\u001B[1;33m\u001B[0m\u001B[1;33m\u001B[0m\u001B[0m\n\u001B[1;32m----> 3\u001B[1;33m \u001B[0mstats\u001B[0m\u001B[1;33m.\u001B[0m\u001B[0mfriedmanchisquare\u001B[0m\u001B[1;33m(\u001B[0m\u001B[0mbroca_pretest\u001B[0m\u001B[1;33m,\u001B[0m \u001B[0mcontrol_pretest\u001B[0m\u001B[1;33m,\u001B[0m \u001B[0mbroca_posttest\u001B[0m\u001B[1;33m,\u001B[0m \u001B[0mcontrol_posttest\u001B[0m\u001B[1;33m)\u001B[0m\u001B[1;33m\u001B[0m\u001B[1;33m\u001B[0m\u001B[0m\n\u001B[0m\u001B[0;32m      4\u001B[0m \u001B[1;33m\u001B[0m\u001B[0m\n\u001B[0;32m      5\u001B[0m \u001B[0mstats\u001B[0m\u001B[1;33m.\u001B[0m\u001B[0mkruskal\u001B[0m\u001B[1;33m(\u001B[0m\u001B[0mbroca_pretest\u001B[0m\u001B[1;33m,\u001B[0m \u001B[0mcontrol_pretest\u001B[0m\u001B[1;33m,\u001B[0m \u001B[0mbroca_posttest\u001B[0m\u001B[1;33m,\u001B[0m \u001B[0mcontrol_posttest\u001B[0m\u001B[1;33m)\u001B[0m\u001B[1;33m\u001B[0m\u001B[1;33m\u001B[0m\u001B[0m\n",
      "\u001B[1;32m~\\anaconda3\\lib\\site-packages\\scipy\\stats\\stats.py\u001B[0m in \u001B[0;36mfriedmanchisquare\u001B[1;34m(*args)\u001B[0m\n\u001B[0;32m   7956\u001B[0m     \u001B[1;32mfor\u001B[0m \u001B[0mi\u001B[0m \u001B[1;32min\u001B[0m \u001B[0mrange\u001B[0m\u001B[1;33m(\u001B[0m\u001B[1;36m1\u001B[0m\u001B[1;33m,\u001B[0m \u001B[0mk\u001B[0m\u001B[1;33m)\u001B[0m\u001B[1;33m:\u001B[0m\u001B[1;33m\u001B[0m\u001B[1;33m\u001B[0m\u001B[0m\n\u001B[0;32m   7957\u001B[0m         \u001B[1;32mif\u001B[0m \u001B[0mlen\u001B[0m\u001B[1;33m(\u001B[0m\u001B[0margs\u001B[0m\u001B[1;33m[\u001B[0m\u001B[0mi\u001B[0m\u001B[1;33m]\u001B[0m\u001B[1;33m)\u001B[0m \u001B[1;33m!=\u001B[0m \u001B[0mn\u001B[0m\u001B[1;33m:\u001B[0m\u001B[1;33m\u001B[0m\u001B[1;33m\u001B[0m\u001B[0m\n\u001B[1;32m-> 7958\u001B[1;33m             \u001B[1;32mraise\u001B[0m \u001B[0mValueError\u001B[0m\u001B[1;33m(\u001B[0m\u001B[1;34m'Unequal N in friedmanchisquare.  Aborting.'\u001B[0m\u001B[1;33m)\u001B[0m\u001B[1;33m\u001B[0m\u001B[1;33m\u001B[0m\u001B[0m\n\u001B[0m\u001B[0;32m   7959\u001B[0m \u001B[1;33m\u001B[0m\u001B[0m\n\u001B[0;32m   7960\u001B[0m     \u001B[1;31m# Rank data\u001B[0m\u001B[1;33m\u001B[0m\u001B[1;33m\u001B[0m\u001B[0m\n",
      "\u001B[1;31mValueError\u001B[0m: Unequal N in friedmanchisquare.  Aborting."
     ]
    }
   ],
   "source": [
    "from scipy import stats\n",
    "#performan friedman test\n",
    "stats.friedmanchisquare(broca_pretest, control_pretest, broca_posttest, control_posttest)\n",
    "\n",
    "stats.kruskal(broca_pretest, control_pretest, broca_posttest, control_posttest)"
   ],
   "metadata": {
    "collapsed": false,
    "pycharm": {
     "name": "#%%\n"
    }
   }
  },
  {
   "cell_type": "code",
   "execution_count": null,
   "outputs": [],
   "source": [
    "df_tasks = pd.read_excel(xls, \"Übungsaufgaben\")\n",
    "\n",
    "#delete rows in df_tasks where more than 10 times are nan\n",
    "df_tasks = df_tasks.dropna(thresh=10)\n",
    "\n",
    "#df_tasks drop last two rows\n",
    "df_tasks = df_tasks.drop(df_tasks.index[[-2]])\n",
    "\n",
    "#df tasks drop last column\n",
    "df_tasks = df_tasks.drop(df_tasks.columns[-1], axis=1)\n",
    "\n",
    "\n",
    "#df task remove column '3.3'\n",
    "df_tasks = df_tasks.drop(['3.3', '6.3', '7.2'], axis= 1)\n",
    "\n",
    "#calculate total points per row and add to df_tasks starting from 2nd column\n",
    "#calculate total points per row and add to df_tasks\n",
    "df_tasks['Total'] = df_tasks.iloc[:, 1:].sum(axis=1)\n",
    "\n",
    "\n",
    "tasks = df_tasks.iloc[-1]\n",
    "\n",
    "#change column 1.1 to floats\n",
    "df_tasks['1.1'] = df_tasks['1.1'].astype(float)\n",
    "\n",
    "#add empty column Percentage at end\n",
    "df_tasks[\"Percentage\"] = \"\"\n",
    "\n",
    "max_points = []\n",
    "for index, row in df_tasks.iterrows():\n",
    "    nan_list = row[row.isnull()].index.tolist()\n",
    "\n",
    "    if nan_list:\n",
    "        total = 0\n",
    "        for element in nan_list:\n",
    "\n",
    "            if element in tasks.index:\n",
    "                #if element is in tasks.index, get the value of the element\n",
    "                #print(tasks[element])\n",
    "                total += tasks[element]\n",
    "\n",
    "        #remove at index in df_tasks from column total the total\n",
    "        max = 155 - total\n",
    "        df_tasks.at[index, 'Percentage'] = df_tasks.at[index, 'Total'] / max * 100\n",
    "    else:\n",
    "        df_tasks.at[index, 'Percentage'] = df_tasks.at[index, 'Total'] / 155 * 100"
   ],
   "metadata": {
    "collapsed": false,
    "pycharm": {
     "name": "#%%\n"
    }
   }
  },
  {
   "cell_type": "code",
   "execution_count": null,
   "outputs": [],
   "source": [
    "#split df_tasks into broca and control\n",
    "df_tasks_broca = df_tasks[df_tasks.UID.isin(broca_uid)]\n",
    "df_tasks_control = df_tasks[df_tasks.UID.isin(control_uid)]\n",
    "\n",
    "df_tasks_control[\"Percentage\"].mean()"
   ],
   "metadata": {
    "collapsed": false,
    "pycharm": {
     "name": "#%%\n"
    }
   }
  },
  {
   "cell_type": "code",
   "execution_count": null,
   "outputs": [],
   "source": [
    "df_tasks_broca[\"Percentage\"].mean()"
   ],
   "metadata": {
    "collapsed": false,
    "pycharm": {
     "name": "#%%\n"
    }
   }
  },
  {
   "cell_type": "code",
   "execution_count": null,
   "outputs": [],
   "source": [
    "#create df_broca_datatypes with only UID and 1.1 and 1.2\n",
    "df_datatypes = df_tasks[['UID', '1.1', '1.2']]\n",
    "\n",
    "df_variables = df_tasks[['UID', '2.1', '2.2', '2.3', '2.4', '2.5', '2.6 (nur Coding)']]\n",
    "\n",
    "df_arithmetic = df_tasks[['UID', '3.1 (Integerdivisionproblem nicht betrachtet)', '3.2.1', '3.2.2', '3.4']]\n",
    "\n",
    "df_print = df_tasks[['UID', '4.1', '4.2']]\n",
    "\n",
    "df_logical = df_tasks[['UID', '5.1', '5.2', '5.3', '5.4']]\n",
    "\n",
    "df_conditional = df_tasks[['UID', '6.1', '6.2', '6.4']]\n",
    "\n",
    "df_loops = df_tasks[['UID', '7.1', '7.3', '7.4', '7.5', '7.6 (Primzahl)', '7.7 (Primzahl)']]\n",
    "\n",
    "\n",
    "#get last row of df_datatypes\n",
    "points_datatypes = df_datatypes.iloc[-1]\n",
    "\n",
    "#get last row of df_variables\n",
    "points_variables = df_variables.iloc[-1]\n",
    "\n",
    "#get last row of df_arithmetic\n",
    "points_arithmetic = df_arithmetic.iloc[-1]\n",
    "\n",
    "#get last row of df_print\n",
    "points_print = df_print.iloc[-1]\n",
    "\n",
    "#get last row of df_logical\n",
    "points_logical = df_logical.iloc[-1]\n",
    "\n",
    "#get last row of df_conditional\n",
    "points_conditional = df_conditional.iloc[-1]\n",
    "\n",
    "#get last row of df_loops\n",
    "points_loops = df_loops.iloc[-1]\n",
    "#get sum of points_datatypes\n",
    "sum_datatypes = points_datatypes.sum()\n",
    "\n",
    "#get sum of points_variables\n",
    "sum_variables = points_variables.sum()\n",
    "\n",
    "#get sum of points_arithmetic\n",
    "sum_arithmetic = points_arithmetic.sum()\n",
    "\n",
    "#get sum of points_print\n",
    "sum_print = points_print.sum()\n",
    "\n",
    "#get sum of points_logical\n",
    "sum_logical = points_logical.sum()\n",
    "\n",
    "#get sum of points_conditional\n",
    "sum_conditional = points_conditional.sum()\n",
    "\n",
    "#get sum of points_loops\n",
    "sum_loops = points_loops.sum()\n",
    "\n",
    "df_datatypes = df_datatypes.dropna()\n",
    "df_variables = df_variables.dropna()\n",
    "df_arithmetic = df_arithmetic.dropna()\n",
    "df_print = df_print.dropna()\n",
    "df_logical = df_logical.dropna()\n",
    "df_conditional = df_conditional.dropna()\n",
    "df_loops = df_loops.dropna()\n",
    "\n",
    "\n",
    "#split df_datatypes in broca and control\n",
    "df_datatypes_broca = df_datatypes[df_datatypes.UID.isin(broca_uid)]\n",
    "df_datatypes_control = df_datatypes[df_datatypes.UID.isin(control_uid)]\n",
    "\n",
    "#split df_variables in broca and control\n",
    "df_variables_broca = df_variables[df_variables.UID.isin(broca_uid)]\n",
    "df_variables_control = df_variables[df_variables.UID.isin(control_uid)]\n",
    "\n",
    "#split df_arithmetic in broca and control\n",
    "df_arithmetic_broca = df_arithmetic[df_arithmetic.UID.isin(broca_uid)]\n",
    "df_arithmetic_control = df_arithmetic[df_arithmetic.UID.isin(control_uid)]\n",
    "\n",
    "#split df_print in broca and control\n",
    "df_print_broca = df_print[df_print.UID.isin(broca_uid)]\n",
    "df_print_control = df_print[df_print.UID.isin(control_uid)]\n",
    "\n",
    "#split df_logical in broca and control\n",
    "df_logical_broca = df_logical[df_logical.UID.isin(broca_uid)]\n",
    "df_logical_control = df_logical[df_logical.UID.isin(control_uid)]\n",
    "\n",
    "#split df_conditional in broca and control\n",
    "df_conditional_broca = df_conditional[df_conditional.UID.isin(broca_uid)]\n",
    "df_conditional_control = df_conditional[df_conditional.UID.isin(control_uid)]\n",
    "\n",
    "#split df_loops in broca and control\n",
    "df_loops_broca = df_loops[df_loops.UID.isin(broca_uid)]\n",
    "df_loops_control = df_loops[df_loops.UID.isin(control_uid)]"
   ],
   "metadata": {
    "collapsed": false,
    "pycharm": {
     "name": "#%%\n"
    }
   }
  },
  {
   "cell_type": "code",
   "execution_count": null,
   "outputs": [],
   "source": [
    "#add numerical row sum to df_datatypes_broca\n",
    "df_datatypes_broca['Total'] = df_datatypes_broca.sum(numeric_only=True, axis=1)\n",
    "\n",
    "#add numerical row sum to df_datatypes_control\n",
    "df_datatypes_control['Total'] = df_datatypes_control.sum(numeric_only=True, axis=1)\n",
    "\n",
    "\n",
    "#add numerical row sum to df_variables_broca\n",
    "df_variables_broca['Total'] = df_variables_broca.sum(numeric_only=True, axis=1)\n",
    "\n",
    "#add numerical row sum to df_variables_control\n",
    "df_variables_control['Total'] = df_variables_control.sum(numeric_only=True, axis=1)\n",
    "\n",
    "\n",
    "#add numerical row sum to df_arithmetic_broca\n",
    "df_arithmetic_broca['Total'] = df_arithmetic_broca.sum(numeric_only=True, axis=1)\n",
    "\n",
    "#add numerical row sum to df_arithmetic_control\n",
    "df_arithmetic_control['Total'] = df_arithmetic_control.sum(numeric_only=True, axis=1)\n",
    "\n",
    "\n",
    "#add numerical row sum to df_print_broca\n",
    "df_print_broca['Total'] = df_print_broca.sum(numeric_only=True, axis=1)\n",
    "\n",
    "#add numerical row sum to df_print_control\n",
    "df_print_control['Total'] = df_print_control.sum(numeric_only=True, axis=1)\n",
    "\n",
    "\n",
    "#add numerical row sum to df_logical_broca\n",
    "df_logical_broca['Total'] = df_logical_broca.sum(numeric_only=True, axis=1)\n",
    "\n",
    "#add numerical row sum to df_logical_control\n",
    "df_logical_control['Total'] = df_logical_control.sum(numeric_only=True, axis=1)\n",
    "\n",
    "\n",
    "#add numerical row sum to df_conditional_broca\n",
    "df_conditional_broca['Total'] = df_conditional_broca.sum(numeric_only=True, axis=1)\n",
    "\n",
    "#add numerical row sum to df_conditional_control\n",
    "df_conditional_control['Total'] = df_conditional_control.sum(numeric_only=True, axis=1)\n",
    "\n",
    "\n",
    "#add numerical row sum to df_loops_broca\n",
    "df_loops_broca['Total'] = df_loops_broca.sum(numeric_only=True, axis=1)\n",
    "\n",
    "#add numerical row sum to df_loops_control\n",
    "df_loops_control['Total'] = df_loops_control.sum(numeric_only=True, axis=1)"
   ],
   "metadata": {
    "collapsed": false,
    "pycharm": {
     "name": "#%%\n"
    }
   }
  },
  {
   "cell_type": "code",
   "execution_count": null,
   "outputs": [],
   "source": [
    "print('Number of rows in df_datatypes_broca: ', len(df_conditional_broca))\n",
    "print('Number of rows in df_datatypes_control: ', len(df_conditional_control))\n",
    "\n",
    "print('Number of rows in df_loops_broca: ', len(df_loops_broca))\n",
    "print('Number of rows in df_loops_control: ', len(df_loops_control))"
   ],
   "metadata": {
    "collapsed": false,
    "pycharm": {
     "name": "#%%\n"
    }
   }
  },
  {
   "cell_type": "code",
   "execution_count": null,
   "outputs": [],
   "source": [
    "#rename df_datatypes_control total to \"Datatypes Total\"\n",
    "df_datatypes_control.rename(columns={'Total': 'Datatypes Total'}, inplace=True)\n",
    "\n",
    "#rename df_variables_control total to \"Variables Total\"\n",
    "df_variables_control.rename(columns={'Total': 'Variables Total'}, inplace=True)\n",
    "\n",
    "#rename df_arithmetic_control total to \"Arithmetic Total\"\n",
    "df_arithmetic_control.rename(columns={'Total': 'Arithmetic Total'}, inplace=True)\n",
    "\n",
    "#rename df_print_control total to \"Print Total\"\n",
    "df_print_control.rename(columns={'Total': 'Print Total'}, inplace=True)\n",
    "\n",
    "#rename df_logical_control total to \"Logical Total\"\n",
    "df_logical_control.rename(columns={'Total': 'Logical Total'}, inplace=True)\n",
    "\n",
    "#rename df_conditional_control total to \"Conditional Total\"\n",
    "df_conditional_control.rename(columns={'Total': 'Conditional Total'}, inplace=True)\n",
    "\n",
    "#rename df_loops_control total to \"Loops Total\"\n",
    "df_loops_control.rename(columns={'Total': 'Loops Total'}, inplace=True)"
   ],
   "metadata": {
    "collapsed": false,
    "pycharm": {
     "name": "#%%\n"
    }
   }
  },
  {
   "cell_type": "code",
   "execution_count": null,
   "outputs": [],
   "source": [
    "max_datatypes = 13\n",
    "max_variables = 24\n",
    "max_arithmetic = 18\n",
    "max_print = 14\n",
    "max_logical = 20\n",
    "max_conditional = 25\n",
    "max_loops = 41"
   ],
   "metadata": {
    "collapsed": false,
    "pycharm": {
     "name": "#%%\n"
    }
   }
  },
  {
   "cell_type": "code",
   "execution_count": null,
   "outputs": [],
   "source": [
    "#calculate percentage from total and max\n",
    "df_datatypes_control['Datatypes Percentage'] = df_datatypes_control['Datatypes Total'] / max_datatypes * 100\n",
    "df_variables_control['Variables Percentage'] = df_variables_control['Variables Total'] / max_variables * 100\n",
    "df_arithmetic_control['Arithmetic Percentage'] = df_arithmetic_control['Arithmetic Total'] / max_arithmetic * 100\n",
    "df_print_control['Print Percentage'] = df_print_control['Print Total'] / max_print * 100\n",
    "df_logical_control['Logical Percentage'] = df_logical_control['Logical Total'] / max_logical * 100\n",
    "df_conditional_control['Conditional Percentage'] = df_conditional_control['Conditional Total'] / max_conditional * 100\n",
    "df_loops_control['Loops Percentage'] = df_loops_control['Loops Total'] / max_loops * 100\n",
    "\n",
    "\n",
    "df_total = pd.merge(df_datatypes_control, df_variables_control, on='UID')\n",
    "df_total = pd.merge(df_total, df_arithmetic_control, on='UID')\n",
    "df_total = pd.merge(df_total, df_print_control, on='UID')\n",
    "df_total = pd.merge(df_total, df_logical_control, on='UID')\n",
    "df_total = pd.merge(df_total, df_conditional_control, on='UID')\n",
    "df_total = pd.merge(df_total, df_loops_control, on='UID')\n",
    "\n",
    "#df total drop everything except uid and total\n",
    "df_total.drop(df_total.columns.difference(['UID', 'Datatypes Percentage', 'Variables Percentage', 'Arithmetic Percentage', 'Print Percentage', 'Logical Percentage', 'Conditional Percentage', 'Loops Percentage']), 1, inplace=True)\n",
    "\n",
    "\n",
    "df_total.to_latex('df_total.tex', index=False)"
   ],
   "metadata": {
    "collapsed": false,
    "pycharm": {
     "name": "#%%\n"
    }
   }
  },
  {
   "cell_type": "code",
   "execution_count": 239,
   "outputs": [
    {
     "name": "stdout",
     "output_type": "stream",
     "text": [
      "Percentage    NaN\n",
      "Group         NaN\n",
      "Category      NaN\n",
      "dtype: object\n"
     ]
    }
   ],
   "source": [
    "\n",
    "\n"
   ],
   "metadata": {
    "collapsed": false,
    "pycharm": {
     "name": "#%%\n"
    }
   }
  },
  {
   "cell_type": "code",
   "execution_count": null,
   "outputs": [],
   "source": [
    "#calculate percentage from total and max for df_datatypes_broca and df_variables_broca and df_arithmetic_broca and df_print_broca and df_logical_broca and df_conditional_broca and df_loops_broca\n",
    "df_datatypes_broca['Datatypes Percentage'] = df_datatypes_broca['Total'] / max_datatypes * 100\n",
    "df_variables_broca['Variables Percentage'] = df_variables_broca['Total'] / max_variables * 100\n",
    "df_arithmetic_broca['Arithmetic Percentage'] = df_arithmetic_broca['Total'] / max_arithmetic * 100\n",
    "df_print_broca['Print Percentage'] = df_print_broca['Total'] / max_print * 100\n",
    "df_logical_broca['Logical Percentage'] = df_logical_broca['Total'] / max_logical * 100\n",
    "df_conditional_broca['Conditional Percentage'] = df_conditional_broca['Total'] / max_conditional * 100\n",
    "df_loops_broca['Loops Percentage'] = df_loops_broca['Total'] / max_loops * 100\n",
    "\n",
    "df_total_broca = pd.merge(df_datatypes_broca, df_variables_broca, on='UID')\n",
    "df_total_broca = pd.merge(df_total_broca, df_arithmetic_broca, on='UID')\n",
    "df_total_broca = pd.merge(df_total_broca, df_print_broca, on='UID')\n",
    "df_total_broca = pd.merge(df_total_broca, df_logical_broca, on='UID')\n",
    "df_total_broca = pd.merge(df_total_broca, df_conditional_broca, on='UID')\n",
    "df_total_broca = pd.merge(df_total_broca, df_loops_broca, on='UID')\n",
    "\n",
    "display(df_posttest_programming)\n",
    "\n",
    "#df_posttest_programming add percentage columns for insgesamt\n",
    "#df_posttest_programming['Programming Percentage'] = df_posttest_programming['Insgesamt'] / 8 * 100\n",
    "\n",
    "#add df_posttest_programming to df_total_broca\n",
    "df_total_broca = pd.merge(df_total_broca, df_posttest_programming, on='UID')\n",
    "\n",
    "#remove everything except uid and percentage\n",
    "df_total_broca.drop(df_total_broca.columns.difference(['UID', 'Datatypes Percentage', 'Variables Percentage', 'Arithmetic Percentage', 'Print Percentage', 'Logical Percentage', 'Conditional Percentage', 'Loops Percentage', 'Programming Percentage']), 1, inplace=True)\n",
    "\n",
    "#cut percentage with 1 rounded number after comma\n",
    "df_total_broca['Datatypes Percentage'] = df_total_broca['Datatypes Percentage']\n",
    "df_total_broca['Variables Percentage'] = df_total_broca['Variables Percentage']\n",
    "df_total_broca['Arithmetic Percentage'] = df_total_broca['Arithmetic Percentage']\n",
    "df_total_broca['Print Percentage'] = df_total_broca['Print Percentage']\n",
    "df_total_broca['Logical Percentage'] = df_total_broca['Logical Percentage']\n",
    "df_total_broca['Conditional Percentage'] = df_total_broca['Conditional Percentage']\n",
    "df_total_broca['Loops Percentage'] = df_total_broca['Loops Percentage']\n",
    "\n",
    "#display(df_posttest)\n",
    "#df_pretest calculate percentage from total and max\n",
    "df_posttest['Post-Percentage'] = df_posttest['Posttest'] / 8 * 100\n",
    "df_posttest['Pre-Percentage'] = df_posttest['Pretest'] / 8 * 100\n",
    "\n",
    "#round percentage with 1 number after comma\n",
    "df_posttest['Post-Percentage'] = df_posttest['Post-Percentage']\n",
    "df_posttest['Pre-Percentage'] = df_posttest['Pre-Percentage']\n",
    "\n",
    "df_total_broca = pd.merge(df_total_broca, df_posttest, on='UID')\n",
    "\n",
    "#df_total_broca drop everything except uid and percentages\n",
    "df_total_broca.drop(df_total_broca.columns.difference(['UID', 'Datatypes Percentage', 'Variables Percentage', 'Arithmetic Percentage', 'Print Percentage', 'Logical Percentage', 'Conditional Percentage', 'Loops Percentage', 'Pre-Percentage', 'Post-Percentage', 'Programming Percentage']), 1, inplace=True)\n",
    "\n",
    "#df_total_broca move Pre-Percentage to second column\n",
    "cols = list(df_total_broca.columns.values)\n",
    "df_total_broca = df_total_broca[cols[0:1] + cols[-1:] + cols[1:-1]]\n",
    "\n",
    "df_total_broca.to_latex('df_total_broca.tex', index=False)"
   ],
   "metadata": {
    "collapsed": false,
    "pycharm": {
     "name": "#%%\n"
    }
   }
  },
  {
   "cell_type": "code",
   "execution_count": 243,
   "outputs": [
    {
     "name": "stdout",
     "output_type": "stream",
     "text": [
      "        UID  6.1   6.2   6.4  Total  Conditional Percentage\n",
      "0   0LZR203  2.0  10.0  13.0   25.0                   100.0\n",
      "1   0REG243  1.0  10.0  13.0   24.0                    96.0\n",
      "2   1AGT138  2.0   9.0  13.0   24.0                    96.0\n",
      "5   3LDI060  2.0  10.0  13.0   25.0                   100.0\n",
      "6   3LST145  2.0  10.0  13.0   25.0                   100.0\n",
      "7   4ANT042  2.0   9.0  13.0   24.0                    96.0\n",
      "13  7BGT235  2.0  10.0  13.0   25.0                   100.0\n",
      "15  7RAI228  2.0  10.0  13.0   25.0                   100.0\n",
      "16  7SOA133  2.0   9.0  13.0   24.0                    96.0\n",
      "19  8CHT208  2.0  10.0  13.0   25.0                   100.0\n",
      "98.4\n"
     ]
    }
   ],
   "source": [],
   "metadata": {
    "collapsed": false,
    "pycharm": {
     "name": "#%%\n"
    }
   }
  },
  {
   "cell_type": "code",
   "execution_count": null,
   "outputs": [],
   "source": [
    "#add numerical row sum to df_datatypes\n",
    "df_datatypes['Total'] = df_datatypes.sum(numeric_only=True, axis=1)\n",
    "\n",
    "#add numerical row sum to df_variables\n",
    "df_variables['Total'] = df_variables.sum(numeric_only=True, axis=1)\n",
    "\n",
    "#add numerical row sum to df_arithmetic\n",
    "df_arithmetic['Total'] = df_arithmetic.sum(numeric_only=True, axis=1)\n",
    "\n",
    "#add numerical row sum to df_print\n",
    "df_print['Total'] = df_print.sum(numeric_only=True, axis=1)\n",
    "\n",
    "#add numerical row sum to df_logical\n",
    "df_logical['Total'] = df_logical.sum(numeric_only=True, axis=1)\n",
    "\n",
    "#add numerical row sum to df_conditional\n",
    "df_conditional['Total'] = df_conditional.sum(numeric_only=True, axis=1)\n",
    "\n",
    "#add numerical row sum to df_loops\n",
    "df_loops['Total'] = df_loops.sum(numeric_only=True, axis=1)\n",
    "\n",
    "#add column group to df_datatypes and df_variables and df_arithmetic and df_print and df_logical and df_conditional and df_loops and check if uid is in broca or control group\n",
    "\n",
    "import numpy as np\n",
    "\n",
    "display(df_variables)\n",
    "df_datatypes['Group'] = np.where(df_datatypes['UID'].isin(broca_uid), 'Broca', 'Control')\n",
    "df_variables['Group'] = np.where(df_variables['UID'].isin(broca_uid), 'Broca', 'Control')\n",
    "df_arithmetic['Group'] = np.where(df_arithmetic['UID'].isin(broca_uid), 'Broca', 'Control')\n",
    "df_print['Group'] = np.where(df_print['UID'].isin(broca_uid), 'Broca', 'Control')\n",
    "df_logical['Group'] = np.where(df_logical['UID'].isin(broca_uid), 'Broca', 'Control')\n",
    "df_conditional['Group'] = np.where(df_conditional['UID'].isin(broca_uid), 'Broca', 'Control')\n",
    "df_loops['Group'] = np.where(df_loops['UID'].isin(broca_uid), 'Broca', 'Control')\n",
    "\n",
    "display(df_datatypes)\n",
    "\n",
    "#remove last row in df_datatypes and df_variables and df_arithmetic and df_print and df_logical and df_conditional and df_loops\n",
    "df_datatypes = df_datatypes.iloc[:-1]\n",
    "df_variables = df_variables.iloc[:-1]\n",
    "df_arithmetic = df_arithmetic.iloc[:-1]\n",
    "df_print = df_print.iloc[:-1]\n",
    "df_logical = df_logical.iloc[:-1]\n",
    "df_conditional = df_conditional.iloc[:-1]\n",
    "df_loops = df_loops.iloc[:-1]"
   ],
   "metadata": {
    "collapsed": false,
    "pycharm": {
     "name": "#%%\n"
    }
   }
  },
  {
   "cell_type": "code",
   "execution_count": null,
   "outputs": [],
   "source": [
    "max_datatypes = 13\n",
    "max_variables = 24\n",
    "max_arithmetic = 18\n",
    "max_print = 14\n",
    "max_logical = 20\n",
    "max_conditional = 25\n",
    "max_loops = 41"
   ],
   "metadata": {
    "collapsed": false,
    "pycharm": {
     "name": "#%%\n"
    }
   }
  },
  {
   "cell_type": "code",
   "execution_count": null,
   "outputs": [],
   "source": [
    "display(df_datatypes)\n",
    "\n",
    "#calculate df_datatypes percentage and add to df_datatypes\n",
    "df_datatypes['Percentage'] = df_datatypes['Total'] / max_datatypes * 100\n",
    "df_variables['Percentage'] = df_variables['Total'] / max_variables * 100\n",
    "df_arithmetic['Percentage'] = df_arithmetic['Total'] / max_arithmetic * 100\n",
    "df_print['Percentage'] = df_print['Total'] / max_print * 100\n",
    "df_logical['Percentage'] = df_logical['Total'] / max_logical * 100\n",
    "df_conditional['Percentage'] = df_conditional['Total'] / max_conditional * 100\n",
    "df_loops['Percentage'] = df_loops['Total'] / max_loops * 100"
   ],
   "metadata": {
    "collapsed": false,
    "pycharm": {
     "name": "#%%\n"
    }
   }
  },
  {
   "cell_type": "code",
   "execution_count": null,
   "outputs": [],
   "source": [
    "#add new column for original df with name of category\n",
    "df_datatypes = df_datatypes[['Percentage', 'Group']]\n",
    "df_datatypes['Category'] = 'Datatypes'\n",
    "\n",
    "df_variables = df_variables[['Percentage', 'Group']]\n",
    "df_variables['Category'] = 'Variables'\n",
    "\n",
    "df_arithmetic = df_arithmetic[['Percentage', 'Group']]\n",
    "df_arithmetic['Category'] = 'Arithmetic'\n",
    "\n",
    "df_print = df_print[['Percentage', 'Group']]\n",
    "df_print['Category'] = 'Print'\n",
    "\n",
    "df_logical = df_logical[['Percentage', 'Group']]\n",
    "df_logical['Category'] = 'Logical'\n",
    "\n",
    "df_conditional = df_conditional[['Percentage', 'Group']]\n",
    "df_conditional['Category'] = 'Conditional'\n",
    "\n",
    "df_loops = df_loops[['Percentage', 'Group']]\n",
    "df_loops['Category'] = 'Loops'"
   ],
   "metadata": {
    "collapsed": false,
    "pycharm": {
     "name": "#%%\n"
    }
   }
  },
  {
   "cell_type": "code",
   "execution_count": null,
   "outputs": [],
   "source": [
    "#append df_datypes and df_variables and df_arithmetic and df_print and df_logical and df_conditional and df_loops but only Total, Group and Category\n",
    "df = df_datatypes.append(df_variables)"
   ],
   "metadata": {
    "collapsed": false,
    "pycharm": {
     "name": "#%%\n"
    }
   }
  },
  {
   "cell_type": "code",
   "execution_count": 237,
   "outputs": [
    {
     "name": "stderr",
     "output_type": "stream",
     "text": [
      "C:\\Users\\gorgo\\AppData\\Local\\Temp/ipykernel_16444/3187649496.py:1: FutureWarning: The frame.append method is deprecated and will be removed from pandas in a future version. Use pandas.concat instead.\n",
      "  df_total = df_datatypes[['Percentage', 'Group', 'Category']].append(df_variables[['Percentage', 'Group', 'Category']]).append(df_arithmetic[['Percentage', 'Group', 'Category']]).append(df_print[['Percentage', 'Group', 'Category']]).append(df_logical[['Percentage', 'Group', 'Category']]).append(df_conditional[['Percentage', 'Group', 'Category']]).append(df_loops[['Percentage', 'Group', 'Category']])\n",
      "C:\\Users\\gorgo\\AppData\\Local\\Temp/ipykernel_16444/3187649496.py:1: FutureWarning: The frame.append method is deprecated and will be removed from pandas in a future version. Use pandas.concat instead.\n",
      "  df_total = df_datatypes[['Percentage', 'Group', 'Category']].append(df_variables[['Percentage', 'Group', 'Category']]).append(df_arithmetic[['Percentage', 'Group', 'Category']]).append(df_print[['Percentage', 'Group', 'Category']]).append(df_logical[['Percentage', 'Group', 'Category']]).append(df_conditional[['Percentage', 'Group', 'Category']]).append(df_loops[['Percentage', 'Group', 'Category']])\n",
      "C:\\Users\\gorgo\\AppData\\Local\\Temp/ipykernel_16444/3187649496.py:1: FutureWarning: The frame.append method is deprecated and will be removed from pandas in a future version. Use pandas.concat instead.\n",
      "  df_total = df_datatypes[['Percentage', 'Group', 'Category']].append(df_variables[['Percentage', 'Group', 'Category']]).append(df_arithmetic[['Percentage', 'Group', 'Category']]).append(df_print[['Percentage', 'Group', 'Category']]).append(df_logical[['Percentage', 'Group', 'Category']]).append(df_conditional[['Percentage', 'Group', 'Category']]).append(df_loops[['Percentage', 'Group', 'Category']])\n",
      "C:\\Users\\gorgo\\AppData\\Local\\Temp/ipykernel_16444/3187649496.py:1: FutureWarning: The frame.append method is deprecated and will be removed from pandas in a future version. Use pandas.concat instead.\n",
      "  df_total = df_datatypes[['Percentage', 'Group', 'Category']].append(df_variables[['Percentage', 'Group', 'Category']]).append(df_arithmetic[['Percentage', 'Group', 'Category']]).append(df_print[['Percentage', 'Group', 'Category']]).append(df_logical[['Percentage', 'Group', 'Category']]).append(df_conditional[['Percentage', 'Group', 'Category']]).append(df_loops[['Percentage', 'Group', 'Category']])\n",
      "C:\\Users\\gorgo\\AppData\\Local\\Temp/ipykernel_16444/3187649496.py:1: FutureWarning: The frame.append method is deprecated and will be removed from pandas in a future version. Use pandas.concat instead.\n",
      "  df_total = df_datatypes[['Percentage', 'Group', 'Category']].append(df_variables[['Percentage', 'Group', 'Category']]).append(df_arithmetic[['Percentage', 'Group', 'Category']]).append(df_print[['Percentage', 'Group', 'Category']]).append(df_logical[['Percentage', 'Group', 'Category']]).append(df_conditional[['Percentage', 'Group', 'Category']]).append(df_loops[['Percentage', 'Group', 'Category']])\n",
      "C:\\Users\\gorgo\\AppData\\Local\\Temp/ipykernel_16444/3187649496.py:1: FutureWarning: The frame.append method is deprecated and will be removed from pandas in a future version. Use pandas.concat instead.\n",
      "  df_total = df_datatypes[['Percentage', 'Group', 'Category']].append(df_variables[['Percentage', 'Group', 'Category']]).append(df_arithmetic[['Percentage', 'Group', 'Category']]).append(df_print[['Percentage', 'Group', 'Category']]).append(df_logical[['Percentage', 'Group', 'Category']]).append(df_conditional[['Percentage', 'Group', 'Category']]).append(df_loops[['Percentage', 'Group', 'Category']])\n"
     ]
    },
    {
     "data": {
      "text/plain": "    Percentage    Group     Category\n0   100.000000    Broca    Datatypes\n1   100.000000    Broca    Datatypes\n2   100.000000    Broca    Datatypes\n5   100.000000    Broca    Datatypes\n6   100.000000    Broca    Datatypes\n7   100.000000    Broca    Datatypes\n8   100.000000  Control    Datatypes\n11  100.000000  Control    Datatypes\n12  100.000000  Control    Datatypes\n13  100.000000    Broca    Datatypes\n14  100.000000  Control    Datatypes\n15  100.000000    Broca    Datatypes\n16   92.307692    Broca    Datatypes\n17  100.000000  Control    Datatypes\n0    95.833333    Broca    Variables\n1   100.000000    Broca    Variables\n2    95.833333    Broca    Variables\n5   100.000000    Broca    Variables\n6   100.000000    Broca    Variables\n7   100.000000    Broca    Variables\n8    87.500000  Control    Variables\n11  100.000000  Control    Variables\n12   95.833333  Control    Variables\n13   95.833333    Broca    Variables\n14   91.666667  Control    Variables\n15   95.833333    Broca    Variables\n16   87.500000    Broca    Variables\n17  100.000000  Control    Variables\n0   100.000000    Broca   Arithmetic\n1    97.222222    Broca   Arithmetic\n2    94.444444    Broca   Arithmetic\n5    94.444444    Broca   Arithmetic\n6    97.222222    Broca   Arithmetic\n7   100.000000    Broca   Arithmetic\n8    86.111111  Control   Arithmetic\n11  100.000000  Control   Arithmetic\n12   80.555556  Control   Arithmetic\n13   97.222222    Broca   Arithmetic\n14   88.888889  Control   Arithmetic\n15  100.000000    Broca   Arithmetic\n17  100.000000  Control   Arithmetic\n0   100.000000    Broca        Print\n1   100.000000    Broca        Print\n2   100.000000    Broca        Print\n5    71.428571    Broca        Print\n6   100.000000    Broca        Print\n7   100.000000    Broca        Print\n8    71.428571  Control        Print\n11  100.000000  Control        Print\n12   71.428571  Control        Print\n13  100.000000    Broca        Print\n14   57.142857  Control        Print\n15   71.428571    Broca        Print\n17  100.000000  Control        Print\n0    85.000000    Broca      Logical\n1    82.500000    Broca      Logical\n2    85.000000    Broca      Logical\n5    80.000000    Broca      Logical\n6    95.000000    Broca      Logical\n7    95.000000    Broca      Logical\n8    95.000000  Control      Logical\n11   85.000000  Control      Logical\n12   90.000000  Control      Logical\n13   95.000000    Broca      Logical\n14   90.000000  Control      Logical\n15   85.000000    Broca      Logical\n16  100.000000    Broca      Logical\n17  100.000000  Control      Logical\n18   95.000000  Control      Logical\n0   100.000000    Broca  Conditional\n1    96.000000    Broca  Conditional\n2    96.000000    Broca  Conditional\n5   100.000000    Broca  Conditional\n6   100.000000    Broca  Conditional\n7    96.000000    Broca  Conditional\n8    60.000000  Control  Conditional\n11  100.000000  Control  Conditional\n12   68.000000  Control  Conditional\n13  100.000000    Broca  Conditional\n14   92.000000  Control  Conditional\n15  100.000000    Broca  Conditional\n16   96.000000    Broca  Conditional\n17  100.000000  Control  Conditional\n18  100.000000  Control  Conditional\n0    80.487805    Broca        Loops\n2    78.048780    Broca        Loops\n5    87.804878    Broca        Loops\n6    97.560976    Broca        Loops\n7   100.000000    Broca        Loops\n8    80.487805  Control        Loops\n11   89.024390  Control        Loops\n12   65.853659  Control        Loops\n13   98.780488    Broca        Loops\n14   57.317073  Control        Loops\n15   63.414634    Broca        Loops",
      "text/html": "<div>\n<style scoped>\n    .dataframe tbody tr th:only-of-type {\n        vertical-align: middle;\n    }\n\n    .dataframe tbody tr th {\n        vertical-align: top;\n    }\n\n    .dataframe thead th {\n        text-align: right;\n    }\n</style>\n<table border=\"1\" class=\"dataframe\">\n  <thead>\n    <tr style=\"text-align: right;\">\n      <th></th>\n      <th>Percentage</th>\n      <th>Group</th>\n      <th>Category</th>\n    </tr>\n  </thead>\n  <tbody>\n    <tr>\n      <th>0</th>\n      <td>100.000000</td>\n      <td>Broca</td>\n      <td>Datatypes</td>\n    </tr>\n    <tr>\n      <th>1</th>\n      <td>100.000000</td>\n      <td>Broca</td>\n      <td>Datatypes</td>\n    </tr>\n    <tr>\n      <th>2</th>\n      <td>100.000000</td>\n      <td>Broca</td>\n      <td>Datatypes</td>\n    </tr>\n    <tr>\n      <th>5</th>\n      <td>100.000000</td>\n      <td>Broca</td>\n      <td>Datatypes</td>\n    </tr>\n    <tr>\n      <th>6</th>\n      <td>100.000000</td>\n      <td>Broca</td>\n      <td>Datatypes</td>\n    </tr>\n    <tr>\n      <th>7</th>\n      <td>100.000000</td>\n      <td>Broca</td>\n      <td>Datatypes</td>\n    </tr>\n    <tr>\n      <th>8</th>\n      <td>100.000000</td>\n      <td>Control</td>\n      <td>Datatypes</td>\n    </tr>\n    <tr>\n      <th>11</th>\n      <td>100.000000</td>\n      <td>Control</td>\n      <td>Datatypes</td>\n    </tr>\n    <tr>\n      <th>12</th>\n      <td>100.000000</td>\n      <td>Control</td>\n      <td>Datatypes</td>\n    </tr>\n    <tr>\n      <th>13</th>\n      <td>100.000000</td>\n      <td>Broca</td>\n      <td>Datatypes</td>\n    </tr>\n    <tr>\n      <th>14</th>\n      <td>100.000000</td>\n      <td>Control</td>\n      <td>Datatypes</td>\n    </tr>\n    <tr>\n      <th>15</th>\n      <td>100.000000</td>\n      <td>Broca</td>\n      <td>Datatypes</td>\n    </tr>\n    <tr>\n      <th>16</th>\n      <td>92.307692</td>\n      <td>Broca</td>\n      <td>Datatypes</td>\n    </tr>\n    <tr>\n      <th>17</th>\n      <td>100.000000</td>\n      <td>Control</td>\n      <td>Datatypes</td>\n    </tr>\n    <tr>\n      <th>0</th>\n      <td>95.833333</td>\n      <td>Broca</td>\n      <td>Variables</td>\n    </tr>\n    <tr>\n      <th>1</th>\n      <td>100.000000</td>\n      <td>Broca</td>\n      <td>Variables</td>\n    </tr>\n    <tr>\n      <th>2</th>\n      <td>95.833333</td>\n      <td>Broca</td>\n      <td>Variables</td>\n    </tr>\n    <tr>\n      <th>5</th>\n      <td>100.000000</td>\n      <td>Broca</td>\n      <td>Variables</td>\n    </tr>\n    <tr>\n      <th>6</th>\n      <td>100.000000</td>\n      <td>Broca</td>\n      <td>Variables</td>\n    </tr>\n    <tr>\n      <th>7</th>\n      <td>100.000000</td>\n      <td>Broca</td>\n      <td>Variables</td>\n    </tr>\n    <tr>\n      <th>8</th>\n      <td>87.500000</td>\n      <td>Control</td>\n      <td>Variables</td>\n    </tr>\n    <tr>\n      <th>11</th>\n      <td>100.000000</td>\n      <td>Control</td>\n      <td>Variables</td>\n    </tr>\n    <tr>\n      <th>12</th>\n      <td>95.833333</td>\n      <td>Control</td>\n      <td>Variables</td>\n    </tr>\n    <tr>\n      <th>13</th>\n      <td>95.833333</td>\n      <td>Broca</td>\n      <td>Variables</td>\n    </tr>\n    <tr>\n      <th>14</th>\n      <td>91.666667</td>\n      <td>Control</td>\n      <td>Variables</td>\n    </tr>\n    <tr>\n      <th>15</th>\n      <td>95.833333</td>\n      <td>Broca</td>\n      <td>Variables</td>\n    </tr>\n    <tr>\n      <th>16</th>\n      <td>87.500000</td>\n      <td>Broca</td>\n      <td>Variables</td>\n    </tr>\n    <tr>\n      <th>17</th>\n      <td>100.000000</td>\n      <td>Control</td>\n      <td>Variables</td>\n    </tr>\n    <tr>\n      <th>0</th>\n      <td>100.000000</td>\n      <td>Broca</td>\n      <td>Arithmetic</td>\n    </tr>\n    <tr>\n      <th>1</th>\n      <td>97.222222</td>\n      <td>Broca</td>\n      <td>Arithmetic</td>\n    </tr>\n    <tr>\n      <th>2</th>\n      <td>94.444444</td>\n      <td>Broca</td>\n      <td>Arithmetic</td>\n    </tr>\n    <tr>\n      <th>5</th>\n      <td>94.444444</td>\n      <td>Broca</td>\n      <td>Arithmetic</td>\n    </tr>\n    <tr>\n      <th>6</th>\n      <td>97.222222</td>\n      <td>Broca</td>\n      <td>Arithmetic</td>\n    </tr>\n    <tr>\n      <th>7</th>\n      <td>100.000000</td>\n      <td>Broca</td>\n      <td>Arithmetic</td>\n    </tr>\n    <tr>\n      <th>8</th>\n      <td>86.111111</td>\n      <td>Control</td>\n      <td>Arithmetic</td>\n    </tr>\n    <tr>\n      <th>11</th>\n      <td>100.000000</td>\n      <td>Control</td>\n      <td>Arithmetic</td>\n    </tr>\n    <tr>\n      <th>12</th>\n      <td>80.555556</td>\n      <td>Control</td>\n      <td>Arithmetic</td>\n    </tr>\n    <tr>\n      <th>13</th>\n      <td>97.222222</td>\n      <td>Broca</td>\n      <td>Arithmetic</td>\n    </tr>\n    <tr>\n      <th>14</th>\n      <td>88.888889</td>\n      <td>Control</td>\n      <td>Arithmetic</td>\n    </tr>\n    <tr>\n      <th>15</th>\n      <td>100.000000</td>\n      <td>Broca</td>\n      <td>Arithmetic</td>\n    </tr>\n    <tr>\n      <th>17</th>\n      <td>100.000000</td>\n      <td>Control</td>\n      <td>Arithmetic</td>\n    </tr>\n    <tr>\n      <th>0</th>\n      <td>100.000000</td>\n      <td>Broca</td>\n      <td>Print</td>\n    </tr>\n    <tr>\n      <th>1</th>\n      <td>100.000000</td>\n      <td>Broca</td>\n      <td>Print</td>\n    </tr>\n    <tr>\n      <th>2</th>\n      <td>100.000000</td>\n      <td>Broca</td>\n      <td>Print</td>\n    </tr>\n    <tr>\n      <th>5</th>\n      <td>71.428571</td>\n      <td>Broca</td>\n      <td>Print</td>\n    </tr>\n    <tr>\n      <th>6</th>\n      <td>100.000000</td>\n      <td>Broca</td>\n      <td>Print</td>\n    </tr>\n    <tr>\n      <th>7</th>\n      <td>100.000000</td>\n      <td>Broca</td>\n      <td>Print</td>\n    </tr>\n    <tr>\n      <th>8</th>\n      <td>71.428571</td>\n      <td>Control</td>\n      <td>Print</td>\n    </tr>\n    <tr>\n      <th>11</th>\n      <td>100.000000</td>\n      <td>Control</td>\n      <td>Print</td>\n    </tr>\n    <tr>\n      <th>12</th>\n      <td>71.428571</td>\n      <td>Control</td>\n      <td>Print</td>\n    </tr>\n    <tr>\n      <th>13</th>\n      <td>100.000000</td>\n      <td>Broca</td>\n      <td>Print</td>\n    </tr>\n    <tr>\n      <th>14</th>\n      <td>57.142857</td>\n      <td>Control</td>\n      <td>Print</td>\n    </tr>\n    <tr>\n      <th>15</th>\n      <td>71.428571</td>\n      <td>Broca</td>\n      <td>Print</td>\n    </tr>\n    <tr>\n      <th>17</th>\n      <td>100.000000</td>\n      <td>Control</td>\n      <td>Print</td>\n    </tr>\n    <tr>\n      <th>0</th>\n      <td>85.000000</td>\n      <td>Broca</td>\n      <td>Logical</td>\n    </tr>\n    <tr>\n      <th>1</th>\n      <td>82.500000</td>\n      <td>Broca</td>\n      <td>Logical</td>\n    </tr>\n    <tr>\n      <th>2</th>\n      <td>85.000000</td>\n      <td>Broca</td>\n      <td>Logical</td>\n    </tr>\n    <tr>\n      <th>5</th>\n      <td>80.000000</td>\n      <td>Broca</td>\n      <td>Logical</td>\n    </tr>\n    <tr>\n      <th>6</th>\n      <td>95.000000</td>\n      <td>Broca</td>\n      <td>Logical</td>\n    </tr>\n    <tr>\n      <th>7</th>\n      <td>95.000000</td>\n      <td>Broca</td>\n      <td>Logical</td>\n    </tr>\n    <tr>\n      <th>8</th>\n      <td>95.000000</td>\n      <td>Control</td>\n      <td>Logical</td>\n    </tr>\n    <tr>\n      <th>11</th>\n      <td>85.000000</td>\n      <td>Control</td>\n      <td>Logical</td>\n    </tr>\n    <tr>\n      <th>12</th>\n      <td>90.000000</td>\n      <td>Control</td>\n      <td>Logical</td>\n    </tr>\n    <tr>\n      <th>13</th>\n      <td>95.000000</td>\n      <td>Broca</td>\n      <td>Logical</td>\n    </tr>\n    <tr>\n      <th>14</th>\n      <td>90.000000</td>\n      <td>Control</td>\n      <td>Logical</td>\n    </tr>\n    <tr>\n      <th>15</th>\n      <td>85.000000</td>\n      <td>Broca</td>\n      <td>Logical</td>\n    </tr>\n    <tr>\n      <th>16</th>\n      <td>100.000000</td>\n      <td>Broca</td>\n      <td>Logical</td>\n    </tr>\n    <tr>\n      <th>17</th>\n      <td>100.000000</td>\n      <td>Control</td>\n      <td>Logical</td>\n    </tr>\n    <tr>\n      <th>18</th>\n      <td>95.000000</td>\n      <td>Control</td>\n      <td>Logical</td>\n    </tr>\n    <tr>\n      <th>0</th>\n      <td>100.000000</td>\n      <td>Broca</td>\n      <td>Conditional</td>\n    </tr>\n    <tr>\n      <th>1</th>\n      <td>96.000000</td>\n      <td>Broca</td>\n      <td>Conditional</td>\n    </tr>\n    <tr>\n      <th>2</th>\n      <td>96.000000</td>\n      <td>Broca</td>\n      <td>Conditional</td>\n    </tr>\n    <tr>\n      <th>5</th>\n      <td>100.000000</td>\n      <td>Broca</td>\n      <td>Conditional</td>\n    </tr>\n    <tr>\n      <th>6</th>\n      <td>100.000000</td>\n      <td>Broca</td>\n      <td>Conditional</td>\n    </tr>\n    <tr>\n      <th>7</th>\n      <td>96.000000</td>\n      <td>Broca</td>\n      <td>Conditional</td>\n    </tr>\n    <tr>\n      <th>8</th>\n      <td>60.000000</td>\n      <td>Control</td>\n      <td>Conditional</td>\n    </tr>\n    <tr>\n      <th>11</th>\n      <td>100.000000</td>\n      <td>Control</td>\n      <td>Conditional</td>\n    </tr>\n    <tr>\n      <th>12</th>\n      <td>68.000000</td>\n      <td>Control</td>\n      <td>Conditional</td>\n    </tr>\n    <tr>\n      <th>13</th>\n      <td>100.000000</td>\n      <td>Broca</td>\n      <td>Conditional</td>\n    </tr>\n    <tr>\n      <th>14</th>\n      <td>92.000000</td>\n      <td>Control</td>\n      <td>Conditional</td>\n    </tr>\n    <tr>\n      <th>15</th>\n      <td>100.000000</td>\n      <td>Broca</td>\n      <td>Conditional</td>\n    </tr>\n    <tr>\n      <th>16</th>\n      <td>96.000000</td>\n      <td>Broca</td>\n      <td>Conditional</td>\n    </tr>\n    <tr>\n      <th>17</th>\n      <td>100.000000</td>\n      <td>Control</td>\n      <td>Conditional</td>\n    </tr>\n    <tr>\n      <th>18</th>\n      <td>100.000000</td>\n      <td>Control</td>\n      <td>Conditional</td>\n    </tr>\n    <tr>\n      <th>0</th>\n      <td>80.487805</td>\n      <td>Broca</td>\n      <td>Loops</td>\n    </tr>\n    <tr>\n      <th>2</th>\n      <td>78.048780</td>\n      <td>Broca</td>\n      <td>Loops</td>\n    </tr>\n    <tr>\n      <th>5</th>\n      <td>87.804878</td>\n      <td>Broca</td>\n      <td>Loops</td>\n    </tr>\n    <tr>\n      <th>6</th>\n      <td>97.560976</td>\n      <td>Broca</td>\n      <td>Loops</td>\n    </tr>\n    <tr>\n      <th>7</th>\n      <td>100.000000</td>\n      <td>Broca</td>\n      <td>Loops</td>\n    </tr>\n    <tr>\n      <th>8</th>\n      <td>80.487805</td>\n      <td>Control</td>\n      <td>Loops</td>\n    </tr>\n    <tr>\n      <th>11</th>\n      <td>89.024390</td>\n      <td>Control</td>\n      <td>Loops</td>\n    </tr>\n    <tr>\n      <th>12</th>\n      <td>65.853659</td>\n      <td>Control</td>\n      <td>Loops</td>\n    </tr>\n    <tr>\n      <th>13</th>\n      <td>98.780488</td>\n      <td>Broca</td>\n      <td>Loops</td>\n    </tr>\n    <tr>\n      <th>14</th>\n      <td>57.317073</td>\n      <td>Control</td>\n      <td>Loops</td>\n    </tr>\n    <tr>\n      <th>15</th>\n      <td>63.414634</td>\n      <td>Broca</td>\n      <td>Loops</td>\n    </tr>\n  </tbody>\n</table>\n</div>"
     },
     "metadata": {},
     "output_type": "display_data"
    }
   ],
   "source": [
    "df_total = df_datatypes[['Percentage', 'Group', 'Category']].append(df_variables[['Percentage', 'Group', 'Category']]).append(df_arithmetic[['Percentage', 'Group', 'Category']]).append(df_print[['Percentage', 'Group', 'Category']]).append(df_logical[['Percentage', 'Group', 'Category']]).append(df_conditional[['Percentage', 'Group', 'Category']]).append(df_loops[['Percentage', 'Group', 'Category']])\n",
    "\n",
    "display(df_total)\n",
    "\n",
    "#rename broca and control in yes and no for group\n",
    "df_total['Group'] = df_total['Group'].replace(['Broca', 'Control'], ['broca', 'control'])"
   ],
   "metadata": {
    "collapsed": false,
    "pycharm": {
     "name": "#%%\n"
    }
   }
  },
  {
   "cell_type": "code",
   "execution_count": null,
   "outputs": [],
   "source": [
    "import seaborn as sns\n",
    "\n",
    "#show 100 rows in display\n",
    "pd.set_option('display.max_rows', 100)\n",
    "\n",
    "#dftotal rename Broca and Control to test and control\n",
    "df_total['Group'] = df_total['Group'].replace(['broca', 'Control'], ['test', 'control'])\n",
    "\n",
    "display(df_total)\n",
    "\n",
    "\n",
    "sns.set_theme(style=\"whitegrid\")\n",
    "\n",
    "violin = sns.violinplot(data=df_total, x=\"Category\", y=\"Percentage\", hue=\"Group\",\n",
    "               split=True, inner=\"quart\", linewidth=1, spanmode=\"hard\")\n",
    "\n",
    "violin.set(xlabel='Programming construct', ylabel='Percentage of correct answers')\n",
    "#violin.set(ylim=(0, 100))\n",
    "violin.set_title('Programming exercises per construct')\n",
    "\n",
    "violin.legend(title='Group', loc='center left', bbox_to_anchor=(1, 0.8))\n",
    "\n",
    "plt.savefig('violinplot_exercises.pdf', bbox_inches='tight')"
   ],
   "metadata": {
    "collapsed": false,
    "pycharm": {
     "name": "#%%\n"
    }
   }
  },
  {
   "cell_type": "code",
   "execution_count": null,
   "outputs": [],
   "source": [
    "df_datatypes_broca"
   ],
   "metadata": {
    "collapsed": false,
    "pycharm": {
     "name": "#%%\n"
    }
   }
  },
  {
   "cell_type": "markdown",
   "source": [
    "Statistical tests"
   ],
   "metadata": {
    "collapsed": false,
    "pycharm": {
     "name": "#%% md\n"
    }
   }
  },
  {
   "cell_type": "code",
   "execution_count": 251,
   "outputs": [
    {
     "data": {
      "text/plain": "        UID  Pretest  Posttest    Group\n0   0LZR203      2.5       8.0    broca\n2   1AGT138      3.0       7.0    broca\n5   3LDI060      0.0       8.0    broca\n6   3LST145      6.0       6.0    broca\n7   4ANT042      7.5       6.5    broca\n8   4DRO233      7.0       8.0  control\n11  5NSA280      5.0       8.0  control\n12  6CSA143      0.0       5.5  control\n13  7BGT235      7.5       8.0    broca\n14  7KSM240      5.0       7.0  control\n15  7RAI228      2.0       6.0    broca\n16  7SOA133      8.0       8.0    broca\n17  7VKT025      8.0       8.0  control",
      "text/html": "<div>\n<style scoped>\n    .dataframe tbody tr th:only-of-type {\n        vertical-align: middle;\n    }\n\n    .dataframe tbody tr th {\n        vertical-align: top;\n    }\n\n    .dataframe thead th {\n        text-align: right;\n    }\n</style>\n<table border=\"1\" class=\"dataframe\">\n  <thead>\n    <tr style=\"text-align: right;\">\n      <th></th>\n      <th>UID</th>\n      <th>Pretest</th>\n      <th>Posttest</th>\n      <th>Group</th>\n    </tr>\n  </thead>\n  <tbody>\n    <tr>\n      <th>0</th>\n      <td>0LZR203</td>\n      <td>2.5</td>\n      <td>8.0</td>\n      <td>broca</td>\n    </tr>\n    <tr>\n      <th>2</th>\n      <td>1AGT138</td>\n      <td>3.0</td>\n      <td>7.0</td>\n      <td>broca</td>\n    </tr>\n    <tr>\n      <th>5</th>\n      <td>3LDI060</td>\n      <td>0.0</td>\n      <td>8.0</td>\n      <td>broca</td>\n    </tr>\n    <tr>\n      <th>6</th>\n      <td>3LST145</td>\n      <td>6.0</td>\n      <td>6.0</td>\n      <td>broca</td>\n    </tr>\n    <tr>\n      <th>7</th>\n      <td>4ANT042</td>\n      <td>7.5</td>\n      <td>6.5</td>\n      <td>broca</td>\n    </tr>\n    <tr>\n      <th>8</th>\n      <td>4DRO233</td>\n      <td>7.0</td>\n      <td>8.0</td>\n      <td>control</td>\n    </tr>\n    <tr>\n      <th>11</th>\n      <td>5NSA280</td>\n      <td>5.0</td>\n      <td>8.0</td>\n      <td>control</td>\n    </tr>\n    <tr>\n      <th>12</th>\n      <td>6CSA143</td>\n      <td>0.0</td>\n      <td>5.5</td>\n      <td>control</td>\n    </tr>\n    <tr>\n      <th>13</th>\n      <td>7BGT235</td>\n      <td>7.5</td>\n      <td>8.0</td>\n      <td>broca</td>\n    </tr>\n    <tr>\n      <th>14</th>\n      <td>7KSM240</td>\n      <td>5.0</td>\n      <td>7.0</td>\n      <td>control</td>\n    </tr>\n    <tr>\n      <th>15</th>\n      <td>7RAI228</td>\n      <td>2.0</td>\n      <td>6.0</td>\n      <td>broca</td>\n    </tr>\n    <tr>\n      <th>16</th>\n      <td>7SOA133</td>\n      <td>8.0</td>\n      <td>8.0</td>\n      <td>broca</td>\n    </tr>\n    <tr>\n      <th>17</th>\n      <td>7VKT025</td>\n      <td>8.0</td>\n      <td>8.0</td>\n      <td>control</td>\n    </tr>\n  </tbody>\n</table>\n</div>"
     },
     "metadata": {},
     "output_type": "display_data"
    },
    {
     "name": "stdout",
     "output_type": "stream",
     "text": [
      "            sum_sq    df         F    PR(>F)\n",
      "Group     0.011774   1.0  0.012531  0.913083\n",
      "Pretest   1.373382   1.0  1.461765  0.254459\n",
      "Residual  9.395368  10.0       NaN       NaN\n"
     ]
    }
   ],
   "source": [
    "from pingouin import ancova\n",
    "ancova(data=df_merge, dv='Posttest', covar='Pretest', between='Group')\n",
    "\n",
    "\n",
    "import statsmodels.formula.api as smf\n",
    "import statsmodels.api as sm\n",
    "\n",
    "# Load the data into a pandas DataFrame\n",
    "\n",
    "display(df_merge)\n",
    "\n",
    "# Fit a linear regression model using the 'ols' function\n",
    "model = smf.ols(formula=\"Posttest ~ Pretest + Group\", data=df_merge)\n",
    "results = model.fit()\n",
    "\n",
    "# Perform an ANOVA using the 'anova_lm' function\n",
    "aov_table = sm.stats.anova_lm(results, typ=2)\n",
    "print(aov_table)\n"
   ],
   "metadata": {
    "collapsed": false,
    "pycharm": {
     "name": "#%%\n"
    }
   }
  },
  {
   "cell_type": "code",
   "execution_count": null,
   "outputs": [],
   "source": [
    "from scipy import stats\n",
    "\n",
    "print(stats.shapiro(broca_pretest))\n",
    "print(stats.shapiro(broca_posttest))\n",
    "\n",
    "print(stats.shapiro(control_pretest))\n",
    "print(stats.shapiro(control_posttest))\n",
    "\n",
    "stats.kruskal(broca_pretest, control_pretest, broca_posttest, control_posttest)"
   ],
   "metadata": {
    "collapsed": false,
    "pycharm": {
     "name": "#%%\n"
    }
   }
  },
  {
   "cell_type": "code",
   "execution_count": null,
   "outputs": [],
   "source": [
    "#merge df_pretest and df_posttest on uid\n",
    "df_merge = pd.merge(df_pretest, df_posttest, on=\"UID\")\n",
    "#drop everything except uid, pretest and posttest\n",
    "df_merge = df_merge.drop(df_merge.columns[1:19], axis= 1)\n",
    "#dropna\n",
    "df_merge = df_merge.dropna()\n",
    "\n",
    "#add group column to df_merge and fill with group name (control or broca)\n",
    "df_merge[\"Group\"] = \"\"\n",
    "for index, row in df_merge.iterrows():\n",
    "    if row[\"UID\"] in control_uid:\n",
    "        df_merge.loc[index, 'Group'] = 'control'\n",
    "    elif row[\"UID\"] in broca_uid:\n",
    "        df_merge.loc[index, 'Group'] = 'broca'\n",
    "\n",
    "from pingouin import ancova\n",
    "display(df_merge)\n",
    "ancova(data=df_merge, dv='Posttest', covar='Pretest', between='Group')"
   ],
   "metadata": {
    "collapsed": false,
    "pycharm": {
     "name": "#%%\n"
    }
   }
  },
  {
   "cell_type": "code",
   "execution_count": null,
   "outputs": [],
   "source": [
    "#get mean of pretest and group control\n",
    "mean_control_pretest = df_merge[df_merge.Group == \"control\"].Pretest.mean()\n",
    "#get std of pretest and group control\n",
    "std_control_pretest = df_merge[df_merge.Group == \"control\"].Pretest.std()\n",
    "\n",
    "#get std of pretest and group broca\n",
    "mean_broca_pretest = df_merge[df_merge.Group == \"broca\"].Pretest.mean()\n",
    "\n",
    "#get std of pretest and group broca\n",
    "std_broca_pretest = df_merge[df_merge.Group == \"broca\"].Pretest.std()\n",
    "\n",
    "#get std of posttest and group control\n",
    "std_control_posttest = df_merge[df_merge.Group == \"control\"].Posttest.std()\n",
    "\n",
    "#get std of posttest and group broca\n",
    "std_broca_posttest = df_merge[df_merge.Group == \"broca\"].Posttest.std()\n",
    "\n",
    "#get mean of pretest and group broca\n",
    "mean_broca_pretest = df_merge[df_merge.Group == \"broca\"].Pretest.mean()\n",
    "\n",
    "#get mean of posttest and group control\n",
    "mean_control_posttest = df_merge[df_merge.Group == \"control\"].Posttest.mean()\n",
    "\n",
    "#get mean of posttest and group broca\n",
    "mean_broca_posttest = df_merge[df_merge.Group == \"broca\"].Posttest.mean()\n",
    "\n",
    "#print means and stds\n",
    "print(\"Mean Broca Pretest: \", mean_broca_pretest)\n",
    "print(\"Std Broca Pretest: \", std_broca_pretest)\n",
    "print(\"Mean Control Pretest: \", mean_control_pretest)\n",
    "print(\"Std Control Pretest: \", std_control_pretest)\n",
    "print()\n",
    "print(\"Mean Broca Posttest: \", mean_broca_posttest)\n",
    "print(\"Std Broca Posttest: \", std_broca_posttest)\n",
    "print(\"Mean Control Posttest: \", mean_control_posttest)\n",
    "print(\"Std Control Posttest: \", std_control_posttest)"
   ],
   "metadata": {
    "collapsed": false,
    "pycharm": {
     "name": "#%%\n"
    }
   }
  },
  {
   "cell_type": "code",
   "execution_count": null,
   "outputs": [],
   "source": [
    "import numpy as np\n",
    "\n",
    "df_tasks = pd.read_excel(xls, \"Übungsaufgaben\")\n",
    "\n",
    "#delete rows in df_tasks where more than 10 times are nan\n",
    "df_tasks = df_tasks.dropna(thresh=10)\n",
    "\n",
    "#df_tasks drop last two rows\n",
    "df_tasks = df_tasks.drop(df_tasks.index[[-2]])\n",
    "\n",
    "#df tasks drop last column\n",
    "df_tasks = df_tasks.drop(df_tasks.columns[-1], axis=1)\n",
    "\n",
    "display(df_tasks)\n",
    "\n",
    "#df tasks drop column total\n",
    "#df_tasks = df_tasks.drop(df_tasks.columns[-1], axis= 1)\n",
    "\n",
    "\n",
    "#df task remove column '3.3'\n",
    "df_tasks = df_tasks.drop(['3.3', '6.3', '7.2'], axis= 1)\n",
    "\n",
    "#calculate total points per row and add to df_tasks starting from 2nd column\n",
    "#calculate total points per row and add to df_tasks\n",
    "df_tasks['Total'] = df_tasks.iloc[:, 1:].sum(axis=1)\n",
    "\n",
    "display(df_tasks[\"Total\"])\n",
    "\n",
    "tasks = df_tasks.iloc[-1]\n",
    "\n",
    "#change column 1.1 to floats\n",
    "df_tasks['1.1'] = df_tasks['1.1'].astype(float)\n",
    "\n",
    "#add empty column Percentage at end\n",
    "df_tasks[\"Percentage\"] = \"\"\n",
    "\n",
    "max_points = []\n",
    "for index, row in df_tasks.iterrows():\n",
    "    nan_list = row[row.isnull()].index.tolist()\n",
    "\n",
    "    if nan_list:\n",
    "        total = 0\n",
    "        for element in nan_list:\n",
    "\n",
    "            if element in tasks.index:\n",
    "                #if element is in tasks.index, get the value of the element\n",
    "                #print(tasks[element])\n",
    "                total += tasks[element]\n",
    "        print(total)\n",
    "\n",
    "        #remove at index in df_tasks from column total the total\n",
    "        max = 155 - total\n",
    "        df_tasks.at[index, 'Percentage'] = df_tasks.at[index, 'Total'] / max * 100\n",
    "    else:\n",
    "        df_tasks.at[index, 'Percentage'] = df_tasks.at[index, 'Total'] / 155 * 100\n",
    "\n",
    "#print(max_points)\n",
    "\n",
    "#calculate percentage of total points per row and add to df_tasks starting from 2nd column\n",
    "#df_tasks[\"Percentage\"] = df_tasks[\"Total\"] / 155 * 100\n",
    "\n",
    "display(df_tasks)"
   ],
   "metadata": {
    "collapsed": false,
    "pycharm": {
     "name": "#%%\n"
    }
   }
  },
  {
   "cell_type": "code",
   "execution_count": null,
   "outputs": [],
   "source": [
    "#split df_tasks into broca and control\n",
    "df_tasks_broca = df_tasks[df_tasks.UID.isin(broca_uid)]\n",
    "df_tasks_control = df_tasks[df_tasks.UID.isin(control_uid)]\n",
    "\n",
    "display(df_tasks_broca)\n",
    "display(df_tasks_control)\n",
    "\n",
    "df_tasks_control[\"Percentage\"].mean()"
   ],
   "metadata": {
    "collapsed": false,
    "pycharm": {
     "name": "#%%\n"
    }
   }
  },
  {
   "cell_type": "code",
   "execution_count": null,
   "outputs": [],
   "source": [
    "df_tasks_broca[\"Percentage\"].mean()"
   ],
   "metadata": {
    "collapsed": false,
    "pycharm": {
     "name": "#%%\n"
    }
   }
  },
  {
   "cell_type": "code",
   "execution_count": null,
   "outputs": [],
   "source": [
    "#create df_broca_datatypes with only UID and 1.1 and 1.2\n",
    "df_datatypes = df_tasks[['UID', '1.1', '1.2']]\n",
    "\n",
    "df_variables = df_tasks[['UID', '2.1', '2.2', '2.3', '2.4', '2.5', '2.6 (nur Coding)']]\n",
    "\n",
    "df_arithmetic = df_tasks[['UID', '3.1 (Integerdivisionproblem nicht betrachtet)', '3.2.1', '3.2.2', '3.4']]\n",
    "\n",
    "df_print = df_tasks[['UID', '4.1', '4.2']]\n",
    "\n",
    "df_logical = df_tasks[['UID', '5.1', '5.2', '5.3', '5.4']]\n",
    "\n",
    "df_conditional = df_tasks[['UID', '6.1', '6.2', '6.4']]\n",
    "\n",
    "df_loops = df_tasks[['UID', '7.1', '7.3', '7.4', '7.5', '7.6 (Primzahl)', '7.7 (Primzahl)']]\n",
    "\n",
    "\n",
    "#get last row of df_datatypes\n",
    "points_datatypes = df_datatypes.iloc[-1]\n",
    "\n",
    "#get last row of df_variables\n",
    "points_variables = df_variables.iloc[-1]\n",
    "\n",
    "#get last row of df_arithmetic\n",
    "points_arithmetic = df_arithmetic.iloc[-1]\n",
    "\n",
    "#get last row of df_print\n",
    "points_print = df_print.iloc[-1]\n",
    "\n",
    "#get last row of df_logical\n",
    "points_logical = df_logical.iloc[-1]\n",
    "\n",
    "#get last row of df_conditional\n",
    "points_conditional = df_conditional.iloc[-1]\n",
    "\n",
    "#get last row of df_loops\n",
    "points_loops = df_loops.iloc[-1]\n",
    "#get sum of points_datatypes\n",
    "sum_datatypes = points_datatypes.sum()\n",
    "\n",
    "#get sum of points_variables\n",
    "sum_variables = points_variables.sum()\n",
    "\n",
    "#get sum of points_arithmetic\n",
    "sum_arithmetic = points_arithmetic.sum()\n",
    "\n",
    "#get sum of points_print\n",
    "sum_print = points_print.sum()\n",
    "\n",
    "#get sum of points_logical\n",
    "sum_logical = points_logical.sum()\n",
    "\n",
    "#get sum of points_conditional\n",
    "sum_conditional = points_conditional.sum()\n",
    "\n",
    "#get sum of points_loops\n",
    "sum_loops = points_loops.sum()\n",
    "\n",
    "df_datatypes = df_datatypes.dropna()\n",
    "df_variables = df_variables.dropna()\n",
    "df_arithmetic = df_arithmetic.dropna()\n",
    "df_print = df_print.dropna()\n",
    "df_logical = df_logical.dropna()\n",
    "df_conditional = df_conditional.dropna()\n",
    "df_loops = df_loops.dropna()\n",
    "\n",
    "\n",
    "#split df_datatypes in broca and control\n",
    "df_datatypes_broca = df_datatypes[df_datatypes.UID.isin(broca_uid)]\n",
    "df_datatypes_control = df_datatypes[df_datatypes.UID.isin(control_uid)]\n",
    "\n",
    "#split df_variables in broca and control\n",
    "df_variables_broca = df_variables[df_variables.UID.isin(broca_uid)]\n",
    "df_variables_control = df_variables[df_variables.UID.isin(control_uid)]\n",
    "\n",
    "#split df_arithmetic in broca and control\n",
    "df_arithmetic_broca = df_arithmetic[df_arithmetic.UID.isin(broca_uid)]\n",
    "df_arithmetic_control = df_arithmetic[df_arithmetic.UID.isin(control_uid)]\n",
    "\n",
    "#split df_print in broca and control\n",
    "df_print_broca = df_print[df_print.UID.isin(broca_uid)]\n",
    "df_print_control = df_print[df_print.UID.isin(control_uid)]\n",
    "\n",
    "#split df_logical in broca and control\n",
    "df_logical_broca = df_logical[df_logical.UID.isin(broca_uid)]\n",
    "df_logical_control = df_logical[df_logical.UID.isin(control_uid)]\n",
    "\n",
    "#split df_conditional in broca and control\n",
    "df_conditional_broca = df_conditional[df_conditional.UID.isin(broca_uid)]\n",
    "df_conditional_control = df_conditional[df_conditional.UID.isin(control_uid)]\n",
    "\n",
    "#split df_loops in broca and control\n",
    "df_loops_broca = df_loops[df_loops.UID.isin(broca_uid)]\n",
    "df_loops_control = df_loops[df_loops.UID.isin(control_uid)]\n"
   ],
   "metadata": {
    "collapsed": false,
    "pycharm": {
     "name": "#%%\n"
    }
   }
  },
  {
   "cell_type": "code",
   "execution_count": null,
   "outputs": [],
   "source": [
    "#add numerical row sum to df_datatypes_broca\n",
    "df_datatypes_broca['Total'] = df_datatypes_broca.sum(numeric_only=True, axis=1)\n",
    "\n",
    "#add numerical row sum to df_datatypes_control\n",
    "df_datatypes_control['Total'] = df_datatypes_control.sum(numeric_only=True, axis=1)\n",
    "\n",
    "\n",
    "#add numerical row sum to df_variables_broca\n",
    "df_variables_broca['Total'] = df_variables_broca.sum(numeric_only=True, axis=1)\n",
    "\n",
    "#add numerical row sum to df_variables_control\n",
    "df_variables_control['Total'] = df_variables_control.sum(numeric_only=True, axis=1)\n",
    "\n",
    "\n",
    "#add numerical row sum to df_arithmetic_broca\n",
    "df_arithmetic_broca['Total'] = df_arithmetic_broca.sum(numeric_only=True, axis=1)\n",
    "\n",
    "#add numerical row sum to df_arithmetic_control\n",
    "df_arithmetic_control['Total'] = df_arithmetic_control.sum(numeric_only=True, axis=1)\n",
    "\n",
    "\n",
    "#add numerical row sum to df_print_broca\n",
    "df_print_broca['Total'] = df_print_broca.sum(numeric_only=True, axis=1)\n",
    "\n",
    "#add numerical row sum to df_print_control\n",
    "df_print_control['Total'] = df_print_control.sum(numeric_only=True, axis=1)\n",
    "\n",
    "\n",
    "#add numerical row sum to df_logical_broca\n",
    "df_logical_broca['Total'] = df_logical_broca.sum(numeric_only=True, axis=1)\n",
    "\n",
    "#add numerical row sum to df_logical_control\n",
    "df_logical_control['Total'] = df_logical_control.sum(numeric_only=True, axis=1)\n",
    "\n",
    "\n",
    "#add numerical row sum to df_conditional_broca\n",
    "df_conditional_broca['Total'] = df_conditional_broca.sum(numeric_only=True, axis=1)\n",
    "\n",
    "#add numerical row sum to df_conditional_control\n",
    "df_conditional_control['Total'] = df_conditional_control.sum(numeric_only=True, axis=1)\n",
    "\n",
    "\n",
    "#add numerical row sum to df_loops_broca\n",
    "df_loops_broca['Total'] = df_loops_broca.sum(numeric_only=True, axis=1)\n",
    "\n",
    "#add numerical row sum to df_loops_control\n",
    "df_loops_control['Total'] = df_loops_control.sum(numeric_only=True, axis=1)\n",
    "\n",
    "#print number of rows in df_datatypes_broca\n",
    "\n"
   ],
   "metadata": {
    "collapsed": false,
    "pycharm": {
     "name": "#%%\n"
    }
   }
  },
  {
   "cell_type": "code",
   "execution_count": null,
   "outputs": [],
   "source": [
    "print('Number of rows in df_datatypes_broca: ', len(df_conditional_broca))\n",
    "print('Number of rows in df_datatypes_control: ', len(df_conditional_control))\n",
    "\n",
    "print('Number of rows in df_loops_broca: ', len(df_loops_broca))\n",
    "print('Number of rows in df_loops_control: ', len(df_loops_control))\n"
   ],
   "metadata": {
    "collapsed": false,
    "pycharm": {
     "name": "#%%\n"
    }
   }
  },
  {
   "cell_type": "code",
   "execution_count": null,
   "outputs": [],
   "source": [
    "display(df_datatypes_broca)\n",
    "\n",
    "display(df_conditional_control)"
   ],
   "metadata": {
    "collapsed": false,
    "pycharm": {
     "name": "#%%\n"
    }
   }
  },
  {
   "cell_type": "code",
   "execution_count": null,
   "outputs": [],
   "source": [
    "#rename df_datatypes_control total to \"Datatypes Total\"\n",
    "df_datatypes_control.rename(columns={'Total': 'Datatypes Total'}, inplace=True)\n",
    "\n",
    "#rename df_variables_control total to \"Variables Total\"\n",
    "df_variables_control.rename(columns={'Total': 'Variables Total'}, inplace=True)\n",
    "\n",
    "#rename df_arithmetic_control total to \"Arithmetic Total\"\n",
    "df_arithmetic_control.rename(columns={'Total': 'Arithmetic Total'}, inplace=True)\n",
    "\n",
    "#rename df_print_control total to \"Print Total\"\n",
    "df_print_control.rename(columns={'Total': 'Print Total'}, inplace=True)\n",
    "\n",
    "#rename df_logical_control total to \"Logical Total\"\n",
    "df_logical_control.rename(columns={'Total': 'Logical Total'}, inplace=True)\n",
    "\n",
    "#rename df_conditional_control total to \"Conditional Total\"\n",
    "df_conditional_control.rename(columns={'Total': 'Conditional Total'}, inplace=True)\n",
    "\n",
    "#rename df_loops_control total to \"Loops Total\"\n",
    "df_loops_control.rename(columns={'Total': 'Loops Total'}, inplace=True)\n"
   ],
   "metadata": {
    "collapsed": false,
    "pycharm": {
     "name": "#%%\n"
    }
   }
  },
  {
   "cell_type": "code",
   "execution_count": null,
   "outputs": [],
   "source": [
    "max_datatypes = 13\n",
    "max_variables = 24\n",
    "max_arithmetic = 18\n",
    "max_print = 14\n",
    "max_logical = 20\n",
    "max_conditional = 25\n",
    "max_loops = 41"
   ],
   "metadata": {
    "collapsed": false,
    "pycharm": {
     "name": "#%%\n"
    }
   }
  },
  {
   "cell_type": "code",
   "execution_count": null,
   "outputs": [],
   "source": [
    "\n",
    "\n",
    "#calculate percentage from total and max\n",
    "df_datatypes_control['Datatypes Percentage'] = df_datatypes_control['Datatypes Total'] / max_datatypes * 100\n",
    "df_variables_control['Variables Percentage'] = df_variables_control['Variables Total'] / max_variables * 100\n",
    "df_arithmetic_control['Arithmetic Percentage'] = df_arithmetic_control['Arithmetic Total'] / max_arithmetic * 100\n",
    "df_print_control['Print Percentage'] = df_print_control['Print Total'] / max_print * 100\n",
    "df_logical_control['Logical Percentage'] = df_logical_control['Logical Total'] / max_logical * 100\n",
    "df_conditional_control['Conditional Percentage'] = df_conditional_control['Conditional Total'] / max_conditional * 100\n",
    "df_loops_control['Loops Percentage'] = df_loops_control['Loops Total'] / max_loops * 100\n",
    "\n",
    "\n",
    "df_total = pd.merge(df_datatypes_control, df_variables_control, on='UID')\n",
    "df_total = pd.merge(df_total, df_arithmetic_control, on='UID')\n",
    "df_total = pd.merge(df_total, df_print_control, on='UID')\n",
    "df_total = pd.merge(df_total, df_logical_control, on='UID')\n",
    "df_total = pd.merge(df_total, df_conditional_control, on='UID')\n",
    "df_total = pd.merge(df_total, df_loops_control, on='UID')\n",
    "\n",
    "#df total drop everything except uid and total\n",
    "df_total.drop(df_total.columns.difference(['UID', 'Datatypes Percentage', 'Variables Percentage', 'Arithmetic Percentage', 'Print Percentage', 'Logical Percentage', 'Conditional Percentage', 'Loops Percentage']), 1, inplace=True)\n",
    "\n",
    "display(df_total)\n",
    "\n",
    "df_total.to_latex('df_total.tex', index=False)\n"
   ],
   "metadata": {
    "collapsed": false,
    "pycharm": {
     "name": "#%%\n"
    }
   }
  },
  {
   "cell_type": "code",
   "execution_count": null,
   "outputs": [],
   "source": [
    "df_posttest_programming"
   ],
   "metadata": {
    "collapsed": false,
    "pycharm": {
     "name": "#%%\n"
    }
   }
  },
  {
   "cell_type": "code",
   "execution_count": null,
   "outputs": [],
   "source": [
    "#calculate percentage from total and max for df_datatypes_broca and df_variables_broca and df_arithmetic_broca and df_print_broca and df_logical_broca and df_conditional_broca and df_loops_broca\n",
    "df_datatypes_broca['Datatypes Percentage'] = df_datatypes_broca['Total'] / max_datatypes * 100\n",
    "df_variables_broca['Variables Percentage'] = df_variables_broca['Total'] / max_variables * 100\n",
    "df_arithmetic_broca['Arithmetic Percentage'] = df_arithmetic_broca['Total'] / max_arithmetic * 100\n",
    "df_print_broca['Print Percentage'] = df_print_broca['Total'] / max_print * 100\n",
    "df_logical_broca['Logical Percentage'] = df_logical_broca['Total'] / max_logical * 100\n",
    "df_conditional_broca['Conditional Percentage'] = df_conditional_broca['Total'] / max_conditional * 100\n",
    "df_loops_broca['Loops Percentage'] = df_loops_broca['Total'] / max_loops * 100\n",
    "\n",
    "df_total_broca = pd.merge(df_datatypes_broca, df_variables_broca, on='UID')\n",
    "df_total_broca = pd.merge(df_total_broca, df_arithmetic_broca, on='UID')\n",
    "df_total_broca = pd.merge(df_total_broca, df_print_broca, on='UID')\n",
    "df_total_broca = pd.merge(df_total_broca, df_logical_broca, on='UID')\n",
    "df_total_broca = pd.merge(df_total_broca, df_conditional_broca, on='UID')\n",
    "df_total_broca = pd.merge(df_total_broca, df_loops_broca, on='UID')\n",
    "\n",
    "display(df_posttest_programming)\n",
    "\n",
    "#df_posttest_programming add percentage columns for insgesamt\n",
    "df_posttest_programming['Programming Percentage'] = df_posttest_programming['Insgesamt'] / 8 * 100\n",
    "\n",
    "#add df_posttest_programming to df_total_broca\n",
    "df_total_broca = pd.merge(df_total_broca, df_posttest_programming, on='UID')\n",
    "\n",
    "#remove everything except uid and percentage\n",
    "df_total_broca.drop(df_total_broca.columns.difference(['UID', 'Datatypes Percentage', 'Variables Percentage', 'Arithmetic Percentage', 'Print Percentage', 'Logical Percentage', 'Conditional Percentage', 'Loops Percentage', 'Programming Percentage']), 1, inplace=True)\n",
    "\n",
    "#cut percentage with 1 rounded number after comma\n",
    "df_total_broca['Datatypes Percentage'] = df_total_broca['Datatypes Percentage'].round(1)\n",
    "df_total_broca['Variables Percentage'] = df_total_broca['Variables Percentage'].round(1)\n",
    "df_total_broca['Arithmetic Percentage'] = df_total_broca['Arithmetic Percentage'].round(1)\n",
    "df_total_broca['Print Percentage'] = df_total_broca['Print Percentage'].round(1)\n",
    "df_total_broca['Logical Percentage'] = df_total_broca['Logical Percentage'].round(1)\n",
    "df_total_broca['Conditional Percentage'] = df_total_broca['Conditional Percentage'].round(1)\n",
    "df_total_broca['Loops Percentage'] = df_total_broca['Loops Percentage'].round(1)\n",
    "\n",
    "#display(df_posttest)\n",
    "#df_pretest calculate percentage from total and max\n",
    "df_posttest['Post-Percentage'] = df_posttest['Posttest'] / 8 * 100\n",
    "df_posttest['Pre-Percentage'] = df_posttest['Pretest'] / 8 * 100\n",
    "\n",
    "#round percentage with 1 number after comma\n",
    "df_posttest['Post-Percentage'] = df_posttest['Post-Percentage'].round(1)\n",
    "df_posttest['Pre-Percentage'] = df_posttest['Pre-Percentage'].round(1)\n",
    "\n",
    "df_total_broca = pd.merge(df_total_broca, df_posttest, on='UID')\n",
    "\n",
    "#df_total_broca drop everything except uid and percentages\n",
    "df_total_broca.drop(df_total_broca.columns.difference(['UID', 'Datatypes Percentage', 'Variables Percentage', 'Arithmetic Percentage', 'Print Percentage', 'Logical Percentage', 'Conditional Percentage', 'Loops Percentage', 'Pre-Percentage', 'Post-Percentage', 'Programming Percentage']), 1, inplace=True)\n",
    "\n",
    "#df_total_broca move Pre-Percentage to second column\n",
    "cols = list(df_total_broca.columns.values)\n",
    "df_total_broca = df_total_broca[cols[0:1] + cols[-1:] + cols[1:-1]]\n",
    "\n",
    "df_total_broca.to_latex('df_total_broca.tex', index=False)"
   ],
   "metadata": {
    "collapsed": false,
    "pycharm": {
     "name": "#%%\n"
    }
   }
  },
  {
   "cell_type": "code",
   "execution_count": null,
   "outputs": [],
   "source": [
    "df_conditional_broca"
   ],
   "metadata": {
    "collapsed": false,
    "pycharm": {
     "name": "#%%\n"
    }
   }
  },
  {
   "cell_type": "code",
   "execution_count": null,
   "outputs": [],
   "source": [
    "#add numerical row sum to df_datatypes\n",
    "df_datatypes['Total'] = df_datatypes.sum(numeric_only=True, axis=1)\n",
    "\n",
    "#add numerical row sum to df_variables\n",
    "df_variables['Total'] = df_variables.sum(numeric_only=True, axis=1)\n",
    "\n",
    "#add numerical row sum to df_arithmetic\n",
    "df_arithmetic['Total'] = df_arithmetic.sum(numeric_only=True, axis=1)\n",
    "\n",
    "#add numerical row sum to df_print\n",
    "df_print['Total'] = df_print.sum(numeric_only=True, axis=1)\n",
    "\n",
    "#add numerical row sum to df_logical\n",
    "df_logical['Total'] = df_logical.sum(numeric_only=True, axis=1)\n",
    "\n",
    "#add numerical row sum to df_conditional\n",
    "df_conditional['Total'] = df_conditional.sum(numeric_only=True, axis=1)\n",
    "\n",
    "#add numerical row sum to df_loops\n",
    "df_loops['Total'] = df_loops.sum(numeric_only=True, axis=1)\n",
    "\n",
    "#add column group to df_datatypes and df_variables and df_arithmetic and df_print and df_logical and df_conditional and df_loops and check if uid is in broca or control group\n",
    "\n",
    "import numpy as np\n",
    "\n",
    "display(df_variables)\n",
    "df_datatypes['Group'] = np.where(df_datatypes['UID'].isin(broca_uid), 'Broca', 'Control')\n",
    "df_variables['Group'] = np.where(df_variables['UID'].isin(broca_uid), 'Broca', 'Control')\n",
    "df_arithmetic['Group'] = np.where(df_arithmetic['UID'].isin(broca_uid), 'Broca', 'Control')\n",
    "df_print['Group'] = np.where(df_print['UID'].isin(broca_uid), 'Broca', 'Control')\n",
    "df_logical['Group'] = np.where(df_logical['UID'].isin(broca_uid), 'Broca', 'Control')\n",
    "df_conditional['Group'] = np.where(df_conditional['UID'].isin(broca_uid), 'Broca', 'Control')\n",
    "df_loops['Group'] = np.where(df_loops['UID'].isin(broca_uid), 'Broca', 'Control')\n",
    "\n",
    "display(df_datatypes)\n",
    "\n",
    "#remove last row in df_datatypes and df_variables and df_arithmetic and df_print and df_logical and df_conditional and df_loops\n",
    "df_datatypes = df_datatypes.iloc[:-1]\n",
    "df_variables = df_variables.iloc[:-1]\n",
    "df_arithmetic = df_arithmetic.iloc[:-1]\n",
    "df_print = df_print.iloc[:-1]\n",
    "df_logical = df_logical.iloc[:-1]\n",
    "df_conditional = df_conditional.iloc[:-1]\n",
    "df_loops = df_loops.iloc[:-1]"
   ],
   "metadata": {
    "collapsed": false,
    "pycharm": {
     "name": "#%%\n"
    }
   }
  },
  {
   "cell_type": "code",
   "execution_count": null,
   "outputs": [],
   "source": [
    "max_datatypes = 13\n",
    "max_variables = 24\n",
    "max_arithmetic = 18\n",
    "max_print = 14\n",
    "max_logical = 20\n",
    "max_conditional = 25\n",
    "max_loops = 41"
   ],
   "metadata": {
    "collapsed": false,
    "pycharm": {
     "name": "#%%\n"
    }
   }
  },
  {
   "cell_type": "code",
   "execution_count": null,
   "outputs": [],
   "source": [
    "display(df_datatypes)\n",
    "\n",
    "#calculate df_datatypes percentage and add to df_datatypes\n",
    "df_datatypes['Percentage'] = df_datatypes['Total'] / max_datatypes * 100\n",
    "df_variables['Percentage'] = df_variables['Total'] / max_variables * 100\n",
    "df_arithmetic['Percentage'] = df_arithmetic['Total'] / max_arithmetic * 100\n",
    "df_print['Percentage'] = df_print['Total'] / max_print * 100\n",
    "df_logical['Percentage'] = df_logical['Total'] / max_logical * 100\n",
    "df_conditional['Percentage'] = df_conditional['Total'] / max_conditional * 100\n",
    "df_loops['Percentage'] = df_loops['Total'] / max_loops * 100\n"
   ],
   "metadata": {
    "collapsed": false,
    "pycharm": {
     "name": "#%%\n"
    }
   }
  },
  {
   "cell_type": "code",
   "execution_count": null,
   "outputs": [],
   "source": [
    "#add new column for original df with name of category\n",
    "df_datatypes = df_datatypes[['Percentage', 'Group']]\n",
    "df_datatypes['Category'] = 'Datatypes'\n",
    "\n",
    "df_variables = df_variables[['Percentage', 'Group']]\n",
    "df_variables['Category'] = 'Variables'\n",
    "\n",
    "df_arithmetic = df_arithmetic[['Percentage', 'Group']]\n",
    "df_arithmetic['Category'] = 'Arithmetic'\n",
    "\n",
    "df_print = df_print[['Percentage', 'Group']]\n",
    "df_print['Category'] = 'Print'\n",
    "\n",
    "df_logical = df_logical[['Percentage', 'Group']]\n",
    "df_logical['Category'] = 'Logical'\n",
    "\n",
    "df_conditional = df_conditional[['Percentage', 'Group']]\n",
    "df_conditional['Category'] = 'Conditional'\n",
    "\n",
    "df_loops = df_loops[['Percentage', 'Group']]\n",
    "df_loops['Category'] = 'Loops'"
   ],
   "metadata": {
    "collapsed": false,
    "pycharm": {
     "name": "#%%\n"
    }
   }
  },
  {
   "cell_type": "code",
   "execution_count": null,
   "outputs": [],
   "source": [
    "#append df_datypes and df_variables and df_arithmetic and df_print and df_logical and df_conditional and df_loops but only Total, Group and Category\n",
    "df = df_datatypes.append(df_variables)"
   ],
   "metadata": {
    "collapsed": false,
    "pycharm": {
     "name": "#%%\n"
    }
   }
  },
  {
   "cell_type": "code",
   "execution_count": null,
   "outputs": [],
   "source": [
    "df_total = df_datatypes[['Percentage', 'Group', 'Category']].append(df_variables[['Percentage', 'Group', 'Category']]).append(df_arithmetic[['Percentage', 'Group', 'Category']]).append(df_print[['Percentage', 'Group', 'Category']]).append(df_logical[['Percentage', 'Group', 'Category']]).append(df_conditional[['Percentage', 'Group', 'Category']]).append(df_loops[['Percentage', 'Group', 'Category']])\n",
    "\n",
    "display(df_total)\n",
    "\n",
    "#rename broca and control in yes and no for group\n",
    "df_total['Group'] = df_total['Group'].replace(['Broca', 'Control'], ['broca', 'control'])"
   ],
   "metadata": {
    "collapsed": false,
    "pycharm": {
     "name": "#%%\n"
    }
   }
  },
  {
   "cell_type": "code",
   "execution_count": null,
   "outputs": [],
   "source": [
    "#open Vorkurs_22_with_brocanto_transposed.xlsx\n",
    "df = pd.read_excel('data/Vorkurs_22_with_brocanto_transposed.xlsx')"
   ],
   "metadata": {
    "collapsed": false,
    "pycharm": {
     "name": "#%%\n"
    }
   }
  },
  {
   "cell_type": "code",
   "execution_count": null,
   "outputs": [],
   "source": [
    "#create scatterplot with seaborn from df\n",
    "#rename columnheader\n",
    "df = df.rename(columns={'Unnamed: 0': 'UID'})\n",
    "df = df.rename(columns={1: 'Testblock1', 2: \"Testblock2\"})\n",
    "#rename 3 to Testblock3, 4 to Testblock4, 5 to Testblock5, 6 to Testblock6, 7 to Testblock7, 8 to Testblock8, 9 to Testblock9, 10 to Testblock10, 11 to Testblock11, 12 to Testblock12, 13 to Testblock13, 14 to Testblock14, 15 to Testblock15\n",
    "df = df.rename(columns={3: 'Testblock3', 4: \"Testblock4\", 5: \"Testblock5\", 6: \"Testblock6\", 7: \"Testblock7\", 8: \"Testblock8\", 9: \"Testblock9\", 10: \"Testblock10\", 11: \"Testblock11\", 12: \"Testblock12\", 13: \"Testblock13\", 14: \"Testblock14\", 15: \"Testblock15\"})\n",
    "\n",
    "#score *= 10\n",
    "df['Testblock1'] *= 10\n",
    "df['Testblock2'] *= 10\n",
    "df['Testblock3'] *= 10\n",
    "df['Testblock4'] *= 10\n",
    "df['Testblock5'] *= 10\n",
    "df['Testblock6'] *= 10\n",
    "df['Testblock7'] *= 10\n",
    "df['Testblock8'] *= 10\n",
    "df['Testblock9'] *= 10\n",
    "df['Testblock10'] *= 10\n",
    "df['Testblock11'] *= 10\n",
    "df['Testblock12'] *= 10\n",
    "df['Testblock13'] *= 10\n",
    "df['Testblock14'] *= 10\n",
    "df['Testblock15'] *= 10"
   ],
   "metadata": {
    "collapsed": false,
    "pycharm": {
     "name": "#%%\n"
    }
   }
  },
  {
   "cell_type": "code",
   "execution_count": null,
   "outputs": [],
   "source": [
    "#remove UID 0REG243, 1HJA213, 8CHT208\n",
    "df = df[df.UID != '0REG243']\n",
    "df = df[df.UID != '1HJA213']\n",
    "df = df[df.UID != '8CHT208']\n",
    "\n",
    "display(df)\n",
    "\n",
    "#rename UID 0LZR203 to PB1\n",
    "df['UID'] = df['UID'].replace(['0LZR203'], ['PB1'])\n",
    "\n",
    "#rename UID 1AGT138 to PB2\n",
    "df['UID'] = df['UID'].replace(['1AGT138'], ['PB2'])\n",
    "\n",
    "#rename UID 3LDI060 to PB3\n",
    "df['UID'] = df['UID'].replace(['3LDI060'], ['PB3'])\n",
    "\n",
    "#rename UID 3LST145 to PB4\n",
    "df['UID'] = df['UID'].replace(['3LST145'], ['PB4'])\n",
    "\n",
    "#rename UID 4ANT042 to PB5\n",
    "df['UID'] = df['UID'].replace(['4ANT042'], ['PB5'])\n",
    "\n",
    "#rename UID 7BGT235 to PB6\n",
    "df['UID'] = df['UID'].replace(['7BGT235'], ['PB6'])\n",
    "\n",
    "#rename UID 7RAI228 to PB7\n",
    "df['UID'] = df['UID'].replace(['7RAI228'], ['PB7'])\n",
    "\n",
    "#rename UID 7SOA133 to PB8\n",
    "df['UID'] = df['UID'].replace(['7SOA133'], ['PB8'])\n",
    "\n",
    "#create new row at end with mean of Testblock1 to Testblock15\n",
    "df.loc['mean'] = df.mean()"
   ],
   "metadata": {
    "collapsed": false,
    "pycharm": {
     "name": "#%%\n"
    }
   }
  },
  {
   "cell_type": "code",
   "execution_count": null,
   "outputs": [],
   "source": [
    "#rename UID nan to mean\n",
    "import numpy as np\n",
    "\n",
    "df['UID'] = df['UID'].replace([np.nan], ['mean'])\n"
   ],
   "metadata": {
    "collapsed": false,
    "pycharm": {
     "name": "#%%\n"
    }
   }
  },
  {
   "cell_type": "code",
   "execution_count": null,
   "outputs": [],
   "source": [
    "#create for every uid the data of the testblocks in a new row\n",
    "df = df.melt(id_vars=['UID'], var_name='Testblock', value_name='Percentage of correct answers')\n",
    "\n",
    "display(df)\n",
    "\n"
   ],
   "metadata": {
    "collapsed": false,
    "pycharm": {
     "name": "#%%\n"
    }
   }
  },
  {
   "cell_type": "code",
   "execution_count": null,
   "outputs": [],
   "source": [
    "plt.ylim(0,105)\n",
    "plt.xlabel('')\n",
    "\n",
    "#combine line and scatterplot\n",
    "sns.lineplot(data=df, x=\"Testblock\", y=\"Percentage of correct answers\", hue=\"UID\", style=\"UID\", markers=True, dashes=False, legend='full', size=\"UID\", sizes=[1, 1, 1, 1, 1, 1, 1, 1, 5], palette=dict(mean=\"#000000\", PB1=\"#3498db\", PB2=\"#95a5a6\", PB3=\"#e74c3c\", PB4=\"#34495e\", PB5=\"#2ecc71\", PB6=\"#f1c40f\", PB7=\"#e67e22\", PB8=\"#1abc9c\", height=4, aspect=1.5))\n",
    "\n",
    "#change size of lineplot\n",
    "\n",
    "#change background color to white\n",
    "sns.set_style(\"whitegrid\")\n",
    "\n",
    "\n",
    "\n",
    "#change x ticks from Testblock1 to 1\n",
    "plt.xticks([0, 1, 2, 3, 4, 5, 6, 7, 8, 9, 10, 11, 12, 13, 14], ['1', '2', '3', '4', '5', '6', '7', '8', '9', '10', '11', '12', '13', '14', '15'])\n",
    "\n",
    "#show legend outside\n",
    "plt.legend(bbox_to_anchor=(1.05, 1), loc=2, borderaxespad=0.)\n",
    "\n",
    "#set xlim to 1-15\n",
    "plt.ylim(35, 105)\n",
    "plt.xlim(0, 14)\n",
    "\n",
    "plt.annotate('Cycle 1', xy=(0.14, -0.16), xytext=(0.14, -0.25), xycoords='axes fraction', textcoords='axes fraction', size=12, ha='center', va='top', bbox=dict(boxstyle='square', fc='w'),\n",
    "             arrowprops=dict(arrowstyle='-[, widthB=3.3, lengthB=.5', lw=3.0, color=\"black\"))\n",
    "plt.annotate('Cycle 2', xy=(0.5, -0.16), xytext=(0.5, -0.25), xycoords='axes fraction', textcoords='axes fraction', size=12, ha='center', va='top', bbox=dict(boxstyle='square', fc='w'),\n",
    "             arrowprops=dict(arrowstyle='-[, widthB=3.3, lengthB=.5', lw=3.0, color=\"black\"))\n",
    "plt.annotate('Cycle 3', xy=(0.855, -0.16), xytext=(0.855, -0.25), xycoords='axes fraction', textcoords='axes fraction', size=12, ha='center', va='top', bbox=dict(boxstyle='square', fc='w'),\n",
    "             arrowprops=dict(arrowstyle='-[, widthB=3.3, lengthB=.5', lw=3.0, color=\"black\"))\n",
    "\n",
    "\n",
    "#remove x legend\n",
    "plt.xlabel('')\n",
    "\n",
    "\n",
    "plt.savefig('plots/lineplot.pdf', bbox_inches='tight', pad_inches=0.0)"
   ],
   "metadata": {
    "collapsed": false,
    "pycharm": {
     "name": "#%%\n"
    }
   }
  },
  {
   "cell_type": "code",
   "execution_count": null,
   "outputs": [],
   "source": [],
   "metadata": {
    "collapsed": false,
    "pycharm": {
     "name": "#%%\n"
    }
   }
  }
 ],
 "metadata": {
  "kernelspec": {
   "display_name": "Python 3",
   "language": "python",
   "name": "python3"
  },
  "language_info": {
   "codemirror_mode": {
    "name": "ipython",
    "version": 2
   },
   "file_extension": ".py",
   "mimetype": "text/x-python",
   "name": "python",
   "nbconvert_exporter": "python",
   "pygments_lexer": "ipython2",
   "version": "2.7.6"
  }
 },
 "nbformat": 4,
 "nbformat_minor": 0
}